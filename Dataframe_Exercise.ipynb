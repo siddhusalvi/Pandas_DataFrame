{
  "nbformat": 4,
  "nbformat_minor": 0,
  "metadata": {
    "colab": {
      "name": "Dataframe Exercise.ipynb",
      "provenance": [],
      "collapsed_sections": [],
      "authorship_tag": "ABX9TyP6/i1NeEDf7xGjPbpyIZ61",
      "include_colab_link": true
    },
    "kernelspec": {
      "name": "python3",
      "display_name": "Python 3"
    }
  },
  "cells": [
    {
      "cell_type": "markdown",
      "metadata": {
        "id": "view-in-github",
        "colab_type": "text"
      },
      "source": [
        "<a href=\"https://colab.research.google.com/github/siddhusalvi/Pandas_DataFrame/blob/master/Dataframe_Exercise.ipynb\" target=\"_parent\"><img src=\"https://colab.research.google.com/assets/colab-badge.svg\" alt=\"Open In Colab\"/></a>"
      ]
    },
    {
      "cell_type": "code",
      "metadata": {
        "id": "qdknV7_2NtyR",
        "colab_type": "code",
        "colab": {
          "base_uri": "https://localhost:8080/",
          "height": 430
        },
        "outputId": "1d141084-e257-4f5f-e144-74fb7bd51a28"
      },
      "source": [
        "!apt-get update\n",
        "!apt-get install openjdk-8-jdk-headless -qq > /dev/null\n",
        "!wget -q http://archive.apache.org/dist/spark/spark-2.3.1/spark-2.3.1-bin-hadoop2.7.tgz\n",
        "!tar xf spark-2.3.1-bin-hadoop2.7.tgz\n",
        "!pip install -q findspark\n",
        "import os\n",
        "os.environ[\"JAVA_HOME\"] = \"/usr/lib/jvm/java-8-openjdk-amd64\"\n",
        "os.environ[\"SPARK_HOME\"] = \"/content/spark-2.3.1-bin-hadoop2.7\"\n",
        "import findspark\n",
        "findspark.init()\n",
        "import pyspark\n",
        "from pyspark.sql import SparkSession\n",
        "spark = SparkSession.builder.getOrCreate() \n",
        "spark"
      ],
      "execution_count": 34,
      "outputs": [
        {
          "output_type": "stream",
          "text": [
            "\r0% [Working]\r            \rHit:1 http://security.ubuntu.com/ubuntu bionic-security InRelease\n",
            "\r0% [Connecting to archive.ubuntu.com (91.189.88.142)] [Connecting to cloud.r-pr\r0% [1 InRelease gpgv 88.7 kB] [Connecting to archive.ubuntu.com (91.189.88.142)\r                                                                               \rIgn:2 https://developer.download.nvidia.com/compute/cuda/repos/ubuntu1804/x86_64  InRelease\n",
            "\r0% [1 InRelease gpgv 88.7 kB] [Waiting for headers] [Connected to cloud.r-proje\r                                                                               \rHit:3 https://cloud.r-project.org/bin/linux/ubuntu bionic-cran35/ InRelease\n",
            "\r0% [1 InRelease gpgv 88.7 kB] [Waiting for headers] [Waiting for headers] [Wait\r                                                                               \rIgn:4 https://developer.download.nvidia.com/compute/machine-learning/repos/ubuntu1804/x86_64  InRelease\n",
            "\r                                                                               \r0% [1 InRelease gpgv 88.7 kB] [Waiting for headers] [Waiting for headers]\r                                                                         \rHit:5 http://ppa.launchpad.net/graphics-drivers/ppa/ubuntu bionic InRelease\n",
            "\r0% [1 InRelease gpgv 88.7 kB] [Waiting for headers] [Waiting for headers] [Conn\r                                                                               \rHit:6 https://developer.download.nvidia.com/compute/cuda/repos/ubuntu1804/x86_64  Release\n",
            "\r0% [1 InRelease gpgv 88.7 kB] [Waiting for headers] [Connecting to ppa.launchpa\r                                                                               \rHit:7 http://archive.ubuntu.com/ubuntu bionic InRelease\n",
            "\r0% [1 InRelease gpgv 88.7 kB] [Waiting for headers] [Waiting for headers] [Conn\r                                                                               \rHit:8 https://developer.download.nvidia.com/compute/machine-learning/repos/ubuntu1804/x86_64  Release\n",
            "\r0% [1 InRelease gpgv 88.7 kB] [Waiting for headers] [Connecting to ppa.launchpa\r                                                                               \r0% [Waiting for headers] [Waiting for headers]\r0% [3 InRelease gpgv 3,626 B] [Waiting for headers] [Waiting for headers]\r                                                                         \rHit:9 http://archive.ubuntu.com/ubuntu bionic-updates InRelease\n",
            "\r0% [3 InRelease gpgv 3,626 B] [Waiting for headers] [Waiting for headers]\r                                                                         \rHit:10 http://ppa.launchpad.net/marutter/c2d4u3.5/ubuntu bionic InRelease\n",
            "Hit:11 http://archive.ubuntu.com/ubuntu bionic-backports InRelease\n",
            "Reading package lists... Done\n"
          ],
          "name": "stdout"
        },
        {
          "output_type": "execute_result",
          "data": {
            "text/html": [
              "\n",
              "            <div>\n",
              "                <p><b>SparkSession - in-memory</b></p>\n",
              "                \n",
              "        <div>\n",
              "            <p><b>SparkContext</b></p>\n",
              "\n",
              "            <p><a href=\"http://78d1f37819be:4040\">Spark UI</a></p>\n",
              "\n",
              "            <dl>\n",
              "              <dt>Version</dt>\n",
              "                <dd><code>v2.3.1</code></dd>\n",
              "              <dt>Master</dt>\n",
              "                <dd><code>local[*]</code></dd>\n",
              "              <dt>AppName</dt>\n",
              "                <dd><code>pyspark-shell</code></dd>\n",
              "            </dl>\n",
              "        </div>\n",
              "        \n",
              "            </div>\n",
              "        "
            ],
            "text/plain": [
              "<pyspark.sql.session.SparkSession at 0x7f0253215a90>"
            ]
          },
          "metadata": {
            "tags": []
          },
          "execution_count": 34
        }
      ]
    },
    {
      "cell_type": "code",
      "metadata": {
        "id": "d71qauY-VP0l",
        "colab_type": "code",
        "colab": {}
      },
      "source": [
        "from pyspark.sql.functions import *"
      ],
      "execution_count": 35,
      "outputs": []
    },
    {
      "cell_type": "code",
      "metadata": {
        "id": "IQreZrNOYxrn",
        "colab_type": "code",
        "colab": {}
      },
      "source": [
        "from pyspark.context import SparkContext\n",
        "from pyspark.sql.session import SparkSession\n",
        "from pyspark.sql.functions import *"
      ],
      "execution_count": 36,
      "outputs": []
    },
    {
      "cell_type": "code",
      "metadata": {
        "id": "n9gwWc0KY6H_",
        "colab_type": "code",
        "colab": {}
      },
      "source": [
        "df = spark.read.format(\"csv\").option(\"header\",\"true\").load(\"day1.csv\")"
      ],
      "execution_count": 37,
      "outputs": []
    },
    {
      "cell_type": "code",
      "metadata": {
        "id": "wNVDe_gTXSfv",
        "colab_type": "code",
        "colab": {
          "base_uri": "https://localhost:8080/",
          "height": 498
        },
        "outputId": "e039bdb4-6109-42b4-e867-cd1200e97640"
      },
      "source": [
        "df.show()"
      ],
      "execution_count": 38,
      "outputs": [
        {
          "output_type": "stream",
          "text": [
            "+-------------------+---------+----------------+-------------+-----------+----------------+----------------------------------------+---------------------------------+-------------------------------+-----------------------+-----------------------+------------------------+-------------------+------------------+------------------+--------------------+----------------------+---------------------+--------------------+--------------------+----------------------+-----------------+----------------+----------------+---------------+----------------+---------------+----------------+----------------------------+--------------------------+----------------------------+--------------------+------------------------+----------------------+-------------------------+--------------------------------------+------------------------------------+---------------------------------------------------+---------------------------------------------------+--------------+--------------------+--------+------+----------+-------------+\n",
            "|           DateTime|Cpu Count|Cpu Working Time|Cpu idle Time|cpu_percent|Usage Cpu Count |number of software interrupts since boot|number of system calls since boot|number of interrupts since boot|cpu avg load over 1 min|cpu avg load over 5 min|cpu avg load over 15 min|system_total_memory|system_used_memory|system_free_memory|system_active_memory|system_inactive_memory|system_buffers_memory|system_cached_memory|system_shared_memory|system_avalible_memory|disk_total_memory|disk_used_memory|disk_free_memory|disk_read_count|disk_write_count|disk_read_bytes|disk_write_bytes|time spent reading from disk|time spent writing to disk|time spent doing actual I/Os|number of bytes sent|number of bytes received|number of packets sent|number of packets recived|total number of errors while receiving|total number of errors while sending|total number of incoming packets which were dropped|total number of outgoing packets which were dropped|     boot_time|           user_name|keyboard| mouse|technology|files_changed|\n",
            "+-------------------+---------+----------------+-------------+-----------+----------------+----------------------------------------+---------------------------------+-------------------------------+-----------------------+-----------------------+------------------------+-------------------+------------------+------------------+--------------------+----------------------+---------------------+--------------------+--------------------+----------------------+-----------------+----------------+----------------+---------------+----------------+---------------+----------------+----------------------------+--------------------------+----------------------------+--------------------+------------------------+----------------------+-------------------------+--------------------------------------+------------------------------------+---------------------------------------------------+---------------------------------------------------+--------------+--------------------+--------+------+----------+-------------+\n",
            "|2019-10-13 10:20:02|        2|          358.39|       602.94|       53.1|               2|                                  661390|                                0|                         849160|                   1.71|                   1.87|                    1.22|         7896846336|        3466317824|         723910656|          4418199552|            2048061440|            708395008|          2998222848|           262991872|            3916062720|      30149586944|     24980140032|      3614306304|         367742|            7332|     2328163328|       375542784|                      774688|                    109960|                      573840|             1321905|                 9190390|                  6078|                    11459|                                     0|                                   0|                                                  0|                                                  0|0:09:23.022763|  iamnzm@outlook.com|  1312.0| 214.0|    python|          197|\n",
            "|2019-10-13 10:25:01|        2|          293.26|       572.07|       52.9|               2|                                  597897|                                0|                         661436|                   1.17|                   1.42|                    0.86|         7896846336|        2950754304|        3076648960|          3325394944|            1126305792|            195112960|          1674330112|           345042944|            4289748992|      30149586944|     17713176576|     10881269760|          72846|            4041|     1252553728|       214135808|                       64332|                     97804|                      468516|             2304246|                45846386|                 17258|                    41404|                                     0|                                   0|                                                  0|                                                  0|0:08:10.661702|  shelkeva@gmail.com|    55.0|  15.0|      java|           41|\n",
            "|2019-10-13 10:25:02|        2|          453.21|      1034.63|       98.3|               2|                                 1070148|                                0|                        1274597|                   1.64|                   1.38|                    1.18|         7896846336|        3627868160|         134004736|          4615041024|            1975762944|            984592384|          3150381056|           330518528|            3687952384|      30149586944|     24987828224|      3606618112|         437363|           13110|     2623853568|       586023936|                      785860|                    180164|                      870944|             1933760|                13759048|                  9053|                    19203|                                     0|                                   0|                                                  0|                                                  0|0:14:23.024176|  iamnzm@outlook.com|   207.0| 134.0|    python|          131|\n",
            "|2019-10-13 10:30:01|        4|          251.93|      2223.88|       23.8|               4|                                 1249479|                                0|                        1119022|                   2.95|                   3.35|                    2.74|         8182317056|        3326263296|         668438528|          4506177536|            1701814272|            873635840|          3313979392|           446128128|            4174651392|     313973989376|     26381627392|    271572008960|         270299|           20046|     2271006720|       780939264|                     8517160|                   9544564|                      940212|             3290679|                15893175|                  8510|                    14861|                                     0|                                   0|                                                  0|                                                  0|0:17:28.678641|     you@example.com|   222.0|1709.0|    python|          112|\n",
            "|2019-10-13 10:30:01|        2|          357.95|      1073.18|       57.6|               2|                                  820435|                                0|                         895941|                   0.28|                    0.9|                    0.81|         7896846336|        2977546240|        2863759360|          3417513984|            1158246400|            259002368|          1796538368|           380813312|            4224159744|      30149586944|     17713283072|     10881163264|          88300|            5881|     1316021248|       257360896|                       64896|                    132708|                      743056|             3168549|                75615769|                 27083|                    65135|                                     0|                                   0|                                                  0|                                                  0|0:13:10.495772|  shelkeva@gmail.com|     0.0|   0.0|      java|            6|\n",
            "|2019-10-13 10:30:02|        2|           235.3|       351.28|       54.5|               2|                                  449991|                                0|                         583587|                   1.31|                   1.63|                    0.87|         7896846336|        3621044224|        1891160064|          4090314752|            1469497344|            234885120|          2149756928|           336711680|            3691237376|      30149586944|     17298518016|     11295928320|          90311|            9064|     1625223168|       308130816|                       97192|                     79768|                      205468|             1027522|                 8143476|                  6038|                     9875|                                     0|                                   0|                                                  0|                                                  0|0:05:52.097103|prathameshsalap@g...|     0.0|  53.0|    nodejs|          384|\n",
            "|2019-10-13 10:20:01|        4|           94.58|       1021.1|       38.6|               4|                                  409754|                                0|                         380571|                   4.48|                   3.82|                    2.03|         8182317056|        2361503744|        3607248896|          2819596288|            1335820288|            304783360|          1908781056|           259256320|            5325783040|     313973989376|     26409648128|    271543988224|         116136|            6051|     1511060480|       403845120|                     6002980|                   2565632|                      319392|              410570|                 8613671|                  4429|                     7275|                                     0|                                   0|                                                  0|                                                  0|0:07:28.676112|     you@example.com|    34.5|   0.0|    python|          273|\n",
            "|2019-10-13 10:25:01|        4|          148.66|      1692.15|       26.2|               4|                                  733924|                                0|                         691361|                   2.44|                   3.54|                    2.52|         8182317056|        2970378240|        1983746048|          3865686016|            1640235008|            605626368|          2622566400|           372412416|            4602314752|     313973989376|     26398007296|    271555629056|         211925|           11321|     1971970048|       541282304|                     8010420|                   5418156|                      644108|             2654719|                13437257|                  6564|                    11433|                                     0|                                   0|                                                  0|                                                  0|0:12:28.672610|     you@example.com|    35.0| 951.0|    python|          280|\n",
            "|2019-10-13 10:35:01|        4|          345.69|      3132.73|       26.2|               4|                                 1578968|                                0|                        1447628|                   0.24|                   1.83|                    2.31|         8182317056|        3403968512|         316231680|          4657606656|            1674850304|            938450944|          3523665920|           419430400|            4124549120|     313973989376|     26399961088|    271553675264|         285821|           26581|     2339677184|       918740992|                     8649524|                  11973952|                     1049808|             4970443|                21172549|                 13018|                    20991|                                     0|                                   0|                                                  0|                                                  0|0:22:28.739870|     you@example.com|    89.0| 303.0|    python|          346|\n",
            "|2019-10-13 10:35:01|        2|          394.96|      1612.77|       51.5|               2|                                  970117|                                0|                        1023393|                    0.5|                   0.55|                    0.67|         7896846336|        2989309952|        2851401728|          3429994496|            1158148096|            259497984|          1796636672|           380813312|            4212396032|      30149586944|     17713405952|     10881040384|          88301|            6324|     1316025344|       260723712|                       65000|                    165756|                     1023796|             3216472|                75786157|                 27385|                    66996|                                     0|                                   0|                                                  0|                                                  0|0:18:10.880604|  shelkeva@gmail.com|     0.0|   0.0|      java|            9|\n",
            "|2019-10-13 10:35:01|        2|          349.88|       778.89|       56.2|               2|                                  759357|                                0|                         957484|                   1.78|                    1.7|                    1.09|         7896846336|        3820556288|        1331507200|          4403519488|            1491304448|            321126400|          2423656448|           385388544|            3444797440|      30149586944|     17283960832|     11310485504|         110922|           11674|     1712320512|       370263040|                      103448|                    149400|                      307668|             1882040|                17029505|                 10197|                    19175|                                     0|                                   0|                                                  0|                                                  0|0:10:51.406389|prathameshsalap@g...|   152.0| 129.0|    nodejs|          334|\n",
            "|2019-10-13 10:35:01|        2|          380.49|       203.97|      100.0|               2|                                  455416|                                0|                         624648|                   3.21|                   3.76|                    1.85|         7896846336|        3383017472|        1606582272|          4069277696|            1737732096|            454676480|          2452570112|           245321728|            4018024448|      30149586944|     24978198528|      3616247808|         318650|            3853|     1750120448|       141415424|                     1470044|                     37396|                      367724|              753788|                 4676984|                  3752|                     7267|                                     0|                                   0|                                                  0|                                                  0|0:05:46.485948|  iamnzm@outlook.com|   909.5|   8.0|    python|          279|\n",
            "|2019-10-13 10:40:02|        4|          448.35|      4194.59|       18.3|               4|                                 1848161|                                0|                        1731671|                   0.77|                   1.04|                    1.82|         8182317056|        3625766912|         580956160|          4564590592|            1585692672|            939659264|          3035934720|           510296064|            3810570240|     313973989376|     26414653440|    271538982912|         286236|           28533|     2347611136|       967888896|                     8659184|                  12061128|                     1062912|             5944343|                48879361|                 21171|                    42485|                                     0|                                   0|                                                  0|                                                  0|0:27:29.766359|     you@example.com|   263.0| 295.0|    python|          232|\n",
            "|2019-10-13 10:40:02|        2|           430.9|      2153.12|       52.9|               2|                                 1112074|                                0|                        1143778|                   0.11|                    0.3|                    0.52|         7896846336|        2997391360|        2842701824|          3438018560|            1158213632|            259981312|          1796771840|           380813312|            4204322816|      30149586944|     17713532928|     10880913408|          88301|            6689|     1316025344|       263377920|                       65000|                    198816|                     1304688|             3253819|                75944927|                 27631|                    68647|                                     0|                                   0|                                                  0|                                                  0|0:23:11.263755|  shelkeva@gmail.com|     0.0|   0.0|      java|            6|\n",
            "|2019-10-13 10:40:01|        2|          485.54|      1173.96|       54.3|               2|                                 1142182|                                0|                        1401720|                   2.13|                    2.0|                    1.36|         7896846336|        4086026240|         994009088|          4661022720|            1549103104|            322949120|          2493861888|           428310528|            3137449984|      30149586944|     17292697600|     11301748736|         111532|           14770|     1726820352|       419935232|                      121464|                    224364|                      417804|             3802337|                24812568|                 17918|                    29579|                                     0|                                   0|                                                  0|                                                  0|0:15:51.619185|prathameshsalap@g...|   201.0| 115.0|    nodejs|          615|\n",
            "|2019-10-13 10:40:01|        2|          599.76|       501.29|       79.3|               2|                                  944558|                                0|                        1219459|                    4.3|                   3.41|                    2.17|         7896846336|        4195905536|         160735232|          5065416704|            1681125376|            899153920|          2641051648|           291889152|            3174215680|      30149586944|     24990650368|      3603795968|         447140|            5735|     2274919424|       235824128|                     1489760|                     90772|                      667028|             1961635|                 6407970|                  6895|                    12215|                                     0|                                   0|                                                  0|                                                  0|0:10:46.828270|  iamnzm@outlook.com|   289.5| 122.0|    python|          184|\n",
            "|2019-10-13 10:45:02|        4|          494.48|      5319.85|       25.0|               4|                                 2000660|                                0|                        1889505|                   0.09|                   0.56|                     1.4|         8182317056|        3742437376|         305037312|          4744601600|            1674743808|            940507136|          3194335232|           595554304|            3608678400|     313973989376|     26402365440|    271551270912|         287156|           30111|     2413351936|       993017856|                     8664404|                  12127016|                     1073832|             6292821|                56101696|                 23877|                    48840|                                     0|                                   0|                                                  0|                                                  0|0:32:29.098098|     you@example.com|    27.0|  70.0|    python|          175|\n",
            "|2019-10-13 10:45:01|        2|          477.57|       2677.7|       53.1|               2|                                 1277932|                                0|                        1292830|                   0.96|                   0.47|                    0.52|         7896846336|        2629865472|        3373117440|          3090227200|             986927104|            260476928|          1633386496|           216346624|            4736303104|      30149586944|     17713668096|     10880778240|          88322|            7154|     1317041152|       267281408|                       65992|                    230584|                     1580952|             3338693|                76123718|                 27985|                    70281|                                     0|                                   0|                                                  0|                                                  0|0:28:10.641583|  shelkeva@gmail.com|    12.0| 179.0|      java|           10|\n",
            "|2019-10-13 10:45:01|        2|          612.22|      1586.05|      100.0|               2|                                 1519272|                                0|                        1821259|                   1.52|                   1.57|                    1.35|         7896846336|        4118315008|         946167808|          4700520448|            1556553728|            324538368|          2507825152|           429277184|            3104210944|      30149586944|     17289728000|     11304718336|         111815|           17625|     1731268608|       468820992|                      130372|                    299148|                      512792|             4978534|                30922062|                 23704|                    37688|                                     0|                                   0|                                                  0|                                                  0|0:20:51.926302|prathameshsalap@g...|    37.0| 450.0|    nodejs|          422|\n",
            "|2019-10-13 10:45:01|        2|          682.95|       961.81|       50.0|               2|                                 1292756|                                0|                        1509095|                   0.58|                    1.8|                    1.82|         7896846336|        3871830016|         468443136|          4817375232|            1402740736|            929316864|          2627256320|           268652544|            3513499648|      30149586944|     24990699520|      3603746816|         456174|            6663|     2318150656|       249607168|                     1533444|                    143228|                      966812|             2443250|                 7005807|                  8247|                    14871|                                     0|                                   0|                                                  0|                                                  0|0:15:46.820152|  iamnzm@outlook.com|   389.5|  16.0|    python|           62|\n",
            "+-------------------+---------+----------------+-------------+-----------+----------------+----------------------------------------+---------------------------------+-------------------------------+-----------------------+-----------------------+------------------------+-------------------+------------------+------------------+--------------------+----------------------+---------------------+--------------------+--------------------+----------------------+-----------------+----------------+----------------+---------------+----------------+---------------+----------------+----------------------------+--------------------------+----------------------------+--------------------+------------------------+----------------------+-------------------------+--------------------------------------+------------------------------------+---------------------------------------------------+---------------------------------------------------+--------------+--------------------+--------+------+----------+-------------+\n",
            "only showing top 20 rows\n",
            "\n"
          ],
          "name": "stdout"
        }
      ]
    },
    {
      "cell_type": "code",
      "metadata": {
        "id": "ReHQM4KZY_ol",
        "colab_type": "code",
        "colab": {
          "base_uri": "https://localhost:8080/",
          "height": 852
        },
        "outputId": "09b3eb1c-a4fb-4ec7-8cfc-176c12a90ac1"
      },
      "source": [
        "df.printSchema()"
      ],
      "execution_count": 39,
      "outputs": [
        {
          "output_type": "stream",
          "text": [
            "root\n",
            " |-- DateTime: string (nullable = true)\n",
            " |-- Cpu Count: string (nullable = true)\n",
            " |-- Cpu Working Time: string (nullable = true)\n",
            " |-- Cpu idle Time: string (nullable = true)\n",
            " |-- cpu_percent: string (nullable = true)\n",
            " |-- Usage Cpu Count : string (nullable = true)\n",
            " |-- number of software interrupts since boot: string (nullable = true)\n",
            " |-- number of system calls since boot: string (nullable = true)\n",
            " |-- number of interrupts since boot: string (nullable = true)\n",
            " |-- cpu avg load over 1 min: string (nullable = true)\n",
            " |-- cpu avg load over 5 min: string (nullable = true)\n",
            " |-- cpu avg load over 15 min: string (nullable = true)\n",
            " |-- system_total_memory: string (nullable = true)\n",
            " |-- system_used_memory: string (nullable = true)\n",
            " |-- system_free_memory: string (nullable = true)\n",
            " |-- system_active_memory: string (nullable = true)\n",
            " |-- system_inactive_memory: string (nullable = true)\n",
            " |-- system_buffers_memory: string (nullable = true)\n",
            " |-- system_cached_memory: string (nullable = true)\n",
            " |-- system_shared_memory: string (nullable = true)\n",
            " |-- system_avalible_memory: string (nullable = true)\n",
            " |-- disk_total_memory: string (nullable = true)\n",
            " |-- disk_used_memory: string (nullable = true)\n",
            " |-- disk_free_memory: string (nullable = true)\n",
            " |-- disk_read_count: string (nullable = true)\n",
            " |-- disk_write_count: string (nullable = true)\n",
            " |-- disk_read_bytes: string (nullable = true)\n",
            " |-- disk_write_bytes: string (nullable = true)\n",
            " |-- time spent reading from disk: string (nullable = true)\n",
            " |-- time spent writing to disk: string (nullable = true)\n",
            " |-- time spent doing actual I/Os: string (nullable = true)\n",
            " |-- number of bytes sent: string (nullable = true)\n",
            " |-- number of bytes received: string (nullable = true)\n",
            " |-- number of packets sent: string (nullable = true)\n",
            " |-- number of packets recived: string (nullable = true)\n",
            " |-- total number of errors while receiving: string (nullable = true)\n",
            " |-- total number of errors while sending: string (nullable = true)\n",
            " |-- total number of incoming packets which were dropped: string (nullable = true)\n",
            " |-- total number of outgoing packets which were dropped: string (nullable = true)\n",
            " |-- boot_time: string (nullable = true)\n",
            " |-- user_name: string (nullable = true)\n",
            " |-- keyboard: string (nullable = true)\n",
            " |-- mouse: string (nullable = true)\n",
            " |-- technology: string (nullable = true)\n",
            " |-- files_changed: string (nullable = true)\n",
            "\n"
          ],
          "name": "stdout"
        }
      ]
    },
    {
      "cell_type": "code",
      "metadata": {
        "id": "d2JNKW7pZCC2",
        "colab_type": "code",
        "colab": {}
      },
      "source": [
        "dataDF = df.select('user_name','DateTime','keyboard','mouse')"
      ],
      "execution_count": 40,
      "outputs": []
    },
    {
      "cell_type": "code",
      "metadata": {
        "id": "wqeSyXkoZEBw",
        "colab_type": "code",
        "colab": {}
      },
      "source": [
        "tempDF = dataDF.withColumn(\"Date\",to_timestamp('DateTime','yyyy-MM-dd HH:mm:ss'))"
      ],
      "execution_count": 41,
      "outputs": []
    },
    {
      "cell_type": "code",
      "metadata": {
        "id": "64FKSzVcZTfr",
        "colab_type": "code",
        "colab": {
          "base_uri": "https://localhost:8080/",
          "height": 478
        },
        "outputId": "fba1cf71-a3bb-4e94-f8ce-8b48dee7911f"
      },
      "source": [
        "tempDF.show()"
      ],
      "execution_count": 42,
      "outputs": [
        {
          "output_type": "stream",
          "text": [
            "+--------------------+-------------------+--------+------+-------------------+\n",
            "|           user_name|           DateTime|keyboard| mouse|               Date|\n",
            "+--------------------+-------------------+--------+------+-------------------+\n",
            "|  iamnzm@outlook.com|2019-10-13 10:20:02|  1312.0| 214.0|2019-10-13 10:20:02|\n",
            "|  shelkeva@gmail.com|2019-10-13 10:25:01|    55.0|  15.0|2019-10-13 10:25:01|\n",
            "|  iamnzm@outlook.com|2019-10-13 10:25:02|   207.0| 134.0|2019-10-13 10:25:02|\n",
            "|     you@example.com|2019-10-13 10:30:01|   222.0|1709.0|2019-10-13 10:30:01|\n",
            "|  shelkeva@gmail.com|2019-10-13 10:30:01|     0.0|   0.0|2019-10-13 10:30:01|\n",
            "|prathameshsalap@g...|2019-10-13 10:30:02|     0.0|  53.0|2019-10-13 10:30:02|\n",
            "|     you@example.com|2019-10-13 10:20:01|    34.5|   0.0|2019-10-13 10:20:01|\n",
            "|     you@example.com|2019-10-13 10:25:01|    35.0| 951.0|2019-10-13 10:25:01|\n",
            "|     you@example.com|2019-10-13 10:35:01|    89.0| 303.0|2019-10-13 10:35:01|\n",
            "|  shelkeva@gmail.com|2019-10-13 10:35:01|     0.0|   0.0|2019-10-13 10:35:01|\n",
            "|prathameshsalap@g...|2019-10-13 10:35:01|   152.0| 129.0|2019-10-13 10:35:01|\n",
            "|  iamnzm@outlook.com|2019-10-13 10:35:01|   909.5|   8.0|2019-10-13 10:35:01|\n",
            "|     you@example.com|2019-10-13 10:40:02|   263.0| 295.0|2019-10-13 10:40:02|\n",
            "|  shelkeva@gmail.com|2019-10-13 10:40:02|     0.0|   0.0|2019-10-13 10:40:02|\n",
            "|prathameshsalap@g...|2019-10-13 10:40:01|   201.0| 115.0|2019-10-13 10:40:01|\n",
            "|  iamnzm@outlook.com|2019-10-13 10:40:01|   289.5| 122.0|2019-10-13 10:40:01|\n",
            "|     you@example.com|2019-10-13 10:45:02|    27.0|  70.0|2019-10-13 10:45:02|\n",
            "|  shelkeva@gmail.com|2019-10-13 10:45:01|    12.0| 179.0|2019-10-13 10:45:01|\n",
            "|prathameshsalap@g...|2019-10-13 10:45:01|    37.0| 450.0|2019-10-13 10:45:01|\n",
            "|  iamnzm@outlook.com|2019-10-13 10:45:01|   389.5|  16.0|2019-10-13 10:45:01|\n",
            "+--------------------+-------------------+--------+------+-------------------+\n",
            "only showing top 20 rows\n",
            "\n"
          ],
          "name": "stdout"
        }
      ]
    },
    {
      "cell_type": "code",
      "metadata": {
        "id": "REjMh4I9ZGCG",
        "colab_type": "code",
        "colab": {}
      },
      "source": [
        "dataDF =tempDF.withColumnRenamed('user_name',\"user\")\\\n",
        ".withColumnRenamed('Date','date')\\\n",
        ".drop('DateTime')"
      ],
      "execution_count": 43,
      "outputs": []
    },
    {
      "cell_type": "code",
      "metadata": {
        "id": "MIUO3AyXaOOs",
        "colab_type": "code",
        "colab": {
          "base_uri": "https://localhost:8080/",
          "height": 478
        },
        "outputId": "2f052bdc-0cf6-4536-c4a6-c0be32ab3c4a"
      },
      "source": [
        "dataDF.show()"
      ],
      "execution_count": 44,
      "outputs": [
        {
          "output_type": "stream",
          "text": [
            "+--------------------+--------+------+-------------------+\n",
            "|                user|keyboard| mouse|               date|\n",
            "+--------------------+--------+------+-------------------+\n",
            "|  iamnzm@outlook.com|  1312.0| 214.0|2019-10-13 10:20:02|\n",
            "|  shelkeva@gmail.com|    55.0|  15.0|2019-10-13 10:25:01|\n",
            "|  iamnzm@outlook.com|   207.0| 134.0|2019-10-13 10:25:02|\n",
            "|     you@example.com|   222.0|1709.0|2019-10-13 10:30:01|\n",
            "|  shelkeva@gmail.com|     0.0|   0.0|2019-10-13 10:30:01|\n",
            "|prathameshsalap@g...|     0.0|  53.0|2019-10-13 10:30:02|\n",
            "|     you@example.com|    34.5|   0.0|2019-10-13 10:20:01|\n",
            "|     you@example.com|    35.0| 951.0|2019-10-13 10:25:01|\n",
            "|     you@example.com|    89.0| 303.0|2019-10-13 10:35:01|\n",
            "|  shelkeva@gmail.com|     0.0|   0.0|2019-10-13 10:35:01|\n",
            "|prathameshsalap@g...|   152.0| 129.0|2019-10-13 10:35:01|\n",
            "|  iamnzm@outlook.com|   909.5|   8.0|2019-10-13 10:35:01|\n",
            "|     you@example.com|   263.0| 295.0|2019-10-13 10:40:02|\n",
            "|  shelkeva@gmail.com|     0.0|   0.0|2019-10-13 10:40:02|\n",
            "|prathameshsalap@g...|   201.0| 115.0|2019-10-13 10:40:01|\n",
            "|  iamnzm@outlook.com|   289.5| 122.0|2019-10-13 10:40:01|\n",
            "|     you@example.com|    27.0|  70.0|2019-10-13 10:45:02|\n",
            "|  shelkeva@gmail.com|    12.0| 179.0|2019-10-13 10:45:01|\n",
            "|prathameshsalap@g...|    37.0| 450.0|2019-10-13 10:45:01|\n",
            "|  iamnzm@outlook.com|   389.5|  16.0|2019-10-13 10:45:01|\n",
            "+--------------------+--------+------+-------------------+\n",
            "only showing top 20 rows\n",
            "\n"
          ],
          "name": "stdout"
        }
      ]
    },
    {
      "cell_type": "code",
      "metadata": {
        "id": "owVDyMZ1aSTt",
        "colab_type": "code",
        "colab": {
          "base_uri": "https://localhost:8080/",
          "height": 478
        },
        "outputId": "d7672263-9a48-4f35-f174-13fbd40046dc"
      },
      "source": [
        "sortedDF = dataDF.orderBy(col('user'),col('date'))\n",
        "sortedDF.show()"
      ],
      "execution_count": 45,
      "outputs": [
        {
          "output_type": "stream",
          "text": [
            "+--------------------+--------+------+-------------------+\n",
            "|                user|keyboard| mouse|               date|\n",
            "+--------------------+--------+------+-------------------+\n",
            "|antonyalexcm@gmai...|     9.0| 260.0|2019-10-13 12:10:01|\n",
            "|antonyalexcm@gmai...|     2.0|6281.0|2019-10-13 12:15:02|\n",
            "|antonyalexcm@gmai...|    61.0|5697.0|2019-10-13 12:20:01|\n",
            "|antonyalexcm@gmai...|    40.0|3940.0|2019-10-13 12:25:01|\n",
            "|antonyalexcm@gmai...|   131.0|5472.0|2019-10-13 12:30:01|\n",
            "|antonyalexcm@gmai...|   106.0|4439.0|2019-10-13 12:35:02|\n",
            "|antonyalexcm@gmai...|    86.0|3458.0|2019-10-13 12:40:01|\n",
            "|antonyalexcm@gmai...|   235.5|5364.0|2019-10-13 12:45:01|\n",
            "|antonyalexcm@gmai...|     0.0| 318.0|2019-10-13 12:50:02|\n",
            "|ashutoshrit64@gma...|     2.0| 401.0|2019-10-13 12:25:01|\n",
            "|ashutoshrit64@gma...|    64.0| 471.0|2019-10-13 12:30:02|\n",
            "|ashutoshrit64@gma...|   188.0| 349.0|2019-10-13 12:35:02|\n",
            "|ashutoshrit64@gma...|    36.0| 436.0|2019-10-13 12:40:01|\n",
            "|ashutoshrit64@gma...|    53.0| 502.0|2019-10-13 12:45:02|\n",
            "|ashutoshrit64@gma...|    17.0| 618.0|2019-10-13 12:50:01|\n",
            "|ashutoshrit64@gma...|    34.0| 611.0|2019-10-13 12:55:01|\n",
            "|ashutoshrit64@gma...|    67.0|1274.0|2019-10-13 13:00:01|\n",
            "|ashutoshrit64@gma...|   138.0| 235.0|2019-10-13 13:05:01|\n",
            "|ashutoshrit64@gma...|   125.0| 834.0|2019-10-13 13:10:01|\n",
            "|ashutoshrit64@gma...|   264.5| 899.0|2019-10-13 13:15:01|\n",
            "+--------------------+--------+------+-------------------+\n",
            "only showing top 20 rows\n",
            "\n"
          ],
          "name": "stdout"
        }
      ]
    },
    {
      "cell_type": "code",
      "metadata": {
        "id": "Iwex3G2NcCLQ",
        "colab_type": "code",
        "colab": {}
      },
      "source": [
        "lst1 = list(sortedDF.select('user').toPandas()['user'])\n",
        "lst2 = list(sortedDF.select('user').toPandas()['user'])    "
      ],
      "execution_count": 46,
      "outputs": []
    },
    {
      "cell_type": "code",
      "metadata": {
        "id": "Kusd5LpGeCvl",
        "colab_type": "code",
        "colab": {
          "base_uri": "https://localhost:8080/",
          "height": 54
        },
        "outputId": "8a63a620-fedb-4f0b-8d3b-71c2cc46cea4"
      },
      "source": [
        "print(lst1)"
      ],
      "execution_count": 47,
      "outputs": [
        {
          "output_type": "stream",
          "text": [
            "['antonyalexcm@gmail.com', 'antonyalexcm@gmail.com', 'antonyalexcm@gmail.com', 'antonyalexcm@gmail.com', 'antonyalexcm@gmail.com', 'antonyalexcm@gmail.com', 'antonyalexcm@gmail.com', 'antonyalexcm@gmail.com', 'antonyalexcm@gmail.com', 'ashutoshrit64@gmail.com', 'ashutoshrit64@gmail.com', 'ashutoshrit64@gmail.com', 'ashutoshrit64@gmail.com', 'ashutoshrit64@gmail.com', 'ashutoshrit64@gmail.com', 'ashutoshrit64@gmail.com', 'ashutoshrit64@gmail.com', 'ashutoshrit64@gmail.com', 'ashutoshrit64@gmail.com', 'ashutoshrit64@gmail.com', 'ashutoshrit64@gmail.com', 'ashutoshrit64@gmail.com', 'ashutoshrit64@gmail.com', 'ashutoshrit64@gmail.com', 'ashutoshrit64@gmail.com', 'ashutoshrit64@gmail.com', 'ashutoshrit64@gmail.com', 'ashutoshrit64@gmail.com', 'ashutoshrit64@gmail.com', 'ashutoshrit64@gmail.com', 'ashutoshrit64@gmail.com', 'ashutoshrit64@gmail.com', 'ashutoshrit64@gmail.com', 'ashutoshrit64@gmail.com', 'ashutoshrit64@gmail.com', 'ashutoshrit64@gmail.com', 'ashutoshrit64@gmail.com', 'ashutoshrit64@gmail.com', 'ashutoshrit64@gmail.com', 'ashutoshrit64@gmail.com', 'ashutoshrit64@gmail.com', 'ashutoshrit64@gmail.com', 'ashutoshrit64@gmail.com', 'ashutoshrit64@gmail.com', 'ashutoshrit64@gmail.com', 'ashutoshrit64@gmail.com', 'ashutoshrit64@gmail.com', 'ashutoshrit64@gmail.com', 'ashutoshrit64@gmail.com', 'ashutoshrit64@gmail.com', 'ashutoshrit64@gmail.com', 'ashutoshrit64@gmail.com', 'ashutoshrit64@gmail.com', 'ashutoshrit64@gmail.com', 'ashutoshrit64@gmail.com', 'ashutoshrit64@gmail.com', 'ashutoshrit64@gmail.com', 'ashutoshrit64@gmail.com', 'grmule018@gmail.com', 'grmule018@gmail.com', 'grmule018@gmail.com', 'grmule018@gmail.com', 'grmule018@gmail.com', 'grmule018@gmail.com', 'grmule018@gmail.com', 'grmule018@gmail.com', 'grmule018@gmail.com', 'grmule018@gmail.com', 'grmule018@gmail.com', 'grmule018@gmail.com', 'grmule018@gmail.com', 'grmule018@gmail.com', 'grmule018@gmail.com', 'grmule018@gmail.com', 'grmule018@gmail.com', 'grmule018@gmail.com', 'grmule018@gmail.com', 'grmule018@gmail.com', 'grmule018@gmail.com', 'grmule018@gmail.com', 'grmule018@gmail.com', 'grmule018@gmail.com', 'grmule018@gmail.com', 'grmule018@gmail.com', 'grmule018@gmail.com', 'grmule018@gmail.com', 'grmule018@gmail.com', 'grmule018@gmail.com', 'grmule018@gmail.com', 'grmule018@gmail.com', 'grmule018@gmail.com', 'grmule018@gmail.com', 'grmule018@gmail.com', 'grmule018@gmail.com', 'grmule018@gmail.com', 'grmule018@gmail.com', 'grmule018@gmail.com', 'grmule018@gmail.com', 'grmule018@gmail.com', 'grmule018@gmail.com', 'grmule018@gmail.com', 'grmule018@gmail.com', 'grmule018@gmail.com', 'grmule018@gmail.com', 'grmule018@gmail.com', 'grmule018@gmail.com', 'grmule018@gmail.com', 'grmule018@gmail.com', 'grmule018@gmail.com', 'grmule018@gmail.com', 'grmule018@gmail.com', 'grmule018@gmail.com', 'grmule018@gmail.com', 'grmule018@gmail.com', 'grmule018@gmail.com', 'grmule018@gmail.com', 'grmule018@gmail.com', 'grmule018@gmail.com', 'grmule018@gmail.com', 'grmule018@gmail.com', 'grmule018@gmail.com', 'grmule018@gmail.com', 'grmule018@gmail.com', 'grmule018@gmail.com', 'grmule018@gmail.com', 'grmule018@gmail.com', 'grmule018@gmail.com', 'grmule018@gmail.com', 'grmule018@gmail.com', 'grmule018@gmail.com', 'grmule018@gmail.com', 'grmule018@gmail.com', 'iamnzm@outlook.com', 'iamnzm@outlook.com', 'iamnzm@outlook.com', 'iamnzm@outlook.com', 'iamnzm@outlook.com', 'iamnzm@outlook.com', 'iamnzm@outlook.com', 'iamnzm@outlook.com', 'iamnzm@outlook.com', 'iamnzm@outlook.com', 'iamnzm@outlook.com', 'iamnzm@outlook.com', 'iamnzm@outlook.com', 'iamnzm@outlook.com', 'iamnzm@outlook.com', 'iamnzm@outlook.com', 'iamnzm@outlook.com', 'iamnzm@outlook.com', 'iamnzm@outlook.com', 'iamnzm@outlook.com', 'iamnzm@outlook.com', 'iamnzm@outlook.com', 'iamnzm@outlook.com', 'iamnzm@outlook.com', 'iamnzm@outlook.com', 'iamnzm@outlook.com', 'iamnzm@outlook.com', 'iamnzm@outlook.com', 'iamnzm@outlook.com', 'iamnzm@outlook.com', 'iamnzm@outlook.com', 'iamnzm@outlook.com', 'iamnzm@outlook.com', 'iamnzm@outlook.com', 'iamnzm@outlook.com', 'iamnzm@outlook.com', 'iamnzm@outlook.com', 'iamnzm@outlook.com', 'iamnzm@outlook.com', 'iamnzm@outlook.com', 'iamnzm@outlook.com', 'iamnzm@outlook.com', 'iamnzm@outlook.com', 'iamnzm@outlook.com', 'iamnzm@outlook.com', 'iamnzm@outlook.com', 'iamnzm@outlook.com', 'iamnzm@outlook.com', 'iamnzm@outlook.com', 'iamnzm@outlook.com', 'iamnzm@outlook.com', 'iamnzm@outlook.com', 'iamnzm@outlook.com', 'iamnzm@outlook.com', 'iamnzm@outlook.com', 'iamnzm@outlook.com', 'iamnzm@outlook.com', 'iamnzm@outlook.com', 'iamnzm@outlook.com', 'iamnzm@outlook.com', 'iamnzm@outlook.com', 'iamnzm@outlook.com', 'iamnzm@outlook.com', 'iamnzm@outlook.com', 'iamnzm@outlook.com', 'iamnzm@outlook.com', 'iamnzm@outlook.com', 'iamnzm@outlook.com', 'iamnzm@outlook.com', 'iamnzm@outlook.com', 'iamnzm@outlook.com', 'iamnzm@outlook.com', 'iamnzm@outlook.com', 'iamnzm@outlook.com', 'iamnzm@outlook.com', 'iamnzm@outlook.com', 'iamnzm@outlook.com', 'iamnzm@outlook.com', 'iamnzm@outlook.com', 'iamnzm@outlook.com', 'kalyani24deobhankar@gmail.com', 'kalyani24deobhankar@gmail.com', 'kalyani24deobhankar@gmail.com', 'kalyani24deobhankar@gmail.com', 'kalyani24deobhankar@gmail.com', 'kalyani24deobhankar@gmail.com', 'kalyani24deobhankar@gmail.com', 'kalyani24deobhankar@gmail.com', 'kalyani24deobhankar@gmail.com', 'kalyani24deobhankar@gmail.com', 'kalyani24deobhankar@gmail.com', 'kalyani24deobhankar@gmail.com', 'kalyani24deobhankar@gmail.com', 'kalyani24deobhankar@gmail.com', 'kalyani24deobhankar@gmail.com', 'kalyani24deobhankar@gmail.com', 'kalyani24deobhankar@gmail.com', 'kalyani24deobhankar@gmail.com', 'kalyani24deobhankar@gmail.com', 'kalyani24deobhankar@gmail.com', 'kalyani24deobhankar@gmail.com', 'kalyani24deobhankar@gmail.com', 'kalyani24deobhankar@gmail.com', 'kalyani24deobhankar@gmail.com', 'kalyani24deobhankar@gmail.com', 'kalyani24deobhankar@gmail.com', 'kalyani24deobhankar@gmail.com', 'kalyani24deobhankar@gmail.com', 'kalyani24deobhankar@gmail.com', 'kalyani24deobhankar@gmail.com', 'kalyani24deobhankar@gmail.com', 'kalyani24deobhankar@gmail.com', 'kalyani24deobhankar@gmail.com', 'kalyani24deobhankar@gmail.com', 'kalyani24deobhankar@gmail.com', 'kalyani24deobhankar@gmail.com', 'kalyani24deobhankar@gmail.com', 'kalyani24deobhankar@gmail.com', 'kalyani24deobhankar@gmail.com', 'kalyani24deobhankar@gmail.com', 'kalyani24deobhankar@gmail.com', 'kalyani24deobhankar@gmail.com', 'kalyani24deobhankar@gmail.com', 'kalyani24deobhankar@gmail.com', 'kalyani24deobhankar@gmail.com', 'kalyani24deobhankar@gmail.com', 'kalyani24deobhankar@gmail.com', 'kalyani24deobhankar@gmail.com', 'kalyani24deobhankar@gmail.com', 'kalyani24deobhankar@gmail.com', 'kalyani24deobhankar@gmail.com', 'kalyani24deobhankar@gmail.com', 'kalyani24deobhankar@gmail.com', 'kalyani24deobhankar@gmail.com', 'kalyani24deobhankar@gmail.com', 'kalyani24deobhankar@gmail.com', 'kalyani24deobhankar@gmail.com', 'kalyani24deobhankar@gmail.com', 'kalyani24deobhankar@gmail.com', 'kalyani24deobhankar@gmail.com', 'kalyani24deobhankar@gmail.com', 'kalyani24deobhankar@gmail.com', 'polelaxman001@gmail.com', 'polelaxman001@gmail.com', 'polelaxman001@gmail.com', 'polelaxman001@gmail.com', 'polelaxman001@gmail.com', 'polelaxman001@gmail.com', 'polelaxman001@gmail.com', 'polelaxman001@gmail.com', 'polelaxman001@gmail.com', 'polelaxman001@gmail.com', 'polelaxman001@gmail.com', 'polelaxman001@gmail.com', 'polelaxman001@gmail.com', 'polelaxman001@gmail.com', 'polelaxman001@gmail.com', 'polelaxman001@gmail.com', 'polelaxman001@gmail.com', 'polelaxman001@gmail.com', 'polelaxman001@gmail.com', 'polelaxman001@gmail.com', 'polelaxman001@gmail.com', 'polelaxman001@gmail.com', 'polelaxman001@gmail.com', 'polelaxman001@gmail.com', 'polelaxman001@gmail.com', 'polelaxman001@gmail.com', 'polelaxman001@gmail.com', 'polelaxman001@gmail.com', 'polelaxman001@gmail.com', 'polelaxman001@gmail.com', 'polelaxman001@gmail.com', 'polelaxman001@gmail.com', 'polelaxman001@gmail.com', 'polelaxman001@gmail.com', 'polelaxman001@gmail.com', 'polelaxman001@gmail.com', 'polelaxman001@gmail.com', 'polelaxman001@gmail.com', 'polelaxman001@gmail.com', 'polelaxman001@gmail.com', 'polelaxman001@gmail.com', 'polelaxman001@gmail.com', 'polelaxman001@gmail.com', 'polelaxman001@gmail.com', 'polelaxman001@gmail.com', 'polelaxman001@gmail.com', 'polelaxman001@gmail.com', 'polelaxman001@gmail.com', 'polelaxman001@gmail.com', 'polelaxman001@gmail.com', 'polelaxman001@gmail.com', 'polelaxman001@gmail.com', 'prathameshsalap@gmail.com', 'prathameshsalap@gmail.com', 'prathameshsalap@gmail.com', 'prathameshsalap@gmail.com', 'prathameshsalap@gmail.com', 'prathameshsalap@gmail.com', 'prathameshsalap@gmail.com', 'prathameshsalap@gmail.com', 'prathameshsalap@gmail.com', 'prathameshsalap@gmail.com', 'prathameshsalap@gmail.com', 'prathameshsalap@gmail.com', 'prathameshsalap@gmail.com', 'prathameshsalap@gmail.com', 'prathameshsalap@gmail.com', 'prathameshsalap@gmail.com', 'prathameshsalap@gmail.com', 'prathameshsalap@gmail.com', 'prathameshsalap@gmail.com', 'prathameshsalap@gmail.com', 'prathameshsalap@gmail.com', 'prathameshsalap@gmail.com', 'prathameshsalap@gmail.com', 'prathameshsalap@gmail.com', 'prathameshsalap@gmail.com', 'prathameshsalap@gmail.com', 'prathameshsalap@gmail.com', 'prathameshsalap@gmail.com', 'prathameshsalap@gmail.com', 'prathameshsalap@gmail.com', 'prathameshsalap@gmail.com', 'prathameshsalap@gmail.com', 'prathameshsalap@gmail.com', 'prathameshsalap@gmail.com', 'prathameshsalap@gmail.com', 'prathameshsalap@gmail.com', 'prathameshsalap@gmail.com', 'prathameshsalap@gmail.com', 'prathameshsalap@gmail.com', 'prathameshsalap@gmail.com', 'prathameshsalap@gmail.com', 'prathameshsalap@gmail.com', 'prathameshsalap@gmail.com', 'prathameshsalap@gmail.com', 'prathameshsalap@gmail.com', 'prathameshsalap@gmail.com', 'prathameshsalap@gmail.com', 'prathameshsalap@gmail.com', 'prathameshsalap@gmail.com', 'prathameshsalap@gmail.com', 'prathameshsalap@gmail.com', 'prathameshsalap@gmail.com', 'prathameshsalap@gmail.com', 'prathameshsalap@gmail.com', 'prathameshsalap@gmail.com', 'prathameshsalap@gmail.com', 'prathameshsalap@gmail.com', 'prathameshsalap@gmail.com', 'prathameshsalap@gmail.com', 'prathameshsalap@gmail.com', 'prathameshsalap@gmail.com', 'prathameshsalap@gmail.com', 'priyankagandhi2504@gmail.com', 'priyankagandhi2504@gmail.com', 'priyankagandhi2504@gmail.com', 'priyankagandhi2504@gmail.com', 'priyankagandhi2504@gmail.com', 'priyankagandhi2504@gmail.com', 'priyankagandhi2504@gmail.com', 'priyankagandhi2504@gmail.com', 'priyankagandhi2504@gmail.com', 'priyankagandhi2504@gmail.com', 'priyankagandhi2504@gmail.com', 'priyankagandhi2504@gmail.com', 'priyankagandhi2504@gmail.com', 'priyankagandhi2504@gmail.com', 'priyankagandhi2504@gmail.com', 'priyankagandhi2504@gmail.com', 'priyankagandhi2504@gmail.com', 'priyankagandhi2504@gmail.com', 'priyankagandhi2504@gmail.com', 'priyankagandhi2504@gmail.com', 'priyankagandhi2504@gmail.com', 'priyankagandhi2504@gmail.com', 'priyankagandhi2504@gmail.com', 'priyankagandhi2504@gmail.com', 'priyankagandhi2504@gmail.com', 'priyankagandhi2504@gmail.com', 'priyankagandhi2504@gmail.com', 'priyankagandhi2504@gmail.com', 'priyankagandhi2504@gmail.com', 'priyankagandhi2504@gmail.com', 'priyankagandhi2504@gmail.com', 'priyankagandhi2504@gmail.com', 'priyankagandhi2504@gmail.com', 'priyankagandhi2504@gmail.com', 'priyankagandhi2504@gmail.com', 'priyankagandhi2504@gmail.com', 'priyankagandhi2504@gmail.com', 'priyankagandhi2504@gmail.com', 'priyankagandhi2504@gmail.com', 'priyankagandhi2504@gmail.com', 'priyankagandhi2504@gmail.com', 'priyankagandhi2504@gmail.com', 'priyankagandhi2504@gmail.com', 'priyankagandhi2504@gmail.com', 'priyankagandhi2504@gmail.com', 'priyankagandhi2504@gmail.com', 'priyankagandhi2504@gmail.com', 'priyankagandhi2504@gmail.com', 'priyankagandhi2504@gmail.com', 'priyankagandhi2504@gmail.com', 'priyankagandhi2504@gmail.com', 'shelkeva@gmail.com', 'shelkeva@gmail.com', 'shelkeva@gmail.com', 'shelkeva@gmail.com', 'shelkeva@gmail.com', 'shelkeva@gmail.com', 'shelkeva@gmail.com', 'shelkeva@gmail.com', 'shelkeva@gmail.com', 'shelkeva@gmail.com', 'shelkeva@gmail.com', 'shelkeva@gmail.com', 'shelkeva@gmail.com', 'shelkeva@gmail.com', 'shelkeva@gmail.com', 'shelkeva@gmail.com', 'shelkeva@gmail.com', 'shelkeva@gmail.com', 'shelkeva@gmail.com', 'shelkeva@gmail.com', 'shelkeva@gmail.com', 'shelkeva@gmail.com', 'shelkeva@gmail.com', 'shelkeva@gmail.com', 'shelkeva@gmail.com', 'shelkeva@gmail.com', 'shelkeva@gmail.com', 'shelkeva@gmail.com', 'shelkeva@gmail.com', 'shelkeva@gmail.com', 'shelkeva@gmail.com', 'shelkeva@gmail.com', 'shelkeva@gmail.com', 'shelkeva@gmail.com', 'shelkeva@gmail.com', 'shelkeva@gmail.com', 'shelkeva@gmail.com', 'shelkeva@gmail.com', 'shelkeva@gmail.com', 'shelkeva@gmail.com', 'shelkeva@gmail.com', 'shelkeva@gmail.com', 'shelkeva@gmail.com', 'shelkeva@gmail.com', 'shelkeva@gmail.com', 'shelkeva@gmail.com', 'shelkeva@gmail.com', 'shelkeva@gmail.com', 'shelkeva@gmail.com', 'shelkeva@gmail.com', 'shelkeva@gmail.com', 'shelkeva@gmail.com', 'shelkeva@gmail.com', 'shelkeva@gmail.com', 'shelkeva@gmail.com', 'shelkeva@gmail.com', 'shelkeva@gmail.com', 'shelkeva@gmail.com', 'shelkeva@gmail.com', 'shelkeva@gmail.com', 'shelkeva@gmail.com', 'shelkeva@gmail.com', 'shelkeva@gmail.com', 'shelkeva@gmail.com', 'shelkeva@gmail.com', 'shelkeva@gmail.com', 'shelkeva@gmail.com', 'shelkeva@gmail.com', 'shelkeva@gmail.com', 'shelkeva@gmail.com', 'shelkeva@gmail.com', 'shelkeva@gmail.com', 'shelkeva@gmail.com', 'shelkeva@gmail.com', 'shelkeva@gmail.com', 'shelkeva@gmail.com', 'shelkeva@gmail.com', 'shelkeva@gmail.com', 'shelkeva@gmail.com', 'shelkeva@gmail.com', 'tekina.makin@gmail.com', 'tekina.makin@gmail.com', 'tekina.makin@gmail.com', 'tekina.makin@gmail.com', 'tekina.makin@gmail.com', 'tekina.makin@gmail.com', 'tekina.makin@gmail.com', 'tekina.makin@gmail.com', 'tekina.makin@gmail.com', 'tekina.makin@gmail.com', 'tekina.makin@gmail.com', 'tekina.makin@gmail.com', 'tekina.makin@gmail.com', 'tekina.makin@gmail.com', 'tekina.makin@gmail.com', 'tekina.makin@gmail.com', 'tekina.makin@gmail.com', 'tekina.makin@gmail.com', 'tekina.makin@gmail.com', 'tekina.makin@gmail.com', 'tekina.makin@gmail.com', 'tekina.makin@gmail.com', 'tekina.makin@gmail.com', 'tekina.makin@gmail.com', 'tekina.makin@gmail.com', 'tekina.makin@gmail.com', 'tekina.makin@gmail.com', 'tekina.makin@gmail.com', 'tekina.makin@gmail.com', 'tekina.makin@gmail.com', 'tekina.makin@gmail.com', 'tekina.makin@gmail.com', 'tekina.makin@gmail.com', 'tekina.makin@gmail.com', 'tekina.makin@gmail.com', 'tekina.makin@gmail.com', 'tekina.makin@gmail.com', 'tekina.makin@gmail.com', 'tekina.makin@gmail.com', 'tekina.makin@gmail.com', 'tekina.makin@gmail.com', 'tekina.makin@gmail.com', 'tekina.makin@gmail.com', 'tekina.makin@gmail.com', 'tekina.makin@gmail.com', 'tekina.makin@gmail.com', 'tekina.makin@gmail.com', 'tekina.makin@gmail.com', 'tekina.makin@gmail.com', 'tekina.makin@gmail.com', 'tekina.makin@gmail.com', 'tekina.makin@gmail.com', 'tekina.makin@gmail.com', 'tekina.makin@gmail.com', 'tekina.makin@gmail.com', 'tekina.makin@gmail.com', 'vijaykumarbhavanur.com', 'vijaykumarbhavanur.com', 'vijaykumarbhavanur.com', 'vishnu23kumar@gmail.com', 'vishnu23kumar@gmail.com', 'vishnu23kumar@gmail.com', 'vishnu23kumar@gmail.com', 'vishnu23kumar@gmail.com', 'vishnu23kumar@gmail.com', 'vishnu23kumar@gmail.com', 'vishnu23kumar@gmail.com', 'vishnu23kumar@gmail.com', 'vishnu23kumar@gmail.com', 'vishnu23kumar@gmail.com', 'vishnu23kumar@gmail.com', 'vishnu23kumar@gmail.com', 'vishnu23kumar@gmail.com', 'vishnu23kumar@gmail.com', 'vishnu23kumar@gmail.com', 'vishnu23kumar@gmail.com', 'vishnu23kumar@gmail.com', 'vishnu23kumar@gmail.com', 'vishnu23kumar@gmail.com', 'vishnu23kumar@gmail.com', 'vishnu23kumar@gmail.com', 'vishnu23kumar@gmail.com', 'vishnu23kumar@gmail.com', 'vishnu23kumar@gmail.com', 'vishnu23kumar@gmail.com', 'vishnu23kumar@gmail.com', 'vishnu23kumar@gmail.com', 'vishnu23kumar@gmail.com', 'vishnu23kumar@gmail.com', 'vishnu23kumar@gmail.com', 'vishnu23kumar@gmail.com', 'vishnu23kumar@gmail.com', 'vishnu23kumar@gmail.com', 'vishnu23kumar@gmail.com', 'vishnu23kumar@gmail.com', 'vishnu23kumar@gmail.com', 'vishnu23kumar@gmail.com', 'vishnu23kumar@gmail.com', 'vishnu23kumar@gmail.com', 'vishnu23kumar@gmail.com', 'vishnu23kumar@gmail.com', 'vishnu23kumar@gmail.com', 'vishnu23kumar@gmail.com', 'vishnu23kumar@gmail.com', 'vishnu23kumar@gmail.com', 'vishnu23kumar@gmail.com', 'vishnu23kumar@gmail.com', 'vishnu23kumar@gmail.com', 'vishnu23kumar@gmail.com', 'vishnu23kumar@gmail.com', 'vishnu23kumar@gmail.com', 'vishnu23kumar@gmail.com', 'vishnu23kumar@gmail.com', 'vishnu23kumar@gmail.com', 'vishnu23kumar@gmail.com', 'vishnu23kumar@gmail.com', 'vishnu23kumar@gmail.com', 'vishnu23kumar@gmail.com', 'vishnu23kumar@gmail.com', 'vishnu23kumar@gmail.com', 'vishnu23kumar@gmail.com', 'vishnu23kumar@gmail.com', 'vishnu23kumar@gmail.com', 'vishnu23kumar@gmail.com', 'vishnu23kumar@gmail.com', 'vishnu23kumar@gmail.com', 'vishnu23kumar@gmail.com', 'vishnu23kumar@gmail.com', 'vishnu23kumar@gmail.com', 'you@example.com', 'you@example.com', 'you@example.com', 'you@example.com', 'you@example.com', 'you@example.com', 'you@example.com', 'you@example.com', 'you@example.com', 'you@example.com', 'you@example.com', 'you@example.com', 'you@example.com', 'you@example.com', 'you@example.com', 'you@example.com', 'you@example.com', 'you@example.com', 'you@example.com', 'you@example.com', 'you@example.com', 'you@example.com', 'you@example.com', 'you@example.com', 'you@example.com', 'you@example.com', 'you@example.com', 'you@example.com', 'you@example.com', 'you@example.com', 'you@example.com', 'you@example.com', 'you@example.com', 'you@example.com', 'you@example.com', 'you@example.com', 'you@example.com', 'you@example.com', 'you@example.com', 'you@example.com', 'you@example.com', 'you@example.com', 'you@example.com', 'you@example.com', 'you@example.com', 'you@example.com', 'you@example.com', 'you@example.com', 'you@example.com', 'you@example.com', 'you@example.com', 'you@example.com', 'you@example.com', 'you@example.com', 'you@example.com', 'you@example.com', 'you@example.com', 'you@example.com', 'you@example.com', 'you@example.com', 'you@example.com', 'you@example.com', 'you@example.com', 'you@example.com', 'you@example.com', 'you@example.com', 'you@example.com', 'you@example.com', 'you@example.com', 'you@example.com', 'you@example.com', 'you@example.com', 'you@example.com', 'you@example.com', 'you@example.com', 'you@example.com', 'you@example.com', 'you@example.com', 'you@example.com', 'you@example.com', 'you@example.com']\n"
          ],
          "name": "stdout"
        }
      ]
    },
    {
      "cell_type": "code",
      "metadata": {
        "id": "WWEpRERSbAL9",
        "colab_type": "code",
        "colab": {
          "base_uri": "https://localhost:8080/",
          "height": 34
        },
        "outputId": "1fb753f0-b820-41a1-a7bc-dc449860ff88"
      },
      "source": [
        "sortedDF.drop_duplicates(['user']).count()"
      ],
      "execution_count": 48,
      "outputs": [
        {
          "output_type": "execute_result",
          "data": {
            "text/plain": [
              "13"
            ]
          },
          "metadata": {
            "tags": []
          },
          "execution_count": 48
        }
      ]
    },
    {
      "cell_type": "markdown",
      "metadata": {
        "id": "Lv6sxtlubwqa",
        "colab_type": "text"
      },
      "source": [
        "Calculating leaves\n"
      ]
    },
    {
      "cell_type": "code",
      "metadata": {
        "id": "CVcaHp0Nbu1G",
        "colab_type": "code",
        "colab": {}
      },
      "source": [
        "df1 = spark.read.format(\"csv\").option(\"header\",\"true\").load(\"day1.csv\")\n",
        "df2 = spark.read.format(\"csv\").option(\"header\",\"true\").load(\"day2.csv\")\n",
        "df3 = spark.read.format(\"csv\").option(\"header\",\"true\").load(\"day3.csv\")\n",
        "df4 = spark.read.format(\"csv\").option(\"header\",\"true\").load(\"day4.csv\")\n",
        "df5 = spark.read.format(\"csv\").option(\"header\",\"true\").load(\"day5.csv\")\n",
        "df6 = spark.read.format(\"csv\").option(\"header\",\"true\").load(\"day6.csv\")\n",
        "df7 = spark.read.format(\"csv\").option(\"header\",\"true\").load(\"day7.csv\")\n",
        "df8 = spark.read.format(\"csv\").option(\"header\",\"true\").load(\"day8.csv\")\n",
        "df9 = spark.read.format(\"csv\").option(\"header\",\"true\").load(\"day9.csv\")"
      ],
      "execution_count": 49,
      "outputs": []
    },
    {
      "cell_type": "code",
      "metadata": {
        "id": "v9ylCV0acXt1",
        "colab_type": "code",
        "colab": {
          "base_uri": "https://localhost:8080/",
          "height": 34
        },
        "outputId": "153a03ec-0ead-4f72-f4f5-1990c77edd15"
      },
      "source": [
        "df1.drop_duplicates(['user_name']).count()"
      ],
      "execution_count": 50,
      "outputs": [
        {
          "output_type": "execute_result",
          "data": {
            "text/plain": [
              "13"
            ]
          },
          "metadata": {
            "tags": []
          },
          "execution_count": 50
        }
      ]
    },
    {
      "cell_type": "code",
      "metadata": {
        "id": "S4xv0Yl7cmM7",
        "colab_type": "code",
        "colab": {}
      },
      "source": [
        "day1 = df1.drop_duplicates(['user_name'])\n",
        "day2 = df2.drop_duplicates(['user_name'])\n",
        "day3 = df3.drop_duplicates(['user_name'])\n",
        "day4 = df4.drop_duplicates(['user_name'])\n",
        "day5 = df5.drop_duplicates(['user_name'])\n",
        "day6 = df6.drop_duplicates(['user_name'])\n",
        "day7 = df7.drop_duplicates(['user_name'])\n",
        "day8 = df8.drop_duplicates(['user_name'])\n",
        "day9 = df9.drop_duplicates(['user_name'])"
      ],
      "execution_count": 51,
      "outputs": []
    },
    {
      "cell_type": "code",
      "metadata": {
        "id": "E6TvN38WiWHR",
        "colab_type": "code",
        "colab": {}
      },
      "source": [
        "allDays = day1.union(day2).union(day3).union(day4).union(day5).union(day6).union(day7).union(day8).union(day9).select('user_name')"
      ],
      "execution_count": 52,
      "outputs": []
    },
    {
      "cell_type": "code",
      "metadata": {
        "id": "FwKElOnTjcOR",
        "colab_type": "code",
        "colab": {
          "base_uri": "https://localhost:8080/",
          "height": 478
        },
        "outputId": "dc87380b-ab9b-4881-8bba-0d3af553b6db"
      },
      "source": [
        "allDays.groupby('user_name').count().show()"
      ],
      "execution_count": 53,
      "outputs": [
        {
          "output_type": "stream",
          "text": [
            "+--------------------+-----+\n",
            "|           user_name|count|\n",
            "+--------------------+-----+\n",
            "|ashutoshrit64@gma...|    8|\n",
            "|giridhardandikwar...|    6|\n",
            "|priyankagorte95@g...|    4|\n",
            "|       nikitapawar17|    6|\n",
            "|umangsontakke70@g...|    3|\n",
            "|salinabodale73@gm...|    1|\n",
            "|“shivnajalisangal...|    4|\n",
            "|indrajeetgajbhiye...|    6|\n",
            "|khairnarswapna99@...|    5|\n",
            "|Krushnanikam26@gm...|    4|\n",
            "|gaikwadr576@gmail...|    6|\n",
            "|adikumar2514@gmai...|    8|\n",
            "| dileep.bs@yahoo.com|    6|\n",
            "|puruissimple@gmai...|    7|\n",
            "|nehapalekar026@gm...|    3|\n",
            "|er.mukulvij96@gma...|    7|\n",
            "|surajwarbhuvan192...|    6|\n",
            "|samruddhichitnis0...|    5|\n",
            "|yadav.ujjwal770@g...|    5|\n",
            "|hakepratiksha55@g...|    7|\n",
            "+--------------------+-----+\n",
            "only showing top 20 rows\n",
            "\n"
          ],
          "name": "stdout"
        }
      ]
    },
    {
      "cell_type": "markdown",
      "metadata": {
        "id": "-sjlzlzEqGeQ",
        "colab_type": "text"
      },
      "source": [
        "Total Leaves"
      ]
    },
    {
      "cell_type": "code",
      "metadata": {
        "id": "6IUzXtfBkL4F",
        "colab_type": "code",
        "colab": {
          "base_uri": "https://localhost:8080/",
          "height": 478
        },
        "outputId": "4fa87064-6460-4ff2-c782-8242594ac9c6"
      },
      "source": [
        "leavesDF = allDays.groupby('user_name').count().withColumn('leaves',9 - column('count')).drop('count')\n",
        "leavesDF.show()"
      ],
      "execution_count": 54,
      "outputs": [
        {
          "output_type": "stream",
          "text": [
            "+--------------------+------+\n",
            "|           user_name|leaves|\n",
            "+--------------------+------+\n",
            "|ashutoshrit64@gma...|     1|\n",
            "|giridhardandikwar...|     3|\n",
            "|priyankagorte95@g...|     5|\n",
            "|       nikitapawar17|     3|\n",
            "|umangsontakke70@g...|     6|\n",
            "|salinabodale73@gm...|     8|\n",
            "|“shivnajalisangal...|     5|\n",
            "|indrajeetgajbhiye...|     3|\n",
            "|khairnarswapna99@...|     4|\n",
            "|Krushnanikam26@gm...|     5|\n",
            "|gaikwadr576@gmail...|     3|\n",
            "|adikumar2514@gmai...|     1|\n",
            "| dileep.bs@yahoo.com|     3|\n",
            "|puruissimple@gmai...|     2|\n",
            "|nehapalekar026@gm...|     6|\n",
            "|er.mukulvij96@gma...|     2|\n",
            "|surajwarbhuvan192...|     3|\n",
            "|samruddhichitnis0...|     4|\n",
            "|yadav.ujjwal770@g...|     4|\n",
            "|hakepratiksha55@g...|     2|\n",
            "+--------------------+------+\n",
            "only showing top 20 rows\n",
            "\n"
          ],
          "name": "stdout"
        }
      ]
    },
    {
      "cell_type": "markdown",
      "metadata": {
        "id": "tKQPwAmPqOgG",
        "colab_type": "text"
      },
      "source": [
        "Idle Time"
      ]
    },
    {
      "cell_type": "code",
      "metadata": {
        "id": "CJ7FDZO3qLxI",
        "colab_type": "code",
        "colab": {
          "base_uri": "https://localhost:8080/",
          "height": 478
        },
        "outputId": "68ce8ea1-b41f-477a-c9dd-62fd030557f3"
      },
      "source": [
        "df = df1.select('user_name','DateTime','keyboard','mouse')\\\n",
        ".withColumn(\"Date\",to_timestamp('DateTime','yyyy-MM-dd HH:mm:ss'))\\\n",
        ".withColumnRenamed('user_name',\"user\")\\\n",
        ".withColumnRenamed('Date','date')\\\n",
        ".withColumn('action',col('keyboard') + col('mouse'))\\\n",
        ".drop('DateTime','keyboard','mouse')\\\n",
        ".orderBy(col('user'),col('date'))\n",
        "df.show()"
      ],
      "execution_count": 55,
      "outputs": [
        {
          "output_type": "stream",
          "text": [
            "+--------------------+-------------------+------+\n",
            "|                user|               date|action|\n",
            "+--------------------+-------------------+------+\n",
            "|antonyalexcm@gmai...|2019-10-13 12:10:01| 269.0|\n",
            "|antonyalexcm@gmai...|2019-10-13 12:15:02|6283.0|\n",
            "|antonyalexcm@gmai...|2019-10-13 12:20:01|5758.0|\n",
            "|antonyalexcm@gmai...|2019-10-13 12:25:01|3980.0|\n",
            "|antonyalexcm@gmai...|2019-10-13 12:30:01|5603.0|\n",
            "|antonyalexcm@gmai...|2019-10-13 12:35:02|4545.0|\n",
            "|antonyalexcm@gmai...|2019-10-13 12:40:01|3544.0|\n",
            "|antonyalexcm@gmai...|2019-10-13 12:45:01|5599.5|\n",
            "|antonyalexcm@gmai...|2019-10-13 12:50:02| 318.0|\n",
            "|ashutoshrit64@gma...|2019-10-13 12:25:01| 403.0|\n",
            "|ashutoshrit64@gma...|2019-10-13 12:30:02| 535.0|\n",
            "|ashutoshrit64@gma...|2019-10-13 12:35:02| 537.0|\n",
            "|ashutoshrit64@gma...|2019-10-13 12:40:01| 472.0|\n",
            "|ashutoshrit64@gma...|2019-10-13 12:45:02| 555.0|\n",
            "|ashutoshrit64@gma...|2019-10-13 12:50:01| 635.0|\n",
            "|ashutoshrit64@gma...|2019-10-13 12:55:01| 645.0|\n",
            "|ashutoshrit64@gma...|2019-10-13 13:00:01|1341.0|\n",
            "|ashutoshrit64@gma...|2019-10-13 13:05:01| 373.0|\n",
            "|ashutoshrit64@gma...|2019-10-13 13:10:01| 959.0|\n",
            "|ashutoshrit64@gma...|2019-10-13 13:15:01|1163.5|\n",
            "+--------------------+-------------------+------+\n",
            "only showing top 20 rows\n",
            "\n"
          ],
          "name": "stdout"
        }
      ]
    },
    {
      "cell_type": "code",
      "metadata": {
        "id": "J5jxFpEUqWlw",
        "colab_type": "code",
        "colab": {}
      },
      "source": [
        "users = list(df.select('user').toPandas()['user'])   \n",
        "action = list(df.select('action').toPandas()['action'])    "
      ],
      "execution_count": 56,
      "outputs": []
    },
    {
      "cell_type": "code",
      "metadata": {
        "id": "iM9gtjv4rQMh",
        "colab_type": "code",
        "colab": {}
      },
      "source": [
        "name = ''\n",
        "counter = 0\n",
        "output = []\n",
        "for index in range(len(users)):\n",
        "  if index == 0 :\n",
        "    name = ''\n",
        "    if action[index] == 0:\n",
        "      counter = 1\n",
        "  elif index == len(users)-1:\n",
        "    if users[index] == name:\n",
        "       if action[index] == 0:\n",
        "         counter += 1\n",
        "    if counter > 5:\n",
        "        output.append([name,counter]) \n",
        "  else:\n",
        "    if users[index] == name:\n",
        "       if action[index] == 0:\n",
        "         counter += 1 \n",
        "       else:\n",
        "         if counter > 5:\n",
        "           output.append([name,counter])\n",
        "         counter = 0\n",
        "    else:\n",
        "      if counter > 5:\n",
        "        output.append([name,counter])\n",
        "      counter = 0\n",
        "      name = users[index]\n",
        "      if action[index] == 0:\n",
        "        counter += 1 \n"
      ],
      "execution_count": 57,
      "outputs": []
    },
    {
      "cell_type": "code",
      "metadata": {
        "id": "6G2X6l3Twot8",
        "colab_type": "code",
        "colab": {
          "base_uri": "https://localhost:8080/",
          "height": 105
        },
        "outputId": "77514afe-113f-4d49-c21f-334cd351b71f"
      },
      "source": [
        "for user in output:\n",
        "  print(user)"
      ],
      "execution_count": 58,
      "outputs": [
        {
          "output_type": "stream",
          "text": [
            "['ashutoshrit64@gmail.com', 6]\n",
            "['iamnzm@outlook.com', 6]\n",
            "['kalyani24deobhankar@gmail.com', 61]\n",
            "['priyankagandhi2504@gmail.com', 48]\n",
            "['shelkeva@gmail.com', 13]\n"
          ],
          "name": "stdout"
        }
      ]
    },
    {
      "cell_type": "code",
      "metadata": {
        "id": "p9UsIa3XwsPY",
        "colab_type": "code",
        "colab": {
          "base_uri": "https://localhost:8080/",
          "height": 1000
        },
        "outputId": "8903fd45-4da1-4ab7-a8dc-8ed30b5a87eb"
      },
      "source": [
        "df = df2.select('user_name','DateTime','keyboard','mouse')\\\n",
        ".withColumn(\"Date\",to_timestamp('DateTime','yyyy-MM-dd HH:mm:ss'))\\\n",
        ".withColumnRenamed('user_name',\"user\")\\\n",
        ".withColumnRenamed('Date','date')\\\n",
        ".withColumn('action',col('keyboard') + col('mouse'))\\\n",
        ".drop('DateTime','keyboard','mouse')\\\n",
        ".orderBy(col('user'),col('date'))\n",
        "df.show()\n",
        "users = list(df.select('user').toPandas()['user'])   \n",
        "action = list(df.select('action').toPandas()['action']) \n",
        "name = ''\n",
        "counter = 0\n",
        "output = []\n",
        "for index in range(len(users)):\n",
        "  if index == 0 :\n",
        "    name = ''\n",
        "    if action[index] == 0:\n",
        "      counter = 1\n",
        "  elif index == len(users)-1:\n",
        "    if users[index] == name:\n",
        "       if action[index] == 0:\n",
        "         counter += 1\n",
        "    if counter > 5:\n",
        "        output.append([name,counter]) \n",
        "  else:\n",
        "    if users[index] == name:\n",
        "       if action[index] == 0:\n",
        "         counter += 1 \n",
        "       else:\n",
        "         if counter > 5:\n",
        "           output.append([name,counter])\n",
        "         counter = 0\n",
        "    else:\n",
        "      if counter > 5:\n",
        "        output.append([name,counter])\n",
        "      counter = 0\n",
        "      name = users[index]\n",
        "      if action[index] == 0:\n",
        "        counter += 1 \n",
        "for user in output:\n",
        "  print(user)\n"
      ],
      "execution_count": 59,
      "outputs": [
        {
          "output_type": "stream",
          "text": [
            "+--------------------+-------------------+------+\n",
            "|                user|               date|action|\n",
            "+--------------------+-------------------+------+\n",
            "|Krushnanikam26@gm...|2019-10-14 10:20:01|   1.5|\n",
            "|Krushnanikam26@gm...|2019-10-14 10:25:01|   1.5|\n",
            "|Krushnanikam26@gm...|2019-10-14 10:30:01|   1.5|\n",
            "|Krushnanikam26@gm...|2019-10-14 10:35:12|   1.5|\n",
            "|Krushnanikam26@gm...|2019-10-14 10:40:20|   1.5|\n",
            "|Krushnanikam26@gm...|2019-10-14 10:45:02|   1.5|\n",
            "|Krushnanikam26@gm...|2019-10-14 10:50:05|   1.5|\n",
            "|Krushnanikam26@gm...|2019-10-14 10:55:01|   1.5|\n",
            "|Krushnanikam26@gm...|2019-10-14 11:00:14|   1.5|\n",
            "|Krushnanikam26@gm...|2019-10-14 11:05:07|   1.5|\n",
            "|Krushnanikam26@gm...|2019-10-14 11:10:01|   1.5|\n",
            "|Krushnanikam26@gm...|2019-10-14 11:15:07|   1.5|\n",
            "|Krushnanikam26@gm...|2019-10-14 11:20:02|   1.5|\n",
            "|Krushnanikam26@gm...|2019-10-14 11:25:26|   1.5|\n",
            "|Krushnanikam26@gm...|2019-10-14 11:30:01|   1.5|\n",
            "|Krushnanikam26@gm...|2019-10-14 11:35:03|   1.5|\n",
            "|Krushnanikam26@gm...|2019-10-14 11:40:08|   1.5|\n",
            "|Krushnanikam26@gm...|2019-10-14 11:45:03|   1.5|\n",
            "|Krushnanikam26@gm...|2019-10-14 11:50:05|   1.5|\n",
            "|Krushnanikam26@gm...|2019-10-14 11:55:02|   1.5|\n",
            "+--------------------+-------------------+------+\n",
            "only showing top 20 rows\n",
            "\n",
            "['Krushnanikam26@gmail.com', 65]\n",
            "['addyp1911@gmail.com', 15]\n",
            "['addyp1911@gmail.com', 7]\n",
            "['adikumar2514@gmail.com', 14]\n",
            "['adikumar2514@gmail.com', 24]\n",
            "['adikumar2514@gmail.com', 9]\n",
            "['aheteshams007@gmail.com', 6]\n",
            "['aheteshams007@gmail.com', 8]\n",
            "['akshay.skawde@gmail.com', 10]\n",
            "['er.mukulvij96@gmail.com', 8]\n",
            "['farooqbassam4@gmail.com', 110]\n",
            "['gaikwadr576@gmail.com', 20]\n",
            "['gaikwadr576@gmail.com', 6]\n",
            "['gaikwadr576@gmail.com', 9]\n",
            "['giridhardandikwar@gmail.com', 11]\n",
            "['giridhardandikwar@gmail.com', 9]\n",
            "['grmule018@gmail.com', 8]\n",
            "['grmule018@gmail.com', 10]\n",
            "['hakepratiksha55@gmail.com', 6]\n",
            "['hakepratiksha55@gmail.com', 13]\n",
            "['iamnzm@outlook.com', 16]\n",
            "['kaleshwetaanil@gmail.com', 24]\n",
            "['kalyani24deobhankar@gmail.com', 22]\n",
            "['kalyani24deobhankar@gmail.com', 8]\n",
            "['kalyani24deobhankar@gmail.com', 10]\n",
            "['mishrasushil889@gmail.com', 9]\n",
            "['mishrasushil889@gmail.com', 6]\n",
            "['mishrasushil889@gmail.com', 7]\n",
            "['naineshpatil11@gmail.com', 9]\n",
            "['naineshpatil11@gmail.com', 8]\n",
            "['nehapalekar026@gmail.com', 19]\n",
            "['nehapalekar026@gmail.com', 74]\n",
            "['polelaxman001@gmail.com', 7]\n",
            "['polelaxman001@gmail.com', 13]\n",
            "['pramodmane58@gmail.com', 114]\n",
            "['prathameshsalap@gmail.com', 18]\n",
            "['prathameshsalap@gmail.com', 7]\n",
            "['priyankagandhi2504@gmail.com', 7]\n",
            "['puruissimple@gmail.com', 9]\n",
            "['puruissimple@gmail.com', 6]\n",
            "['puruissimple@gmail.com', 6]\n",
            "['puruissimple@gmail.com', 10]\n",
            "['rahilstar11@gmail.com', 91]\n",
            "['rawatabhishek2012@gmail.com', 14]\n",
            "['rohitsarate1027@gmail.com', 12]\n",
            "['ruchikachile301996@gmail.com', 19]\n",
            "['samadhanmahajan73@gmail.com', 8]\n",
            "['sharlawar77@gmail.com', 51]\n",
            "['sharlawar77@gmail.com', 22]\n",
            "['shelkeva@gmail.com', 10]\n",
            "['singladivanshu007@gmail.com', 8]\n",
            "['singladivanshu007@gmail.com', 8]\n",
            "['sushantpatwari1234@gmail.com', 114]\n",
            "['tekina.makin@gmail.com', 10]\n",
            "['tekina.makin@gmail.com', 18]\n",
            "['tekina.makin@gmail.com', 7]\n",
            "['tekina.makin@gmail.com', 9]\n",
            "['umangsontakke70@gmail.com', 11]\n",
            "['vaishusawant143@gmail.com', 16]\n",
            "['venkatesh.er2@gmail.com', 17]\n",
            "['venkatesh.er2@gmail.com', 15]\n",
            "['vidyaramesh1428@gmail.com', 14]\n",
            "['vijaykumarbhavanur.com', 7]\n",
            "['vijaykumarbhavanur.com', 10]\n",
            "['you@example.com', 10]\n",
            "['you@example.com', 13]\n",
            "['you@example.com', 13]\n",
            "['youremail@email.com', 86]\n"
          ],
          "name": "stdout"
        }
      ]
    },
    {
      "cell_type": "code",
      "metadata": {
        "id": "lLLOqV8wxlOO",
        "colab_type": "code",
        "colab": {
          "base_uri": "https://localhost:8080/",
          "height": 72
        },
        "outputId": "857b87bc-c277-4c88-8d00-fabb84b64a0f"
      },
      "source": [
        "idleUser = []\n",
        "idleTime = []\n",
        "name = ''\n",
        "counter = 0\n",
        "for index in range(len(output)-1):\n",
        "  user = output[index]\n",
        "  if(index == 0):\n",
        "    name = user[0]\n",
        "    counter = user[1]\n",
        "  else:\n",
        "    if name == user[0]:\n",
        "      counter += user[1]\n",
        "    else:\n",
        "      idleUser.append(name)\n",
        "      idleTime.append(counter *5)\n",
        "      name = user[0]\n",
        "      counter = user[1]\n",
        "print(idleUser)\n",
        "print(idleTime) "
      ],
      "execution_count": 60,
      "outputs": [
        {
          "output_type": "stream",
          "text": [
            "['Krushnanikam26@gmail.com', 'addyp1911@gmail.com', 'adikumar2514@gmail.com', 'aheteshams007@gmail.com', 'akshay.skawde@gmail.com', 'er.mukulvij96@gmail.com', 'farooqbassam4@gmail.com', 'gaikwadr576@gmail.com', 'giridhardandikwar@gmail.com', 'grmule018@gmail.com', 'hakepratiksha55@gmail.com', 'iamnzm@outlook.com', 'kaleshwetaanil@gmail.com', 'kalyani24deobhankar@gmail.com', 'mishrasushil889@gmail.com', 'naineshpatil11@gmail.com', 'nehapalekar026@gmail.com', 'polelaxman001@gmail.com', 'pramodmane58@gmail.com', 'prathameshsalap@gmail.com', 'priyankagandhi2504@gmail.com', 'puruissimple@gmail.com', 'rahilstar11@gmail.com', 'rawatabhishek2012@gmail.com', 'rohitsarate1027@gmail.com', 'ruchikachile301996@gmail.com', 'samadhanmahajan73@gmail.com', 'sharlawar77@gmail.com', 'shelkeva@gmail.com', 'singladivanshu007@gmail.com', 'sushantpatwari1234@gmail.com', 'tekina.makin@gmail.com', 'umangsontakke70@gmail.com', 'vaishusawant143@gmail.com', 'venkatesh.er2@gmail.com', 'vidyaramesh1428@gmail.com', 'vijaykumarbhavanur.com']\n",
            "[325, 110, 235, 70, 50, 40, 550, 175, 100, 90, 95, 80, 120, 200, 110, 85, 465, 100, 570, 125, 35, 155, 455, 70, 60, 95, 40, 365, 50, 80, 570, 220, 55, 80, 160, 70, 85]\n"
          ],
          "name": "stdout"
        }
      ]
    },
    {
      "cell_type": "code",
      "metadata": {
        "id": "tVuyS2vpOBLA",
        "colab_type": "code",
        "colab": {
          "base_uri": "https://localhost:8080/",
          "height": 54
        },
        "outputId": "858fa746-af00-4631-9dfa-0ef695ed7134"
      },
      "source": [
        "lst = [idleUser,idleTime]\n",
        "print(lst)"
      ],
      "execution_count": 61,
      "outputs": [
        {
          "output_type": "stream",
          "text": [
            "[['Krushnanikam26@gmail.com', 'addyp1911@gmail.com', 'adikumar2514@gmail.com', 'aheteshams007@gmail.com', 'akshay.skawde@gmail.com', 'er.mukulvij96@gmail.com', 'farooqbassam4@gmail.com', 'gaikwadr576@gmail.com', 'giridhardandikwar@gmail.com', 'grmule018@gmail.com', 'hakepratiksha55@gmail.com', 'iamnzm@outlook.com', 'kaleshwetaanil@gmail.com', 'kalyani24deobhankar@gmail.com', 'mishrasushil889@gmail.com', 'naineshpatil11@gmail.com', 'nehapalekar026@gmail.com', 'polelaxman001@gmail.com', 'pramodmane58@gmail.com', 'prathameshsalap@gmail.com', 'priyankagandhi2504@gmail.com', 'puruissimple@gmail.com', 'rahilstar11@gmail.com', 'rawatabhishek2012@gmail.com', 'rohitsarate1027@gmail.com', 'ruchikachile301996@gmail.com', 'samadhanmahajan73@gmail.com', 'sharlawar77@gmail.com', 'shelkeva@gmail.com', 'singladivanshu007@gmail.com', 'sushantpatwari1234@gmail.com', 'tekina.makin@gmail.com', 'umangsontakke70@gmail.com', 'vaishusawant143@gmail.com', 'venkatesh.er2@gmail.com', 'vidyaramesh1428@gmail.com', 'vijaykumarbhavanur.com'], [325, 110, 235, 70, 50, 40, 550, 175, 100, 90, 95, 80, 120, 200, 110, 85, 465, 100, 570, 125, 35, 155, 455, 70, 60, 95, 40, 365, 50, 80, 570, 220, 55, 80, 160, 70, 85]]\n"
          ],
          "name": "stdout"
        }
      ]
    },
    {
      "cell_type": "code",
      "metadata": {
        "id": "qHCrCKRKOXZA",
        "colab_type": "code",
        "colab": {
          "base_uri": "https://localhost:8080/",
          "height": 478
        },
        "outputId": "47c3dbd8-1ff2-41eb-918d-f626443c2cd7"
      },
      "source": [
        "from pyspark.sql import Row\n",
        "sc = spark.sparkContext\n",
        "row = Row(\"User\",\"IdleTime\")\n",
        "sc.parallelize([row(*r) for r in zip(*lst)]).toDF().show()"
      ],
      "execution_count": 62,
      "outputs": [
        {
          "output_type": "stream",
          "text": [
            "+--------------------+--------+\n",
            "|                User|IdleTime|\n",
            "+--------------------+--------+\n",
            "|Krushnanikam26@gm...|     325|\n",
            "| addyp1911@gmail.com|     110|\n",
            "|adikumar2514@gmai...|     235|\n",
            "|aheteshams007@gma...|      70|\n",
            "|akshay.skawde@gma...|      50|\n",
            "|er.mukulvij96@gma...|      40|\n",
            "|farooqbassam4@gma...|     550|\n",
            "|gaikwadr576@gmail...|     175|\n",
            "|giridhardandikwar...|     100|\n",
            "| grmule018@gmail.com|      90|\n",
            "|hakepratiksha55@g...|      95|\n",
            "|  iamnzm@outlook.com|      80|\n",
            "|kaleshwetaanil@gm...|     120|\n",
            "|kalyani24deobhank...|     200|\n",
            "|mishrasushil889@g...|     110|\n",
            "|naineshpatil11@gm...|      85|\n",
            "|nehapalekar026@gm...|     465|\n",
            "|polelaxman001@gma...|     100|\n",
            "|pramodmane58@gmai...|     570|\n",
            "|prathameshsalap@g...|     125|\n",
            "+--------------------+--------+\n",
            "only showing top 20 rows\n",
            "\n"
          ],
          "name": "stdout"
        }
      ]
    },
    {
      "cell_type": "code",
      "metadata": {
        "id": "raOMZn-gN2mB",
        "colab_type": "code",
        "colab": {}
      },
      "source": [
        "def getIdleTime(df):\n",
        "  df1 = df.select('user_name','DateTime','keyboard','mouse')\\\n",
        "  .withColumn(\"Date\",to_timestamp('DateTime','yyyy-MM-dd HH:mm:ss'))\\\n",
        "  .withColumnRenamed('user_name',\"user\")\\\n",
        "  .withColumnRenamed('Date','date')\\\n",
        "  .withColumn('action',col('keyboard') + col('mouse'))\\\n",
        "  .drop('DateTime','keyboard','mouse')\\\n",
        "  .orderBy(col('user'),col('date'))\n",
        "  \n",
        "  users = list(df1.select('user').toPandas()['user'])   \n",
        "  action = list(df1.select('action').toPandas()['action']) \n",
        "\n",
        "  name = ''\n",
        "  counter = 0\n",
        "  output = []\n",
        "  for index in range(len(users)):\n",
        "    if index == 0 :\n",
        "      name = ''\n",
        "      if action[index] == 0:\n",
        "        counter = 1\n",
        "    elif index == len(users)-1:\n",
        "      if users[index] == name:\n",
        "        if action[index] == 0:\n",
        "          counter += 1\n",
        "      if counter > 5:\n",
        "          output.append([name,counter]) \n",
        "    else:\n",
        "      if users[index] == name:\n",
        "        if action[index] == 0:\n",
        "          counter += 1 \n",
        "        else:\n",
        "          if counter > 5:\n",
        "            output.append([name,counter])\n",
        "          counter = 0\n",
        "      else:\n",
        "        if counter > 5:\n",
        "          output.append([name,counter])\n",
        "        counter = 0\n",
        "        name = users[index]\n",
        "        if action[index] == 0:\n",
        "          counter += 1 \n",
        "\n",
        "  idleUser = []\n",
        "  idleTime = []\n",
        "  name = ''\n",
        "  counter = 0\n",
        "  for index in range(len(output)-1):\n",
        "    user = output[index]\n",
        "    if(index == 0):\n",
        "      name = user[0]\n",
        "      counter = user[1]\n",
        "    else:\n",
        "      if name == user[0]:\n",
        "        counter += user[1]\n",
        "      else:\n",
        "        idleUser.append(name)\n",
        "        idleTime.append(counter *5)\n",
        "        name = user[0]\n",
        "        counter = user[1] \n",
        "  from pyspark.sql import Row\n",
        "  sc = spark.sparkContext\n",
        "  row = Row(\"User\",\"IdleTime\")\n",
        "  return sc.parallelize([row(*r) for r in zip(*lst)]).toDF()"
      ],
      "execution_count": 146,
      "outputs": []
    },
    {
      "cell_type": "code",
      "metadata": {
        "id": "0AalMZYeQVFT",
        "colab_type": "code",
        "colab": {}
      },
      "source": [
        "df = spark.read.format(\"csv\").option(\"header\",\"true\").load(\"day2.csv\")"
      ],
      "execution_count": 64,
      "outputs": []
    },
    {
      "cell_type": "code",
      "metadata": {
        "id": "jJiY37ZdQfGW",
        "colab_type": "code",
        "colab": {
          "base_uri": "https://localhost:8080/",
          "height": 478
        },
        "outputId": "553e6fd0-16e3-4a51-a925-6840a17b2e4a"
      },
      "source": [
        "getIdleTime(df)"
      ],
      "execution_count": 65,
      "outputs": [
        {
          "output_type": "stream",
          "text": [
            "+--------------------+--------+\n",
            "|                User|IdleTime|\n",
            "+--------------------+--------+\n",
            "|Krushnanikam26@gm...|     325|\n",
            "| addyp1911@gmail.com|     110|\n",
            "|adikumar2514@gmai...|     235|\n",
            "|aheteshams007@gma...|      70|\n",
            "|akshay.skawde@gma...|      50|\n",
            "|er.mukulvij96@gma...|      40|\n",
            "|farooqbassam4@gma...|     550|\n",
            "|gaikwadr576@gmail...|     175|\n",
            "|giridhardandikwar...|     100|\n",
            "| grmule018@gmail.com|      90|\n",
            "|hakepratiksha55@g...|      95|\n",
            "|  iamnzm@outlook.com|      80|\n",
            "|kaleshwetaanil@gm...|     120|\n",
            "|kalyani24deobhank...|     200|\n",
            "|mishrasushil889@g...|     110|\n",
            "|naineshpatil11@gm...|      85|\n",
            "|nehapalekar026@gm...|     465|\n",
            "|polelaxman001@gma...|     100|\n",
            "|pramodmane58@gmai...|     570|\n",
            "|prathameshsalap@g...|     125|\n",
            "+--------------------+--------+\n",
            "only showing top 20 rows\n",
            "\n"
          ],
          "name": "stdout"
        }
      ]
    },
    {
      "cell_type": "markdown",
      "metadata": {
        "id": "arcRiV1oRUyH",
        "colab_type": "text"
      },
      "source": [
        "Calculating late Commers\n"
      ]
    },
    {
      "cell_type": "code",
      "metadata": {
        "id": "Ix1FQlgxWaP_",
        "colab_type": "code",
        "colab": {}
      },
      "source": [
        "def getLateTiming(df):\n",
        "  from pyspark.sql.functions import lit\n",
        "  newdf = df.select('user_name','DateTime',)\\\n",
        "  .withColumn(\"Date\",to_timestamp('DateTime','yyyy-MM-dd HH:mm:ss'))\\\n",
        "  .withColumnRenamed('user_name',\"user\")\\\n",
        "  .withColumnRenamed('Date','date')\\\n",
        "  .drop('DateTime','keyboard','mouse')\\\n",
        "  .drop_duplicates(['user'])\\\n",
        "  .orderBy(col('date'))\\\n",
        "  .withColumn(\"arrivalTime\",(hour(col('date')).cast(\"Integer\") * 60 + minute(col('date')).cast(\"Integer\")))\\\n",
        "  .withColumn(\"dutyTime\",lit(510))\\\n",
        "  .withColumn(\"timeDiff\",col('dutyTime')-col('arrivalTime'))\\\n",
        "  .drop('dutyTime','arrivalTime')\n",
        "  return newdf"
      ],
      "execution_count": 68,
      "outputs": []
    },
    {
      "cell_type": "code",
      "metadata": {
        "id": "j_vLY1aRW266",
        "colab_type": "code",
        "colab": {
          "base_uri": "https://localhost:8080/",
          "height": 478
        },
        "outputId": "ec6859e8-c544-4565-cc32-f237a986ebd8"
      },
      "source": [
        "getLateTiming(df4).show()"
      ],
      "execution_count": 69,
      "outputs": [
        {
          "output_type": "stream",
          "text": [
            "+--------------------+-------------------+--------+\n",
            "|                user|               date|timeDiff|\n",
            "+--------------------+-------------------+--------+\n",
            "|surajwarbhuvan192...|2019-10-16 08:45:01|     -15|\n",
            "|  shelkeva@gmail.com|2019-10-16 08:50:01|     -20|\n",
            "|rahilstar11@gmail...|2019-10-16 08:50:01|     -20|\n",
            "|prathameshsalap@g...|2019-10-16 08:55:01|     -25|\n",
            "|singladivanshu007...|2019-10-16 09:00:01|     -30|\n",
            "|khairnarswapna99@...|2019-10-16 09:00:02|     -30|\n",
            "|kalyani24deobhank...|2019-10-16 09:05:01|     -35|\n",
            "| ingle0608@gmail.com|2019-10-16 09:05:01|     -35|\n",
            "|     you@example.com|2019-10-16 09:10:01|     -40|\n",
            "|puruissimple@gmai...|2019-10-16 09:10:01|     -40|\n",
            "|sushantpatwari123...|2019-10-16 09:10:01|     -40|\n",
            "|ashutoshrit64@gma...|2019-10-16 09:15:01|     -45|\n",
            "|naineshpatil11@gm...|2019-10-16 09:15:01|     -45|\n",
            "|sharlawar77@gmail...|2019-10-16 09:15:15|     -45|\n",
            "| grmule018@gmail.com|2019-10-16 09:20:01|     -50|\n",
            "|antonyalexcm@gmai...|2019-10-16 09:20:01|     -50|\n",
            "|vaibhavkhadke@gma...|2019-10-16 09:20:02|     -50|\n",
            "|vijaykumarbhavanu...|2019-10-16 09:25:01|     -55|\n",
            "|indrajeetgajbhiye...|2019-10-16 09:25:01|     -55|\n",
            "|giridhardandikwar...|2019-10-16 09:25:01|     -55|\n",
            "+--------------------+-------------------+--------+\n",
            "only showing top 20 rows\n",
            "\n"
          ],
          "name": "stdout"
        }
      ]
    },
    {
      "cell_type": "code",
      "metadata": {
        "id": "AkfZOjA3VOK_",
        "colab_type": "code",
        "colab": {
          "base_uri": "https://localhost:8080/",
          "height": 34
        },
        "outputId": "62e29651-554e-4e16-818f-52439d372f72"
      },
      "source": [
        "getLateTiming(df5)"
      ],
      "execution_count": 70,
      "outputs": [
        {
          "output_type": "execute_result",
          "data": {
            "text/plain": [
              "DataFrame[user: string, date: timestamp, timeDiff: int]"
            ]
          },
          "metadata": {
            "tags": []
          },
          "execution_count": 70
        }
      ]
    },
    {
      "cell_type": "code",
      "metadata": {
        "id": "Pj_wv41BbKOQ",
        "colab_type": "code",
        "colab": {}
      },
      "source": [
        "def OverAllLateCommers():\n",
        "  return getLateTiming(df1).union(getLateTiming(df2)).union(getLateTiming(df3)).union(getLateTiming(df4)).union(getLateTiming(df5)).union(getLateTiming(df6)).union(getLateTiming(df7)).union(getLateTiming(df8)).union(getLateTiming(df9)).orderBy('timeDiff')"
      ],
      "execution_count": 71,
      "outputs": []
    },
    {
      "cell_type": "code",
      "metadata": {
        "id": "QWInU37DXO2q",
        "colab_type": "code",
        "colab": {}
      },
      "source": [
        "userTimeData = OverAllLateCommers()"
      ],
      "execution_count": 72,
      "outputs": []
    },
    {
      "cell_type": "code",
      "metadata": {
        "id": "eB6rP46Pc6X3",
        "colab_type": "code",
        "colab": {
          "base_uri": "https://localhost:8080/",
          "height": 1000
        },
        "outputId": "2e3af27c-1473-49ba-c6fa-57d46b9ab474"
      },
      "source": [
        "userTimeData.groupby('user').avg('timeDiff')\\\n",
        ".withColumnRenamed('avg(timeDiff)','avgLateTime')\\\n",
        ".orderBy(desc(\"avgLateTime\"))\\\n",
        ".show(50)"
      ],
      "execution_count": 73,
      "outputs": [
        {
          "output_type": "stream",
          "text": [
            "+--------------------+-------------------+\n",
            "|                user|        avgLateTime|\n",
            "+--------------------+-------------------+\n",
            "|puruissimple@gmai...|-30.714285714285715|\n",
            "| ingle0608@gmail.com|              -45.0|\n",
            "|indrajeetgajbhiye...|-45.833333333333336|\n",
            "|mr.kundare@gmail.com|             -46.25|\n",
            "|vaishusawant143@g...|-47.857142857142854|\n",
            "|naineshpatil11@gm...|             -48.75|\n",
            "|  shelkeva@gmail.com|-48.888888888888886|\n",
            "|     you@example.com|-48.888888888888886|\n",
            "|sushantpatwari123...|              -50.0|\n",
            "|prathameshsalap@g...|              -52.5|\n",
            "|sarikabarge111@gm...|-52.857142857142854|\n",
            "|akshaybavalekar10...|-53.333333333333336|\n",
            "|singladivanshu007...|-59.285714285714285|\n",
            "|mishrasushil889@g...|-63.333333333333336|\n",
            "|vaibhavkhadke@gma...|-63.333333333333336|\n",
            "|  iamnzm@outlook.com| -63.57142857142857|\n",
            "|sharlawar77@gmail...| -64.28571428571429|\n",
            "|kaleshwetaanil@gm...| -66.42857142857143|\n",
            "|umangsontakke70@g...| -66.66666666666667|\n",
            "|surajwarbhuvan192...| -66.66666666666667|\n",
            "|ruchikachile30199...| -67.85714285714286|\n",
            "|kalyani24deobhank...|            -68.125|\n",
            "|vishnu23kumar@gma...| -68.33333333333333|\n",
            "|mahakbansal02@gma...|              -70.0|\n",
            "|rohitsarate1027@g...| -70.71428571428571|\n",
            "|bhiogadepriyanka9...|              -75.0|\n",
            "|aheteshams007@gma...| -76.42857142857143|\n",
            "|sargampandey27oct...|              -77.5|\n",
            "| dileep.bs@yahoo.com| -78.33333333333333|\n",
            "| youremail@email.com| -79.16666666666667|\n",
            "|durganath123@outl...| -82.14285714285714|\n",
            "|antonyalexcm@gmai...|            -86.875|\n",
            "|rahilstar11@gmail...| -87.85714285714286|\n",
            "|ayush.saraf47@gma...|              -90.0|\n",
            "|priyankagorte95@g...|             -91.25|\n",
            "|farooqbassam4@gma...| -92.14285714285714|\n",
            "|samadhanmahajan73...| -93.33333333333333|\n",
            "|hakepratiksha55@g...| -94.28571428571429|\n",
            "| grmule018@gmail.com|            -94.375|\n",
            "|ashutoshrit64@gma...|              -95.0|\n",
            "|gaikwadr576@gmail...| -95.83333333333333|\n",
            "| addyp1911@gmail.com|            -96.875|\n",
            "|damodharn21@gmail...|              -98.0|\n",
            "|“shivnajalisangal...|             -98.75|\n",
            "|vijaykumarbhavanu...|             -100.0|\n",
            "|khairnarswapna99@...|             -101.0|\n",
            "|bhagyashrichalke2...|-101.42857142857143|\n",
            "|polelaxman001@gma...|            -103.75|\n",
            "|er.mukulvij96@gma...|-104.28571428571429|\n",
            "|nitishtech.info@g...|-108.33333333333333|\n",
            "+--------------------+-------------------+\n",
            "only showing top 50 rows\n",
            "\n"
          ],
          "name": "stdout"
        }
      ]
    },
    {
      "cell_type": "markdown",
      "metadata": {
        "id": "AV3vZgVfFFoY",
        "colab_type": "text"
      },
      "source": [
        "User with lowest working time"
      ]
    },
    {
      "cell_type": "markdown",
      "metadata": {
        "id": "tQ1p3hROFTkx",
        "colab_type": "text"
      },
      "source": [
        "Getting user entry time"
      ]
    },
    {
      "cell_type": "code",
      "metadata": {
        "id": "aHNt_-ozFOZv",
        "colab_type": "code",
        "colab": {}
      },
      "source": [
        "df = df1.select('user_name','DateTime')\\\n",
        ".withColumn(\"Date\",to_timestamp('DateTime','yyyy-MM-dd HH:mm:ss'))\\\n",
        ".withColumnRenamed('user_name',\"user\")\\\n",
        ".withColumn('entryTime',col('Date'))\\\n",
        ".orderBy('entryTime')\\\n",
        ".drop_duplicates(['user'])\\\n",
        ".drop('DateTime')\\\n",
        ".orderBy('entryTime')"
      ],
      "execution_count": 105,
      "outputs": []
    },
    {
      "cell_type": "code",
      "metadata": {
        "id": "cCuGNOJQFuAV",
        "colab_type": "code",
        "colab": {
          "base_uri": "https://localhost:8080/",
          "height": 336
        },
        "outputId": "75272098-2a5c-4741-9aa0-ae159b7d8b3d"
      },
      "source": [
        "df.show()"
      ],
      "execution_count": 106,
      "outputs": [
        {
          "output_type": "stream",
          "text": [
            "+--------------------+-------------------+-------------------+\n",
            "|                user|               Date|          entryTime|\n",
            "+--------------------+-------------------+-------------------+\n",
            "|polelaxman001@gma...|2019-10-13 10:20:01|2019-10-13 10:20:01|\n",
            "|     you@example.com|2019-10-13 10:20:01|2019-10-13 10:20:01|\n",
            "|  iamnzm@outlook.com|2019-10-13 10:20:02|2019-10-13 10:20:02|\n",
            "|  shelkeva@gmail.com|2019-10-13 10:25:01|2019-10-13 10:25:01|\n",
            "|prathameshsalap@g...|2019-10-13 10:30:02|2019-10-13 10:30:02|\n",
            "|vijaykumarbhavanu...|2019-10-13 10:55:01|2019-10-13 10:55:01|\n",
            "| grmule018@gmail.com|2019-10-13 11:00:02|2019-10-13 11:00:02|\n",
            "|kalyani24deobhank...|2019-10-13 11:20:01|2019-10-13 11:20:01|\n",
            "|vishnu23kumar@gma...|2019-10-13 11:20:02|2019-10-13 11:20:02|\n",
            "|antonyalexcm@gmai...|2019-10-13 12:10:01|2019-10-13 12:10:01|\n",
            "|ashutoshrit64@gma...|2019-10-13 12:25:01|2019-10-13 12:25:01|\n",
            "|tekina.makin@gmai...|2019-10-13 12:35:01|2019-10-13 12:35:01|\n",
            "|priyankagandhi250...|2019-10-13 12:55:01|2019-10-13 12:55:01|\n",
            "+--------------------+-------------------+-------------------+\n",
            "\n"
          ],
          "name": "stdout"
        }
      ]
    },
    {
      "cell_type": "markdown",
      "metadata": {
        "id": "raYG_zKAIjdM",
        "colab_type": "text"
      },
      "source": [
        "calculating exit time"
      ]
    },
    {
      "cell_type": "code",
      "metadata": {
        "id": "3oU3lpPnImYW",
        "colab_type": "code",
        "colab": {}
      },
      "source": [
        "df = df1.select('user_name','DateTime')\\\n",
        ".withColumn(\"Date\",to_timestamp('DateTime','yyyy-MM-dd HH:mm:ss'))\\\n",
        ".withColumnRenamed('user_name',\"user\")\\\n",
        ".withColumn('exitTime',col('Date'))\\\n",
        ".sort(col(\"exitTime\").desc())\\\n",
        ".drop_duplicates(['user'])\\\n",
        ".drop('DateTime','Date')"
      ],
      "execution_count": 124,
      "outputs": []
    },
    {
      "cell_type": "code",
      "metadata": {
        "id": "fwJoBqFqJ1lT",
        "colab_type": "code",
        "colab": {
          "base_uri": "https://localhost:8080/",
          "height": 336
        },
        "outputId": "a8cf8c50-5f6d-44b4-992d-ad62f4980841"
      },
      "source": [
        "df.show()"
      ],
      "execution_count": 125,
      "outputs": [
        {
          "output_type": "stream",
          "text": [
            "+--------------------+-------------------+\n",
            "|                user|           exitTime|\n",
            "+--------------------+-------------------+\n",
            "|ashutoshrit64@gma...|2019-10-13 16:25:01|\n",
            "| grmule018@gmail.com|2019-10-13 17:05:02|\n",
            "|  shelkeva@gmail.com|2019-10-13 17:00:01|\n",
            "|tekina.makin@gmai...|2019-10-13 17:10:01|\n",
            "|antonyalexcm@gmai...|2019-10-13 12:50:02|\n",
            "|vijaykumarbhavanu...|2019-10-13 11:05:01|\n",
            "|polelaxman001@gma...|2019-10-13 14:35:11|\n",
            "|  iamnzm@outlook.com|2019-10-13 17:00:02|\n",
            "|     you@example.com|2019-10-13 17:00:02|\n",
            "|vishnu23kumar@gma...|2019-10-13 17:05:01|\n",
            "|kalyani24deobhank...|2019-10-13 16:25:01|\n",
            "|prathameshsalap@g...|2019-10-13 15:35:01|\n",
            "|priyankagandhi250...|2019-10-13 17:05:01|\n",
            "+--------------------+-------------------+\n",
            "\n"
          ],
          "name": "stdout"
        }
      ]
    },
    {
      "cell_type": "markdown",
      "metadata": {
        "id": "n0wy8vJJKOAQ",
        "colab_type": "text"
      },
      "source": [
        "joining entry and exit time"
      ]
    },
    {
      "cell_type": "code",
      "metadata": {
        "id": "yfOiiEPgKS0M",
        "colab_type": "code",
        "colab": {}
      },
      "source": [
        "entryTimeDF =df1.select('user_name','DateTime')\\\n",
        ".withColumn(\"Date\",to_timestamp('DateTime','yyyy-MM-dd HH:mm:ss'))\\\n",
        ".withColumnRenamed('user_name',\"user\")\\\n",
        ".withColumn('entryTime',col('Date'))\\\n",
        ".orderBy('entryTime')\\\n",
        ".drop_duplicates(['user'])\\\n",
        ".drop('DateTime','Date')\\\n",
        ".orderBy('entryTime')\n",
        "\n",
        "exitTimeDF = df1.select('user_name','DateTime')\\\n",
        ".withColumn(\"Date\",to_timestamp('DateTime','yyyy-MM-dd HH:mm:ss'))\\\n",
        ".withColumnRenamed('user_name',\"user\")\\\n",
        ".withColumn('exitTime',col('Date'))\\\n",
        ".sort(col(\"exitTime\").desc())\\\n",
        ".drop_duplicates(['user'])\\\n",
        ".drop('DateTime','Date')"
      ],
      "execution_count": 129,
      "outputs": []
    },
    {
      "cell_type": "code",
      "metadata": {
        "id": "b7nxEfohK2Dt",
        "colab_type": "code",
        "colab": {
          "base_uri": "https://localhost:8080/",
          "height": 336
        },
        "outputId": "cb3e5d3e-7724-4bd2-d748-0a36d9e9c8f4"
      },
      "source": [
        "df = entryTimeDF.join(exitTimeDF, on=['user'], how='inner')\n",
        "df.show()"
      ],
      "execution_count": 130,
      "outputs": [
        {
          "output_type": "stream",
          "text": [
            "+--------------------+-------------------+-------------------+\n",
            "|                user|          entryTime|           exitTime|\n",
            "+--------------------+-------------------+-------------------+\n",
            "|polelaxman001@gma...|2019-10-13 10:20:01|2019-10-13 14:35:11|\n",
            "|     you@example.com|2019-10-13 10:20:01|2019-10-13 17:00:02|\n",
            "|  iamnzm@outlook.com|2019-10-13 10:20:02|2019-10-13 17:00:02|\n",
            "|  shelkeva@gmail.com|2019-10-13 10:25:01|2019-10-13 17:00:01|\n",
            "|prathameshsalap@g...|2019-10-13 10:30:02|2019-10-13 15:35:01|\n",
            "|vijaykumarbhavanu...|2019-10-13 10:55:01|2019-10-13 11:05:01|\n",
            "| grmule018@gmail.com|2019-10-13 11:00:02|2019-10-13 17:05:02|\n",
            "|kalyani24deobhank...|2019-10-13 11:20:01|2019-10-13 16:25:01|\n",
            "|vishnu23kumar@gma...|2019-10-13 11:20:02|2019-10-13 17:05:01|\n",
            "|antonyalexcm@gmai...|2019-10-13 12:10:01|2019-10-13 12:50:02|\n",
            "|ashutoshrit64@gma...|2019-10-13 12:25:01|2019-10-13 16:25:01|\n",
            "|tekina.makin@gmai...|2019-10-13 12:35:01|2019-10-13 17:10:01|\n",
            "|priyankagandhi250...|2019-10-13 12:55:01|2019-10-13 17:05:01|\n",
            "+--------------------+-------------------+-------------------+\n",
            "\n"
          ],
          "name": "stdout"
        }
      ]
    },
    {
      "cell_type": "markdown",
      "metadata": {
        "id": "dFQEEf6WLVE7",
        "colab_type": "text"
      },
      "source": [
        "calculating total work time"
      ]
    },
    {
      "cell_type": "code",
      "metadata": {
        "id": "KlL0lF2-LZPL",
        "colab_type": "code",
        "colab": {
          "base_uri": "https://localhost:8080/",
          "height": 336
        },
        "outputId": "846897ad-1348-4183-94d2-3adb050ce38d"
      },
      "source": [
        "df.withColumn(\"inOfficeTime\", hour(col('exitTime')).cast('Integer')*60+minute(col('exitTime')).cast('Integer') - hour(col('entryTime')).cast('Integer')*60+minute(col('entryTime')).cast('Integer') )\\\n",
        ".show()"
      ],
      "execution_count": 134,
      "outputs": [
        {
          "output_type": "stream",
          "text": [
            "+--------------------+-------------------+-------------------+------------+\n",
            "|                user|          entryTime|           exitTime|inOfficeTime|\n",
            "+--------------------+-------------------+-------------------+------------+\n",
            "|polelaxman001@gma...|2019-10-13 10:20:01|2019-10-13 14:35:11|         295|\n",
            "|     you@example.com|2019-10-13 10:20:01|2019-10-13 17:00:02|         440|\n",
            "|  iamnzm@outlook.com|2019-10-13 10:20:02|2019-10-13 17:00:02|         440|\n",
            "|  shelkeva@gmail.com|2019-10-13 10:25:01|2019-10-13 17:00:01|         445|\n",
            "|prathameshsalap@g...|2019-10-13 10:30:02|2019-10-13 15:35:01|         365|\n",
            "|vijaykumarbhavanu...|2019-10-13 10:55:01|2019-10-13 11:05:01|         120|\n",
            "| grmule018@gmail.com|2019-10-13 11:00:02|2019-10-13 17:05:02|         365|\n",
            "|kalyani24deobhank...|2019-10-13 11:20:01|2019-10-13 16:25:01|         345|\n",
            "|vishnu23kumar@gma...|2019-10-13 11:20:02|2019-10-13 17:05:01|         385|\n",
            "|antonyalexcm@gmai...|2019-10-13 12:10:01|2019-10-13 12:50:02|          60|\n",
            "|ashutoshrit64@gma...|2019-10-13 12:25:01|2019-10-13 16:25:01|         290|\n",
            "|tekina.makin@gmai...|2019-10-13 12:35:01|2019-10-13 17:10:01|         345|\n",
            "|priyankagandhi250...|2019-10-13 12:55:01|2019-10-13 17:05:01|         360|\n",
            "+--------------------+-------------------+-------------------+------------+\n",
            "\n"
          ],
          "name": "stdout"
        }
      ]
    },
    {
      "cell_type": "code",
      "metadata": {
        "id": "dM1p5lhuNN72",
        "colab_type": "code",
        "colab": {}
      },
      "source": [
        "def getInOfficeTime(df):\n",
        "  entryTimeDF =df.select('user_name','DateTime')\\\n",
        "  .withColumn(\"Date\",to_timestamp('DateTime','yyyy-MM-dd HH:mm:ss'))\\\n",
        "  .withColumnRenamed('user_name',\"user\")\\\n",
        "  .withColumn('entryTime',col('Date'))\\\n",
        "  .orderBy('entryTime')\\\n",
        "  .drop_duplicates(['user'])\\\n",
        "  .drop('DateTime','Date')\\\n",
        "  .orderBy('entryTime')\n",
        "\n",
        "  exitTimeDF = df.select('user_name','DateTime')\\\n",
        "  .withColumn(\"Date\",to_timestamp('DateTime','yyyy-MM-dd HH:mm:ss'))\\\n",
        "  .withColumnRenamed('user_name',\"user\")\\\n",
        "  .withColumn('exitTime',col('Date'))\\\n",
        "  .sort(col(\"exitTime\").desc())\\\n",
        "  .drop_duplicates(['user'])\\\n",
        "  .drop('DateTime','Date')\n",
        "\n",
        "  df = entryTimeDF.join(exitTimeDF, on=['user'], how='inner')\n",
        "\n",
        "  return df.withColumn(\"inOfficeTime\", hour(col('exitTime')).cast('Integer')*60+minute(col('exitTime')).cast('Integer') - hour(col('entryTime')).cast('Integer')*60+minute(col('entryTime')).cast('Integer') )\n"
      ],
      "execution_count": 136,
      "outputs": []
    },
    {
      "cell_type": "code",
      "metadata": {
        "id": "t9WHCSwxNXzh",
        "colab_type": "code",
        "colab": {
          "base_uri": "https://localhost:8080/",
          "height": 941
        },
        "outputId": "0775f5ad-1ee7-4ced-d7f2-b131b4735cad"
      },
      "source": [
        "newdf = getInOfficeTime(df3)\n",
        "newdf2 =getIdleTime(df3)"
      ],
      "execution_count": 149,
      "outputs": [
        {
          "output_type": "stream",
          "text": [
            "+--------------------+-------------------+-------------------+------------+\n",
            "|                user|          entryTime|           exitTime|inOfficeTime|\n",
            "+--------------------+-------------------+-------------------+------------+\n",
            "| addyp1911@gmail.com|2019-10-15 11:45:01|2019-10-15 19:40:02|         565|\n",
            "|adikumar2514@gmai...|2019-10-15 09:20:01|2019-10-15 19:20:02|         640|\n",
            "|aheteshams007@gma...|2019-10-15 09:30:01|2019-10-15 19:40:01|         670|\n",
            "|akshay.skawde@gma...|2019-10-15 10:25:01|2019-10-15 19:00:01|         565|\n",
            "|antonyalexcm@gmai...|2019-10-15 09:45:01|2019-10-15 19:35:01|         680|\n",
            "|ashutoshrit64@gma...|2019-10-15 09:55:01|2019-10-15 19:30:01|         685|\n",
            "|bhagyashrichalke2...|2019-10-15 10:05:01|2019-10-15 19:35:01|         580|\n",
            "|damodharn21@gmail...|2019-10-15 12:00:01|2019-10-15 19:40:01|         460|\n",
            "| dileep.bs@yahoo.com|2019-10-15 09:20:01|2019-10-15 19:30:01|         650|\n",
            "|durganath123@outl...|2019-10-15 09:20:01|2019-10-15 19:40:01|         660|\n",
            "|er.mukulvij96@gma...|2019-10-15 10:00:02|2019-10-15 19:20:01|         560|\n",
            "|farooqbassam4@gma...|2019-10-15 10:50:01|2019-10-15 19:35:01|         625|\n",
            "|gaikwadr576@gmail...|2019-10-15 09:35:01|2019-10-15 11:25:02|         180|\n",
            "|giridhardandikwar...|2019-10-15 09:20:01|2019-10-15 19:35:01|         655|\n",
            "| grmule018@gmail.com|2019-10-15 10:55:01|2019-10-15 19:25:02|         620|\n",
            "|hakepratiksha55@g...|2019-10-15 10:20:01|2019-10-15 19:30:01|         590|\n",
            "|  iamnzm@outlook.com|2019-10-15 09:55:01|2019-10-15 19:40:02|         695|\n",
            "|indrajeetgajbhiye...|2019-10-15 09:00:01|2019-10-15 19:15:01|         615|\n",
            "| ingle0608@gmail.com|2019-10-15 09:00:01|2019-10-15 19:35:01|         635|\n",
            "|inglepriya95@gmai...|2019-10-15 10:50:01|2019-10-15 19:40:01|         630|\n",
            "+--------------------+-------------------+-------------------+------------+\n",
            "only showing top 20 rows\n",
            "\n",
            "+--------------------+--------+\n",
            "|                User|IdleTime|\n",
            "+--------------------+--------+\n",
            "|Krushnanikam26@gm...|     325|\n",
            "| addyp1911@gmail.com|     110|\n",
            "|adikumar2514@gmai...|     235|\n",
            "|aheteshams007@gma...|      70|\n",
            "|akshay.skawde@gma...|      50|\n",
            "|er.mukulvij96@gma...|      40|\n",
            "|farooqbassam4@gma...|     550|\n",
            "|gaikwadr576@gmail...|     175|\n",
            "|giridhardandikwar...|     100|\n",
            "| grmule018@gmail.com|      90|\n",
            "|hakepratiksha55@g...|      95|\n",
            "|  iamnzm@outlook.com|      80|\n",
            "|kaleshwetaanil@gm...|     120|\n",
            "|kalyani24deobhank...|     200|\n",
            "|mishrasushil889@g...|     110|\n",
            "|naineshpatil11@gm...|      85|\n",
            "|nehapalekar026@gm...|     465|\n",
            "|polelaxman001@gma...|     100|\n",
            "|pramodmane58@gmai...|     570|\n",
            "|prathameshsalap@g...|     125|\n",
            "+--------------------+--------+\n",
            "only showing top 20 rows\n",
            "\n"
          ],
          "name": "stdout"
        }
      ]
    },
    {
      "cell_type": "code",
      "metadata": {
        "id": "NQ33c9ikP9YY",
        "colab_type": "code",
        "colab": {
          "base_uri": "https://localhost:8080/",
          "height": 478
        },
        "outputId": "db77bc6f-39b7-4beb-c52a-45f6439184fa"
      },
      "source": [
        "newdf.join(newdf2, on=['user'], how='outer').show()"
      ],
      "execution_count": 151,
      "outputs": [
        {
          "output_type": "stream",
          "text": [
            "+--------------------+-------------------+-------------------+------------+--------+\n",
            "|                user|          entryTime|           exitTime|inOfficeTime|IdleTime|\n",
            "+--------------------+-------------------+-------------------+------------+--------+\n",
            "|ashutoshrit64@gma...|2019-10-15 09:55:01|2019-10-15 19:30:01|         685|    null|\n",
            "|giridhardandikwar...|2019-10-15 09:20:01|2019-10-15 19:35:01|         655|     100|\n",
            "|       nikitapawar17|2019-10-15 09:25:02|2019-10-15 19:30:02|         655|    null|\n",
            "|umangsontakke70@g...|2019-10-15 09:25:01|2019-10-15 19:35:01|         660|      55|\n",
            "|indrajeetgajbhiye...|2019-10-15 09:00:01|2019-10-15 19:15:01|         615|    null|\n",
            "|khairnarswapna99@...|2019-10-15 14:10:01|2019-10-15 19:40:01|         350|    null|\n",
            "|Krushnanikam26@gm...|               null|               null|        null|     325|\n",
            "|gaikwadr576@gmail...|2019-10-15 09:35:01|2019-10-15 11:25:02|         180|     175|\n",
            "|adikumar2514@gmai...|2019-10-15 09:20:01|2019-10-15 19:20:02|         640|     235|\n",
            "| dileep.bs@yahoo.com|2019-10-15 09:20:01|2019-10-15 19:30:01|         650|    null|\n",
            "|puruissimple@gmai...|2019-10-15 09:05:02|2019-10-15 19:25:01|         630|     155|\n",
            "|nehapalekar026@gm...|2019-10-15 12:10:01|2019-10-15 20:10:01|         500|     465|\n",
            "|er.mukulvij96@gma...|2019-10-15 10:00:02|2019-10-15 19:20:01|         560|      40|\n",
            "|surajwarbhuvan192...|2019-10-15 10:55:02|2019-10-15 19:25:02|         620|    null|\n",
            "|hakepratiksha55@g...|2019-10-15 10:20:01|2019-10-15 19:30:01|         590|      95|\n",
            "| grmule018@gmail.com|2019-10-15 10:55:01|2019-10-15 19:25:02|         620|      90|\n",
            "|vidyaramesh1428@g...|               null|               null|        null|      70|\n",
            "|  shelkeva@gmail.com|2019-10-15 09:15:01|2019-10-15 19:30:02|         645|      50|\n",
            "|tekina.makin@gmai...|2019-10-15 10:05:01|2019-10-15 19:30:02|         575|     220|\n",
            "|sushantpatwari123...|2019-10-15 09:10:01|2019-10-15 19:15:02|         625|     570|\n",
            "+--------------------+-------------------+-------------------+------------+--------+\n",
            "only showing top 20 rows\n",
            "\n"
          ],
          "name": "stdout"
        }
      ]
    }
  ]
}