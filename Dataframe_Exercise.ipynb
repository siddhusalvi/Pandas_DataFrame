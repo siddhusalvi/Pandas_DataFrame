{
  "nbformat": 4,
  "nbformat_minor": 0,
  "metadata": {
    "colab": {
      "name": "Dataframe Exercise.ipynb",
      "provenance": [],
      "collapsed_sections": [],
      "authorship_tag": "ABX9TyPWxVQo0ArHrmr1QXAYItCv",
      "include_colab_link": true
    },
    "kernelspec": {
      "name": "python3",
      "display_name": "Python 3"
    }
  },
  "cells": [
    {
      "cell_type": "markdown",
      "metadata": {
        "id": "view-in-github",
        "colab_type": "text"
      },
      "source": [
        "<a href=\"https://colab.research.google.com/github/siddhusalvi/Pandas_DataFrame/blob/master/Dataframe_Exercise.ipynb\" target=\"_parent\"><img src=\"https://colab.research.google.com/assets/colab-badge.svg\" alt=\"Open In Colab\"/></a>"
      ]
    },
    {
      "cell_type": "code",
      "metadata": {
        "id": "qdknV7_2NtyR",
        "colab_type": "code",
        "colab": {
          "base_uri": "https://localhost:8080/",
          "height": 624
        },
        "outputId": "c3c937a3-3303-4a6a-a3c7-e8b4953455f1"
      },
      "source": [
        "!apt-get update\n",
        "!apt-get install openjdk-8-jdk-headless -qq > /dev/null\n",
        "!wget -q http://archive.apache.org/dist/spark/spark-2.3.1/spark-2.3.1-bin-hadoop2.7.tgz\n",
        "!tar xf spark-2.3.1-bin-hadoop2.7.tgz\n",
        "!pip install -q findspark\n",
        "import os\n",
        "os.environ[\"JAVA_HOME\"] = \"/usr/lib/jvm/java-8-openjdk-amd64\"\n",
        "os.environ[\"SPARK_HOME\"] = \"/content/spark-2.3.1-bin-hadoop2.7\"\n",
        "import findspark\n",
        "findspark.init()\n",
        "import pyspark\n",
        "from pyspark.sql import SparkSession\n",
        "spark = SparkSession.builder.getOrCreate() \n",
        "spark"
      ],
      "execution_count": 1,
      "outputs": [
        {
          "output_type": "stream",
          "text": [
            "\r0% [Working]\r            \rIgn:1 https://developer.download.nvidia.com/compute/cuda/repos/ubuntu1804/x86_64  InRelease\n",
            "\r0% [Waiting for headers] [Waiting for headers] [Connecting to cloud.r-project.o\r                                                                               \rGet:2 http://security.ubuntu.com/ubuntu bionic-security InRelease [88.7 kB]\n",
            "\r                                                                               \rHit:3 http://ppa.launchpad.net/graphics-drivers/ppa/ubuntu bionic InRelease\n",
            "\r0% [Waiting for headers] [2 InRelease 14.2 kB/88.7 kB 16%] [Connecting to cloud\r                                                                               \rHit:4 http://archive.ubuntu.com/ubuntu bionic InRelease\n",
            "\r0% [Waiting for headers] [2 InRelease 14.2 kB/88.7 kB 16%] [Connecting to cloud\r0% [3 InRelease gpgv 21.3 kB] [Waiting for headers] [2 InRelease 14.2 kB/88.7 k\r                                                                               \rIgn:5 https://developer.download.nvidia.com/compute/machine-learning/repos/ubuntu1804/x86_64  InRelease\n",
            "\r0% [3 InRelease gpgv 21.3 kB] [Waiting for headers] [2 InRelease 14.2 kB/88.7 k\r                                                                               \rGet:6 https://developer.download.nvidia.com/compute/cuda/repos/ubuntu1804/x86_64  Release [697 B]\n",
            "\r0% [3 InRelease gpgv 21.3 kB] [Waiting for headers] [2 InRelease 14.2 kB/88.7 k\r0% [3 InRelease gpgv 21.3 kB] [Waiting for headers] [2 InRelease 14.2 kB/88.7 k\r                                                                               \rHit:7 https://developer.download.nvidia.com/compute/machine-learning/repos/ubuntu1804/x86_64  Release\n",
            "\r0% [3 InRelease gpgv 21.3 kB] [Waiting for headers] [2 InRelease 28.7 kB/88.7 k\r                                                                               \rGet:8 https://developer.download.nvidia.com/compute/cuda/repos/ubuntu1804/x86_64  Release.gpg [836 B]\n",
            "\r0% [3 InRelease gpgv 21.3 kB] [Waiting for headers] [2 InRelease 37.3 kB/88.7 k\r                                                                               \rGet:9 http://archive.ubuntu.com/ubuntu bionic-updates InRelease [88.7 kB]\n",
            "\r0% [3 InRelease gpgv 21.3 kB] [9 InRelease 14.2 kB/88.7 kB 16%] [2 InRelease 40\r                                                                               \rGet:10 http://ppa.launchpad.net/marutter/c2d4u3.5/ubuntu bionic InRelease [15.4 kB]\n",
            "\r0% [3 InRelease gpgv 21.3 kB] [9 InRelease 15.6 kB/88.7 kB 18%] [2 InRelease 46\r0% [3 InRelease gpgv 21.3 kB] [9 InRelease 15.6 kB/88.7 kB 18%] [2 InRelease 48\r                                                                               \rGet:11 https://cloud.r-project.org/bin/linux/ubuntu bionic-cran35/ InRelease [3,626 B]\n",
            "\r0% [3 InRelease gpgv 21.3 kB] [9 InRelease 47.5 kB/88.7 kB 54%] [2 InRelease 66\r0% [3 InRelease gpgv 21.3 kB] [9 InRelease 47.5 kB/88.7 kB 54%] [2 InRelease 69\r                                                                               \r0% [3 InRelease gpgv 21.3 kB] [9 InRelease 47.5 kB/88.7 kB 54%]\r                                                               \r0% [3 InRelease gpgv 21.3 kB]\r                             \r0% [Waiting for headers]\r0% [4 InRelease gpgv 242 kB] [Waiting for headers]\r                                                  \rGet:12 http://archive.ubuntu.com/ubuntu bionic-backports InRelease [74.6 kB]\n",
            "\r0% [4 InRelease gpgv 242 kB] [12 InRelease 2,604 B/74.6 kB 3%]\r                                                              \r0% [4 InRelease gpgv 242 kB]\r                            \r0% [Working]\r0% [Release.gpg gpgv 564 B]\r                           \r0% [Working]\r0% [8 Release.gpg gpgv 697 B]\r                             \r0% [Working]\r0% [10 InRelease gpgv 15.4 kB] [Waiting for headers]\r                                                    \rIgn:14 https://developer.download.nvidia.com/compute/cuda/repos/ubuntu1804/x86_64  Packages\n",
            "\r                                                    \r0% [10 InRelease gpgv 15.4 kB]\r                              \rGet:14 https://developer.download.nvidia.com/compute/cuda/repos/ubuntu1804/x86_64  Packages [255 kB]\n",
            "Get:15 http://ppa.launchpad.net/marutter/c2d4u3.5/ubuntu bionic/main Sources [1,856 kB]\n",
            "Get:16 http://security.ubuntu.com/ubuntu bionic-security/universe amd64 Packages [882 kB]\n",
            "Get:17 http://archive.ubuntu.com/ubuntu bionic-updates/restricted amd64 Packages [116 kB]\n",
            "Get:18 http://archive.ubuntu.com/ubuntu bionic-updates/multiverse amd64 Packages [27.1 kB]\n",
            "Get:19 http://archive.ubuntu.com/ubuntu bionic-updates/main amd64 Packages [1,334 kB]\n",
            "Get:20 http://security.ubuntu.com/ubuntu bionic-security/main amd64 Packages [1,037 kB]\n",
            "Get:21 http://ppa.launchpad.net/marutter/c2d4u3.5/ubuntu bionic/main amd64 Packages [895 kB]\n",
            "Get:22 http://archive.ubuntu.com/ubuntu bionic-updates/universe amd64 Packages [1,413 kB]\n",
            "Fetched 8,088 kB in 3s (2,529 kB/s)\n",
            "Reading package lists... Done\n"
          ],
          "name": "stdout"
        },
        {
          "output_type": "execute_result",
          "data": {
            "text/html": [
              "\n",
              "            <div>\n",
              "                <p><b>SparkSession - in-memory</b></p>\n",
              "                \n",
              "        <div>\n",
              "            <p><b>SparkContext</b></p>\n",
              "\n",
              "            <p><a href=\"http://156d1020a903:4040\">Spark UI</a></p>\n",
              "\n",
              "            <dl>\n",
              "              <dt>Version</dt>\n",
              "                <dd><code>v2.3.1</code></dd>\n",
              "              <dt>Master</dt>\n",
              "                <dd><code>local[*]</code></dd>\n",
              "              <dt>AppName</dt>\n",
              "                <dd><code>pyspark-shell</code></dd>\n",
              "            </dl>\n",
              "        </div>\n",
              "        \n",
              "            </div>\n",
              "        "
            ],
            "text/plain": [
              "<pyspark.sql.session.SparkSession at 0x7f7305bbeac8>"
            ]
          },
          "metadata": {
            "tags": []
          },
          "execution_count": 1
        }
      ]
    },
    {
      "cell_type": "code",
      "metadata": {
        "id": "IQreZrNOYxrn",
        "colab_type": "code",
        "colab": {}
      },
      "source": [
        "from pyspark.context import SparkContext\n",
        "from pyspark.sql.session import SparkSession\n",
        "from pyspark.sql.functions import *"
      ],
      "execution_count": 2,
      "outputs": []
    },
    {
      "cell_type": "code",
      "metadata": {
        "id": "n9gwWc0KY6H_",
        "colab_type": "code",
        "colab": {}
      },
      "source": [
        "df = spark.read.format(\"csv\").option(\"header\",\"true\").load(\"day1.csv\")"
      ],
      "execution_count": 3,
      "outputs": []
    },
    {
      "cell_type": "code",
      "metadata": {
        "id": "ReHQM4KZY_ol",
        "colab_type": "code",
        "colab": {
          "base_uri": "https://localhost:8080/",
          "height": 816
        },
        "outputId": "ee798a3f-2ccf-442f-ae69-dfe993afab96"
      },
      "source": [
        "df.printSchema()"
      ],
      "execution_count": 4,
      "outputs": [
        {
          "output_type": "stream",
          "text": [
            "root\n",
            " |-- DateTime: string (nullable = true)\n",
            " |-- Cpu Count: string (nullable = true)\n",
            " |-- Cpu Working Time: string (nullable = true)\n",
            " |-- Cpu idle Time: string (nullable = true)\n",
            " |-- cpu_percent: string (nullable = true)\n",
            " |-- Usage Cpu Count : string (nullable = true)\n",
            " |-- number of software interrupts since boot: string (nullable = true)\n",
            " |-- number of system calls since boot: string (nullable = true)\n",
            " |-- number of interrupts since boot: string (nullable = true)\n",
            " |-- cpu avg load over 1 min: string (nullable = true)\n",
            " |-- cpu avg load over 5 min: string (nullable = true)\n",
            " |-- cpu avg load over 15 min: string (nullable = true)\n",
            " |-- system_total_memory: string (nullable = true)\n",
            " |-- system_used_memory: string (nullable = true)\n",
            " |-- system_free_memory: string (nullable = true)\n",
            " |-- system_active_memory: string (nullable = true)\n",
            " |-- system_inactive_memory: string (nullable = true)\n",
            " |-- system_buffers_memory: string (nullable = true)\n",
            " |-- system_cached_memory: string (nullable = true)\n",
            " |-- system_shared_memory: string (nullable = true)\n",
            " |-- system_avalible_memory: string (nullable = true)\n",
            " |-- disk_total_memory: string (nullable = true)\n",
            " |-- disk_used_memory: string (nullable = true)\n",
            " |-- disk_free_memory: string (nullable = true)\n",
            " |-- disk_read_count: string (nullable = true)\n",
            " |-- disk_write_count: string (nullable = true)\n",
            " |-- disk_read_bytes: string (nullable = true)\n",
            " |-- disk_write_bytes: string (nullable = true)\n",
            " |-- time spent reading from disk: string (nullable = true)\n",
            " |-- time spent writing to disk: string (nullable = true)\n",
            " |-- time spent doing actual I/Os: string (nullable = true)\n",
            " |-- number of bytes sent: string (nullable = true)\n",
            " |-- number of bytes received: string (nullable = true)\n",
            " |-- number of packets sent: string (nullable = true)\n",
            " |-- number of packets recived: string (nullable = true)\n",
            " |-- total number of errors while receiving: string (nullable = true)\n",
            " |-- total number of errors while sending: string (nullable = true)\n",
            " |-- total number of incoming packets which were dropped: string (nullable = true)\n",
            " |-- total number of outgoing packets which were dropped: string (nullable = true)\n",
            " |-- boot_time: string (nullable = true)\n",
            " |-- user_name: string (nullable = true)\n",
            " |-- keyboard: string (nullable = true)\n",
            " |-- mouse: string (nullable = true)\n",
            " |-- technology: string (nullable = true)\n",
            " |-- files_changed: string (nullable = true)\n",
            "\n"
          ],
          "name": "stdout"
        }
      ]
    },
    {
      "cell_type": "code",
      "metadata": {
        "id": "d2JNKW7pZCC2",
        "colab_type": "code",
        "colab": {}
      },
      "source": [
        "dataDF = df.select('user_name','DateTime','keyboard','mouse')"
      ],
      "execution_count": 5,
      "outputs": []
    },
    {
      "cell_type": "code",
      "metadata": {
        "id": "wqeSyXkoZEBw",
        "colab_type": "code",
        "colab": {}
      },
      "source": [
        "tempDF = dataDF.withColumn(\"Date\",to_timestamp('DateTime','yyyy-MM-dd HH:mm:ss'))"
      ],
      "execution_count": 6,
      "outputs": []
    },
    {
      "cell_type": "code",
      "metadata": {
        "id": "64FKSzVcZTfr",
        "colab_type": "code",
        "colab": {
          "base_uri": "https://localhost:8080/",
          "height": 459
        },
        "outputId": "bdf18e27-e91f-43f3-e9bd-75a37509d899"
      },
      "source": [
        "tempDF.show()"
      ],
      "execution_count": 7,
      "outputs": [
        {
          "output_type": "stream",
          "text": [
            "+--------------------+-------------------+--------+------+-------------------+\n",
            "|           user_name|           DateTime|keyboard| mouse|               Date|\n",
            "+--------------------+-------------------+--------+------+-------------------+\n",
            "|  iamnzm@outlook.com|2019-10-13 10:20:02|  1312.0| 214.0|2019-10-13 10:20:02|\n",
            "|  shelkeva@gmail.com|2019-10-13 10:25:01|    55.0|  15.0|2019-10-13 10:25:01|\n",
            "|  iamnzm@outlook.com|2019-10-13 10:25:02|   207.0| 134.0|2019-10-13 10:25:02|\n",
            "|     you@example.com|2019-10-13 10:30:01|   222.0|1709.0|2019-10-13 10:30:01|\n",
            "|  shelkeva@gmail.com|2019-10-13 10:30:01|     0.0|   0.0|2019-10-13 10:30:01|\n",
            "|prathameshsalap@g...|2019-10-13 10:30:02|     0.0|  53.0|2019-10-13 10:30:02|\n",
            "|     you@example.com|2019-10-13 10:20:01|    34.5|   0.0|2019-10-13 10:20:01|\n",
            "|     you@example.com|2019-10-13 10:25:01|    35.0| 951.0|2019-10-13 10:25:01|\n",
            "|     you@example.com|2019-10-13 10:35:01|    89.0| 303.0|2019-10-13 10:35:01|\n",
            "|  shelkeva@gmail.com|2019-10-13 10:35:01|     0.0|   0.0|2019-10-13 10:35:01|\n",
            "|prathameshsalap@g...|2019-10-13 10:35:01|   152.0| 129.0|2019-10-13 10:35:01|\n",
            "|  iamnzm@outlook.com|2019-10-13 10:35:01|   909.5|   8.0|2019-10-13 10:35:01|\n",
            "|     you@example.com|2019-10-13 10:40:02|   263.0| 295.0|2019-10-13 10:40:02|\n",
            "|  shelkeva@gmail.com|2019-10-13 10:40:02|     0.0|   0.0|2019-10-13 10:40:02|\n",
            "|prathameshsalap@g...|2019-10-13 10:40:01|   201.0| 115.0|2019-10-13 10:40:01|\n",
            "|  iamnzm@outlook.com|2019-10-13 10:40:01|   289.5| 122.0|2019-10-13 10:40:01|\n",
            "|     you@example.com|2019-10-13 10:45:02|    27.0|  70.0|2019-10-13 10:45:02|\n",
            "|  shelkeva@gmail.com|2019-10-13 10:45:01|    12.0| 179.0|2019-10-13 10:45:01|\n",
            "|prathameshsalap@g...|2019-10-13 10:45:01|    37.0| 450.0|2019-10-13 10:45:01|\n",
            "|  iamnzm@outlook.com|2019-10-13 10:45:01|   389.5|  16.0|2019-10-13 10:45:01|\n",
            "+--------------------+-------------------+--------+------+-------------------+\n",
            "only showing top 20 rows\n",
            "\n"
          ],
          "name": "stdout"
        }
      ]
    },
    {
      "cell_type": "code",
      "metadata": {
        "id": "REjMh4I9ZGCG",
        "colab_type": "code",
        "colab": {}
      },
      "source": [
        "dataDF =tempDF.withColumnRenamed('user_name',\"user\")\\\n",
        ".withColumnRenamed('Date','date')\\\n",
        ".drop('DateTime')"
      ],
      "execution_count": 8,
      "outputs": []
    },
    {
      "cell_type": "code",
      "metadata": {
        "id": "MIUO3AyXaOOs",
        "colab_type": "code",
        "colab": {
          "base_uri": "https://localhost:8080/",
          "height": 459
        },
        "outputId": "e84fc18e-9225-4af0-ad87-c36d681574dd"
      },
      "source": [
        "dataDF.show()"
      ],
      "execution_count": 9,
      "outputs": [
        {
          "output_type": "stream",
          "text": [
            "+--------------------+--------+------+-------------------+\n",
            "|                user|keyboard| mouse|               date|\n",
            "+--------------------+--------+------+-------------------+\n",
            "|  iamnzm@outlook.com|  1312.0| 214.0|2019-10-13 10:20:02|\n",
            "|  shelkeva@gmail.com|    55.0|  15.0|2019-10-13 10:25:01|\n",
            "|  iamnzm@outlook.com|   207.0| 134.0|2019-10-13 10:25:02|\n",
            "|     you@example.com|   222.0|1709.0|2019-10-13 10:30:01|\n",
            "|  shelkeva@gmail.com|     0.0|   0.0|2019-10-13 10:30:01|\n",
            "|prathameshsalap@g...|     0.0|  53.0|2019-10-13 10:30:02|\n",
            "|     you@example.com|    34.5|   0.0|2019-10-13 10:20:01|\n",
            "|     you@example.com|    35.0| 951.0|2019-10-13 10:25:01|\n",
            "|     you@example.com|    89.0| 303.0|2019-10-13 10:35:01|\n",
            "|  shelkeva@gmail.com|     0.0|   0.0|2019-10-13 10:35:01|\n",
            "|prathameshsalap@g...|   152.0| 129.0|2019-10-13 10:35:01|\n",
            "|  iamnzm@outlook.com|   909.5|   8.0|2019-10-13 10:35:01|\n",
            "|     you@example.com|   263.0| 295.0|2019-10-13 10:40:02|\n",
            "|  shelkeva@gmail.com|     0.0|   0.0|2019-10-13 10:40:02|\n",
            "|prathameshsalap@g...|   201.0| 115.0|2019-10-13 10:40:01|\n",
            "|  iamnzm@outlook.com|   289.5| 122.0|2019-10-13 10:40:01|\n",
            "|     you@example.com|    27.0|  70.0|2019-10-13 10:45:02|\n",
            "|  shelkeva@gmail.com|    12.0| 179.0|2019-10-13 10:45:01|\n",
            "|prathameshsalap@g...|    37.0| 450.0|2019-10-13 10:45:01|\n",
            "|  iamnzm@outlook.com|   389.5|  16.0|2019-10-13 10:45:01|\n",
            "+--------------------+--------+------+-------------------+\n",
            "only showing top 20 rows\n",
            "\n"
          ],
          "name": "stdout"
        }
      ]
    },
    {
      "cell_type": "code",
      "metadata": {
        "id": "owVDyMZ1aSTt",
        "colab_type": "code",
        "colab": {
          "base_uri": "https://localhost:8080/",
          "height": 459
        },
        "outputId": "739c2659-0f76-4e7f-f61e-77516c6faaaa"
      },
      "source": [
        "sortedDF = dataDF.orderBy(col('user'),col('date'))\n",
        "sortedDF.show()"
      ],
      "execution_count": 10,
      "outputs": [
        {
          "output_type": "stream",
          "text": [
            "+--------------------+--------+------+-------------------+\n",
            "|                user|keyboard| mouse|               date|\n",
            "+--------------------+--------+------+-------------------+\n",
            "|antonyalexcm@gmai...|     9.0| 260.0|2019-10-13 12:10:01|\n",
            "|antonyalexcm@gmai...|     2.0|6281.0|2019-10-13 12:15:02|\n",
            "|antonyalexcm@gmai...|    61.0|5697.0|2019-10-13 12:20:01|\n",
            "|antonyalexcm@gmai...|    40.0|3940.0|2019-10-13 12:25:01|\n",
            "|antonyalexcm@gmai...|   131.0|5472.0|2019-10-13 12:30:01|\n",
            "|antonyalexcm@gmai...|   106.0|4439.0|2019-10-13 12:35:02|\n",
            "|antonyalexcm@gmai...|    86.0|3458.0|2019-10-13 12:40:01|\n",
            "|antonyalexcm@gmai...|   235.5|5364.0|2019-10-13 12:45:01|\n",
            "|antonyalexcm@gmai...|     0.0| 318.0|2019-10-13 12:50:02|\n",
            "|ashutoshrit64@gma...|     2.0| 401.0|2019-10-13 12:25:01|\n",
            "|ashutoshrit64@gma...|    64.0| 471.0|2019-10-13 12:30:02|\n",
            "|ashutoshrit64@gma...|   188.0| 349.0|2019-10-13 12:35:02|\n",
            "|ashutoshrit64@gma...|    36.0| 436.0|2019-10-13 12:40:01|\n",
            "|ashutoshrit64@gma...|    53.0| 502.0|2019-10-13 12:45:02|\n",
            "|ashutoshrit64@gma...|    17.0| 618.0|2019-10-13 12:50:01|\n",
            "|ashutoshrit64@gma...|    34.0| 611.0|2019-10-13 12:55:01|\n",
            "|ashutoshrit64@gma...|    67.0|1274.0|2019-10-13 13:00:01|\n",
            "|ashutoshrit64@gma...|   138.0| 235.0|2019-10-13 13:05:01|\n",
            "|ashutoshrit64@gma...|   125.0| 834.0|2019-10-13 13:10:01|\n",
            "|ashutoshrit64@gma...|   264.5| 899.0|2019-10-13 13:15:01|\n",
            "+--------------------+--------+------+-------------------+\n",
            "only showing top 20 rows\n",
            "\n"
          ],
          "name": "stdout"
        }
      ]
    },
    {
      "cell_type": "code",
      "metadata": {
        "id": "Iwex3G2NcCLQ",
        "colab_type": "code",
        "colab": {}
      },
      "source": [
        "lst1 = list(sortedDF.select('user').toPandas()['user'])\n",
        "lst2 = list(sortedDF.select('user').toPandas()['user'])    "
      ],
      "execution_count": 11,
      "outputs": []
    },
    {
      "cell_type": "code",
      "metadata": {
        "id": "Kusd5LpGeCvl",
        "colab_type": "code",
        "colab": {
          "base_uri": "https://localhost:8080/",
          "height": 54
        },
        "outputId": "63404e2d-57c2-4a86-f3d7-0e3725bb0a2e"
      },
      "source": [
        "print(lst1)"
      ],
      "execution_count": 12,
      "outputs": [
        {
          "output_type": "stream",
          "text": [
            "['antonyalexcm@gmail.com', 'antonyalexcm@gmail.com', 'antonyalexcm@gmail.com', 'antonyalexcm@gmail.com', 'antonyalexcm@gmail.com', 'antonyalexcm@gmail.com', 'antonyalexcm@gmail.com', 'antonyalexcm@gmail.com', 'antonyalexcm@gmail.com', 'ashutoshrit64@gmail.com', 'ashutoshrit64@gmail.com', 'ashutoshrit64@gmail.com', 'ashutoshrit64@gmail.com', 'ashutoshrit64@gmail.com', 'ashutoshrit64@gmail.com', 'ashutoshrit64@gmail.com', 'ashutoshrit64@gmail.com', 'ashutoshrit64@gmail.com', 'ashutoshrit64@gmail.com', 'ashutoshrit64@gmail.com', 'ashutoshrit64@gmail.com', 'ashutoshrit64@gmail.com', 'ashutoshrit64@gmail.com', 'ashutoshrit64@gmail.com', 'ashutoshrit64@gmail.com', 'ashutoshrit64@gmail.com', 'ashutoshrit64@gmail.com', 'ashutoshrit64@gmail.com', 'ashutoshrit64@gmail.com', 'ashutoshrit64@gmail.com', 'ashutoshrit64@gmail.com', 'ashutoshrit64@gmail.com', 'ashutoshrit64@gmail.com', 'ashutoshrit64@gmail.com', 'ashutoshrit64@gmail.com', 'ashutoshrit64@gmail.com', 'ashutoshrit64@gmail.com', 'ashutoshrit64@gmail.com', 'ashutoshrit64@gmail.com', 'ashutoshrit64@gmail.com', 'ashutoshrit64@gmail.com', 'ashutoshrit64@gmail.com', 'ashutoshrit64@gmail.com', 'ashutoshrit64@gmail.com', 'ashutoshrit64@gmail.com', 'ashutoshrit64@gmail.com', 'ashutoshrit64@gmail.com', 'ashutoshrit64@gmail.com', 'ashutoshrit64@gmail.com', 'ashutoshrit64@gmail.com', 'ashutoshrit64@gmail.com', 'ashutoshrit64@gmail.com', 'ashutoshrit64@gmail.com', 'ashutoshrit64@gmail.com', 'ashutoshrit64@gmail.com', 'ashutoshrit64@gmail.com', 'ashutoshrit64@gmail.com', 'ashutoshrit64@gmail.com', 'grmule018@gmail.com', 'grmule018@gmail.com', 'grmule018@gmail.com', 'grmule018@gmail.com', 'grmule018@gmail.com', 'grmule018@gmail.com', 'grmule018@gmail.com', 'grmule018@gmail.com', 'grmule018@gmail.com', 'grmule018@gmail.com', 'grmule018@gmail.com', 'grmule018@gmail.com', 'grmule018@gmail.com', 'grmule018@gmail.com', 'grmule018@gmail.com', 'grmule018@gmail.com', 'grmule018@gmail.com', 'grmule018@gmail.com', 'grmule018@gmail.com', 'grmule018@gmail.com', 'grmule018@gmail.com', 'grmule018@gmail.com', 'grmule018@gmail.com', 'grmule018@gmail.com', 'grmule018@gmail.com', 'grmule018@gmail.com', 'grmule018@gmail.com', 'grmule018@gmail.com', 'grmule018@gmail.com', 'grmule018@gmail.com', 'grmule018@gmail.com', 'grmule018@gmail.com', 'grmule018@gmail.com', 'grmule018@gmail.com', 'grmule018@gmail.com', 'grmule018@gmail.com', 'grmule018@gmail.com', 'grmule018@gmail.com', 'grmule018@gmail.com', 'grmule018@gmail.com', 'grmule018@gmail.com', 'grmule018@gmail.com', 'grmule018@gmail.com', 'grmule018@gmail.com', 'grmule018@gmail.com', 'grmule018@gmail.com', 'grmule018@gmail.com', 'grmule018@gmail.com', 'grmule018@gmail.com', 'grmule018@gmail.com', 'grmule018@gmail.com', 'grmule018@gmail.com', 'grmule018@gmail.com', 'grmule018@gmail.com', 'grmule018@gmail.com', 'grmule018@gmail.com', 'grmule018@gmail.com', 'grmule018@gmail.com', 'grmule018@gmail.com', 'grmule018@gmail.com', 'grmule018@gmail.com', 'grmule018@gmail.com', 'grmule018@gmail.com', 'grmule018@gmail.com', 'grmule018@gmail.com', 'grmule018@gmail.com', 'grmule018@gmail.com', 'grmule018@gmail.com', 'grmule018@gmail.com', 'grmule018@gmail.com', 'grmule018@gmail.com', 'grmule018@gmail.com', 'grmule018@gmail.com', 'grmule018@gmail.com', 'iamnzm@outlook.com', 'iamnzm@outlook.com', 'iamnzm@outlook.com', 'iamnzm@outlook.com', 'iamnzm@outlook.com', 'iamnzm@outlook.com', 'iamnzm@outlook.com', 'iamnzm@outlook.com', 'iamnzm@outlook.com', 'iamnzm@outlook.com', 'iamnzm@outlook.com', 'iamnzm@outlook.com', 'iamnzm@outlook.com', 'iamnzm@outlook.com', 'iamnzm@outlook.com', 'iamnzm@outlook.com', 'iamnzm@outlook.com', 'iamnzm@outlook.com', 'iamnzm@outlook.com', 'iamnzm@outlook.com', 'iamnzm@outlook.com', 'iamnzm@outlook.com', 'iamnzm@outlook.com', 'iamnzm@outlook.com', 'iamnzm@outlook.com', 'iamnzm@outlook.com', 'iamnzm@outlook.com', 'iamnzm@outlook.com', 'iamnzm@outlook.com', 'iamnzm@outlook.com', 'iamnzm@outlook.com', 'iamnzm@outlook.com', 'iamnzm@outlook.com', 'iamnzm@outlook.com', 'iamnzm@outlook.com', 'iamnzm@outlook.com', 'iamnzm@outlook.com', 'iamnzm@outlook.com', 'iamnzm@outlook.com', 'iamnzm@outlook.com', 'iamnzm@outlook.com', 'iamnzm@outlook.com', 'iamnzm@outlook.com', 'iamnzm@outlook.com', 'iamnzm@outlook.com', 'iamnzm@outlook.com', 'iamnzm@outlook.com', 'iamnzm@outlook.com', 'iamnzm@outlook.com', 'iamnzm@outlook.com', 'iamnzm@outlook.com', 'iamnzm@outlook.com', 'iamnzm@outlook.com', 'iamnzm@outlook.com', 'iamnzm@outlook.com', 'iamnzm@outlook.com', 'iamnzm@outlook.com', 'iamnzm@outlook.com', 'iamnzm@outlook.com', 'iamnzm@outlook.com', 'iamnzm@outlook.com', 'iamnzm@outlook.com', 'iamnzm@outlook.com', 'iamnzm@outlook.com', 'iamnzm@outlook.com', 'iamnzm@outlook.com', 'iamnzm@outlook.com', 'iamnzm@outlook.com', 'iamnzm@outlook.com', 'iamnzm@outlook.com', 'iamnzm@outlook.com', 'iamnzm@outlook.com', 'iamnzm@outlook.com', 'iamnzm@outlook.com', 'iamnzm@outlook.com', 'iamnzm@outlook.com', 'iamnzm@outlook.com', 'iamnzm@outlook.com', 'iamnzm@outlook.com', 'iamnzm@outlook.com', 'kalyani24deobhankar@gmail.com', 'kalyani24deobhankar@gmail.com', 'kalyani24deobhankar@gmail.com', 'kalyani24deobhankar@gmail.com', 'kalyani24deobhankar@gmail.com', 'kalyani24deobhankar@gmail.com', 'kalyani24deobhankar@gmail.com', 'kalyani24deobhankar@gmail.com', 'kalyani24deobhankar@gmail.com', 'kalyani24deobhankar@gmail.com', 'kalyani24deobhankar@gmail.com', 'kalyani24deobhankar@gmail.com', 'kalyani24deobhankar@gmail.com', 'kalyani24deobhankar@gmail.com', 'kalyani24deobhankar@gmail.com', 'kalyani24deobhankar@gmail.com', 'kalyani24deobhankar@gmail.com', 'kalyani24deobhankar@gmail.com', 'kalyani24deobhankar@gmail.com', 'kalyani24deobhankar@gmail.com', 'kalyani24deobhankar@gmail.com', 'kalyani24deobhankar@gmail.com', 'kalyani24deobhankar@gmail.com', 'kalyani24deobhankar@gmail.com', 'kalyani24deobhankar@gmail.com', 'kalyani24deobhankar@gmail.com', 'kalyani24deobhankar@gmail.com', 'kalyani24deobhankar@gmail.com', 'kalyani24deobhankar@gmail.com', 'kalyani24deobhankar@gmail.com', 'kalyani24deobhankar@gmail.com', 'kalyani24deobhankar@gmail.com', 'kalyani24deobhankar@gmail.com', 'kalyani24deobhankar@gmail.com', 'kalyani24deobhankar@gmail.com', 'kalyani24deobhankar@gmail.com', 'kalyani24deobhankar@gmail.com', 'kalyani24deobhankar@gmail.com', 'kalyani24deobhankar@gmail.com', 'kalyani24deobhankar@gmail.com', 'kalyani24deobhankar@gmail.com', 'kalyani24deobhankar@gmail.com', 'kalyani24deobhankar@gmail.com', 'kalyani24deobhankar@gmail.com', 'kalyani24deobhankar@gmail.com', 'kalyani24deobhankar@gmail.com', 'kalyani24deobhankar@gmail.com', 'kalyani24deobhankar@gmail.com', 'kalyani24deobhankar@gmail.com', 'kalyani24deobhankar@gmail.com', 'kalyani24deobhankar@gmail.com', 'kalyani24deobhankar@gmail.com', 'kalyani24deobhankar@gmail.com', 'kalyani24deobhankar@gmail.com', 'kalyani24deobhankar@gmail.com', 'kalyani24deobhankar@gmail.com', 'kalyani24deobhankar@gmail.com', 'kalyani24deobhankar@gmail.com', 'kalyani24deobhankar@gmail.com', 'kalyani24deobhankar@gmail.com', 'kalyani24deobhankar@gmail.com', 'kalyani24deobhankar@gmail.com', 'polelaxman001@gmail.com', 'polelaxman001@gmail.com', 'polelaxman001@gmail.com', 'polelaxman001@gmail.com', 'polelaxman001@gmail.com', 'polelaxman001@gmail.com', 'polelaxman001@gmail.com', 'polelaxman001@gmail.com', 'polelaxman001@gmail.com', 'polelaxman001@gmail.com', 'polelaxman001@gmail.com', 'polelaxman001@gmail.com', 'polelaxman001@gmail.com', 'polelaxman001@gmail.com', 'polelaxman001@gmail.com', 'polelaxman001@gmail.com', 'polelaxman001@gmail.com', 'polelaxman001@gmail.com', 'polelaxman001@gmail.com', 'polelaxman001@gmail.com', 'polelaxman001@gmail.com', 'polelaxman001@gmail.com', 'polelaxman001@gmail.com', 'polelaxman001@gmail.com', 'polelaxman001@gmail.com', 'polelaxman001@gmail.com', 'polelaxman001@gmail.com', 'polelaxman001@gmail.com', 'polelaxman001@gmail.com', 'polelaxman001@gmail.com', 'polelaxman001@gmail.com', 'polelaxman001@gmail.com', 'polelaxman001@gmail.com', 'polelaxman001@gmail.com', 'polelaxman001@gmail.com', 'polelaxman001@gmail.com', 'polelaxman001@gmail.com', 'polelaxman001@gmail.com', 'polelaxman001@gmail.com', 'polelaxman001@gmail.com', 'polelaxman001@gmail.com', 'polelaxman001@gmail.com', 'polelaxman001@gmail.com', 'polelaxman001@gmail.com', 'polelaxman001@gmail.com', 'polelaxman001@gmail.com', 'polelaxman001@gmail.com', 'polelaxman001@gmail.com', 'polelaxman001@gmail.com', 'polelaxman001@gmail.com', 'polelaxman001@gmail.com', 'polelaxman001@gmail.com', 'prathameshsalap@gmail.com', 'prathameshsalap@gmail.com', 'prathameshsalap@gmail.com', 'prathameshsalap@gmail.com', 'prathameshsalap@gmail.com', 'prathameshsalap@gmail.com', 'prathameshsalap@gmail.com', 'prathameshsalap@gmail.com', 'prathameshsalap@gmail.com', 'prathameshsalap@gmail.com', 'prathameshsalap@gmail.com', 'prathameshsalap@gmail.com', 'prathameshsalap@gmail.com', 'prathameshsalap@gmail.com', 'prathameshsalap@gmail.com', 'prathameshsalap@gmail.com', 'prathameshsalap@gmail.com', 'prathameshsalap@gmail.com', 'prathameshsalap@gmail.com', 'prathameshsalap@gmail.com', 'prathameshsalap@gmail.com', 'prathameshsalap@gmail.com', 'prathameshsalap@gmail.com', 'prathameshsalap@gmail.com', 'prathameshsalap@gmail.com', 'prathameshsalap@gmail.com', 'prathameshsalap@gmail.com', 'prathameshsalap@gmail.com', 'prathameshsalap@gmail.com', 'prathameshsalap@gmail.com', 'prathameshsalap@gmail.com', 'prathameshsalap@gmail.com', 'prathameshsalap@gmail.com', 'prathameshsalap@gmail.com', 'prathameshsalap@gmail.com', 'prathameshsalap@gmail.com', 'prathameshsalap@gmail.com', 'prathameshsalap@gmail.com', 'prathameshsalap@gmail.com', 'prathameshsalap@gmail.com', 'prathameshsalap@gmail.com', 'prathameshsalap@gmail.com', 'prathameshsalap@gmail.com', 'prathameshsalap@gmail.com', 'prathameshsalap@gmail.com', 'prathameshsalap@gmail.com', 'prathameshsalap@gmail.com', 'prathameshsalap@gmail.com', 'prathameshsalap@gmail.com', 'prathameshsalap@gmail.com', 'prathameshsalap@gmail.com', 'prathameshsalap@gmail.com', 'prathameshsalap@gmail.com', 'prathameshsalap@gmail.com', 'prathameshsalap@gmail.com', 'prathameshsalap@gmail.com', 'prathameshsalap@gmail.com', 'prathameshsalap@gmail.com', 'prathameshsalap@gmail.com', 'prathameshsalap@gmail.com', 'prathameshsalap@gmail.com', 'prathameshsalap@gmail.com', 'priyankagandhi2504@gmail.com', 'priyankagandhi2504@gmail.com', 'priyankagandhi2504@gmail.com', 'priyankagandhi2504@gmail.com', 'priyankagandhi2504@gmail.com', 'priyankagandhi2504@gmail.com', 'priyankagandhi2504@gmail.com', 'priyankagandhi2504@gmail.com', 'priyankagandhi2504@gmail.com', 'priyankagandhi2504@gmail.com', 'priyankagandhi2504@gmail.com', 'priyankagandhi2504@gmail.com', 'priyankagandhi2504@gmail.com', 'priyankagandhi2504@gmail.com', 'priyankagandhi2504@gmail.com', 'priyankagandhi2504@gmail.com', 'priyankagandhi2504@gmail.com', 'priyankagandhi2504@gmail.com', 'priyankagandhi2504@gmail.com', 'priyankagandhi2504@gmail.com', 'priyankagandhi2504@gmail.com', 'priyankagandhi2504@gmail.com', 'priyankagandhi2504@gmail.com', 'priyankagandhi2504@gmail.com', 'priyankagandhi2504@gmail.com', 'priyankagandhi2504@gmail.com', 'priyankagandhi2504@gmail.com', 'priyankagandhi2504@gmail.com', 'priyankagandhi2504@gmail.com', 'priyankagandhi2504@gmail.com', 'priyankagandhi2504@gmail.com', 'priyankagandhi2504@gmail.com', 'priyankagandhi2504@gmail.com', 'priyankagandhi2504@gmail.com', 'priyankagandhi2504@gmail.com', 'priyankagandhi2504@gmail.com', 'priyankagandhi2504@gmail.com', 'priyankagandhi2504@gmail.com', 'priyankagandhi2504@gmail.com', 'priyankagandhi2504@gmail.com', 'priyankagandhi2504@gmail.com', 'priyankagandhi2504@gmail.com', 'priyankagandhi2504@gmail.com', 'priyankagandhi2504@gmail.com', 'priyankagandhi2504@gmail.com', 'priyankagandhi2504@gmail.com', 'priyankagandhi2504@gmail.com', 'priyankagandhi2504@gmail.com', 'priyankagandhi2504@gmail.com', 'priyankagandhi2504@gmail.com', 'priyankagandhi2504@gmail.com', 'shelkeva@gmail.com', 'shelkeva@gmail.com', 'shelkeva@gmail.com', 'shelkeva@gmail.com', 'shelkeva@gmail.com', 'shelkeva@gmail.com', 'shelkeva@gmail.com', 'shelkeva@gmail.com', 'shelkeva@gmail.com', 'shelkeva@gmail.com', 'shelkeva@gmail.com', 'shelkeva@gmail.com', 'shelkeva@gmail.com', 'shelkeva@gmail.com', 'shelkeva@gmail.com', 'shelkeva@gmail.com', 'shelkeva@gmail.com', 'shelkeva@gmail.com', 'shelkeva@gmail.com', 'shelkeva@gmail.com', 'shelkeva@gmail.com', 'shelkeva@gmail.com', 'shelkeva@gmail.com', 'shelkeva@gmail.com', 'shelkeva@gmail.com', 'shelkeva@gmail.com', 'shelkeva@gmail.com', 'shelkeva@gmail.com', 'shelkeva@gmail.com', 'shelkeva@gmail.com', 'shelkeva@gmail.com', 'shelkeva@gmail.com', 'shelkeva@gmail.com', 'shelkeva@gmail.com', 'shelkeva@gmail.com', 'shelkeva@gmail.com', 'shelkeva@gmail.com', 'shelkeva@gmail.com', 'shelkeva@gmail.com', 'shelkeva@gmail.com', 'shelkeva@gmail.com', 'shelkeva@gmail.com', 'shelkeva@gmail.com', 'shelkeva@gmail.com', 'shelkeva@gmail.com', 'shelkeva@gmail.com', 'shelkeva@gmail.com', 'shelkeva@gmail.com', 'shelkeva@gmail.com', 'shelkeva@gmail.com', 'shelkeva@gmail.com', 'shelkeva@gmail.com', 'shelkeva@gmail.com', 'shelkeva@gmail.com', 'shelkeva@gmail.com', 'shelkeva@gmail.com', 'shelkeva@gmail.com', 'shelkeva@gmail.com', 'shelkeva@gmail.com', 'shelkeva@gmail.com', 'shelkeva@gmail.com', 'shelkeva@gmail.com', 'shelkeva@gmail.com', 'shelkeva@gmail.com', 'shelkeva@gmail.com', 'shelkeva@gmail.com', 'shelkeva@gmail.com', 'shelkeva@gmail.com', 'shelkeva@gmail.com', 'shelkeva@gmail.com', 'shelkeva@gmail.com', 'shelkeva@gmail.com', 'shelkeva@gmail.com', 'shelkeva@gmail.com', 'shelkeva@gmail.com', 'shelkeva@gmail.com', 'shelkeva@gmail.com', 'shelkeva@gmail.com', 'shelkeva@gmail.com', 'shelkeva@gmail.com', 'tekina.makin@gmail.com', 'tekina.makin@gmail.com', 'tekina.makin@gmail.com', 'tekina.makin@gmail.com', 'tekina.makin@gmail.com', 'tekina.makin@gmail.com', 'tekina.makin@gmail.com', 'tekina.makin@gmail.com', 'tekina.makin@gmail.com', 'tekina.makin@gmail.com', 'tekina.makin@gmail.com', 'tekina.makin@gmail.com', 'tekina.makin@gmail.com', 'tekina.makin@gmail.com', 'tekina.makin@gmail.com', 'tekina.makin@gmail.com', 'tekina.makin@gmail.com', 'tekina.makin@gmail.com', 'tekina.makin@gmail.com', 'tekina.makin@gmail.com', 'tekina.makin@gmail.com', 'tekina.makin@gmail.com', 'tekina.makin@gmail.com', 'tekina.makin@gmail.com', 'tekina.makin@gmail.com', 'tekina.makin@gmail.com', 'tekina.makin@gmail.com', 'tekina.makin@gmail.com', 'tekina.makin@gmail.com', 'tekina.makin@gmail.com', 'tekina.makin@gmail.com', 'tekina.makin@gmail.com', 'tekina.makin@gmail.com', 'tekina.makin@gmail.com', 'tekina.makin@gmail.com', 'tekina.makin@gmail.com', 'tekina.makin@gmail.com', 'tekina.makin@gmail.com', 'tekina.makin@gmail.com', 'tekina.makin@gmail.com', 'tekina.makin@gmail.com', 'tekina.makin@gmail.com', 'tekina.makin@gmail.com', 'tekina.makin@gmail.com', 'tekina.makin@gmail.com', 'tekina.makin@gmail.com', 'tekina.makin@gmail.com', 'tekina.makin@gmail.com', 'tekina.makin@gmail.com', 'tekina.makin@gmail.com', 'tekina.makin@gmail.com', 'tekina.makin@gmail.com', 'tekina.makin@gmail.com', 'tekina.makin@gmail.com', 'tekina.makin@gmail.com', 'tekina.makin@gmail.com', 'vijaykumarbhavanur.com', 'vijaykumarbhavanur.com', 'vijaykumarbhavanur.com', 'vishnu23kumar@gmail.com', 'vishnu23kumar@gmail.com', 'vishnu23kumar@gmail.com', 'vishnu23kumar@gmail.com', 'vishnu23kumar@gmail.com', 'vishnu23kumar@gmail.com', 'vishnu23kumar@gmail.com', 'vishnu23kumar@gmail.com', 'vishnu23kumar@gmail.com', 'vishnu23kumar@gmail.com', 'vishnu23kumar@gmail.com', 'vishnu23kumar@gmail.com', 'vishnu23kumar@gmail.com', 'vishnu23kumar@gmail.com', 'vishnu23kumar@gmail.com', 'vishnu23kumar@gmail.com', 'vishnu23kumar@gmail.com', 'vishnu23kumar@gmail.com', 'vishnu23kumar@gmail.com', 'vishnu23kumar@gmail.com', 'vishnu23kumar@gmail.com', 'vishnu23kumar@gmail.com', 'vishnu23kumar@gmail.com', 'vishnu23kumar@gmail.com', 'vishnu23kumar@gmail.com', 'vishnu23kumar@gmail.com', 'vishnu23kumar@gmail.com', 'vishnu23kumar@gmail.com', 'vishnu23kumar@gmail.com', 'vishnu23kumar@gmail.com', 'vishnu23kumar@gmail.com', 'vishnu23kumar@gmail.com', 'vishnu23kumar@gmail.com', 'vishnu23kumar@gmail.com', 'vishnu23kumar@gmail.com', 'vishnu23kumar@gmail.com', 'vishnu23kumar@gmail.com', 'vishnu23kumar@gmail.com', 'vishnu23kumar@gmail.com', 'vishnu23kumar@gmail.com', 'vishnu23kumar@gmail.com', 'vishnu23kumar@gmail.com', 'vishnu23kumar@gmail.com', 'vishnu23kumar@gmail.com', 'vishnu23kumar@gmail.com', 'vishnu23kumar@gmail.com', 'vishnu23kumar@gmail.com', 'vishnu23kumar@gmail.com', 'vishnu23kumar@gmail.com', 'vishnu23kumar@gmail.com', 'vishnu23kumar@gmail.com', 'vishnu23kumar@gmail.com', 'vishnu23kumar@gmail.com', 'vishnu23kumar@gmail.com', 'vishnu23kumar@gmail.com', 'vishnu23kumar@gmail.com', 'vishnu23kumar@gmail.com', 'vishnu23kumar@gmail.com', 'vishnu23kumar@gmail.com', 'vishnu23kumar@gmail.com', 'vishnu23kumar@gmail.com', 'vishnu23kumar@gmail.com', 'vishnu23kumar@gmail.com', 'vishnu23kumar@gmail.com', 'vishnu23kumar@gmail.com', 'vishnu23kumar@gmail.com', 'vishnu23kumar@gmail.com', 'vishnu23kumar@gmail.com', 'vishnu23kumar@gmail.com', 'vishnu23kumar@gmail.com', 'you@example.com', 'you@example.com', 'you@example.com', 'you@example.com', 'you@example.com', 'you@example.com', 'you@example.com', 'you@example.com', 'you@example.com', 'you@example.com', 'you@example.com', 'you@example.com', 'you@example.com', 'you@example.com', 'you@example.com', 'you@example.com', 'you@example.com', 'you@example.com', 'you@example.com', 'you@example.com', 'you@example.com', 'you@example.com', 'you@example.com', 'you@example.com', 'you@example.com', 'you@example.com', 'you@example.com', 'you@example.com', 'you@example.com', 'you@example.com', 'you@example.com', 'you@example.com', 'you@example.com', 'you@example.com', 'you@example.com', 'you@example.com', 'you@example.com', 'you@example.com', 'you@example.com', 'you@example.com', 'you@example.com', 'you@example.com', 'you@example.com', 'you@example.com', 'you@example.com', 'you@example.com', 'you@example.com', 'you@example.com', 'you@example.com', 'you@example.com', 'you@example.com', 'you@example.com', 'you@example.com', 'you@example.com', 'you@example.com', 'you@example.com', 'you@example.com', 'you@example.com', 'you@example.com', 'you@example.com', 'you@example.com', 'you@example.com', 'you@example.com', 'you@example.com', 'you@example.com', 'you@example.com', 'you@example.com', 'you@example.com', 'you@example.com', 'you@example.com', 'you@example.com', 'you@example.com', 'you@example.com', 'you@example.com', 'you@example.com', 'you@example.com', 'you@example.com', 'you@example.com', 'you@example.com', 'you@example.com', 'you@example.com']\n"
          ],
          "name": "stdout"
        }
      ]
    },
    {
      "cell_type": "code",
      "metadata": {
        "id": "WWEpRERSbAL9",
        "colab_type": "code",
        "colab": {
          "base_uri": "https://localhost:8080/",
          "height": 34
        },
        "outputId": "e2558b3f-97c0-41f5-9479-2e0a8273ac98"
      },
      "source": [
        "sortedDF.drop_duplicates(['user']).count()"
      ],
      "execution_count": 13,
      "outputs": [
        {
          "output_type": "execute_result",
          "data": {
            "text/plain": [
              "13"
            ]
          },
          "metadata": {
            "tags": []
          },
          "execution_count": 13
        }
      ]
    },
    {
      "cell_type": "markdown",
      "metadata": {
        "id": "Lv6sxtlubwqa",
        "colab_type": "text"
      },
      "source": [
        "Calculating leaves\n"
      ]
    },
    {
      "cell_type": "code",
      "metadata": {
        "id": "CVcaHp0Nbu1G",
        "colab_type": "code",
        "colab": {}
      },
      "source": [
        "df1 = spark.read.format(\"csv\").option(\"header\",\"true\").load(\"day1.csv\")\n",
        "df2 = spark.read.format(\"csv\").option(\"header\",\"true\").load(\"day2.csv\")\n",
        "df3 = spark.read.format(\"csv\").option(\"header\",\"true\").load(\"day3.csv\")\n",
        "df4 = spark.read.format(\"csv\").option(\"header\",\"true\").load(\"day4.csv\")\n",
        "df5 = spark.read.format(\"csv\").option(\"header\",\"true\").load(\"day5.csv\")\n",
        "df6 = spark.read.format(\"csv\").option(\"header\",\"true\").load(\"day6.csv\")\n",
        "df7 = spark.read.format(\"csv\").option(\"header\",\"true\").load(\"day7.csv\")\n",
        "df8 = spark.read.format(\"csv\").option(\"header\",\"true\").load(\"day8.csv\")\n",
        "df9 = spark.read.format(\"csv\").option(\"header\",\"true\").load(\"day9.csv\")"
      ],
      "execution_count": 14,
      "outputs": []
    },
    {
      "cell_type": "code",
      "metadata": {
        "id": "v9ylCV0acXt1",
        "colab_type": "code",
        "colab": {
          "base_uri": "https://localhost:8080/",
          "height": 34
        },
        "outputId": "d262e278-cd00-457b-a6b5-63e2ca54ee91"
      },
      "source": [
        "df1.drop_duplicates(['user_name']).count()"
      ],
      "execution_count": 15,
      "outputs": [
        {
          "output_type": "execute_result",
          "data": {
            "text/plain": [
              "13"
            ]
          },
          "metadata": {
            "tags": []
          },
          "execution_count": 15
        }
      ]
    },
    {
      "cell_type": "code",
      "metadata": {
        "id": "S4xv0Yl7cmM7",
        "colab_type": "code",
        "colab": {}
      },
      "source": [
        "day1 = df1.drop_duplicates(['user_name'])\n",
        "day2 = df2.drop_duplicates(['user_name'])\n",
        "day3 = df3.drop_duplicates(['user_name'])\n",
        "day4 = df4.drop_duplicates(['user_name'])\n",
        "day5 = df5.drop_duplicates(['user_name'])\n",
        "day6 = df6.drop_duplicates(['user_name'])\n",
        "day7 = df7.drop_duplicates(['user_name'])\n",
        "day8 = df8.drop_duplicates(['user_name'])\n",
        "day9 = df9.drop_duplicates(['user_name'])"
      ],
      "execution_count": 16,
      "outputs": []
    },
    {
      "cell_type": "code",
      "metadata": {
        "id": "E6TvN38WiWHR",
        "colab_type": "code",
        "colab": {}
      },
      "source": [
        "allDays = day1.union(day2).union(day3).union(day4).union(day5).union(day6).union(day7).union(day8).union(day9).select('user_name')"
      ],
      "execution_count": 17,
      "outputs": []
    },
    {
      "cell_type": "code",
      "metadata": {
        "id": "FwKElOnTjcOR",
        "colab_type": "code",
        "colab": {
          "base_uri": "https://localhost:8080/",
          "height": 459
        },
        "outputId": "dd526c13-e89c-4d6f-b97e-59561aafc750"
      },
      "source": [
        "allDays.groupby('user_name').count().show()"
      ],
      "execution_count": 18,
      "outputs": [
        {
          "output_type": "stream",
          "text": [
            "+--------------------+-----+\n",
            "|           user_name|count|\n",
            "+--------------------+-----+\n",
            "|ashutoshrit64@gma...|    8|\n",
            "|giridhardandikwar...|    6|\n",
            "|priyankagorte95@g...|    4|\n",
            "|       nikitapawar17|    6|\n",
            "|umangsontakke70@g...|    3|\n",
            "|salinabodale73@gm...|    1|\n",
            "|“shivnajalisangal...|    4|\n",
            "|indrajeetgajbhiye...|    6|\n",
            "|khairnarswapna99@...|    5|\n",
            "|Krushnanikam26@gm...|    4|\n",
            "|gaikwadr576@gmail...|    6|\n",
            "|adikumar2514@gmai...|    8|\n",
            "| dileep.bs@yahoo.com|    6|\n",
            "|puruissimple@gmai...|    7|\n",
            "|nehapalekar026@gm...|    3|\n",
            "|er.mukulvij96@gma...|    7|\n",
            "|surajwarbhuvan192...|    6|\n",
            "|samruddhichitnis0...|    5|\n",
            "|yadav.ujjwal770@g...|    5|\n",
            "|hakepratiksha55@g...|    7|\n",
            "+--------------------+-----+\n",
            "only showing top 20 rows\n",
            "\n"
          ],
          "name": "stdout"
        }
      ]
    },
    {
      "cell_type": "markdown",
      "metadata": {
        "id": "-sjlzlzEqGeQ",
        "colab_type": "text"
      },
      "source": [
        "Total Leaves"
      ]
    },
    {
      "cell_type": "code",
      "metadata": {
        "id": "6IUzXtfBkL4F",
        "colab_type": "code",
        "colab": {
          "base_uri": "https://localhost:8080/",
          "height": 459
        },
        "outputId": "39a664a5-e7f3-42f0-bb4b-e1f50ce89d39"
      },
      "source": [
        "leavesDF = allDays.groupby('user_name').count().withColumn('leaves',9 - column('count')).drop('count')\n",
        "leavesDF.show()"
      ],
      "execution_count": 19,
      "outputs": [
        {
          "output_type": "stream",
          "text": [
            "+--------------------+------+\n",
            "|           user_name|leaves|\n",
            "+--------------------+------+\n",
            "|ashutoshrit64@gma...|     1|\n",
            "|giridhardandikwar...|     3|\n",
            "|priyankagorte95@g...|     5|\n",
            "|       nikitapawar17|     3|\n",
            "|umangsontakke70@g...|     6|\n",
            "|salinabodale73@gm...|     8|\n",
            "|“shivnajalisangal...|     5|\n",
            "|indrajeetgajbhiye...|     3|\n",
            "|khairnarswapna99@...|     4|\n",
            "|Krushnanikam26@gm...|     5|\n",
            "|gaikwadr576@gmail...|     3|\n",
            "|adikumar2514@gmai...|     1|\n",
            "| dileep.bs@yahoo.com|     3|\n",
            "|puruissimple@gmai...|     2|\n",
            "|nehapalekar026@gm...|     6|\n",
            "|er.mukulvij96@gma...|     2|\n",
            "|surajwarbhuvan192...|     3|\n",
            "|samruddhichitnis0...|     4|\n",
            "|yadav.ujjwal770@g...|     4|\n",
            "|hakepratiksha55@g...|     2|\n",
            "+--------------------+------+\n",
            "only showing top 20 rows\n",
            "\n"
          ],
          "name": "stdout"
        }
      ]
    },
    {
      "cell_type": "markdown",
      "metadata": {
        "id": "tKQPwAmPqOgG",
        "colab_type": "text"
      },
      "source": [
        "Idle Time"
      ]
    },
    {
      "cell_type": "code",
      "metadata": {
        "id": "CJ7FDZO3qLxI",
        "colab_type": "code",
        "colab": {
          "base_uri": "https://localhost:8080/",
          "height": 459
        },
        "outputId": "8475bab3-e6bf-4445-c2e3-74c2fa59aea6"
      },
      "source": [
        "df = df1.select('user_name','DateTime','keyboard','mouse')\\\n",
        ".withColumn(\"Date\",to_timestamp('DateTime','yyyy-MM-dd HH:mm:ss'))\\\n",
        ".withColumnRenamed('user_name',\"user\")\\\n",
        ".withColumnRenamed('Date','date')\\\n",
        ".withColumn('action',col('keyboard') + col('mouse'))\\\n",
        ".drop('DateTime','keyboard','mouse')\\\n",
        ".orderBy(col('user'),col('date'))\n",
        "df.show()"
      ],
      "execution_count": 20,
      "outputs": [
        {
          "output_type": "stream",
          "text": [
            "+--------------------+-------------------+------+\n",
            "|                user|               date|action|\n",
            "+--------------------+-------------------+------+\n",
            "|antonyalexcm@gmai...|2019-10-13 12:10:01| 269.0|\n",
            "|antonyalexcm@gmai...|2019-10-13 12:15:02|6283.0|\n",
            "|antonyalexcm@gmai...|2019-10-13 12:20:01|5758.0|\n",
            "|antonyalexcm@gmai...|2019-10-13 12:25:01|3980.0|\n",
            "|antonyalexcm@gmai...|2019-10-13 12:30:01|5603.0|\n",
            "|antonyalexcm@gmai...|2019-10-13 12:35:02|4545.0|\n",
            "|antonyalexcm@gmai...|2019-10-13 12:40:01|3544.0|\n",
            "|antonyalexcm@gmai...|2019-10-13 12:45:01|5599.5|\n",
            "|antonyalexcm@gmai...|2019-10-13 12:50:02| 318.0|\n",
            "|ashutoshrit64@gma...|2019-10-13 12:25:01| 403.0|\n",
            "|ashutoshrit64@gma...|2019-10-13 12:30:02| 535.0|\n",
            "|ashutoshrit64@gma...|2019-10-13 12:35:02| 537.0|\n",
            "|ashutoshrit64@gma...|2019-10-13 12:40:01| 472.0|\n",
            "|ashutoshrit64@gma...|2019-10-13 12:45:02| 555.0|\n",
            "|ashutoshrit64@gma...|2019-10-13 12:50:01| 635.0|\n",
            "|ashutoshrit64@gma...|2019-10-13 12:55:01| 645.0|\n",
            "|ashutoshrit64@gma...|2019-10-13 13:00:01|1341.0|\n",
            "|ashutoshrit64@gma...|2019-10-13 13:05:01| 373.0|\n",
            "|ashutoshrit64@gma...|2019-10-13 13:10:01| 959.0|\n",
            "|ashutoshrit64@gma...|2019-10-13 13:15:01|1163.5|\n",
            "+--------------------+-------------------+------+\n",
            "only showing top 20 rows\n",
            "\n"
          ],
          "name": "stdout"
        }
      ]
    },
    {
      "cell_type": "code",
      "metadata": {
        "id": "J5jxFpEUqWlw",
        "colab_type": "code",
        "colab": {}
      },
      "source": [
        "users = list(df.select('user').toPandas()['user'])   \n",
        "action = list(df.select('action').toPandas()['action'])    "
      ],
      "execution_count": 21,
      "outputs": []
    },
    {
      "cell_type": "code",
      "metadata": {
        "id": "iM9gtjv4rQMh",
        "colab_type": "code",
        "colab": {}
      },
      "source": [
        "name = ''\n",
        "counter = 0\n",
        "output = []\n",
        "for index in range(len(users)):\n",
        "  if index == 0 :\n",
        "    name = ''\n",
        "    if action[index] == 0:\n",
        "      counter = 1\n",
        "  elif index == len(users)-1:\n",
        "    if users[index] == name:\n",
        "       if action[index] == 0:\n",
        "         counter += 1\n",
        "    if counter > 5:\n",
        "        output.append([name,counter]) \n",
        "  else:\n",
        "    if users[index] == name:\n",
        "       if action[index] == 0:\n",
        "         counter += 1 \n",
        "       else:\n",
        "         if counter > 5:\n",
        "           output.append([name,counter])\n",
        "         counter = 0\n",
        "    else:\n",
        "      if counter > 5:\n",
        "        output.append([name,counter])\n",
        "      counter = 0\n",
        "      name = users[index]\n",
        "      if action[index] == 0:\n",
        "        counter += 1 \n"
      ],
      "execution_count": 22,
      "outputs": []
    },
    {
      "cell_type": "code",
      "metadata": {
        "id": "6G2X6l3Twot8",
        "colab_type": "code",
        "colab": {
          "base_uri": "https://localhost:8080/",
          "height": 102
        },
        "outputId": "82b89dc0-95bb-41e6-cbd6-abfa1432089e"
      },
      "source": [
        "for user in output:\n",
        "  print(user)"
      ],
      "execution_count": 23,
      "outputs": [
        {
          "output_type": "stream",
          "text": [
            "['ashutoshrit64@gmail.com', 6]\n",
            "['iamnzm@outlook.com', 6]\n",
            "['kalyani24deobhankar@gmail.com', 61]\n",
            "['priyankagandhi2504@gmail.com', 48]\n",
            "['shelkeva@gmail.com', 13]\n"
          ],
          "name": "stdout"
        }
      ]
    },
    {
      "cell_type": "code",
      "metadata": {
        "id": "p9UsIa3XwsPY",
        "colab_type": "code",
        "colab": {
          "base_uri": "https://localhost:8080/",
          "height": 1000
        },
        "outputId": "fab83d7c-bd5d-4a3e-d205-a1282aa3c71c"
      },
      "source": [
        "df = df2.select('user_name','DateTime','keyboard','mouse')\\\n",
        ".withColumn(\"Date\",to_timestamp('DateTime','yyyy-MM-dd HH:mm:ss'))\\\n",
        ".withColumnRenamed('user_name',\"user\")\\\n",
        ".withColumnRenamed('Date','date')\\\n",
        ".withColumn('action',col('keyboard') + col('mouse'))\\\n",
        ".drop('DateTime','keyboard','mouse')\\\n",
        ".orderBy(col('user'),col('date'))\n",
        "df.show()\n",
        "users = list(df.select('user').toPandas()['user'])   \n",
        "action = list(df.select('action').toPandas()['action']) \n",
        "name = ''\n",
        "counter = 0\n",
        "output = []\n",
        "for index in range(len(users)):\n",
        "  if index == 0 :\n",
        "    name = ''\n",
        "    if action[index] == 0:\n",
        "      counter = 1\n",
        "  elif index == len(users)-1:\n",
        "    if users[index] == name:\n",
        "       if action[index] == 0:\n",
        "         counter += 1\n",
        "    if counter > 5:\n",
        "        output.append([name,counter]) \n",
        "  else:\n",
        "    if users[index] == name:\n",
        "       if action[index] == 0:\n",
        "         counter += 1 \n",
        "       else:\n",
        "         if counter > 5:\n",
        "           output.append([name,counter])\n",
        "         counter = 0\n",
        "    else:\n",
        "      if counter > 5:\n",
        "        output.append([name,counter])\n",
        "      counter = 0\n",
        "      name = users[index]\n",
        "      if action[index] == 0:\n",
        "        counter += 1 \n",
        "for user in output:\n",
        "  print(user)\n"
      ],
      "execution_count": 24,
      "outputs": [
        {
          "output_type": "stream",
          "text": [
            "+--------------------+-------------------+------+\n",
            "|                user|               date|action|\n",
            "+--------------------+-------------------+------+\n",
            "|Krushnanikam26@gm...|2019-10-14 10:20:01|   1.5|\n",
            "|Krushnanikam26@gm...|2019-10-14 10:25:01|   1.5|\n",
            "|Krushnanikam26@gm...|2019-10-14 10:30:01|   1.5|\n",
            "|Krushnanikam26@gm...|2019-10-14 10:35:12|   1.5|\n",
            "|Krushnanikam26@gm...|2019-10-14 10:40:20|   1.5|\n",
            "|Krushnanikam26@gm...|2019-10-14 10:45:02|   1.5|\n",
            "|Krushnanikam26@gm...|2019-10-14 10:50:05|   1.5|\n",
            "|Krushnanikam26@gm...|2019-10-14 10:55:01|   1.5|\n",
            "|Krushnanikam26@gm...|2019-10-14 11:00:14|   1.5|\n",
            "|Krushnanikam26@gm...|2019-10-14 11:05:07|   1.5|\n",
            "|Krushnanikam26@gm...|2019-10-14 11:10:01|   1.5|\n",
            "|Krushnanikam26@gm...|2019-10-14 11:15:07|   1.5|\n",
            "|Krushnanikam26@gm...|2019-10-14 11:20:02|   1.5|\n",
            "|Krushnanikam26@gm...|2019-10-14 11:25:26|   1.5|\n",
            "|Krushnanikam26@gm...|2019-10-14 11:30:01|   1.5|\n",
            "|Krushnanikam26@gm...|2019-10-14 11:35:03|   1.5|\n",
            "|Krushnanikam26@gm...|2019-10-14 11:40:08|   1.5|\n",
            "|Krushnanikam26@gm...|2019-10-14 11:45:03|   1.5|\n",
            "|Krushnanikam26@gm...|2019-10-14 11:50:05|   1.5|\n",
            "|Krushnanikam26@gm...|2019-10-14 11:55:02|   1.5|\n",
            "+--------------------+-------------------+------+\n",
            "only showing top 20 rows\n",
            "\n",
            "['Krushnanikam26@gmail.com', 65]\n",
            "['addyp1911@gmail.com', 15]\n",
            "['addyp1911@gmail.com', 7]\n",
            "['adikumar2514@gmail.com', 14]\n",
            "['adikumar2514@gmail.com', 24]\n",
            "['adikumar2514@gmail.com', 9]\n",
            "['aheteshams007@gmail.com', 6]\n",
            "['aheteshams007@gmail.com', 8]\n",
            "['akshay.skawde@gmail.com', 10]\n",
            "['er.mukulvij96@gmail.com', 8]\n",
            "['farooqbassam4@gmail.com', 110]\n",
            "['gaikwadr576@gmail.com', 20]\n",
            "['gaikwadr576@gmail.com', 6]\n",
            "['gaikwadr576@gmail.com', 9]\n",
            "['giridhardandikwar@gmail.com', 11]\n",
            "['giridhardandikwar@gmail.com', 9]\n",
            "['grmule018@gmail.com', 8]\n",
            "['grmule018@gmail.com', 10]\n",
            "['hakepratiksha55@gmail.com', 6]\n",
            "['hakepratiksha55@gmail.com', 13]\n",
            "['iamnzm@outlook.com', 16]\n",
            "['kaleshwetaanil@gmail.com', 24]\n",
            "['kalyani24deobhankar@gmail.com', 22]\n",
            "['kalyani24deobhankar@gmail.com', 8]\n",
            "['kalyani24deobhankar@gmail.com', 10]\n",
            "['mishrasushil889@gmail.com', 9]\n",
            "['mishrasushil889@gmail.com', 6]\n",
            "['mishrasushil889@gmail.com', 7]\n",
            "['naineshpatil11@gmail.com', 9]\n",
            "['naineshpatil11@gmail.com', 8]\n",
            "['nehapalekar026@gmail.com', 19]\n",
            "['nehapalekar026@gmail.com', 74]\n",
            "['polelaxman001@gmail.com', 7]\n",
            "['polelaxman001@gmail.com', 13]\n",
            "['pramodmane58@gmail.com', 114]\n",
            "['prathameshsalap@gmail.com', 18]\n",
            "['prathameshsalap@gmail.com', 7]\n",
            "['priyankagandhi2504@gmail.com', 7]\n",
            "['puruissimple@gmail.com', 9]\n",
            "['puruissimple@gmail.com', 6]\n",
            "['puruissimple@gmail.com', 6]\n",
            "['puruissimple@gmail.com', 10]\n",
            "['rahilstar11@gmail.com', 91]\n",
            "['rawatabhishek2012@gmail.com', 14]\n",
            "['rohitsarate1027@gmail.com', 12]\n",
            "['ruchikachile301996@gmail.com', 19]\n",
            "['samadhanmahajan73@gmail.com', 8]\n",
            "['sharlawar77@gmail.com', 51]\n",
            "['sharlawar77@gmail.com', 22]\n",
            "['shelkeva@gmail.com', 10]\n",
            "['singladivanshu007@gmail.com', 8]\n",
            "['singladivanshu007@gmail.com', 8]\n",
            "['sushantpatwari1234@gmail.com', 114]\n",
            "['tekina.makin@gmail.com', 10]\n",
            "['tekina.makin@gmail.com', 18]\n",
            "['tekina.makin@gmail.com', 7]\n",
            "['tekina.makin@gmail.com', 9]\n",
            "['umangsontakke70@gmail.com', 11]\n",
            "['vaishusawant143@gmail.com', 16]\n",
            "['venkatesh.er2@gmail.com', 17]\n",
            "['venkatesh.er2@gmail.com', 15]\n",
            "['vidyaramesh1428@gmail.com', 14]\n",
            "['vijaykumarbhavanur.com', 7]\n",
            "['vijaykumarbhavanur.com', 10]\n",
            "['you@example.com', 10]\n",
            "['you@example.com', 13]\n",
            "['you@example.com', 13]\n",
            "['youremail@email.com', 86]\n"
          ],
          "name": "stdout"
        }
      ]
    },
    {
      "cell_type": "code",
      "metadata": {
        "id": "lLLOqV8wxlOO",
        "colab_type": "code",
        "colab": {
          "base_uri": "https://localhost:8080/",
          "height": 54
        },
        "outputId": "73f6c83d-1413-46d7-92f0-e374f34fd0e4"
      },
      "source": [
        "idleUser = []\n",
        "name = ''\n",
        "counter = 0\n",
        "for index in range(len(output)-1):\n",
        "  user = output[index]\n",
        "  if(index == 0):\n",
        "    name = user[0]\n",
        "    counter = user[1]\n",
        "  else:\n",
        "    if name == user[0]:\n",
        "      counter += user[1]\n",
        "    else:\n",
        "      idleUser.append([name,counter * 5])\n",
        "      name = user[0]\n",
        "      counter = user[1]\n",
        "print(idleUser) "
      ],
      "execution_count": 61,
      "outputs": [
        {
          "output_type": "stream",
          "text": [
            "[['Krushnanikam26@gmail.com', 325], ['addyp1911@gmail.com', 110], ['adikumar2514@gmail.com', 235], ['aheteshams007@gmail.com', 70], ['akshay.skawde@gmail.com', 50], ['er.mukulvij96@gmail.com', 40], ['farooqbassam4@gmail.com', 550], ['gaikwadr576@gmail.com', 175], ['giridhardandikwar@gmail.com', 100], ['grmule018@gmail.com', 90], ['hakepratiksha55@gmail.com', 95], ['iamnzm@outlook.com', 80], ['kaleshwetaanil@gmail.com', 120], ['kalyani24deobhankar@gmail.com', 200], ['mishrasushil889@gmail.com', 110], ['naineshpatil11@gmail.com', 85], ['nehapalekar026@gmail.com', 465], ['polelaxman001@gmail.com', 100], ['pramodmane58@gmail.com', 570], ['prathameshsalap@gmail.com', 125], ['priyankagandhi2504@gmail.com', 35], ['puruissimple@gmail.com', 155], ['rahilstar11@gmail.com', 455], ['rawatabhishek2012@gmail.com', 70], ['rohitsarate1027@gmail.com', 60], ['ruchikachile301996@gmail.com', 95], ['samadhanmahajan73@gmail.com', 40], ['sharlawar77@gmail.com', 365], ['shelkeva@gmail.com', 50], ['singladivanshu007@gmail.com', 80], ['sushantpatwari1234@gmail.com', 570], ['tekina.makin@gmail.com', 220], ['umangsontakke70@gmail.com', 55], ['vaishusawant143@gmail.com', 80], ['venkatesh.er2@gmail.com', 160], ['vidyaramesh1428@gmail.com', 70], ['vijaykumarbhavanur.com', 85]]\n"
          ],
          "name": "stdout"
        }
      ]
    },
    {
      "cell_type": "code",
      "metadata": {
        "id": "1rPVivyDpjGj",
        "colab_type": "code",
        "colab": {
          "base_uri": "https://localhost:8080/",
          "height": 1000
        },
        "outputId": "ea32606e-3ee7-48b6-ca16-030529fe8507"
      },
      "source": [
        "from pyspark.sql import Row\n",
        "import pandas as pd\n",
        "sc = spark.sparkContext\n",
        "headers = [\"User\", \"IdleTime\"]\n",
        "data=sc.parallelize(zip(*idleUser)).\\\n",
        "map(lambda x: Row(**{headers[i]: elt for i, elt in enumerate(x)})).toDF()"
      ],
      "execution_count": 60,
      "outputs": [
        {
          "output_type": "error",
          "ename": "Py4JJavaError",
          "evalue": "ignored",
          "traceback": [
            "\u001b[0;31m---------------------------------------------------------------------------\u001b[0m",
            "\u001b[0;31mPy4JJavaError\u001b[0m                             Traceback (most recent call last)",
            "\u001b[0;32m<ipython-input-60-28f5eae760b3>\u001b[0m in \u001b[0;36m<module>\u001b[0;34m()\u001b[0m\n\u001b[1;32m      3\u001b[0m \u001b[0msc\u001b[0m \u001b[0;34m=\u001b[0m \u001b[0mspark\u001b[0m\u001b[0;34m.\u001b[0m\u001b[0msparkContext\u001b[0m\u001b[0;34m\u001b[0m\u001b[0;34m\u001b[0m\u001b[0m\n\u001b[1;32m      4\u001b[0m \u001b[0mheaders\u001b[0m \u001b[0;34m=\u001b[0m \u001b[0;34m[\u001b[0m\u001b[0;34m\"User\"\u001b[0m\u001b[0;34m,\u001b[0m \u001b[0;34m\"IdleTime\"\u001b[0m\u001b[0;34m]\u001b[0m\u001b[0;34m\u001b[0m\u001b[0;34m\u001b[0m\u001b[0m\n\u001b[0;32m----> 5\u001b[0;31m \u001b[0mdata\u001b[0m\u001b[0;34m=\u001b[0m\u001b[0msc\u001b[0m\u001b[0;34m.\u001b[0m\u001b[0mparallelize\u001b[0m\u001b[0;34m(\u001b[0m\u001b[0mzip\u001b[0m\u001b[0;34m(\u001b[0m\u001b[0;34m*\u001b[0m\u001b[0midleUser\u001b[0m\u001b[0;34m)\u001b[0m\u001b[0;34m)\u001b[0m\u001b[0;34m.\u001b[0m\u001b[0mmap\u001b[0m\u001b[0;34m(\u001b[0m\u001b[0;32mlambda\u001b[0m \u001b[0mx\u001b[0m\u001b[0;34m:\u001b[0m \u001b[0mRow\u001b[0m\u001b[0;34m(\u001b[0m\u001b[0;34m**\u001b[0m\u001b[0;34m{\u001b[0m\u001b[0mheaders\u001b[0m\u001b[0;34m[\u001b[0m\u001b[0mi\u001b[0m\u001b[0;34m]\u001b[0m\u001b[0;34m:\u001b[0m \u001b[0melt\u001b[0m \u001b[0;32mfor\u001b[0m \u001b[0mi\u001b[0m\u001b[0;34m,\u001b[0m \u001b[0melt\u001b[0m \u001b[0;32min\u001b[0m \u001b[0menumerate\u001b[0m\u001b[0;34m(\u001b[0m\u001b[0mx\u001b[0m\u001b[0;34m)\u001b[0m\u001b[0;34m}\u001b[0m\u001b[0;34m)\u001b[0m\u001b[0;34m)\u001b[0m\u001b[0;34m.\u001b[0m\u001b[0mtoDF\u001b[0m\u001b[0;34m(\u001b[0m\u001b[0;34m)\u001b[0m\u001b[0;34m\u001b[0m\u001b[0;34m\u001b[0m\u001b[0m\n\u001b[0m",
            "\u001b[0;32m/content/spark-2.3.1-bin-hadoop2.7/python/pyspark/sql/session.py\u001b[0m in \u001b[0;36mtoDF\u001b[0;34m(self, schema, sampleRatio)\u001b[0m\n\u001b[1;32m     56\u001b[0m         \u001b[0;34m[\u001b[0m\u001b[0mRow\u001b[0m\u001b[0;34m(\u001b[0m\u001b[0mname\u001b[0m\u001b[0;34m=\u001b[0m\u001b[0;34mu'Alice'\u001b[0m\u001b[0;34m,\u001b[0m \u001b[0mage\u001b[0m\u001b[0;34m=\u001b[0m\u001b[0;36m1\u001b[0m\u001b[0;34m)\u001b[0m\u001b[0;34m]\u001b[0m\u001b[0;34m\u001b[0m\u001b[0;34m\u001b[0m\u001b[0m\n\u001b[1;32m     57\u001b[0m         \"\"\"\n\u001b[0;32m---> 58\u001b[0;31m         \u001b[0;32mreturn\u001b[0m \u001b[0msparkSession\u001b[0m\u001b[0;34m.\u001b[0m\u001b[0mcreateDataFrame\u001b[0m\u001b[0;34m(\u001b[0m\u001b[0mself\u001b[0m\u001b[0;34m,\u001b[0m \u001b[0mschema\u001b[0m\u001b[0;34m,\u001b[0m \u001b[0msampleRatio\u001b[0m\u001b[0;34m)\u001b[0m\u001b[0;34m\u001b[0m\u001b[0;34m\u001b[0m\u001b[0m\n\u001b[0m\u001b[1;32m     59\u001b[0m \u001b[0;34m\u001b[0m\u001b[0m\n\u001b[1;32m     60\u001b[0m     \u001b[0mRDD\u001b[0m\u001b[0;34m.\u001b[0m\u001b[0mtoDF\u001b[0m \u001b[0;34m=\u001b[0m \u001b[0mtoDF\u001b[0m\u001b[0;34m\u001b[0m\u001b[0;34m\u001b[0m\u001b[0m\n",
            "\u001b[0;32m/content/spark-2.3.1-bin-hadoop2.7/python/pyspark/sql/session.py\u001b[0m in \u001b[0;36mcreateDataFrame\u001b[0;34m(self, data, schema, samplingRatio, verifySchema)\u001b[0m\n\u001b[1;32m    687\u001b[0m \u001b[0;34m\u001b[0m\u001b[0m\n\u001b[1;32m    688\u001b[0m         \u001b[0;32mif\u001b[0m \u001b[0misinstance\u001b[0m\u001b[0;34m(\u001b[0m\u001b[0mdata\u001b[0m\u001b[0;34m,\u001b[0m \u001b[0mRDD\u001b[0m\u001b[0;34m)\u001b[0m\u001b[0;34m:\u001b[0m\u001b[0;34m\u001b[0m\u001b[0;34m\u001b[0m\u001b[0m\n\u001b[0;32m--> 689\u001b[0;31m             \u001b[0mrdd\u001b[0m\u001b[0;34m,\u001b[0m \u001b[0mschema\u001b[0m \u001b[0;34m=\u001b[0m \u001b[0mself\u001b[0m\u001b[0;34m.\u001b[0m\u001b[0m_createFromRDD\u001b[0m\u001b[0;34m(\u001b[0m\u001b[0mdata\u001b[0m\u001b[0;34m.\u001b[0m\u001b[0mmap\u001b[0m\u001b[0;34m(\u001b[0m\u001b[0mprepare\u001b[0m\u001b[0;34m)\u001b[0m\u001b[0;34m,\u001b[0m \u001b[0mschema\u001b[0m\u001b[0;34m,\u001b[0m \u001b[0msamplingRatio\u001b[0m\u001b[0;34m)\u001b[0m\u001b[0;34m\u001b[0m\u001b[0;34m\u001b[0m\u001b[0m\n\u001b[0m\u001b[1;32m    690\u001b[0m         \u001b[0;32melse\u001b[0m\u001b[0;34m:\u001b[0m\u001b[0;34m\u001b[0m\u001b[0;34m\u001b[0m\u001b[0m\n\u001b[1;32m    691\u001b[0m             \u001b[0mrdd\u001b[0m\u001b[0;34m,\u001b[0m \u001b[0mschema\u001b[0m \u001b[0;34m=\u001b[0m \u001b[0mself\u001b[0m\u001b[0;34m.\u001b[0m\u001b[0m_createFromLocal\u001b[0m\u001b[0;34m(\u001b[0m\u001b[0mmap\u001b[0m\u001b[0;34m(\u001b[0m\u001b[0mprepare\u001b[0m\u001b[0;34m,\u001b[0m \u001b[0mdata\u001b[0m\u001b[0;34m)\u001b[0m\u001b[0;34m,\u001b[0m \u001b[0mschema\u001b[0m\u001b[0;34m)\u001b[0m\u001b[0;34m\u001b[0m\u001b[0;34m\u001b[0m\u001b[0m\n",
            "\u001b[0;32m/content/spark-2.3.1-bin-hadoop2.7/python/pyspark/sql/session.py\u001b[0m in \u001b[0;36m_createFromRDD\u001b[0;34m(self, rdd, schema, samplingRatio)\u001b[0m\n\u001b[1;32m    382\u001b[0m         \"\"\"\n\u001b[1;32m    383\u001b[0m         \u001b[0;32mif\u001b[0m \u001b[0mschema\u001b[0m \u001b[0;32mis\u001b[0m \u001b[0;32mNone\u001b[0m \u001b[0;32mor\u001b[0m \u001b[0misinstance\u001b[0m\u001b[0;34m(\u001b[0m\u001b[0mschema\u001b[0m\u001b[0;34m,\u001b[0m \u001b[0;34m(\u001b[0m\u001b[0mlist\u001b[0m\u001b[0;34m,\u001b[0m \u001b[0mtuple\u001b[0m\u001b[0;34m)\u001b[0m\u001b[0;34m)\u001b[0m\u001b[0;34m:\u001b[0m\u001b[0;34m\u001b[0m\u001b[0;34m\u001b[0m\u001b[0m\n\u001b[0;32m--> 384\u001b[0;31m             \u001b[0mstruct\u001b[0m \u001b[0;34m=\u001b[0m \u001b[0mself\u001b[0m\u001b[0;34m.\u001b[0m\u001b[0m_inferSchema\u001b[0m\u001b[0;34m(\u001b[0m\u001b[0mrdd\u001b[0m\u001b[0;34m,\u001b[0m \u001b[0msamplingRatio\u001b[0m\u001b[0;34m,\u001b[0m \u001b[0mnames\u001b[0m\u001b[0;34m=\u001b[0m\u001b[0mschema\u001b[0m\u001b[0;34m)\u001b[0m\u001b[0;34m\u001b[0m\u001b[0;34m\u001b[0m\u001b[0m\n\u001b[0m\u001b[1;32m    385\u001b[0m             \u001b[0mconverter\u001b[0m \u001b[0;34m=\u001b[0m \u001b[0m_create_converter\u001b[0m\u001b[0;34m(\u001b[0m\u001b[0mstruct\u001b[0m\u001b[0;34m)\u001b[0m\u001b[0;34m\u001b[0m\u001b[0;34m\u001b[0m\u001b[0m\n\u001b[1;32m    386\u001b[0m             \u001b[0mrdd\u001b[0m \u001b[0;34m=\u001b[0m \u001b[0mrdd\u001b[0m\u001b[0;34m.\u001b[0m\u001b[0mmap\u001b[0m\u001b[0;34m(\u001b[0m\u001b[0mconverter\u001b[0m\u001b[0;34m)\u001b[0m\u001b[0;34m\u001b[0m\u001b[0;34m\u001b[0m\u001b[0m\n",
            "\u001b[0;32m/content/spark-2.3.1-bin-hadoop2.7/python/pyspark/sql/session.py\u001b[0m in \u001b[0;36m_inferSchema\u001b[0;34m(self, rdd, samplingRatio, names)\u001b[0m\n\u001b[1;32m    353\u001b[0m         \u001b[0;34m:\u001b[0m\u001b[0;32mreturn\u001b[0m\u001b[0;34m:\u001b[0m \u001b[0;34m:\u001b[0m\u001b[0;32mclass\u001b[0m\u001b[0;34m:\u001b[0m\u001b[0;31m`\u001b[0m\u001b[0mpyspark\u001b[0m\u001b[0;34m.\u001b[0m\u001b[0msql\u001b[0m\u001b[0;34m.\u001b[0m\u001b[0mtypes\u001b[0m\u001b[0;34m.\u001b[0m\u001b[0mStructType\u001b[0m\u001b[0;31m`\u001b[0m\u001b[0;34m\u001b[0m\u001b[0;34m\u001b[0m\u001b[0m\n\u001b[1;32m    354\u001b[0m         \"\"\"\n\u001b[0;32m--> 355\u001b[0;31m         \u001b[0mfirst\u001b[0m \u001b[0;34m=\u001b[0m \u001b[0mrdd\u001b[0m\u001b[0;34m.\u001b[0m\u001b[0mfirst\u001b[0m\u001b[0;34m(\u001b[0m\u001b[0;34m)\u001b[0m\u001b[0;34m\u001b[0m\u001b[0;34m\u001b[0m\u001b[0m\n\u001b[0m\u001b[1;32m    356\u001b[0m         \u001b[0;32mif\u001b[0m \u001b[0;32mnot\u001b[0m \u001b[0mfirst\u001b[0m\u001b[0;34m:\u001b[0m\u001b[0;34m\u001b[0m\u001b[0;34m\u001b[0m\u001b[0m\n\u001b[1;32m    357\u001b[0m             raise ValueError(\"The first row in RDD is empty, \"\n",
            "\u001b[0;32m/content/spark-2.3.1-bin-hadoop2.7/python/pyspark/rdd.py\u001b[0m in \u001b[0;36mfirst\u001b[0;34m(self)\u001b[0m\n\u001b[1;32m   1391\u001b[0m         \u001b[0mValueError\u001b[0m\u001b[0;34m:\u001b[0m \u001b[0mRDD\u001b[0m \u001b[0;32mis\u001b[0m \u001b[0mempty\u001b[0m\u001b[0;34m\u001b[0m\u001b[0;34m\u001b[0m\u001b[0m\n\u001b[1;32m   1392\u001b[0m         \"\"\"\n\u001b[0;32m-> 1393\u001b[0;31m         \u001b[0mrs\u001b[0m \u001b[0;34m=\u001b[0m \u001b[0mself\u001b[0m\u001b[0;34m.\u001b[0m\u001b[0mtake\u001b[0m\u001b[0;34m(\u001b[0m\u001b[0;36m1\u001b[0m\u001b[0;34m)\u001b[0m\u001b[0;34m\u001b[0m\u001b[0;34m\u001b[0m\u001b[0m\n\u001b[0m\u001b[1;32m   1394\u001b[0m         \u001b[0;32mif\u001b[0m \u001b[0mrs\u001b[0m\u001b[0;34m:\u001b[0m\u001b[0;34m\u001b[0m\u001b[0;34m\u001b[0m\u001b[0m\n\u001b[1;32m   1395\u001b[0m             \u001b[0;32mreturn\u001b[0m \u001b[0mrs\u001b[0m\u001b[0;34m[\u001b[0m\u001b[0;36m0\u001b[0m\u001b[0;34m]\u001b[0m\u001b[0;34m\u001b[0m\u001b[0;34m\u001b[0m\u001b[0m\n",
            "\u001b[0;32m/content/spark-2.3.1-bin-hadoop2.7/python/pyspark/rdd.py\u001b[0m in \u001b[0;36mtake\u001b[0;34m(self, num)\u001b[0m\n\u001b[1;32m   1373\u001b[0m \u001b[0;34m\u001b[0m\u001b[0m\n\u001b[1;32m   1374\u001b[0m             \u001b[0mp\u001b[0m \u001b[0;34m=\u001b[0m \u001b[0mrange\u001b[0m\u001b[0;34m(\u001b[0m\u001b[0mpartsScanned\u001b[0m\u001b[0;34m,\u001b[0m \u001b[0mmin\u001b[0m\u001b[0;34m(\u001b[0m\u001b[0mpartsScanned\u001b[0m \u001b[0;34m+\u001b[0m \u001b[0mnumPartsToTry\u001b[0m\u001b[0;34m,\u001b[0m \u001b[0mtotalParts\u001b[0m\u001b[0;34m)\u001b[0m\u001b[0;34m)\u001b[0m\u001b[0;34m\u001b[0m\u001b[0;34m\u001b[0m\u001b[0m\n\u001b[0;32m-> 1375\u001b[0;31m             \u001b[0mres\u001b[0m \u001b[0;34m=\u001b[0m \u001b[0mself\u001b[0m\u001b[0;34m.\u001b[0m\u001b[0mcontext\u001b[0m\u001b[0;34m.\u001b[0m\u001b[0mrunJob\u001b[0m\u001b[0;34m(\u001b[0m\u001b[0mself\u001b[0m\u001b[0;34m,\u001b[0m \u001b[0mtakeUpToNumLeft\u001b[0m\u001b[0;34m,\u001b[0m \u001b[0mp\u001b[0m\u001b[0;34m)\u001b[0m\u001b[0;34m\u001b[0m\u001b[0;34m\u001b[0m\u001b[0m\n\u001b[0m\u001b[1;32m   1376\u001b[0m \u001b[0;34m\u001b[0m\u001b[0m\n\u001b[1;32m   1377\u001b[0m             \u001b[0mitems\u001b[0m \u001b[0;34m+=\u001b[0m \u001b[0mres\u001b[0m\u001b[0;34m\u001b[0m\u001b[0;34m\u001b[0m\u001b[0m\n",
            "\u001b[0;32m/content/spark-2.3.1-bin-hadoop2.7/python/pyspark/context.py\u001b[0m in \u001b[0;36mrunJob\u001b[0;34m(self, rdd, partitionFunc, partitions, allowLocal)\u001b[0m\n\u001b[1;32m   1011\u001b[0m         \u001b[0;31m# SparkContext#runJob.\u001b[0m\u001b[0;34m\u001b[0m\u001b[0;34m\u001b[0m\u001b[0;34m\u001b[0m\u001b[0m\n\u001b[1;32m   1012\u001b[0m         \u001b[0mmappedRDD\u001b[0m \u001b[0;34m=\u001b[0m \u001b[0mrdd\u001b[0m\u001b[0;34m.\u001b[0m\u001b[0mmapPartitions\u001b[0m\u001b[0;34m(\u001b[0m\u001b[0mpartitionFunc\u001b[0m\u001b[0;34m)\u001b[0m\u001b[0;34m\u001b[0m\u001b[0;34m\u001b[0m\u001b[0m\n\u001b[0;32m-> 1013\u001b[0;31m         \u001b[0msock_info\u001b[0m \u001b[0;34m=\u001b[0m \u001b[0mself\u001b[0m\u001b[0;34m.\u001b[0m\u001b[0m_jvm\u001b[0m\u001b[0;34m.\u001b[0m\u001b[0mPythonRDD\u001b[0m\u001b[0;34m.\u001b[0m\u001b[0mrunJob\u001b[0m\u001b[0;34m(\u001b[0m\u001b[0mself\u001b[0m\u001b[0;34m.\u001b[0m\u001b[0m_jsc\u001b[0m\u001b[0;34m.\u001b[0m\u001b[0msc\u001b[0m\u001b[0;34m(\u001b[0m\u001b[0;34m)\u001b[0m\u001b[0;34m,\u001b[0m \u001b[0mmappedRDD\u001b[0m\u001b[0;34m.\u001b[0m\u001b[0m_jrdd\u001b[0m\u001b[0;34m,\u001b[0m \u001b[0mpartitions\u001b[0m\u001b[0;34m)\u001b[0m\u001b[0;34m\u001b[0m\u001b[0;34m\u001b[0m\u001b[0m\n\u001b[0m\u001b[1;32m   1014\u001b[0m         \u001b[0;32mreturn\u001b[0m \u001b[0mlist\u001b[0m\u001b[0;34m(\u001b[0m\u001b[0m_load_from_socket\u001b[0m\u001b[0;34m(\u001b[0m\u001b[0msock_info\u001b[0m\u001b[0;34m,\u001b[0m \u001b[0mmappedRDD\u001b[0m\u001b[0;34m.\u001b[0m\u001b[0m_jrdd_deserializer\u001b[0m\u001b[0;34m)\u001b[0m\u001b[0;34m)\u001b[0m\u001b[0;34m\u001b[0m\u001b[0;34m\u001b[0m\u001b[0m\n\u001b[1;32m   1015\u001b[0m \u001b[0;34m\u001b[0m\u001b[0m\n",
            "\u001b[0;32m/content/spark-2.3.1-bin-hadoop2.7/python/lib/py4j-0.10.7-src.zip/py4j/java_gateway.py\u001b[0m in \u001b[0;36m__call__\u001b[0;34m(self, *args)\u001b[0m\n\u001b[1;32m   1255\u001b[0m         \u001b[0manswer\u001b[0m \u001b[0;34m=\u001b[0m \u001b[0mself\u001b[0m\u001b[0;34m.\u001b[0m\u001b[0mgateway_client\u001b[0m\u001b[0;34m.\u001b[0m\u001b[0msend_command\u001b[0m\u001b[0;34m(\u001b[0m\u001b[0mcommand\u001b[0m\u001b[0;34m)\u001b[0m\u001b[0;34m\u001b[0m\u001b[0;34m\u001b[0m\u001b[0m\n\u001b[1;32m   1256\u001b[0m         return_value = get_return_value(\n\u001b[0;32m-> 1257\u001b[0;31m             answer, self.gateway_client, self.target_id, self.name)\n\u001b[0m\u001b[1;32m   1258\u001b[0m \u001b[0;34m\u001b[0m\u001b[0m\n\u001b[1;32m   1259\u001b[0m         \u001b[0;32mfor\u001b[0m \u001b[0mtemp_arg\u001b[0m \u001b[0;32min\u001b[0m \u001b[0mtemp_args\u001b[0m\u001b[0;34m:\u001b[0m\u001b[0;34m\u001b[0m\u001b[0;34m\u001b[0m\u001b[0m\n",
            "\u001b[0;32m/content/spark-2.3.1-bin-hadoop2.7/python/pyspark/sql/utils.py\u001b[0m in \u001b[0;36mdeco\u001b[0;34m(*a, **kw)\u001b[0m\n\u001b[1;32m     61\u001b[0m     \u001b[0;32mdef\u001b[0m \u001b[0mdeco\u001b[0m\u001b[0;34m(\u001b[0m\u001b[0;34m*\u001b[0m\u001b[0ma\u001b[0m\u001b[0;34m,\u001b[0m \u001b[0;34m**\u001b[0m\u001b[0mkw\u001b[0m\u001b[0;34m)\u001b[0m\u001b[0;34m:\u001b[0m\u001b[0;34m\u001b[0m\u001b[0;34m\u001b[0m\u001b[0m\n\u001b[1;32m     62\u001b[0m         \u001b[0;32mtry\u001b[0m\u001b[0;34m:\u001b[0m\u001b[0;34m\u001b[0m\u001b[0;34m\u001b[0m\u001b[0m\n\u001b[0;32m---> 63\u001b[0;31m             \u001b[0;32mreturn\u001b[0m \u001b[0mf\u001b[0m\u001b[0;34m(\u001b[0m\u001b[0;34m*\u001b[0m\u001b[0ma\u001b[0m\u001b[0;34m,\u001b[0m \u001b[0;34m**\u001b[0m\u001b[0mkw\u001b[0m\u001b[0;34m)\u001b[0m\u001b[0;34m\u001b[0m\u001b[0;34m\u001b[0m\u001b[0m\n\u001b[0m\u001b[1;32m     64\u001b[0m         \u001b[0;32mexcept\u001b[0m \u001b[0mpy4j\u001b[0m\u001b[0;34m.\u001b[0m\u001b[0mprotocol\u001b[0m\u001b[0;34m.\u001b[0m\u001b[0mPy4JJavaError\u001b[0m \u001b[0;32mas\u001b[0m \u001b[0me\u001b[0m\u001b[0;34m:\u001b[0m\u001b[0;34m\u001b[0m\u001b[0;34m\u001b[0m\u001b[0m\n\u001b[1;32m     65\u001b[0m             \u001b[0ms\u001b[0m \u001b[0;34m=\u001b[0m \u001b[0me\u001b[0m\u001b[0;34m.\u001b[0m\u001b[0mjava_exception\u001b[0m\u001b[0;34m.\u001b[0m\u001b[0mtoString\u001b[0m\u001b[0;34m(\u001b[0m\u001b[0;34m)\u001b[0m\u001b[0;34m\u001b[0m\u001b[0;34m\u001b[0m\u001b[0m\n",
            "\u001b[0;32m/content/spark-2.3.1-bin-hadoop2.7/python/lib/py4j-0.10.7-src.zip/py4j/protocol.py\u001b[0m in \u001b[0;36mget_return_value\u001b[0;34m(answer, gateway_client, target_id, name)\u001b[0m\n\u001b[1;32m    326\u001b[0m                 raise Py4JJavaError(\n\u001b[1;32m    327\u001b[0m                     \u001b[0;34m\"An error occurred while calling {0}{1}{2}.\\n\"\u001b[0m\u001b[0;34m.\u001b[0m\u001b[0;34m\u001b[0m\u001b[0;34m\u001b[0m\u001b[0m\n\u001b[0;32m--> 328\u001b[0;31m                     format(target_id, \".\", name), value)\n\u001b[0m\u001b[1;32m    329\u001b[0m             \u001b[0;32melse\u001b[0m\u001b[0;34m:\u001b[0m\u001b[0;34m\u001b[0m\u001b[0;34m\u001b[0m\u001b[0m\n\u001b[1;32m    330\u001b[0m                 raise Py4JError(\n",
            "\u001b[0;31mPy4JJavaError\u001b[0m: An error occurred while calling z:org.apache.spark.api.python.PythonRDD.runJob.\n: org.apache.spark.SparkException: Job aborted due to stage failure: Task 0 in stage 179.0 failed 1 times, most recent failure: Lost task 0.0 in stage 179.0 (TID 5596, localhost, executor driver): org.apache.spark.api.python.PythonException: Traceback (most recent call last):\n  File \"/content/spark-2.3.1-bin-hadoop2.7/python/lib/pyspark.zip/pyspark/worker.py\", line 230, in main\n    process()\n  File \"/content/spark-2.3.1-bin-hadoop2.7/python/lib/pyspark.zip/pyspark/worker.py\", line 225, in process\n    serializer.dump_stream(func(split_index, iterator), outfile)\n  File \"/content/spark-2.3.1-bin-hadoop2.7/python/lib/pyspark.zip/pyspark/serializers.py\", line 372, in dump_stream\n    vs = list(itertools.islice(iterator, batch))\n  File \"/content/spark-2.3.1-bin-hadoop2.7/python/pyspark/rdd.py\", line 1371, in takeUpToNumLeft\n    yield next(iterator)\n  File \"/content/spark-2.3.1-bin-hadoop2.7/python/lib/pyspark.zip/pyspark/util.py\", line 55, in wrapper\n    return f(*args, **kwargs)\n  File \"<ipython-input-60-28f5eae760b3>\", line 5, in <lambda>\n  File \"<ipython-input-60-28f5eae760b3>\", line 5, in <dictcomp>\nIndexError: list index out of range\n\n\tat org.apache.spark.api.python.BasePythonRunner$ReaderIterator.handlePythonException(PythonRunner.scala:298)\n\tat org.apache.spark.api.python.PythonRunner$$anon$1.read(PythonRunner.scala:438)\n\tat org.apache.spark.api.python.PythonRunner$$anon$1.read(PythonRunner.scala:421)\n\tat org.apache.spark.api.python.BasePythonRunner$ReaderIterator.hasNext(PythonRunner.scala:252)\n\tat org.apache.spark.InterruptibleIterator.hasNext(InterruptibleIterator.scala:37)\n\tat scala.collection.Iterator$class.foreach(Iterator.scala:893)\n\tat org.apache.spark.InterruptibleIterator.foreach(InterruptibleIterator.scala:28)\n\tat scala.collection.generic.Growable$class.$plus$plus$eq(Growable.scala:59)\n\tat scala.collection.mutable.ArrayBuffer.$plus$plus$eq(ArrayBuffer.scala:104)\n\tat scala.collection.mutable.ArrayBuffer.$plus$plus$eq(ArrayBuffer.scala:48)\n\tat scala.collection.TraversableOnce$class.to(TraversableOnce.scala:310)\n\tat org.apache.spark.InterruptibleIterator.to(InterruptibleIterator.scala:28)\n\tat scala.collection.TraversableOnce$class.toBuffer(TraversableOnce.scala:302)\n\tat org.apache.spark.InterruptibleIterator.toBuffer(InterruptibleIterator.scala:28)\n\tat scala.collection.TraversableOnce$class.toArray(TraversableOnce.scala:289)\n\tat org.apache.spark.InterruptibleIterator.toArray(InterruptibleIterator.scala:28)\n\tat org.apache.spark.api.python.PythonRDD$$anonfun$3.apply(PythonRDD.scala:149)\n\tat org.apache.spark.api.python.PythonRDD$$anonfun$3.apply(PythonRDD.scala:149)\n\tat org.apache.spark.SparkContext$$anonfun$runJob$5.apply(SparkContext.scala:2074)\n\tat org.apache.spark.SparkContext$$anonfun$runJob$5.apply(SparkContext.scala:2074)\n\tat org.apache.spark.scheduler.ResultTask.runTask(ResultTask.scala:87)\n\tat org.apache.spark.scheduler.Task.run(Task.scala:109)\n\tat org.apache.spark.executor.Executor$TaskRunner.run(Executor.scala:345)\n\tat java.util.concurrent.ThreadPoolExecutor.runWorker(ThreadPoolExecutor.java:1149)\n\tat java.util.concurrent.ThreadPoolExecutor$Worker.run(ThreadPoolExecutor.java:624)\n\tat java.lang.Thread.run(Thread.java:748)\n\nDriver stacktrace:\n\tat org.apache.spark.scheduler.DAGScheduler.org$apache$spark$scheduler$DAGScheduler$$failJobAndIndependentStages(DAGScheduler.scala:1602)\n\tat org.apache.spark.scheduler.DAGScheduler$$anonfun$abortStage$1.apply(DAGScheduler.scala:1590)\n\tat org.apache.spark.scheduler.DAGScheduler$$anonfun$abortStage$1.apply(DAGScheduler.scala:1589)\n\tat scala.collection.mutable.ResizableArray$class.foreach(ResizableArray.scala:59)\n\tat scala.collection.mutable.ArrayBuffer.foreach(ArrayBuffer.scala:48)\n\tat org.apache.spark.scheduler.DAGScheduler.abortStage(DAGScheduler.scala:1589)\n\tat org.apache.spark.scheduler.DAGScheduler$$anonfun$handleTaskSetFailed$1.apply(DAGScheduler.scala:831)\n\tat org.apache.spark.scheduler.DAGScheduler$$anonfun$handleTaskSetFailed$1.apply(DAGScheduler.scala:831)\n\tat scala.Option.foreach(Option.scala:257)\n\tat org.apache.spark.scheduler.DAGScheduler.handleTaskSetFailed(DAGScheduler.scala:831)\n\tat org.apache.spark.scheduler.DAGSchedulerEventProcessLoop.doOnReceive(DAGScheduler.scala:1823)\n\tat org.apache.spark.scheduler.DAGSchedulerEventProcessLoop.onReceive(DAGScheduler.scala:1772)\n\tat org.apache.spark.scheduler.DAGSchedulerEventProcessLoop.onReceive(DAGScheduler.scala:1761)\n\tat org.apache.spark.util.EventLoop$$anon$1.run(EventLoop.scala:48)\n\tat org.apache.spark.scheduler.DAGScheduler.runJob(DAGScheduler.scala:642)\n\tat org.apache.spark.SparkContext.runJob(SparkContext.scala:2034)\n\tat org.apache.spark.SparkContext.runJob(SparkContext.scala:2055)\n\tat org.apache.spark.SparkContext.runJob(SparkContext.scala:2074)\n\tat org.apache.spark.api.python.PythonRDD$.runJob(PythonRDD.scala:149)\n\tat org.apache.spark.api.python.PythonRDD.runJob(PythonRDD.scala)\n\tat sun.reflect.NativeMethodAccessorImpl.invoke0(Native Method)\n\tat sun.reflect.NativeMethodAccessorImpl.invoke(NativeMethodAccessorImpl.java:62)\n\tat sun.reflect.DelegatingMethodAccessorImpl.invoke(DelegatingMethodAccessorImpl.java:43)\n\tat java.lang.reflect.Method.invoke(Method.java:498)\n\tat py4j.reflection.MethodInvoker.invoke(MethodInvoker.java:244)\n\tat py4j.reflection.ReflectionEngine.invoke(ReflectionEngine.java:357)\n\tat py4j.Gateway.invoke(Gateway.java:282)\n\tat py4j.commands.AbstractCommand.invokeMethod(AbstractCommand.java:132)\n\tat py4j.commands.CallCommand.execute(CallCommand.java:79)\n\tat py4j.GatewayConnection.run(GatewayConnection.java:238)\n\tat java.lang.Thread.run(Thread.java:748)\nCaused by: org.apache.spark.api.python.PythonException: Traceback (most recent call last):\n  File \"/content/spark-2.3.1-bin-hadoop2.7/python/lib/pyspark.zip/pyspark/worker.py\", line 230, in main\n    process()\n  File \"/content/spark-2.3.1-bin-hadoop2.7/python/lib/pyspark.zip/pyspark/worker.py\", line 225, in process\n    serializer.dump_stream(func(split_index, iterator), outfile)\n  File \"/content/spark-2.3.1-bin-hadoop2.7/python/lib/pyspark.zip/pyspark/serializers.py\", line 372, in dump_stream\n    vs = list(itertools.islice(iterator, batch))\n  File \"/content/spark-2.3.1-bin-hadoop2.7/python/pyspark/rdd.py\", line 1371, in takeUpToNumLeft\n    yield next(iterator)\n  File \"/content/spark-2.3.1-bin-hadoop2.7/python/lib/pyspark.zip/pyspark/util.py\", line 55, in wrapper\n    return f(*args, **kwargs)\n  File \"<ipython-input-60-28f5eae760b3>\", line 5, in <lambda>\n  File \"<ipython-input-60-28f5eae760b3>\", line 5, in <dictcomp>\nIndexError: list index out of range\n\n\tat org.apache.spark.api.python.BasePythonRunner$ReaderIterator.handlePythonException(PythonRunner.scala:298)\n\tat org.apache.spark.api.python.PythonRunner$$anon$1.read(PythonRunner.scala:438)\n\tat org.apache.spark.api.python.PythonRunner$$anon$1.read(PythonRunner.scala:421)\n\tat org.apache.spark.api.python.BasePythonRunner$ReaderIterator.hasNext(PythonRunner.scala:252)\n\tat org.apache.spark.InterruptibleIterator.hasNext(InterruptibleIterator.scala:37)\n\tat scala.collection.Iterator$class.foreach(Iterator.scala:893)\n\tat org.apache.spark.InterruptibleIterator.foreach(InterruptibleIterator.scala:28)\n\tat scala.collection.generic.Growable$class.$plus$plus$eq(Growable.scala:59)\n\tat scala.collection.mutable.ArrayBuffer.$plus$plus$eq(ArrayBuffer.scala:104)\n\tat scala.collection.mutable.ArrayBuffer.$plus$plus$eq(ArrayBuffer.scala:48)\n\tat scala.collection.TraversableOnce$class.to(TraversableOnce.scala:310)\n\tat org.apache.spark.InterruptibleIterator.to(InterruptibleIterator.scala:28)\n\tat scala.collection.TraversableOnce$class.toBuffer(TraversableOnce.scala:302)\n\tat org.apache.spark.InterruptibleIterator.toBuffer(InterruptibleIterator.scala:28)\n\tat scala.collection.TraversableOnce$class.toArray(TraversableOnce.scala:289)\n\tat org.apache.spark.InterruptibleIterator.toArray(InterruptibleIterator.scala:28)\n\tat org.apache.spark.api.python.PythonRDD$$anonfun$3.apply(PythonRDD.scala:149)\n\tat org.apache.spark.api.python.PythonRDD$$anonfun$3.apply(PythonRDD.scala:149)\n\tat org.apache.spark.SparkContext$$anonfun$runJob$5.apply(SparkContext.scala:2074)\n\tat org.apache.spark.SparkContext$$anonfun$runJob$5.apply(SparkContext.scala:2074)\n\tat org.apache.spark.scheduler.ResultTask.runTask(ResultTask.scala:87)\n\tat org.apache.spark.scheduler.Task.run(Task.scala:109)\n\tat org.apache.spark.executor.Executor$TaskRunner.run(Executor.scala:345)\n\tat java.util.concurrent.ThreadPoolExecutor.runWorker(ThreadPoolExecutor.java:1149)\n\tat java.util.concurrent.ThreadPoolExecutor$Worker.run(ThreadPoolExecutor.java:624)\n\t... 1 more\n"
          ]
        }
      ]
    }
  ]
}