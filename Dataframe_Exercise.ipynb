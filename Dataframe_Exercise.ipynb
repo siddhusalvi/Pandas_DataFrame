{
  "nbformat": 4,
  "nbformat_minor": 0,
  "metadata": {
    "colab": {
      "name": "Dataframe Exercise.ipynb",
      "provenance": [],
      "collapsed_sections": [],
      "authorship_tag": "ABX9TyPN6m/QU5dcKJSPi4SgtSwI",
      "include_colab_link": true
    },
    "kernelspec": {
      "name": "python3",
      "display_name": "Python 3"
    }
  },
  "cells": [
    {
      "cell_type": "markdown",
      "metadata": {
        "id": "view-in-github",
        "colab_type": "text"
      },
      "source": [
        "<a href=\"https://colab.research.google.com/github/siddhusalvi/Pandas_DataFrame/blob/master/Dataframe_Exercise.ipynb\" target=\"_parent\"><img src=\"https://colab.research.google.com/assets/colab-badge.svg\" alt=\"Open In Colab\"/></a>"
      ]
    },
    {
      "cell_type": "code",
      "metadata": {
        "id": "qdknV7_2NtyR",
        "colab_type": "code",
        "colab": {
          "base_uri": "https://localhost:8080/",
          "height": 624
        },
        "outputId": "82ec0579-0f84-432b-ccc1-c1f0ea6a8662"
      },
      "source": [
        "!apt-get update\n",
        "!apt-get install openjdk-8-jdk-headless -qq > /dev/null\n",
        "!wget -q http://archive.apache.org/dist/spark/spark-2.3.1/spark-2.3.1-bin-hadoop2.7.tgz\n",
        "!tar xf spark-2.3.1-bin-hadoop2.7.tgz\n",
        "!pip install -q findspark\n",
        "import os\n",
        "os.environ[\"JAVA_HOME\"] = \"/usr/lib/jvm/java-8-openjdk-amd64\"\n",
        "os.environ[\"SPARK_HOME\"] = \"/content/spark-2.3.1-bin-hadoop2.7\"\n",
        "import findspark\n",
        "findspark.init()\n",
        "import pyspark\n",
        "from pyspark.sql import SparkSession\n",
        "spark = SparkSession.builder.getOrCreate() \n",
        "spark"
      ],
      "execution_count": 1,
      "outputs": [
        {
          "output_type": "stream",
          "text": [
            "\r0% [Working]\r            \rGet:1 http://security.ubuntu.com/ubuntu bionic-security InRelease [88.7 kB]\n",
            "\r0% [Connecting to archive.ubuntu.com (91.189.88.142)] [1 InRelease 8,378 B/88.7\r                                                                               \rIgn:2 https://developer.download.nvidia.com/compute/cuda/repos/ubuntu1804/x86_64  InRelease\n",
            "\r0% [Waiting for headers] [1 InRelease 37.3 kB/88.7 kB 42%] [Waiting for headers\r                                                                               \rGet:3 https://cloud.r-project.org/bin/linux/ubuntu bionic-cran35/ InRelease [3,626 B]\n",
            "\r0% [Waiting for headers] [1 InRelease 43.1 kB/88.7 kB 49%] [3 InRelease 3,626 B\r0% [Waiting for headers] [1 InRelease 43.1 kB/88.7 kB 49%] [Waiting for headers\r0% [3 InRelease gpgv 3,626 B] [Waiting for headers] [1 InRelease 43.1 kB/88.7 k\r0% [3 InRelease gpgv 3,626 B] [Waiting for headers] [Waiting for headers] [Wait\r                                                                               \rIgn:4 https://developer.download.nvidia.com/compute/machine-learning/repos/ubuntu1804/x86_64  InRelease\n",
            "\r                                                                               \r0% [3 InRelease gpgv 3,626 B] [Waiting for headers] [Waiting for headers]\r                                                                         \rHit:5 http://archive.ubuntu.com/ubuntu bionic InRelease\n",
            "\r0% [3 InRelease gpgv 3,626 B] [Waiting for headers] [Waiting for headers] [Wait\r                                                                               \rGet:6 https://developer.download.nvidia.com/compute/cuda/repos/ubuntu1804/x86_64  Release [697 B]\n",
            "\r                                                                               \r0% [3 InRelease gpgv 3,626 B] [Waiting for headers] [Waiting for headers]\r                                                                         \rHit:7 https://developer.download.nvidia.com/compute/machine-learning/repos/ubuntu1804/x86_64  Release\n",
            "\r0% [3 InRelease gpgv 3,626 B] [Waiting for headers] [Waiting for headers]\r                                                                         \rHit:8 http://ppa.launchpad.net/graphics-drivers/ppa/ubuntu bionic InRelease\n",
            "\r0% [3 InRelease gpgv 3,626 B] [Waiting for headers] [Waiting for headers]\r                                                                         \rGet:9 https://developer.download.nvidia.com/compute/cuda/repos/ubuntu1804/x86_64  Release.gpg [836 B]\n",
            "\r0% [3 InRelease gpgv 3,626 B] [Waiting for headers] [9 Release.gpg 836 B/836 B \r0% [3 InRelease gpgv 3,626 B] [Waiting for headers] [Connecting to ppa.launchpa\r                                                                               \rGet:10 http://archive.ubuntu.com/ubuntu bionic-updates InRelease [88.7 kB]\n",
            "\r0% [3 InRelease gpgv 3,626 B] [10 InRelease 14.2 kB/88.7 kB 16%] [Connecting to\r                                                                               \rGet:11 http://ppa.launchpad.net/marutter/c2d4u3.5/ubuntu bionic InRelease [15.4 kB]\n",
            "\r0% [3 InRelease gpgv 3,626 B] [10 InRelease 46.0 kB/88.7 kB 52%] [11 InRelease \r                                                                               \r0% [10 InRelease 47.5 kB/88.7 kB 54%] [11 InRelease 14.2 kB/15.4 kB 92%]\r0% [1 InRelease gpgv 88.7 kB] [10 InRelease 47.5 kB/88.7 kB 54%] [11 InRelease \r                                                                               \r0% [1 InRelease gpgv 88.7 kB] [10 InRelease 47.5 kB/88.7 kB 54%]\r                                                                \r0% [1 InRelease gpgv 88.7 kB] [Waiting for headers]\r                                                   \r0% [Waiting for headers]\r                        \rGet:12 http://archive.ubuntu.com/ubuntu bionic-backports InRelease [74.6 kB]\n",
            "Get:13 http://security.ubuntu.com/ubuntu bionic-security/universe amd64 Packages [882 kB]\n",
            "Get:14 http://security.ubuntu.com/ubuntu bionic-security/main amd64 Packages [1,037 kB]\n",
            "Ign:16 https://developer.download.nvidia.com/compute/cuda/repos/ubuntu1804/x86_64  Packages\n",
            "Get:16 https://developer.download.nvidia.com/compute/cuda/repos/ubuntu1804/x86_64  Packages [255 kB]\n",
            "Get:17 http://ppa.launchpad.net/marutter/c2d4u3.5/ubuntu bionic/main Sources [1,855 kB]\n",
            "Get:18 http://archive.ubuntu.com/ubuntu bionic-updates/universe amd64 Packages [1,413 kB]\n",
            "Get:19 http://archive.ubuntu.com/ubuntu bionic-updates/restricted amd64 Packages [116 kB]\n",
            "Get:20 http://archive.ubuntu.com/ubuntu bionic-updates/multiverse amd64 Packages [27.1 kB]\n",
            "Get:21 http://archive.ubuntu.com/ubuntu bionic-updates/main amd64 Packages [1,334 kB]\n",
            "Get:22 http://ppa.launchpad.net/marutter/c2d4u3.5/ubuntu bionic/main amd64 Packages [895 kB]\n",
            "Fetched 8,087 kB in 4s (2,249 kB/s)\n",
            "Reading package lists... Done\n"
          ],
          "name": "stdout"
        },
        {
          "output_type": "execute_result",
          "data": {
            "text/html": [
              "\n",
              "            <div>\n",
              "                <p><b>SparkSession - in-memory</b></p>\n",
              "                \n",
              "        <div>\n",
              "            <p><b>SparkContext</b></p>\n",
              "\n",
              "            <p><a href=\"http://16adf72f2ef2:4040\">Spark UI</a></p>\n",
              "\n",
              "            <dl>\n",
              "              <dt>Version</dt>\n",
              "                <dd><code>v2.3.1</code></dd>\n",
              "              <dt>Master</dt>\n",
              "                <dd><code>local[*]</code></dd>\n",
              "              <dt>AppName</dt>\n",
              "                <dd><code>pyspark-shell</code></dd>\n",
              "            </dl>\n",
              "        </div>\n",
              "        \n",
              "            </div>\n",
              "        "
            ],
            "text/plain": [
              "<pyspark.sql.session.SparkSession at 0x7f10ab1f09e8>"
            ]
          },
          "metadata": {
            "tags": []
          },
          "execution_count": 1
        }
      ]
    },
    {
      "cell_type": "code",
      "metadata": {
        "id": "IQreZrNOYxrn",
        "colab_type": "code",
        "colab": {}
      },
      "source": [
        "from pyspark.context import SparkContext\n",
        "from pyspark.sql.session import SparkSession\n",
        "from pyspark.sql.functions import *"
      ],
      "execution_count": 2,
      "outputs": []
    },
    {
      "cell_type": "code",
      "metadata": {
        "id": "n9gwWc0KY6H_",
        "colab_type": "code",
        "colab": {}
      },
      "source": [
        "df = spark.read.format(\"csv\").option(\"header\",\"true\").load(\"day1.csv\")"
      ],
      "execution_count": 4,
      "outputs": []
    },
    {
      "cell_type": "code",
      "metadata": {
        "id": "ReHQM4KZY_ol",
        "colab_type": "code",
        "colab": {
          "base_uri": "https://localhost:8080/",
          "height": 816
        },
        "outputId": "7fe1d0ae-9943-478d-f9a4-7dd1dca19c78"
      },
      "source": [
        "df.printSchema()"
      ],
      "execution_count": 5,
      "outputs": [
        {
          "output_type": "stream",
          "text": [
            "root\n",
            " |-- DateTime: string (nullable = true)\n",
            " |-- Cpu Count: string (nullable = true)\n",
            " |-- Cpu Working Time: string (nullable = true)\n",
            " |-- Cpu idle Time: string (nullable = true)\n",
            " |-- cpu_percent: string (nullable = true)\n",
            " |-- Usage Cpu Count : string (nullable = true)\n",
            " |-- number of software interrupts since boot: string (nullable = true)\n",
            " |-- number of system calls since boot: string (nullable = true)\n",
            " |-- number of interrupts since boot: string (nullable = true)\n",
            " |-- cpu avg load over 1 min: string (nullable = true)\n",
            " |-- cpu avg load over 5 min: string (nullable = true)\n",
            " |-- cpu avg load over 15 min: string (nullable = true)\n",
            " |-- system_total_memory: string (nullable = true)\n",
            " |-- system_used_memory: string (nullable = true)\n",
            " |-- system_free_memory: string (nullable = true)\n",
            " |-- system_active_memory: string (nullable = true)\n",
            " |-- system_inactive_memory: string (nullable = true)\n",
            " |-- system_buffers_memory: string (nullable = true)\n",
            " |-- system_cached_memory: string (nullable = true)\n",
            " |-- system_shared_memory: string (nullable = true)\n",
            " |-- system_avalible_memory: string (nullable = true)\n",
            " |-- disk_total_memory: string (nullable = true)\n",
            " |-- disk_used_memory: string (nullable = true)\n",
            " |-- disk_free_memory: string (nullable = true)\n",
            " |-- disk_read_count: string (nullable = true)\n",
            " |-- disk_write_count: string (nullable = true)\n",
            " |-- disk_read_bytes: string (nullable = true)\n",
            " |-- disk_write_bytes: string (nullable = true)\n",
            " |-- time spent reading from disk: string (nullable = true)\n",
            " |-- time spent writing to disk: string (nullable = true)\n",
            " |-- time spent doing actual I/Os: string (nullable = true)\n",
            " |-- number of bytes sent: string (nullable = true)\n",
            " |-- number of bytes received: string (nullable = true)\n",
            " |-- number of packets sent: string (nullable = true)\n",
            " |-- number of packets recived: string (nullable = true)\n",
            " |-- total number of errors while receiving: string (nullable = true)\n",
            " |-- total number of errors while sending: string (nullable = true)\n",
            " |-- total number of incoming packets which were dropped: string (nullable = true)\n",
            " |-- total number of outgoing packets which were dropped: string (nullable = true)\n",
            " |-- boot_time: string (nullable = true)\n",
            " |-- user_name: string (nullable = true)\n",
            " |-- keyboard: string (nullable = true)\n",
            " |-- mouse: string (nullable = true)\n",
            " |-- technology: string (nullable = true)\n",
            " |-- files_changed: string (nullable = true)\n",
            "\n"
          ],
          "name": "stdout"
        }
      ]
    },
    {
      "cell_type": "code",
      "metadata": {
        "id": "d2JNKW7pZCC2",
        "colab_type": "code",
        "colab": {}
      },
      "source": [
        "dataDF = df.select('user_name','DateTime','keyboard','mouse')"
      ],
      "execution_count": 6,
      "outputs": []
    },
    {
      "cell_type": "code",
      "metadata": {
        "id": "wqeSyXkoZEBw",
        "colab_type": "code",
        "colab": {}
      },
      "source": [
        "tempDF = dataDF.withColumn(\"Date\",to_timestamp('DateTime','yyyy-MM-dd HH:mm:ss'))"
      ],
      "execution_count": 7,
      "outputs": []
    },
    {
      "cell_type": "code",
      "metadata": {
        "id": "64FKSzVcZTfr",
        "colab_type": "code",
        "colab": {
          "base_uri": "https://localhost:8080/",
          "height": 459
        },
        "outputId": "dc76f6b5-d780-469a-c499-3f05d137f31f"
      },
      "source": [
        "tempDF.show()"
      ],
      "execution_count": 8,
      "outputs": [
        {
          "output_type": "stream",
          "text": [
            "+--------------------+-------------------+--------+------+-------------------+\n",
            "|           user_name|           DateTime|keyboard| mouse|               Date|\n",
            "+--------------------+-------------------+--------+------+-------------------+\n",
            "|  iamnzm@outlook.com|2019-10-13 10:20:02|  1312.0| 214.0|2019-10-13 10:20:02|\n",
            "|  shelkeva@gmail.com|2019-10-13 10:25:01|    55.0|  15.0|2019-10-13 10:25:01|\n",
            "|  iamnzm@outlook.com|2019-10-13 10:25:02|   207.0| 134.0|2019-10-13 10:25:02|\n",
            "|     you@example.com|2019-10-13 10:30:01|   222.0|1709.0|2019-10-13 10:30:01|\n",
            "|  shelkeva@gmail.com|2019-10-13 10:30:01|     0.0|   0.0|2019-10-13 10:30:01|\n",
            "|prathameshsalap@g...|2019-10-13 10:30:02|     0.0|  53.0|2019-10-13 10:30:02|\n",
            "|     you@example.com|2019-10-13 10:20:01|    34.5|   0.0|2019-10-13 10:20:01|\n",
            "|     you@example.com|2019-10-13 10:25:01|    35.0| 951.0|2019-10-13 10:25:01|\n",
            "|     you@example.com|2019-10-13 10:35:01|    89.0| 303.0|2019-10-13 10:35:01|\n",
            "|  shelkeva@gmail.com|2019-10-13 10:35:01|     0.0|   0.0|2019-10-13 10:35:01|\n",
            "|prathameshsalap@g...|2019-10-13 10:35:01|   152.0| 129.0|2019-10-13 10:35:01|\n",
            "|  iamnzm@outlook.com|2019-10-13 10:35:01|   909.5|   8.0|2019-10-13 10:35:01|\n",
            "|     you@example.com|2019-10-13 10:40:02|   263.0| 295.0|2019-10-13 10:40:02|\n",
            "|  shelkeva@gmail.com|2019-10-13 10:40:02|     0.0|   0.0|2019-10-13 10:40:02|\n",
            "|prathameshsalap@g...|2019-10-13 10:40:01|   201.0| 115.0|2019-10-13 10:40:01|\n",
            "|  iamnzm@outlook.com|2019-10-13 10:40:01|   289.5| 122.0|2019-10-13 10:40:01|\n",
            "|     you@example.com|2019-10-13 10:45:02|    27.0|  70.0|2019-10-13 10:45:02|\n",
            "|  shelkeva@gmail.com|2019-10-13 10:45:01|    12.0| 179.0|2019-10-13 10:45:01|\n",
            "|prathameshsalap@g...|2019-10-13 10:45:01|    37.0| 450.0|2019-10-13 10:45:01|\n",
            "|  iamnzm@outlook.com|2019-10-13 10:45:01|   389.5|  16.0|2019-10-13 10:45:01|\n",
            "+--------------------+-------------------+--------+------+-------------------+\n",
            "only showing top 20 rows\n",
            "\n"
          ],
          "name": "stdout"
        }
      ]
    },
    {
      "cell_type": "code",
      "metadata": {
        "id": "REjMh4I9ZGCG",
        "colab_type": "code",
        "colab": {}
      },
      "source": [
        "dataDF =tempDF.withColumnRenamed('user_name',\"user\")\\\n",
        ".withColumnRenamed('Date','date')\\\n",
        ".drop('DateTime')"
      ],
      "execution_count": 9,
      "outputs": []
    },
    {
      "cell_type": "code",
      "metadata": {
        "id": "MIUO3AyXaOOs",
        "colab_type": "code",
        "colab": {
          "base_uri": "https://localhost:8080/",
          "height": 459
        },
        "outputId": "44831249-1b8c-4ef5-ca14-f4af9c84991e"
      },
      "source": [
        "dataDF.show()"
      ],
      "execution_count": 10,
      "outputs": [
        {
          "output_type": "stream",
          "text": [
            "+--------------------+--------+------+-------------------+\n",
            "|                user|keyboard| mouse|               date|\n",
            "+--------------------+--------+------+-------------------+\n",
            "|  iamnzm@outlook.com|  1312.0| 214.0|2019-10-13 10:20:02|\n",
            "|  shelkeva@gmail.com|    55.0|  15.0|2019-10-13 10:25:01|\n",
            "|  iamnzm@outlook.com|   207.0| 134.0|2019-10-13 10:25:02|\n",
            "|     you@example.com|   222.0|1709.0|2019-10-13 10:30:01|\n",
            "|  shelkeva@gmail.com|     0.0|   0.0|2019-10-13 10:30:01|\n",
            "|prathameshsalap@g...|     0.0|  53.0|2019-10-13 10:30:02|\n",
            "|     you@example.com|    34.5|   0.0|2019-10-13 10:20:01|\n",
            "|     you@example.com|    35.0| 951.0|2019-10-13 10:25:01|\n",
            "|     you@example.com|    89.0| 303.0|2019-10-13 10:35:01|\n",
            "|  shelkeva@gmail.com|     0.0|   0.0|2019-10-13 10:35:01|\n",
            "|prathameshsalap@g...|   152.0| 129.0|2019-10-13 10:35:01|\n",
            "|  iamnzm@outlook.com|   909.5|   8.0|2019-10-13 10:35:01|\n",
            "|     you@example.com|   263.0| 295.0|2019-10-13 10:40:02|\n",
            "|  shelkeva@gmail.com|     0.0|   0.0|2019-10-13 10:40:02|\n",
            "|prathameshsalap@g...|   201.0| 115.0|2019-10-13 10:40:01|\n",
            "|  iamnzm@outlook.com|   289.5| 122.0|2019-10-13 10:40:01|\n",
            "|     you@example.com|    27.0|  70.0|2019-10-13 10:45:02|\n",
            "|  shelkeva@gmail.com|    12.0| 179.0|2019-10-13 10:45:01|\n",
            "|prathameshsalap@g...|    37.0| 450.0|2019-10-13 10:45:01|\n",
            "|  iamnzm@outlook.com|   389.5|  16.0|2019-10-13 10:45:01|\n",
            "+--------------------+--------+------+-------------------+\n",
            "only showing top 20 rows\n",
            "\n"
          ],
          "name": "stdout"
        }
      ]
    },
    {
      "cell_type": "code",
      "metadata": {
        "id": "owVDyMZ1aSTt",
        "colab_type": "code",
        "colab": {
          "base_uri": "https://localhost:8080/",
          "height": 459
        },
        "outputId": "49598b48-f021-4bd5-b1ac-57387ac64e94"
      },
      "source": [
        "sortedDF = dataDF.orderBy(col('user'),col('date'))\n",
        "sortedDF.show()"
      ],
      "execution_count": 11,
      "outputs": [
        {
          "output_type": "stream",
          "text": [
            "+--------------------+--------+------+-------------------+\n",
            "|                user|keyboard| mouse|               date|\n",
            "+--------------------+--------+------+-------------------+\n",
            "|antonyalexcm@gmai...|     9.0| 260.0|2019-10-13 12:10:01|\n",
            "|antonyalexcm@gmai...|     2.0|6281.0|2019-10-13 12:15:02|\n",
            "|antonyalexcm@gmai...|    61.0|5697.0|2019-10-13 12:20:01|\n",
            "|antonyalexcm@gmai...|    40.0|3940.0|2019-10-13 12:25:01|\n",
            "|antonyalexcm@gmai...|   131.0|5472.0|2019-10-13 12:30:01|\n",
            "|antonyalexcm@gmai...|   106.0|4439.0|2019-10-13 12:35:02|\n",
            "|antonyalexcm@gmai...|    86.0|3458.0|2019-10-13 12:40:01|\n",
            "|antonyalexcm@gmai...|   235.5|5364.0|2019-10-13 12:45:01|\n",
            "|antonyalexcm@gmai...|     0.0| 318.0|2019-10-13 12:50:02|\n",
            "|ashutoshrit64@gma...|     2.0| 401.0|2019-10-13 12:25:01|\n",
            "|ashutoshrit64@gma...|    64.0| 471.0|2019-10-13 12:30:02|\n",
            "|ashutoshrit64@gma...|   188.0| 349.0|2019-10-13 12:35:02|\n",
            "|ashutoshrit64@gma...|    36.0| 436.0|2019-10-13 12:40:01|\n",
            "|ashutoshrit64@gma...|    53.0| 502.0|2019-10-13 12:45:02|\n",
            "|ashutoshrit64@gma...|    17.0| 618.0|2019-10-13 12:50:01|\n",
            "|ashutoshrit64@gma...|    34.0| 611.0|2019-10-13 12:55:01|\n",
            "|ashutoshrit64@gma...|    67.0|1274.0|2019-10-13 13:00:01|\n",
            "|ashutoshrit64@gma...|   138.0| 235.0|2019-10-13 13:05:01|\n",
            "|ashutoshrit64@gma...|   125.0| 834.0|2019-10-13 13:10:01|\n",
            "|ashutoshrit64@gma...|   264.5| 899.0|2019-10-13 13:15:01|\n",
            "+--------------------+--------+------+-------------------+\n",
            "only showing top 20 rows\n",
            "\n"
          ],
          "name": "stdout"
        }
      ]
    },
    {
      "cell_type": "code",
      "metadata": {
        "id": "Iwex3G2NcCLQ",
        "colab_type": "code",
        "colab": {}
      },
      "source": [
        "lst1 = list(sortedDF.select('user').toPandas()['user'])\n",
        "lst2 = list(sortedDF.select('user').toPandas()['user'])    "
      ],
      "execution_count": 14,
      "outputs": []
    },
    {
      "cell_type": "code",
      "metadata": {
        "id": "Kusd5LpGeCvl",
        "colab_type": "code",
        "colab": {
          "base_uri": "https://localhost:8080/",
          "height": 54
        },
        "outputId": "9f55f70b-0c41-4eb2-a95e-73ac17391ff4"
      },
      "source": [
        "print(lst1)"
      ],
      "execution_count": 16,
      "outputs": [
        {
          "output_type": "stream",
          "text": [
            "['antonyalexcm@gmail.com', 'antonyalexcm@gmail.com', 'antonyalexcm@gmail.com', 'antonyalexcm@gmail.com', 'antonyalexcm@gmail.com', 'antonyalexcm@gmail.com', 'antonyalexcm@gmail.com', 'antonyalexcm@gmail.com', 'antonyalexcm@gmail.com', 'ashutoshrit64@gmail.com', 'ashutoshrit64@gmail.com', 'ashutoshrit64@gmail.com', 'ashutoshrit64@gmail.com', 'ashutoshrit64@gmail.com', 'ashutoshrit64@gmail.com', 'ashutoshrit64@gmail.com', 'ashutoshrit64@gmail.com', 'ashutoshrit64@gmail.com', 'ashutoshrit64@gmail.com', 'ashutoshrit64@gmail.com', 'ashutoshrit64@gmail.com', 'ashutoshrit64@gmail.com', 'ashutoshrit64@gmail.com', 'ashutoshrit64@gmail.com', 'ashutoshrit64@gmail.com', 'ashutoshrit64@gmail.com', 'ashutoshrit64@gmail.com', 'ashutoshrit64@gmail.com', 'ashutoshrit64@gmail.com', 'ashutoshrit64@gmail.com', 'ashutoshrit64@gmail.com', 'ashutoshrit64@gmail.com', 'ashutoshrit64@gmail.com', 'ashutoshrit64@gmail.com', 'ashutoshrit64@gmail.com', 'ashutoshrit64@gmail.com', 'ashutoshrit64@gmail.com', 'ashutoshrit64@gmail.com', 'ashutoshrit64@gmail.com', 'ashutoshrit64@gmail.com', 'ashutoshrit64@gmail.com', 'ashutoshrit64@gmail.com', 'ashutoshrit64@gmail.com', 'ashutoshrit64@gmail.com', 'ashutoshrit64@gmail.com', 'ashutoshrit64@gmail.com', 'ashutoshrit64@gmail.com', 'ashutoshrit64@gmail.com', 'ashutoshrit64@gmail.com', 'ashutoshrit64@gmail.com', 'ashutoshrit64@gmail.com', 'ashutoshrit64@gmail.com', 'ashutoshrit64@gmail.com', 'ashutoshrit64@gmail.com', 'ashutoshrit64@gmail.com', 'ashutoshrit64@gmail.com', 'ashutoshrit64@gmail.com', 'ashutoshrit64@gmail.com', 'grmule018@gmail.com', 'grmule018@gmail.com', 'grmule018@gmail.com', 'grmule018@gmail.com', 'grmule018@gmail.com', 'grmule018@gmail.com', 'grmule018@gmail.com', 'grmule018@gmail.com', 'grmule018@gmail.com', 'grmule018@gmail.com', 'grmule018@gmail.com', 'grmule018@gmail.com', 'grmule018@gmail.com', 'grmule018@gmail.com', 'grmule018@gmail.com', 'grmule018@gmail.com', 'grmule018@gmail.com', 'grmule018@gmail.com', 'grmule018@gmail.com', 'grmule018@gmail.com', 'grmule018@gmail.com', 'grmule018@gmail.com', 'grmule018@gmail.com', 'grmule018@gmail.com', 'grmule018@gmail.com', 'grmule018@gmail.com', 'grmule018@gmail.com', 'grmule018@gmail.com', 'grmule018@gmail.com', 'grmule018@gmail.com', 'grmule018@gmail.com', 'grmule018@gmail.com', 'grmule018@gmail.com', 'grmule018@gmail.com', 'grmule018@gmail.com', 'grmule018@gmail.com', 'grmule018@gmail.com', 'grmule018@gmail.com', 'grmule018@gmail.com', 'grmule018@gmail.com', 'grmule018@gmail.com', 'grmule018@gmail.com', 'grmule018@gmail.com', 'grmule018@gmail.com', 'grmule018@gmail.com', 'grmule018@gmail.com', 'grmule018@gmail.com', 'grmule018@gmail.com', 'grmule018@gmail.com', 'grmule018@gmail.com', 'grmule018@gmail.com', 'grmule018@gmail.com', 'grmule018@gmail.com', 'grmule018@gmail.com', 'grmule018@gmail.com', 'grmule018@gmail.com', 'grmule018@gmail.com', 'grmule018@gmail.com', 'grmule018@gmail.com', 'grmule018@gmail.com', 'grmule018@gmail.com', 'grmule018@gmail.com', 'grmule018@gmail.com', 'grmule018@gmail.com', 'grmule018@gmail.com', 'grmule018@gmail.com', 'grmule018@gmail.com', 'grmule018@gmail.com', 'grmule018@gmail.com', 'grmule018@gmail.com', 'grmule018@gmail.com', 'grmule018@gmail.com', 'grmule018@gmail.com', 'grmule018@gmail.com', 'iamnzm@outlook.com', 'iamnzm@outlook.com', 'iamnzm@outlook.com', 'iamnzm@outlook.com', 'iamnzm@outlook.com', 'iamnzm@outlook.com', 'iamnzm@outlook.com', 'iamnzm@outlook.com', 'iamnzm@outlook.com', 'iamnzm@outlook.com', 'iamnzm@outlook.com', 'iamnzm@outlook.com', 'iamnzm@outlook.com', 'iamnzm@outlook.com', 'iamnzm@outlook.com', 'iamnzm@outlook.com', 'iamnzm@outlook.com', 'iamnzm@outlook.com', 'iamnzm@outlook.com', 'iamnzm@outlook.com', 'iamnzm@outlook.com', 'iamnzm@outlook.com', 'iamnzm@outlook.com', 'iamnzm@outlook.com', 'iamnzm@outlook.com', 'iamnzm@outlook.com', 'iamnzm@outlook.com', 'iamnzm@outlook.com', 'iamnzm@outlook.com', 'iamnzm@outlook.com', 'iamnzm@outlook.com', 'iamnzm@outlook.com', 'iamnzm@outlook.com', 'iamnzm@outlook.com', 'iamnzm@outlook.com', 'iamnzm@outlook.com', 'iamnzm@outlook.com', 'iamnzm@outlook.com', 'iamnzm@outlook.com', 'iamnzm@outlook.com', 'iamnzm@outlook.com', 'iamnzm@outlook.com', 'iamnzm@outlook.com', 'iamnzm@outlook.com', 'iamnzm@outlook.com', 'iamnzm@outlook.com', 'iamnzm@outlook.com', 'iamnzm@outlook.com', 'iamnzm@outlook.com', 'iamnzm@outlook.com', 'iamnzm@outlook.com', 'iamnzm@outlook.com', 'iamnzm@outlook.com', 'iamnzm@outlook.com', 'iamnzm@outlook.com', 'iamnzm@outlook.com', 'iamnzm@outlook.com', 'iamnzm@outlook.com', 'iamnzm@outlook.com', 'iamnzm@outlook.com', 'iamnzm@outlook.com', 'iamnzm@outlook.com', 'iamnzm@outlook.com', 'iamnzm@outlook.com', 'iamnzm@outlook.com', 'iamnzm@outlook.com', 'iamnzm@outlook.com', 'iamnzm@outlook.com', 'iamnzm@outlook.com', 'iamnzm@outlook.com', 'iamnzm@outlook.com', 'iamnzm@outlook.com', 'iamnzm@outlook.com', 'iamnzm@outlook.com', 'iamnzm@outlook.com', 'iamnzm@outlook.com', 'iamnzm@outlook.com', 'iamnzm@outlook.com', 'iamnzm@outlook.com', 'iamnzm@outlook.com', 'kalyani24deobhankar@gmail.com', 'kalyani24deobhankar@gmail.com', 'kalyani24deobhankar@gmail.com', 'kalyani24deobhankar@gmail.com', 'kalyani24deobhankar@gmail.com', 'kalyani24deobhankar@gmail.com', 'kalyani24deobhankar@gmail.com', 'kalyani24deobhankar@gmail.com', 'kalyani24deobhankar@gmail.com', 'kalyani24deobhankar@gmail.com', 'kalyani24deobhankar@gmail.com', 'kalyani24deobhankar@gmail.com', 'kalyani24deobhankar@gmail.com', 'kalyani24deobhankar@gmail.com', 'kalyani24deobhankar@gmail.com', 'kalyani24deobhankar@gmail.com', 'kalyani24deobhankar@gmail.com', 'kalyani24deobhankar@gmail.com', 'kalyani24deobhankar@gmail.com', 'kalyani24deobhankar@gmail.com', 'kalyani24deobhankar@gmail.com', 'kalyani24deobhankar@gmail.com', 'kalyani24deobhankar@gmail.com', 'kalyani24deobhankar@gmail.com', 'kalyani24deobhankar@gmail.com', 'kalyani24deobhankar@gmail.com', 'kalyani24deobhankar@gmail.com', 'kalyani24deobhankar@gmail.com', 'kalyani24deobhankar@gmail.com', 'kalyani24deobhankar@gmail.com', 'kalyani24deobhankar@gmail.com', 'kalyani24deobhankar@gmail.com', 'kalyani24deobhankar@gmail.com', 'kalyani24deobhankar@gmail.com', 'kalyani24deobhankar@gmail.com', 'kalyani24deobhankar@gmail.com', 'kalyani24deobhankar@gmail.com', 'kalyani24deobhankar@gmail.com', 'kalyani24deobhankar@gmail.com', 'kalyani24deobhankar@gmail.com', 'kalyani24deobhankar@gmail.com', 'kalyani24deobhankar@gmail.com', 'kalyani24deobhankar@gmail.com', 'kalyani24deobhankar@gmail.com', 'kalyani24deobhankar@gmail.com', 'kalyani24deobhankar@gmail.com', 'kalyani24deobhankar@gmail.com', 'kalyani24deobhankar@gmail.com', 'kalyani24deobhankar@gmail.com', 'kalyani24deobhankar@gmail.com', 'kalyani24deobhankar@gmail.com', 'kalyani24deobhankar@gmail.com', 'kalyani24deobhankar@gmail.com', 'kalyani24deobhankar@gmail.com', 'kalyani24deobhankar@gmail.com', 'kalyani24deobhankar@gmail.com', 'kalyani24deobhankar@gmail.com', 'kalyani24deobhankar@gmail.com', 'kalyani24deobhankar@gmail.com', 'kalyani24deobhankar@gmail.com', 'kalyani24deobhankar@gmail.com', 'kalyani24deobhankar@gmail.com', 'polelaxman001@gmail.com', 'polelaxman001@gmail.com', 'polelaxman001@gmail.com', 'polelaxman001@gmail.com', 'polelaxman001@gmail.com', 'polelaxman001@gmail.com', 'polelaxman001@gmail.com', 'polelaxman001@gmail.com', 'polelaxman001@gmail.com', 'polelaxman001@gmail.com', 'polelaxman001@gmail.com', 'polelaxman001@gmail.com', 'polelaxman001@gmail.com', 'polelaxman001@gmail.com', 'polelaxman001@gmail.com', 'polelaxman001@gmail.com', 'polelaxman001@gmail.com', 'polelaxman001@gmail.com', 'polelaxman001@gmail.com', 'polelaxman001@gmail.com', 'polelaxman001@gmail.com', 'polelaxman001@gmail.com', 'polelaxman001@gmail.com', 'polelaxman001@gmail.com', 'polelaxman001@gmail.com', 'polelaxman001@gmail.com', 'polelaxman001@gmail.com', 'polelaxman001@gmail.com', 'polelaxman001@gmail.com', 'polelaxman001@gmail.com', 'polelaxman001@gmail.com', 'polelaxman001@gmail.com', 'polelaxman001@gmail.com', 'polelaxman001@gmail.com', 'polelaxman001@gmail.com', 'polelaxman001@gmail.com', 'polelaxman001@gmail.com', 'polelaxman001@gmail.com', 'polelaxman001@gmail.com', 'polelaxman001@gmail.com', 'polelaxman001@gmail.com', 'polelaxman001@gmail.com', 'polelaxman001@gmail.com', 'polelaxman001@gmail.com', 'polelaxman001@gmail.com', 'polelaxman001@gmail.com', 'polelaxman001@gmail.com', 'polelaxman001@gmail.com', 'polelaxman001@gmail.com', 'polelaxman001@gmail.com', 'polelaxman001@gmail.com', 'polelaxman001@gmail.com', 'prathameshsalap@gmail.com', 'prathameshsalap@gmail.com', 'prathameshsalap@gmail.com', 'prathameshsalap@gmail.com', 'prathameshsalap@gmail.com', 'prathameshsalap@gmail.com', 'prathameshsalap@gmail.com', 'prathameshsalap@gmail.com', 'prathameshsalap@gmail.com', 'prathameshsalap@gmail.com', 'prathameshsalap@gmail.com', 'prathameshsalap@gmail.com', 'prathameshsalap@gmail.com', 'prathameshsalap@gmail.com', 'prathameshsalap@gmail.com', 'prathameshsalap@gmail.com', 'prathameshsalap@gmail.com', 'prathameshsalap@gmail.com', 'prathameshsalap@gmail.com', 'prathameshsalap@gmail.com', 'prathameshsalap@gmail.com', 'prathameshsalap@gmail.com', 'prathameshsalap@gmail.com', 'prathameshsalap@gmail.com', 'prathameshsalap@gmail.com', 'prathameshsalap@gmail.com', 'prathameshsalap@gmail.com', 'prathameshsalap@gmail.com', 'prathameshsalap@gmail.com', 'prathameshsalap@gmail.com', 'prathameshsalap@gmail.com', 'prathameshsalap@gmail.com', 'prathameshsalap@gmail.com', 'prathameshsalap@gmail.com', 'prathameshsalap@gmail.com', 'prathameshsalap@gmail.com', 'prathameshsalap@gmail.com', 'prathameshsalap@gmail.com', 'prathameshsalap@gmail.com', 'prathameshsalap@gmail.com', 'prathameshsalap@gmail.com', 'prathameshsalap@gmail.com', 'prathameshsalap@gmail.com', 'prathameshsalap@gmail.com', 'prathameshsalap@gmail.com', 'prathameshsalap@gmail.com', 'prathameshsalap@gmail.com', 'prathameshsalap@gmail.com', 'prathameshsalap@gmail.com', 'prathameshsalap@gmail.com', 'prathameshsalap@gmail.com', 'prathameshsalap@gmail.com', 'prathameshsalap@gmail.com', 'prathameshsalap@gmail.com', 'prathameshsalap@gmail.com', 'prathameshsalap@gmail.com', 'prathameshsalap@gmail.com', 'prathameshsalap@gmail.com', 'prathameshsalap@gmail.com', 'prathameshsalap@gmail.com', 'prathameshsalap@gmail.com', 'prathameshsalap@gmail.com', 'priyankagandhi2504@gmail.com', 'priyankagandhi2504@gmail.com', 'priyankagandhi2504@gmail.com', 'priyankagandhi2504@gmail.com', 'priyankagandhi2504@gmail.com', 'priyankagandhi2504@gmail.com', 'priyankagandhi2504@gmail.com', 'priyankagandhi2504@gmail.com', 'priyankagandhi2504@gmail.com', 'priyankagandhi2504@gmail.com', 'priyankagandhi2504@gmail.com', 'priyankagandhi2504@gmail.com', 'priyankagandhi2504@gmail.com', 'priyankagandhi2504@gmail.com', 'priyankagandhi2504@gmail.com', 'priyankagandhi2504@gmail.com', 'priyankagandhi2504@gmail.com', 'priyankagandhi2504@gmail.com', 'priyankagandhi2504@gmail.com', 'priyankagandhi2504@gmail.com', 'priyankagandhi2504@gmail.com', 'priyankagandhi2504@gmail.com', 'priyankagandhi2504@gmail.com', 'priyankagandhi2504@gmail.com', 'priyankagandhi2504@gmail.com', 'priyankagandhi2504@gmail.com', 'priyankagandhi2504@gmail.com', 'priyankagandhi2504@gmail.com', 'priyankagandhi2504@gmail.com', 'priyankagandhi2504@gmail.com', 'priyankagandhi2504@gmail.com', 'priyankagandhi2504@gmail.com', 'priyankagandhi2504@gmail.com', 'priyankagandhi2504@gmail.com', 'priyankagandhi2504@gmail.com', 'priyankagandhi2504@gmail.com', 'priyankagandhi2504@gmail.com', 'priyankagandhi2504@gmail.com', 'priyankagandhi2504@gmail.com', 'priyankagandhi2504@gmail.com', 'priyankagandhi2504@gmail.com', 'priyankagandhi2504@gmail.com', 'priyankagandhi2504@gmail.com', 'priyankagandhi2504@gmail.com', 'priyankagandhi2504@gmail.com', 'priyankagandhi2504@gmail.com', 'priyankagandhi2504@gmail.com', 'priyankagandhi2504@gmail.com', 'priyankagandhi2504@gmail.com', 'priyankagandhi2504@gmail.com', 'priyankagandhi2504@gmail.com', 'shelkeva@gmail.com', 'shelkeva@gmail.com', 'shelkeva@gmail.com', 'shelkeva@gmail.com', 'shelkeva@gmail.com', 'shelkeva@gmail.com', 'shelkeva@gmail.com', 'shelkeva@gmail.com', 'shelkeva@gmail.com', 'shelkeva@gmail.com', 'shelkeva@gmail.com', 'shelkeva@gmail.com', 'shelkeva@gmail.com', 'shelkeva@gmail.com', 'shelkeva@gmail.com', 'shelkeva@gmail.com', 'shelkeva@gmail.com', 'shelkeva@gmail.com', 'shelkeva@gmail.com', 'shelkeva@gmail.com', 'shelkeva@gmail.com', 'shelkeva@gmail.com', 'shelkeva@gmail.com', 'shelkeva@gmail.com', 'shelkeva@gmail.com', 'shelkeva@gmail.com', 'shelkeva@gmail.com', 'shelkeva@gmail.com', 'shelkeva@gmail.com', 'shelkeva@gmail.com', 'shelkeva@gmail.com', 'shelkeva@gmail.com', 'shelkeva@gmail.com', 'shelkeva@gmail.com', 'shelkeva@gmail.com', 'shelkeva@gmail.com', 'shelkeva@gmail.com', 'shelkeva@gmail.com', 'shelkeva@gmail.com', 'shelkeva@gmail.com', 'shelkeva@gmail.com', 'shelkeva@gmail.com', 'shelkeva@gmail.com', 'shelkeva@gmail.com', 'shelkeva@gmail.com', 'shelkeva@gmail.com', 'shelkeva@gmail.com', 'shelkeva@gmail.com', 'shelkeva@gmail.com', 'shelkeva@gmail.com', 'shelkeva@gmail.com', 'shelkeva@gmail.com', 'shelkeva@gmail.com', 'shelkeva@gmail.com', 'shelkeva@gmail.com', 'shelkeva@gmail.com', 'shelkeva@gmail.com', 'shelkeva@gmail.com', 'shelkeva@gmail.com', 'shelkeva@gmail.com', 'shelkeva@gmail.com', 'shelkeva@gmail.com', 'shelkeva@gmail.com', 'shelkeva@gmail.com', 'shelkeva@gmail.com', 'shelkeva@gmail.com', 'shelkeva@gmail.com', 'shelkeva@gmail.com', 'shelkeva@gmail.com', 'shelkeva@gmail.com', 'shelkeva@gmail.com', 'shelkeva@gmail.com', 'shelkeva@gmail.com', 'shelkeva@gmail.com', 'shelkeva@gmail.com', 'shelkeva@gmail.com', 'shelkeva@gmail.com', 'shelkeva@gmail.com', 'shelkeva@gmail.com', 'shelkeva@gmail.com', 'tekina.makin@gmail.com', 'tekina.makin@gmail.com', 'tekina.makin@gmail.com', 'tekina.makin@gmail.com', 'tekina.makin@gmail.com', 'tekina.makin@gmail.com', 'tekina.makin@gmail.com', 'tekina.makin@gmail.com', 'tekina.makin@gmail.com', 'tekina.makin@gmail.com', 'tekina.makin@gmail.com', 'tekina.makin@gmail.com', 'tekina.makin@gmail.com', 'tekina.makin@gmail.com', 'tekina.makin@gmail.com', 'tekina.makin@gmail.com', 'tekina.makin@gmail.com', 'tekina.makin@gmail.com', 'tekina.makin@gmail.com', 'tekina.makin@gmail.com', 'tekina.makin@gmail.com', 'tekina.makin@gmail.com', 'tekina.makin@gmail.com', 'tekina.makin@gmail.com', 'tekina.makin@gmail.com', 'tekina.makin@gmail.com', 'tekina.makin@gmail.com', 'tekina.makin@gmail.com', 'tekina.makin@gmail.com', 'tekina.makin@gmail.com', 'tekina.makin@gmail.com', 'tekina.makin@gmail.com', 'tekina.makin@gmail.com', 'tekina.makin@gmail.com', 'tekina.makin@gmail.com', 'tekina.makin@gmail.com', 'tekina.makin@gmail.com', 'tekina.makin@gmail.com', 'tekina.makin@gmail.com', 'tekina.makin@gmail.com', 'tekina.makin@gmail.com', 'tekina.makin@gmail.com', 'tekina.makin@gmail.com', 'tekina.makin@gmail.com', 'tekina.makin@gmail.com', 'tekina.makin@gmail.com', 'tekina.makin@gmail.com', 'tekina.makin@gmail.com', 'tekina.makin@gmail.com', 'tekina.makin@gmail.com', 'tekina.makin@gmail.com', 'tekina.makin@gmail.com', 'tekina.makin@gmail.com', 'tekina.makin@gmail.com', 'tekina.makin@gmail.com', 'tekina.makin@gmail.com', 'vijaykumarbhavanur.com', 'vijaykumarbhavanur.com', 'vijaykumarbhavanur.com', 'vishnu23kumar@gmail.com', 'vishnu23kumar@gmail.com', 'vishnu23kumar@gmail.com', 'vishnu23kumar@gmail.com', 'vishnu23kumar@gmail.com', 'vishnu23kumar@gmail.com', 'vishnu23kumar@gmail.com', 'vishnu23kumar@gmail.com', 'vishnu23kumar@gmail.com', 'vishnu23kumar@gmail.com', 'vishnu23kumar@gmail.com', 'vishnu23kumar@gmail.com', 'vishnu23kumar@gmail.com', 'vishnu23kumar@gmail.com', 'vishnu23kumar@gmail.com', 'vishnu23kumar@gmail.com', 'vishnu23kumar@gmail.com', 'vishnu23kumar@gmail.com', 'vishnu23kumar@gmail.com', 'vishnu23kumar@gmail.com', 'vishnu23kumar@gmail.com', 'vishnu23kumar@gmail.com', 'vishnu23kumar@gmail.com', 'vishnu23kumar@gmail.com', 'vishnu23kumar@gmail.com', 'vishnu23kumar@gmail.com', 'vishnu23kumar@gmail.com', 'vishnu23kumar@gmail.com', 'vishnu23kumar@gmail.com', 'vishnu23kumar@gmail.com', 'vishnu23kumar@gmail.com', 'vishnu23kumar@gmail.com', 'vishnu23kumar@gmail.com', 'vishnu23kumar@gmail.com', 'vishnu23kumar@gmail.com', 'vishnu23kumar@gmail.com', 'vishnu23kumar@gmail.com', 'vishnu23kumar@gmail.com', 'vishnu23kumar@gmail.com', 'vishnu23kumar@gmail.com', 'vishnu23kumar@gmail.com', 'vishnu23kumar@gmail.com', 'vishnu23kumar@gmail.com', 'vishnu23kumar@gmail.com', 'vishnu23kumar@gmail.com', 'vishnu23kumar@gmail.com', 'vishnu23kumar@gmail.com', 'vishnu23kumar@gmail.com', 'vishnu23kumar@gmail.com', 'vishnu23kumar@gmail.com', 'vishnu23kumar@gmail.com', 'vishnu23kumar@gmail.com', 'vishnu23kumar@gmail.com', 'vishnu23kumar@gmail.com', 'vishnu23kumar@gmail.com', 'vishnu23kumar@gmail.com', 'vishnu23kumar@gmail.com', 'vishnu23kumar@gmail.com', 'vishnu23kumar@gmail.com', 'vishnu23kumar@gmail.com', 'vishnu23kumar@gmail.com', 'vishnu23kumar@gmail.com', 'vishnu23kumar@gmail.com', 'vishnu23kumar@gmail.com', 'vishnu23kumar@gmail.com', 'vishnu23kumar@gmail.com', 'vishnu23kumar@gmail.com', 'vishnu23kumar@gmail.com', 'vishnu23kumar@gmail.com', 'vishnu23kumar@gmail.com', 'you@example.com', 'you@example.com', 'you@example.com', 'you@example.com', 'you@example.com', 'you@example.com', 'you@example.com', 'you@example.com', 'you@example.com', 'you@example.com', 'you@example.com', 'you@example.com', 'you@example.com', 'you@example.com', 'you@example.com', 'you@example.com', 'you@example.com', 'you@example.com', 'you@example.com', 'you@example.com', 'you@example.com', 'you@example.com', 'you@example.com', 'you@example.com', 'you@example.com', 'you@example.com', 'you@example.com', 'you@example.com', 'you@example.com', 'you@example.com', 'you@example.com', 'you@example.com', 'you@example.com', 'you@example.com', 'you@example.com', 'you@example.com', 'you@example.com', 'you@example.com', 'you@example.com', 'you@example.com', 'you@example.com', 'you@example.com', 'you@example.com', 'you@example.com', 'you@example.com', 'you@example.com', 'you@example.com', 'you@example.com', 'you@example.com', 'you@example.com', 'you@example.com', 'you@example.com', 'you@example.com', 'you@example.com', 'you@example.com', 'you@example.com', 'you@example.com', 'you@example.com', 'you@example.com', 'you@example.com', 'you@example.com', 'you@example.com', 'you@example.com', 'you@example.com', 'you@example.com', 'you@example.com', 'you@example.com', 'you@example.com', 'you@example.com', 'you@example.com', 'you@example.com', 'you@example.com', 'you@example.com', 'you@example.com', 'you@example.com', 'you@example.com', 'you@example.com', 'you@example.com', 'you@example.com', 'you@example.com', 'you@example.com']\n"
          ],
          "name": "stdout"
        }
      ]
    },
    {
      "cell_type": "code",
      "metadata": {
        "id": "WWEpRERSbAL9",
        "colab_type": "code",
        "colab": {
          "base_uri": "https://localhost:8080/",
          "height": 34
        },
        "outputId": "ec8d9c99-bca3-48ed-9f6b-f60298fef39d"
      },
      "source": [
        "sortedDF.drop_duplicates(['user']).count()"
      ],
      "execution_count": 21,
      "outputs": [
        {
          "output_type": "execute_result",
          "data": {
            "text/plain": [
              "13"
            ]
          },
          "metadata": {
            "tags": []
          },
          "execution_count": 21
        }
      ]
    },
    {
      "cell_type": "markdown",
      "metadata": {
        "id": "Lv6sxtlubwqa",
        "colab_type": "text"
      },
      "source": [
        "Calculating leaves\n"
      ]
    },
    {
      "cell_type": "code",
      "metadata": {
        "id": "CVcaHp0Nbu1G",
        "colab_type": "code",
        "colab": {}
      },
      "source": [
        "df1 = spark.read.format(\"csv\").option(\"header\",\"true\").load(\"day1.csv\")\n",
        "df2 = spark.read.format(\"csv\").option(\"header\",\"true\").load(\"day2.csv\")\n",
        "df3 = spark.read.format(\"csv\").option(\"header\",\"true\").load(\"day3.csv\")\n",
        "df4 = spark.read.format(\"csv\").option(\"header\",\"true\").load(\"day4.csv\")\n",
        "df5 = spark.read.format(\"csv\").option(\"header\",\"true\").load(\"day5.csv\")\n",
        "df6 = spark.read.format(\"csv\").option(\"header\",\"true\").load(\"day6.csv\")\n",
        "df7 = spark.read.format(\"csv\").option(\"header\",\"true\").load(\"day7.csv\")\n",
        "df8 = spark.read.format(\"csv\").option(\"header\",\"true\").load(\"day8.csv\")\n",
        "df9 = spark.read.format(\"csv\").option(\"header\",\"true\").load(\"day9.csv\")"
      ],
      "execution_count": 24,
      "outputs": []
    },
    {
      "cell_type": "code",
      "metadata": {
        "id": "v9ylCV0acXt1",
        "colab_type": "code",
        "colab": {
          "base_uri": "https://localhost:8080/",
          "height": 34
        },
        "outputId": "783f98d1-d35e-4a17-8ca7-6e4fbf6b4a7c"
      },
      "source": [
        "df1.drop_duplicates(['user_name']).count()"
      ],
      "execution_count": 27,
      "outputs": [
        {
          "output_type": "execute_result",
          "data": {
            "text/plain": [
              "13"
            ]
          },
          "metadata": {
            "tags": []
          },
          "execution_count": 27
        }
      ]
    },
    {
      "cell_type": "code",
      "metadata": {
        "id": "S4xv0Yl7cmM7",
        "colab_type": "code",
        "colab": {}
      },
      "source": [
        "day1 = df1.drop_duplicates(['user_name'])\n",
        "day2 = df2.drop_duplicates(['user_name'])\n",
        "day3 = df3.drop_duplicates(['user_name'])\n",
        "day4 = df4.drop_duplicates(['user_name'])\n",
        "day5 = df5.drop_duplicates(['user_name'])\n",
        "day6 = df6.drop_duplicates(['user_name'])\n",
        "day7 = df7.drop_duplicates(['user_name'])\n",
        "day8 = df8.drop_duplicates(['user_name'])\n",
        "day9 = df9.drop_duplicates(['user_name'])"
      ],
      "execution_count": 31,
      "outputs": []
    },
    {
      "cell_type": "code",
      "metadata": {
        "id": "E6TvN38WiWHR",
        "colab_type": "code",
        "colab": {
          "base_uri": "https://localhost:8080/",
          "height": 459
        },
        "outputId": "a6c49b7c-b53e-47de-893d-fc264a10508e"
      },
      "source": [
        "allDays = day1.union(day2).union(day3).union(day4).union(day5).union(day6).union(day7).union(day8).union(day9).select('user_name')"
      ],
      "execution_count": 40,
      "outputs": [
        {
          "output_type": "stream",
          "text": [
            "+--------------------+\n",
            "|           user_name|\n",
            "+--------------------+\n",
            "|ashutoshrit64@gma...|\n",
            "| grmule018@gmail.com|\n",
            "|  shelkeva@gmail.com|\n",
            "|tekina.makin@gmai...|\n",
            "|antonyalexcm@gmai...|\n",
            "|vijaykumarbhavanu...|\n",
            "|polelaxman001@gma...|\n",
            "|  iamnzm@outlook.com|\n",
            "|     you@example.com|\n",
            "|vishnu23kumar@gma...|\n",
            "|kalyani24deobhank...|\n",
            "|prathameshsalap@g...|\n",
            "|priyankagandhi250...|\n",
            "|ashutoshrit64@gma...|\n",
            "|giridhardandikwar...|\n",
            "|       nikitapawar17|\n",
            "|umangsontakke70@g...|\n",
            "|indrajeetgajbhiye...|\n",
            "|khairnarswapna99@...|\n",
            "|Krushnanikam26@gm...|\n",
            "+--------------------+\n",
            "only showing top 20 rows\n",
            "\n"
          ],
          "name": "stdout"
        }
      ]
    },
    {
      "cell_type": "code",
      "metadata": {
        "id": "FwKElOnTjcOR",
        "colab_type": "code",
        "colab": {
          "base_uri": "https://localhost:8080/",
          "height": 459
        },
        "outputId": "948d0d99-4d18-4f44-8803-87bf757fc2cc"
      },
      "source": [
        "allDays.groupby('user_name').count().show()"
      ],
      "execution_count": 43,
      "outputs": [
        {
          "output_type": "stream",
          "text": [
            "+--------------------+-----+\n",
            "|           user_name|count|\n",
            "+--------------------+-----+\n",
            "|ashutoshrit64@gma...|    8|\n",
            "|giridhardandikwar...|    6|\n",
            "|priyankagorte95@g...|    4|\n",
            "|       nikitapawar17|    6|\n",
            "|umangsontakke70@g...|    3|\n",
            "|salinabodale73@gm...|    1|\n",
            "|“shivnajalisangal...|    4|\n",
            "|indrajeetgajbhiye...|    6|\n",
            "|khairnarswapna99@...|    5|\n",
            "|Krushnanikam26@gm...|    4|\n",
            "|gaikwadr576@gmail...|    6|\n",
            "|adikumar2514@gmai...|    8|\n",
            "| dileep.bs@yahoo.com|    6|\n",
            "|puruissimple@gmai...|    7|\n",
            "|nehapalekar026@gm...|    3|\n",
            "|er.mukulvij96@gma...|    7|\n",
            "|surajwarbhuvan192...|    6|\n",
            "|samruddhichitnis0...|    5|\n",
            "|yadav.ujjwal770@g...|    5|\n",
            "|hakepratiksha55@g...|    7|\n",
            "+--------------------+-----+\n",
            "only showing top 20 rows\n",
            "\n"
          ],
          "name": "stdout"
        }
      ]
    },
    {
      "cell_type": "code",
      "metadata": {
        "id": "6IUzXtfBkL4F",
        "colab_type": "code",
        "colab": {
          "base_uri": "https://localhost:8080/",
          "height": 459
        },
        "outputId": "92e864bf-7092-4edd-e2de-b91bf38c9d13"
      },
      "source": [
        "leavesDF = allDays.groupby('user_name').count().withColumn('leaves',9 - column('count')).drop('count')\n",
        "leavesDF.show()"
      ],
      "execution_count": 48,
      "outputs": [
        {
          "output_type": "stream",
          "text": [
            "+--------------------+------+\n",
            "|           user_name|leaves|\n",
            "+--------------------+------+\n",
            "|ashutoshrit64@gma...|     1|\n",
            "|giridhardandikwar...|     3|\n",
            "|priyankagorte95@g...|     5|\n",
            "|       nikitapawar17|     3|\n",
            "|umangsontakke70@g...|     6|\n",
            "|salinabodale73@gm...|     8|\n",
            "|“shivnajalisangal...|     5|\n",
            "|indrajeetgajbhiye...|     3|\n",
            "|khairnarswapna99@...|     4|\n",
            "|Krushnanikam26@gm...|     5|\n",
            "|gaikwadr576@gmail...|     3|\n",
            "|adikumar2514@gmai...|     1|\n",
            "| dileep.bs@yahoo.com|     3|\n",
            "|puruissimple@gmai...|     2|\n",
            "|nehapalekar026@gm...|     6|\n",
            "|er.mukulvij96@gma...|     2|\n",
            "|surajwarbhuvan192...|     3|\n",
            "|samruddhichitnis0...|     4|\n",
            "|yadav.ujjwal770@g...|     4|\n",
            "|hakepratiksha55@g...|     2|\n",
            "+--------------------+------+\n",
            "only showing top 20 rows\n",
            "\n"
          ],
          "name": "stdout"
        }
      ]
    }
  ]
}