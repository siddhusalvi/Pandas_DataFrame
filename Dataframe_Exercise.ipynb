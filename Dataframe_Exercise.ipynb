{
  "nbformat": 4,
  "nbformat_minor": 0,
  "metadata": {
    "colab": {
      "name": "Dataframe Exercise.ipynb",
      "provenance": [],
      "collapsed_sections": [],
      "authorship_tag": "ABX9TyOMzpLgCF8EqL4EdP1SIMEn",
      "include_colab_link": true
    },
    "kernelspec": {
      "name": "python3",
      "display_name": "Python 3"
    }
  },
  "cells": [
    {
      "cell_type": "markdown",
      "metadata": {
        "id": "view-in-github",
        "colab_type": "text"
      },
      "source": [
        "<a href=\"https://colab.research.google.com/github/siddhusalvi/Pandas_DataFrame/blob/master/Dataframe_Exercise.ipynb\" target=\"_parent\"><img src=\"https://colab.research.google.com/assets/colab-badge.svg\" alt=\"Open In Colab\"/></a>"
      ]
    },
    {
      "cell_type": "code",
      "metadata": {
        "id": "qdknV7_2NtyR",
        "colab_type": "code",
        "colab": {
          "base_uri": "https://localhost:8080/",
          "height": 624
        },
        "outputId": "67fc8856-afeb-4eed-dd27-8c0bcd4bc973"
      },
      "source": [
        "!apt-get update\n",
        "!apt-get install openjdk-8-jdk-headless -qq > /dev/null\n",
        "!wget -q http://archive.apache.org/dist/spark/spark-2.3.1/spark-2.3.1-bin-hadoop2.7.tgz\n",
        "!tar xf spark-2.3.1-bin-hadoop2.7.tgz\n",
        "!pip install -q findspark\n",
        "import os\n",
        "os.environ[\"JAVA_HOME\"] = \"/usr/lib/jvm/java-8-openjdk-amd64\"\n",
        "os.environ[\"SPARK_HOME\"] = \"/content/spark-2.3.1-bin-hadoop2.7\"\n",
        "import findspark\n",
        "findspark.init()\n",
        "import pyspark\n",
        "from pyspark.sql import SparkSession\n",
        "spark = SparkSession.builder.getOrCreate() \n",
        "spark"
      ],
      "execution_count": 1,
      "outputs": [
        {
          "output_type": "stream",
          "text": [
            "\r0% [Working]\r            \rGet:1 https://cloud.r-project.org/bin/linux/ubuntu bionic-cran35/ InRelease [3,626 B]\n",
            "\r0% [Connecting to archive.ubuntu.com (91.189.88.152)] [Waiting for headers] [1 \r0% [Connecting to archive.ubuntu.com (91.189.88.152)] [Waiting for headers] [Wa\r0% [1 InRelease gpgv 3,626 B] [Connecting to archive.ubuntu.com (91.189.88.152)\r                                                                               \rIgn:2 https://developer.download.nvidia.com/compute/cuda/repos/ubuntu1804/x86_64  InRelease\n",
            "\r0% [1 InRelease gpgv 3,626 B] [Connecting to archive.ubuntu.com (91.189.88.152)\r                                                                               \rGet:3 http://security.ubuntu.com/ubuntu bionic-security InRelease [88.7 kB]\n",
            "\r0% [1 InRelease gpgv 3,626 B] [Connecting to archive.ubuntu.com (91.189.88.152)\r                                                                               \rIgn:4 https://developer.download.nvidia.com/compute/machine-learning/repos/ubuntu1804/x86_64  InRelease\n",
            "\r0% [1 InRelease gpgv 3,626 B] [Connecting to archive.ubuntu.com (91.189.88.152)\r                                                                               \rGet:5 https://developer.download.nvidia.com/compute/cuda/repos/ubuntu1804/x86_64  Release [697 B]\n",
            "\r0% [1 InRelease gpgv 3,626 B] [Connecting to archive.ubuntu.com (91.189.88.152)\r                                                                               \rHit:6 https://developer.download.nvidia.com/compute/machine-learning/repos/ubuntu1804/x86_64  Release\n",
            "\r0% [1 InRelease gpgv 3,626 B] [Connecting to archive.ubuntu.com (91.189.88.152)\r                                                                               \rGet:7 https://developer.download.nvidia.com/compute/cuda/repos/ubuntu1804/x86_64  Release.gpg [836 B]\n",
            "\r0% [1 InRelease gpgv 3,626 B] [Connecting to archive.ubuntu.com (91.189.88.152)\r0% [1 InRelease gpgv 3,626 B] [Connecting to archive.ubuntu.com (91.189.88.152)\r                                                                               \rHit:8 http://ppa.launchpad.net/graphics-drivers/ppa/ubuntu bionic InRelease\n",
            "\r0% [1 InRelease gpgv 3,626 B] [Waiting for headers] [3 InRelease 34.4 kB/88.7 k\r                                                                               \rHit:9 http://archive.ubuntu.com/ubuntu bionic InRelease\n",
            "\r0% [1 InRelease gpgv 3,626 B] [3 InRelease 80.8 kB/88.7 kB 91%] [Connecting to \r0% [1 InRelease gpgv 3,626 B] [Waiting for headers] [Connecting to ppa.launchpa\r                                                                               \r0% [Waiting for headers] [Waiting for headers]\r0% [Release.gpg gpgv 564 B] [Waiting for headers] [Waiting for headers]\r                                                                       \rGet:10 http://archive.ubuntu.com/ubuntu bionic-updates InRelease [88.7 kB]\n",
            "Get:11 http://ppa.launchpad.net/marutter/c2d4u3.5/ubuntu bionic InRelease [15.4 kB]\n",
            "Ign:13 https://developer.download.nvidia.com/compute/cuda/repos/ubuntu1804/x86_64  Packages\n",
            "Get:14 http://archive.ubuntu.com/ubuntu bionic-backports InRelease [74.6 kB]\n",
            "Get:13 https://developer.download.nvidia.com/compute/cuda/repos/ubuntu1804/x86_64  Packages [255 kB]\n",
            "Get:15 http://security.ubuntu.com/ubuntu bionic-security/universe amd64 Packages [882 kB]\n",
            "Get:16 http://security.ubuntu.com/ubuntu bionic-security/main amd64 Packages [1,037 kB]\n",
            "Get:17 http://ppa.launchpad.net/marutter/c2d4u3.5/ubuntu bionic/main Sources [1,856 kB]\n",
            "Get:18 http://archive.ubuntu.com/ubuntu bionic-updates/multiverse amd64 Packages [27.1 kB]\n",
            "Get:19 http://archive.ubuntu.com/ubuntu bionic-updates/universe amd64 Packages [1,413 kB]\n",
            "Get:20 http://archive.ubuntu.com/ubuntu bionic-updates/restricted amd64 Packages [116 kB]\n",
            "Get:21 http://archive.ubuntu.com/ubuntu bionic-updates/main amd64 Packages [1,334 kB]\n",
            "Get:22 http://ppa.launchpad.net/marutter/c2d4u3.5/ubuntu bionic/main amd64 Packages [895 kB]\n",
            "Fetched 8,088 kB in 5s (1,783 kB/s)\n",
            "Reading package lists... Done\n"
          ],
          "name": "stdout"
        },
        {
          "output_type": "execute_result",
          "data": {
            "text/html": [
              "\n",
              "            <div>\n",
              "                <p><b>SparkSession - in-memory</b></p>\n",
              "                \n",
              "        <div>\n",
              "            <p><b>SparkContext</b></p>\n",
              "\n",
              "            <p><a href=\"http://9544a2704a1f:4040\">Spark UI</a></p>\n",
              "\n",
              "            <dl>\n",
              "              <dt>Version</dt>\n",
              "                <dd><code>v2.3.1</code></dd>\n",
              "              <dt>Master</dt>\n",
              "                <dd><code>local[*]</code></dd>\n",
              "              <dt>AppName</dt>\n",
              "                <dd><code>pyspark-shell</code></dd>\n",
              "            </dl>\n",
              "        </div>\n",
              "        \n",
              "            </div>\n",
              "        "
            ],
            "text/plain": [
              "<pyspark.sql.session.SparkSession at 0x7f5289acaa90>"
            ]
          },
          "metadata": {
            "tags": []
          },
          "execution_count": 1
        }
      ]
    },
    {
      "cell_type": "code",
      "metadata": {
        "id": "IQreZrNOYxrn",
        "colab_type": "code",
        "colab": {}
      },
      "source": [
        "from pyspark.context import SparkContext\n",
        "from pyspark.sql.session import SparkSession\n",
        "from pyspark.sql.functions import *"
      ],
      "execution_count": 2,
      "outputs": []
    },
    {
      "cell_type": "code",
      "metadata": {
        "id": "n9gwWc0KY6H_",
        "colab_type": "code",
        "colab": {}
      },
      "source": [
        "df = spark.read.format(\"csv\").option(\"header\",\"true\").load(\"day1.csv\")"
      ],
      "execution_count": 3,
      "outputs": []
    },
    {
      "cell_type": "code",
      "metadata": {
        "id": "ReHQM4KZY_ol",
        "colab_type": "code",
        "colab": {
          "base_uri": "https://localhost:8080/",
          "height": 816
        },
        "outputId": "9efe2542-addd-459f-93c8-fe2d149a2b91"
      },
      "source": [
        "df.printSchema()"
      ],
      "execution_count": 4,
      "outputs": [
        {
          "output_type": "stream",
          "text": [
            "root\n",
            " |-- DateTime: string (nullable = true)\n",
            " |-- Cpu Count: string (nullable = true)\n",
            " |-- Cpu Working Time: string (nullable = true)\n",
            " |-- Cpu idle Time: string (nullable = true)\n",
            " |-- cpu_percent: string (nullable = true)\n",
            " |-- Usage Cpu Count : string (nullable = true)\n",
            " |-- number of software interrupts since boot: string (nullable = true)\n",
            " |-- number of system calls since boot: string (nullable = true)\n",
            " |-- number of interrupts since boot: string (nullable = true)\n",
            " |-- cpu avg load over 1 min: string (nullable = true)\n",
            " |-- cpu avg load over 5 min: string (nullable = true)\n",
            " |-- cpu avg load over 15 min: string (nullable = true)\n",
            " |-- system_total_memory: string (nullable = true)\n",
            " |-- system_used_memory: string (nullable = true)\n",
            " |-- system_free_memory: string (nullable = true)\n",
            " |-- system_active_memory: string (nullable = true)\n",
            " |-- system_inactive_memory: string (nullable = true)\n",
            " |-- system_buffers_memory: string (nullable = true)\n",
            " |-- system_cached_memory: string (nullable = true)\n",
            " |-- system_shared_memory: string (nullable = true)\n",
            " |-- system_avalible_memory: string (nullable = true)\n",
            " |-- disk_total_memory: string (nullable = true)\n",
            " |-- disk_used_memory: string (nullable = true)\n",
            " |-- disk_free_memory: string (nullable = true)\n",
            " |-- disk_read_count: string (nullable = true)\n",
            " |-- disk_write_count: string (nullable = true)\n",
            " |-- disk_read_bytes: string (nullable = true)\n",
            " |-- disk_write_bytes: string (nullable = true)\n",
            " |-- time spent reading from disk: string (nullable = true)\n",
            " |-- time spent writing to disk: string (nullable = true)\n",
            " |-- time spent doing actual I/Os: string (nullable = true)\n",
            " |-- number of bytes sent: string (nullable = true)\n",
            " |-- number of bytes received: string (nullable = true)\n",
            " |-- number of packets sent: string (nullable = true)\n",
            " |-- number of packets recived: string (nullable = true)\n",
            " |-- total number of errors while receiving: string (nullable = true)\n",
            " |-- total number of errors while sending: string (nullable = true)\n",
            " |-- total number of incoming packets which were dropped: string (nullable = true)\n",
            " |-- total number of outgoing packets which were dropped: string (nullable = true)\n",
            " |-- boot_time: string (nullable = true)\n",
            " |-- user_name: string (nullable = true)\n",
            " |-- keyboard: string (nullable = true)\n",
            " |-- mouse: string (nullable = true)\n",
            " |-- technology: string (nullable = true)\n",
            " |-- files_changed: string (nullable = true)\n",
            "\n"
          ],
          "name": "stdout"
        }
      ]
    },
    {
      "cell_type": "code",
      "metadata": {
        "id": "d2JNKW7pZCC2",
        "colab_type": "code",
        "colab": {}
      },
      "source": [
        "dataDF = df.select('user_name','DateTime','keyboard','mouse')"
      ],
      "execution_count": 5,
      "outputs": []
    },
    {
      "cell_type": "code",
      "metadata": {
        "id": "wqeSyXkoZEBw",
        "colab_type": "code",
        "colab": {}
      },
      "source": [
        "tempDF = dataDF.withColumn(\"Date\",to_timestamp('DateTime','yyyy-MM-dd HH:mm:ss'))"
      ],
      "execution_count": 6,
      "outputs": []
    },
    {
      "cell_type": "code",
      "metadata": {
        "id": "64FKSzVcZTfr",
        "colab_type": "code",
        "colab": {
          "base_uri": "https://localhost:8080/",
          "height": 459
        },
        "outputId": "70576ce3-928a-4315-e7f3-4ead0164b1fb"
      },
      "source": [
        "tempDF.show()"
      ],
      "execution_count": 7,
      "outputs": [
        {
          "output_type": "stream",
          "text": [
            "+--------------------+-------------------+--------+------+-------------------+\n",
            "|           user_name|           DateTime|keyboard| mouse|               Date|\n",
            "+--------------------+-------------------+--------+------+-------------------+\n",
            "|  iamnzm@outlook.com|2019-10-13 10:20:02|  1312.0| 214.0|2019-10-13 10:20:02|\n",
            "|  shelkeva@gmail.com|2019-10-13 10:25:01|    55.0|  15.0|2019-10-13 10:25:01|\n",
            "|  iamnzm@outlook.com|2019-10-13 10:25:02|   207.0| 134.0|2019-10-13 10:25:02|\n",
            "|     you@example.com|2019-10-13 10:30:01|   222.0|1709.0|2019-10-13 10:30:01|\n",
            "|  shelkeva@gmail.com|2019-10-13 10:30:01|     0.0|   0.0|2019-10-13 10:30:01|\n",
            "|prathameshsalap@g...|2019-10-13 10:30:02|     0.0|  53.0|2019-10-13 10:30:02|\n",
            "|     you@example.com|2019-10-13 10:20:01|    34.5|   0.0|2019-10-13 10:20:01|\n",
            "|     you@example.com|2019-10-13 10:25:01|    35.0| 951.0|2019-10-13 10:25:01|\n",
            "|     you@example.com|2019-10-13 10:35:01|    89.0| 303.0|2019-10-13 10:35:01|\n",
            "|  shelkeva@gmail.com|2019-10-13 10:35:01|     0.0|   0.0|2019-10-13 10:35:01|\n",
            "|prathameshsalap@g...|2019-10-13 10:35:01|   152.0| 129.0|2019-10-13 10:35:01|\n",
            "|  iamnzm@outlook.com|2019-10-13 10:35:01|   909.5|   8.0|2019-10-13 10:35:01|\n",
            "|     you@example.com|2019-10-13 10:40:02|   263.0| 295.0|2019-10-13 10:40:02|\n",
            "|  shelkeva@gmail.com|2019-10-13 10:40:02|     0.0|   0.0|2019-10-13 10:40:02|\n",
            "|prathameshsalap@g...|2019-10-13 10:40:01|   201.0| 115.0|2019-10-13 10:40:01|\n",
            "|  iamnzm@outlook.com|2019-10-13 10:40:01|   289.5| 122.0|2019-10-13 10:40:01|\n",
            "|     you@example.com|2019-10-13 10:45:02|    27.0|  70.0|2019-10-13 10:45:02|\n",
            "|  shelkeva@gmail.com|2019-10-13 10:45:01|    12.0| 179.0|2019-10-13 10:45:01|\n",
            "|prathameshsalap@g...|2019-10-13 10:45:01|    37.0| 450.0|2019-10-13 10:45:01|\n",
            "|  iamnzm@outlook.com|2019-10-13 10:45:01|   389.5|  16.0|2019-10-13 10:45:01|\n",
            "+--------------------+-------------------+--------+------+-------------------+\n",
            "only showing top 20 rows\n",
            "\n"
          ],
          "name": "stdout"
        }
      ]
    },
    {
      "cell_type": "code",
      "metadata": {
        "id": "REjMh4I9ZGCG",
        "colab_type": "code",
        "colab": {}
      },
      "source": [
        "dataDF =tempDF.withColumnRenamed('user_name',\"user\")\\\n",
        ".withColumnRenamed('Date','date')\\\n",
        ".drop('DateTime')"
      ],
      "execution_count": 8,
      "outputs": []
    },
    {
      "cell_type": "code",
      "metadata": {
        "id": "MIUO3AyXaOOs",
        "colab_type": "code",
        "colab": {
          "base_uri": "https://localhost:8080/",
          "height": 459
        },
        "outputId": "5b36ca34-0ab6-41b2-b850-b2ef0cee2ea1"
      },
      "source": [
        "dataDF.show()"
      ],
      "execution_count": 9,
      "outputs": [
        {
          "output_type": "stream",
          "text": [
            "+--------------------+--------+------+-------------------+\n",
            "|                user|keyboard| mouse|               date|\n",
            "+--------------------+--------+------+-------------------+\n",
            "|  iamnzm@outlook.com|  1312.0| 214.0|2019-10-13 10:20:02|\n",
            "|  shelkeva@gmail.com|    55.0|  15.0|2019-10-13 10:25:01|\n",
            "|  iamnzm@outlook.com|   207.0| 134.0|2019-10-13 10:25:02|\n",
            "|     you@example.com|   222.0|1709.0|2019-10-13 10:30:01|\n",
            "|  shelkeva@gmail.com|     0.0|   0.0|2019-10-13 10:30:01|\n",
            "|prathameshsalap@g...|     0.0|  53.0|2019-10-13 10:30:02|\n",
            "|     you@example.com|    34.5|   0.0|2019-10-13 10:20:01|\n",
            "|     you@example.com|    35.0| 951.0|2019-10-13 10:25:01|\n",
            "|     you@example.com|    89.0| 303.0|2019-10-13 10:35:01|\n",
            "|  shelkeva@gmail.com|     0.0|   0.0|2019-10-13 10:35:01|\n",
            "|prathameshsalap@g...|   152.0| 129.0|2019-10-13 10:35:01|\n",
            "|  iamnzm@outlook.com|   909.5|   8.0|2019-10-13 10:35:01|\n",
            "|     you@example.com|   263.0| 295.0|2019-10-13 10:40:02|\n",
            "|  shelkeva@gmail.com|     0.0|   0.0|2019-10-13 10:40:02|\n",
            "|prathameshsalap@g...|   201.0| 115.0|2019-10-13 10:40:01|\n",
            "|  iamnzm@outlook.com|   289.5| 122.0|2019-10-13 10:40:01|\n",
            "|     you@example.com|    27.0|  70.0|2019-10-13 10:45:02|\n",
            "|  shelkeva@gmail.com|    12.0| 179.0|2019-10-13 10:45:01|\n",
            "|prathameshsalap@g...|    37.0| 450.0|2019-10-13 10:45:01|\n",
            "|  iamnzm@outlook.com|   389.5|  16.0|2019-10-13 10:45:01|\n",
            "+--------------------+--------+------+-------------------+\n",
            "only showing top 20 rows\n",
            "\n"
          ],
          "name": "stdout"
        }
      ]
    },
    {
      "cell_type": "code",
      "metadata": {
        "id": "owVDyMZ1aSTt",
        "colab_type": "code",
        "colab": {
          "base_uri": "https://localhost:8080/",
          "height": 459
        },
        "outputId": "cceb492a-537f-499a-8cc1-669784d6ae58"
      },
      "source": [
        "sortedDF = dataDF.orderBy(col('user'),col('date'))\n",
        "sortedDF.show()"
      ],
      "execution_count": 10,
      "outputs": [
        {
          "output_type": "stream",
          "text": [
            "+--------------------+--------+------+-------------------+\n",
            "|                user|keyboard| mouse|               date|\n",
            "+--------------------+--------+------+-------------------+\n",
            "|antonyalexcm@gmai...|     9.0| 260.0|2019-10-13 12:10:01|\n",
            "|antonyalexcm@gmai...|     2.0|6281.0|2019-10-13 12:15:02|\n",
            "|antonyalexcm@gmai...|    61.0|5697.0|2019-10-13 12:20:01|\n",
            "|antonyalexcm@gmai...|    40.0|3940.0|2019-10-13 12:25:01|\n",
            "|antonyalexcm@gmai...|   131.0|5472.0|2019-10-13 12:30:01|\n",
            "|antonyalexcm@gmai...|   106.0|4439.0|2019-10-13 12:35:02|\n",
            "|antonyalexcm@gmai...|    86.0|3458.0|2019-10-13 12:40:01|\n",
            "|antonyalexcm@gmai...|   235.5|5364.0|2019-10-13 12:45:01|\n",
            "|antonyalexcm@gmai...|     0.0| 318.0|2019-10-13 12:50:02|\n",
            "|ashutoshrit64@gma...|     2.0| 401.0|2019-10-13 12:25:01|\n",
            "|ashutoshrit64@gma...|    64.0| 471.0|2019-10-13 12:30:02|\n",
            "|ashutoshrit64@gma...|   188.0| 349.0|2019-10-13 12:35:02|\n",
            "|ashutoshrit64@gma...|    36.0| 436.0|2019-10-13 12:40:01|\n",
            "|ashutoshrit64@gma...|    53.0| 502.0|2019-10-13 12:45:02|\n",
            "|ashutoshrit64@gma...|    17.0| 618.0|2019-10-13 12:50:01|\n",
            "|ashutoshrit64@gma...|    34.0| 611.0|2019-10-13 12:55:01|\n",
            "|ashutoshrit64@gma...|    67.0|1274.0|2019-10-13 13:00:01|\n",
            "|ashutoshrit64@gma...|   138.0| 235.0|2019-10-13 13:05:01|\n",
            "|ashutoshrit64@gma...|   125.0| 834.0|2019-10-13 13:10:01|\n",
            "|ashutoshrit64@gma...|   264.5| 899.0|2019-10-13 13:15:01|\n",
            "+--------------------+--------+------+-------------------+\n",
            "only showing top 20 rows\n",
            "\n"
          ],
          "name": "stdout"
        }
      ]
    },
    {
      "cell_type": "code",
      "metadata": {
        "id": "Iwex3G2NcCLQ",
        "colab_type": "code",
        "colab": {}
      },
      "source": [
        "lst1 = list(sortedDF.select('user').toPandas()['user'])\n",
        "lst2 = list(sortedDF.select('user').toPandas()['user'])    "
      ],
      "execution_count": 11,
      "outputs": []
    },
    {
      "cell_type": "code",
      "metadata": {
        "id": "Kusd5LpGeCvl",
        "colab_type": "code",
        "colab": {
          "base_uri": "https://localhost:8080/",
          "height": 54
        },
        "outputId": "2908234e-55eb-4e39-8f11-1d377e795e32"
      },
      "source": [
        "print(lst1)"
      ],
      "execution_count": 12,
      "outputs": [
        {
          "output_type": "stream",
          "text": [
            "['antonyalexcm@gmail.com', 'antonyalexcm@gmail.com', 'antonyalexcm@gmail.com', 'antonyalexcm@gmail.com', 'antonyalexcm@gmail.com', 'antonyalexcm@gmail.com', 'antonyalexcm@gmail.com', 'antonyalexcm@gmail.com', 'antonyalexcm@gmail.com', 'ashutoshrit64@gmail.com', 'ashutoshrit64@gmail.com', 'ashutoshrit64@gmail.com', 'ashutoshrit64@gmail.com', 'ashutoshrit64@gmail.com', 'ashutoshrit64@gmail.com', 'ashutoshrit64@gmail.com', 'ashutoshrit64@gmail.com', 'ashutoshrit64@gmail.com', 'ashutoshrit64@gmail.com', 'ashutoshrit64@gmail.com', 'ashutoshrit64@gmail.com', 'ashutoshrit64@gmail.com', 'ashutoshrit64@gmail.com', 'ashutoshrit64@gmail.com', 'ashutoshrit64@gmail.com', 'ashutoshrit64@gmail.com', 'ashutoshrit64@gmail.com', 'ashutoshrit64@gmail.com', 'ashutoshrit64@gmail.com', 'ashutoshrit64@gmail.com', 'ashutoshrit64@gmail.com', 'ashutoshrit64@gmail.com', 'ashutoshrit64@gmail.com', 'ashutoshrit64@gmail.com', 'ashutoshrit64@gmail.com', 'ashutoshrit64@gmail.com', 'ashutoshrit64@gmail.com', 'ashutoshrit64@gmail.com', 'ashutoshrit64@gmail.com', 'ashutoshrit64@gmail.com', 'ashutoshrit64@gmail.com', 'ashutoshrit64@gmail.com', 'ashutoshrit64@gmail.com', 'ashutoshrit64@gmail.com', 'ashutoshrit64@gmail.com', 'ashutoshrit64@gmail.com', 'ashutoshrit64@gmail.com', 'ashutoshrit64@gmail.com', 'ashutoshrit64@gmail.com', 'ashutoshrit64@gmail.com', 'ashutoshrit64@gmail.com', 'ashutoshrit64@gmail.com', 'ashutoshrit64@gmail.com', 'ashutoshrit64@gmail.com', 'ashutoshrit64@gmail.com', 'ashutoshrit64@gmail.com', 'ashutoshrit64@gmail.com', 'ashutoshrit64@gmail.com', 'grmule018@gmail.com', 'grmule018@gmail.com', 'grmule018@gmail.com', 'grmule018@gmail.com', 'grmule018@gmail.com', 'grmule018@gmail.com', 'grmule018@gmail.com', 'grmule018@gmail.com', 'grmule018@gmail.com', 'grmule018@gmail.com', 'grmule018@gmail.com', 'grmule018@gmail.com', 'grmule018@gmail.com', 'grmule018@gmail.com', 'grmule018@gmail.com', 'grmule018@gmail.com', 'grmule018@gmail.com', 'grmule018@gmail.com', 'grmule018@gmail.com', 'grmule018@gmail.com', 'grmule018@gmail.com', 'grmule018@gmail.com', 'grmule018@gmail.com', 'grmule018@gmail.com', 'grmule018@gmail.com', 'grmule018@gmail.com', 'grmule018@gmail.com', 'grmule018@gmail.com', 'grmule018@gmail.com', 'grmule018@gmail.com', 'grmule018@gmail.com', 'grmule018@gmail.com', 'grmule018@gmail.com', 'grmule018@gmail.com', 'grmule018@gmail.com', 'grmule018@gmail.com', 'grmule018@gmail.com', 'grmule018@gmail.com', 'grmule018@gmail.com', 'grmule018@gmail.com', 'grmule018@gmail.com', 'grmule018@gmail.com', 'grmule018@gmail.com', 'grmule018@gmail.com', 'grmule018@gmail.com', 'grmule018@gmail.com', 'grmule018@gmail.com', 'grmule018@gmail.com', 'grmule018@gmail.com', 'grmule018@gmail.com', 'grmule018@gmail.com', 'grmule018@gmail.com', 'grmule018@gmail.com', 'grmule018@gmail.com', 'grmule018@gmail.com', 'grmule018@gmail.com', 'grmule018@gmail.com', 'grmule018@gmail.com', 'grmule018@gmail.com', 'grmule018@gmail.com', 'grmule018@gmail.com', 'grmule018@gmail.com', 'grmule018@gmail.com', 'grmule018@gmail.com', 'grmule018@gmail.com', 'grmule018@gmail.com', 'grmule018@gmail.com', 'grmule018@gmail.com', 'grmule018@gmail.com', 'grmule018@gmail.com', 'grmule018@gmail.com', 'grmule018@gmail.com', 'grmule018@gmail.com', 'grmule018@gmail.com', 'iamnzm@outlook.com', 'iamnzm@outlook.com', 'iamnzm@outlook.com', 'iamnzm@outlook.com', 'iamnzm@outlook.com', 'iamnzm@outlook.com', 'iamnzm@outlook.com', 'iamnzm@outlook.com', 'iamnzm@outlook.com', 'iamnzm@outlook.com', 'iamnzm@outlook.com', 'iamnzm@outlook.com', 'iamnzm@outlook.com', 'iamnzm@outlook.com', 'iamnzm@outlook.com', 'iamnzm@outlook.com', 'iamnzm@outlook.com', 'iamnzm@outlook.com', 'iamnzm@outlook.com', 'iamnzm@outlook.com', 'iamnzm@outlook.com', 'iamnzm@outlook.com', 'iamnzm@outlook.com', 'iamnzm@outlook.com', 'iamnzm@outlook.com', 'iamnzm@outlook.com', 'iamnzm@outlook.com', 'iamnzm@outlook.com', 'iamnzm@outlook.com', 'iamnzm@outlook.com', 'iamnzm@outlook.com', 'iamnzm@outlook.com', 'iamnzm@outlook.com', 'iamnzm@outlook.com', 'iamnzm@outlook.com', 'iamnzm@outlook.com', 'iamnzm@outlook.com', 'iamnzm@outlook.com', 'iamnzm@outlook.com', 'iamnzm@outlook.com', 'iamnzm@outlook.com', 'iamnzm@outlook.com', 'iamnzm@outlook.com', 'iamnzm@outlook.com', 'iamnzm@outlook.com', 'iamnzm@outlook.com', 'iamnzm@outlook.com', 'iamnzm@outlook.com', 'iamnzm@outlook.com', 'iamnzm@outlook.com', 'iamnzm@outlook.com', 'iamnzm@outlook.com', 'iamnzm@outlook.com', 'iamnzm@outlook.com', 'iamnzm@outlook.com', 'iamnzm@outlook.com', 'iamnzm@outlook.com', 'iamnzm@outlook.com', 'iamnzm@outlook.com', 'iamnzm@outlook.com', 'iamnzm@outlook.com', 'iamnzm@outlook.com', 'iamnzm@outlook.com', 'iamnzm@outlook.com', 'iamnzm@outlook.com', 'iamnzm@outlook.com', 'iamnzm@outlook.com', 'iamnzm@outlook.com', 'iamnzm@outlook.com', 'iamnzm@outlook.com', 'iamnzm@outlook.com', 'iamnzm@outlook.com', 'iamnzm@outlook.com', 'iamnzm@outlook.com', 'iamnzm@outlook.com', 'iamnzm@outlook.com', 'iamnzm@outlook.com', 'iamnzm@outlook.com', 'iamnzm@outlook.com', 'iamnzm@outlook.com', 'kalyani24deobhankar@gmail.com', 'kalyani24deobhankar@gmail.com', 'kalyani24deobhankar@gmail.com', 'kalyani24deobhankar@gmail.com', 'kalyani24deobhankar@gmail.com', 'kalyani24deobhankar@gmail.com', 'kalyani24deobhankar@gmail.com', 'kalyani24deobhankar@gmail.com', 'kalyani24deobhankar@gmail.com', 'kalyani24deobhankar@gmail.com', 'kalyani24deobhankar@gmail.com', 'kalyani24deobhankar@gmail.com', 'kalyani24deobhankar@gmail.com', 'kalyani24deobhankar@gmail.com', 'kalyani24deobhankar@gmail.com', 'kalyani24deobhankar@gmail.com', 'kalyani24deobhankar@gmail.com', 'kalyani24deobhankar@gmail.com', 'kalyani24deobhankar@gmail.com', 'kalyani24deobhankar@gmail.com', 'kalyani24deobhankar@gmail.com', 'kalyani24deobhankar@gmail.com', 'kalyani24deobhankar@gmail.com', 'kalyani24deobhankar@gmail.com', 'kalyani24deobhankar@gmail.com', 'kalyani24deobhankar@gmail.com', 'kalyani24deobhankar@gmail.com', 'kalyani24deobhankar@gmail.com', 'kalyani24deobhankar@gmail.com', 'kalyani24deobhankar@gmail.com', 'kalyani24deobhankar@gmail.com', 'kalyani24deobhankar@gmail.com', 'kalyani24deobhankar@gmail.com', 'kalyani24deobhankar@gmail.com', 'kalyani24deobhankar@gmail.com', 'kalyani24deobhankar@gmail.com', 'kalyani24deobhankar@gmail.com', 'kalyani24deobhankar@gmail.com', 'kalyani24deobhankar@gmail.com', 'kalyani24deobhankar@gmail.com', 'kalyani24deobhankar@gmail.com', 'kalyani24deobhankar@gmail.com', 'kalyani24deobhankar@gmail.com', 'kalyani24deobhankar@gmail.com', 'kalyani24deobhankar@gmail.com', 'kalyani24deobhankar@gmail.com', 'kalyani24deobhankar@gmail.com', 'kalyani24deobhankar@gmail.com', 'kalyani24deobhankar@gmail.com', 'kalyani24deobhankar@gmail.com', 'kalyani24deobhankar@gmail.com', 'kalyani24deobhankar@gmail.com', 'kalyani24deobhankar@gmail.com', 'kalyani24deobhankar@gmail.com', 'kalyani24deobhankar@gmail.com', 'kalyani24deobhankar@gmail.com', 'kalyani24deobhankar@gmail.com', 'kalyani24deobhankar@gmail.com', 'kalyani24deobhankar@gmail.com', 'kalyani24deobhankar@gmail.com', 'kalyani24deobhankar@gmail.com', 'kalyani24deobhankar@gmail.com', 'polelaxman001@gmail.com', 'polelaxman001@gmail.com', 'polelaxman001@gmail.com', 'polelaxman001@gmail.com', 'polelaxman001@gmail.com', 'polelaxman001@gmail.com', 'polelaxman001@gmail.com', 'polelaxman001@gmail.com', 'polelaxman001@gmail.com', 'polelaxman001@gmail.com', 'polelaxman001@gmail.com', 'polelaxman001@gmail.com', 'polelaxman001@gmail.com', 'polelaxman001@gmail.com', 'polelaxman001@gmail.com', 'polelaxman001@gmail.com', 'polelaxman001@gmail.com', 'polelaxman001@gmail.com', 'polelaxman001@gmail.com', 'polelaxman001@gmail.com', 'polelaxman001@gmail.com', 'polelaxman001@gmail.com', 'polelaxman001@gmail.com', 'polelaxman001@gmail.com', 'polelaxman001@gmail.com', 'polelaxman001@gmail.com', 'polelaxman001@gmail.com', 'polelaxman001@gmail.com', 'polelaxman001@gmail.com', 'polelaxman001@gmail.com', 'polelaxman001@gmail.com', 'polelaxman001@gmail.com', 'polelaxman001@gmail.com', 'polelaxman001@gmail.com', 'polelaxman001@gmail.com', 'polelaxman001@gmail.com', 'polelaxman001@gmail.com', 'polelaxman001@gmail.com', 'polelaxman001@gmail.com', 'polelaxman001@gmail.com', 'polelaxman001@gmail.com', 'polelaxman001@gmail.com', 'polelaxman001@gmail.com', 'polelaxman001@gmail.com', 'polelaxman001@gmail.com', 'polelaxman001@gmail.com', 'polelaxman001@gmail.com', 'polelaxman001@gmail.com', 'polelaxman001@gmail.com', 'polelaxman001@gmail.com', 'polelaxman001@gmail.com', 'polelaxman001@gmail.com', 'prathameshsalap@gmail.com', 'prathameshsalap@gmail.com', 'prathameshsalap@gmail.com', 'prathameshsalap@gmail.com', 'prathameshsalap@gmail.com', 'prathameshsalap@gmail.com', 'prathameshsalap@gmail.com', 'prathameshsalap@gmail.com', 'prathameshsalap@gmail.com', 'prathameshsalap@gmail.com', 'prathameshsalap@gmail.com', 'prathameshsalap@gmail.com', 'prathameshsalap@gmail.com', 'prathameshsalap@gmail.com', 'prathameshsalap@gmail.com', 'prathameshsalap@gmail.com', 'prathameshsalap@gmail.com', 'prathameshsalap@gmail.com', 'prathameshsalap@gmail.com', 'prathameshsalap@gmail.com', 'prathameshsalap@gmail.com', 'prathameshsalap@gmail.com', 'prathameshsalap@gmail.com', 'prathameshsalap@gmail.com', 'prathameshsalap@gmail.com', 'prathameshsalap@gmail.com', 'prathameshsalap@gmail.com', 'prathameshsalap@gmail.com', 'prathameshsalap@gmail.com', 'prathameshsalap@gmail.com', 'prathameshsalap@gmail.com', 'prathameshsalap@gmail.com', 'prathameshsalap@gmail.com', 'prathameshsalap@gmail.com', 'prathameshsalap@gmail.com', 'prathameshsalap@gmail.com', 'prathameshsalap@gmail.com', 'prathameshsalap@gmail.com', 'prathameshsalap@gmail.com', 'prathameshsalap@gmail.com', 'prathameshsalap@gmail.com', 'prathameshsalap@gmail.com', 'prathameshsalap@gmail.com', 'prathameshsalap@gmail.com', 'prathameshsalap@gmail.com', 'prathameshsalap@gmail.com', 'prathameshsalap@gmail.com', 'prathameshsalap@gmail.com', 'prathameshsalap@gmail.com', 'prathameshsalap@gmail.com', 'prathameshsalap@gmail.com', 'prathameshsalap@gmail.com', 'prathameshsalap@gmail.com', 'prathameshsalap@gmail.com', 'prathameshsalap@gmail.com', 'prathameshsalap@gmail.com', 'prathameshsalap@gmail.com', 'prathameshsalap@gmail.com', 'prathameshsalap@gmail.com', 'prathameshsalap@gmail.com', 'prathameshsalap@gmail.com', 'prathameshsalap@gmail.com', 'priyankagandhi2504@gmail.com', 'priyankagandhi2504@gmail.com', 'priyankagandhi2504@gmail.com', 'priyankagandhi2504@gmail.com', 'priyankagandhi2504@gmail.com', 'priyankagandhi2504@gmail.com', 'priyankagandhi2504@gmail.com', 'priyankagandhi2504@gmail.com', 'priyankagandhi2504@gmail.com', 'priyankagandhi2504@gmail.com', 'priyankagandhi2504@gmail.com', 'priyankagandhi2504@gmail.com', 'priyankagandhi2504@gmail.com', 'priyankagandhi2504@gmail.com', 'priyankagandhi2504@gmail.com', 'priyankagandhi2504@gmail.com', 'priyankagandhi2504@gmail.com', 'priyankagandhi2504@gmail.com', 'priyankagandhi2504@gmail.com', 'priyankagandhi2504@gmail.com', 'priyankagandhi2504@gmail.com', 'priyankagandhi2504@gmail.com', 'priyankagandhi2504@gmail.com', 'priyankagandhi2504@gmail.com', 'priyankagandhi2504@gmail.com', 'priyankagandhi2504@gmail.com', 'priyankagandhi2504@gmail.com', 'priyankagandhi2504@gmail.com', 'priyankagandhi2504@gmail.com', 'priyankagandhi2504@gmail.com', 'priyankagandhi2504@gmail.com', 'priyankagandhi2504@gmail.com', 'priyankagandhi2504@gmail.com', 'priyankagandhi2504@gmail.com', 'priyankagandhi2504@gmail.com', 'priyankagandhi2504@gmail.com', 'priyankagandhi2504@gmail.com', 'priyankagandhi2504@gmail.com', 'priyankagandhi2504@gmail.com', 'priyankagandhi2504@gmail.com', 'priyankagandhi2504@gmail.com', 'priyankagandhi2504@gmail.com', 'priyankagandhi2504@gmail.com', 'priyankagandhi2504@gmail.com', 'priyankagandhi2504@gmail.com', 'priyankagandhi2504@gmail.com', 'priyankagandhi2504@gmail.com', 'priyankagandhi2504@gmail.com', 'priyankagandhi2504@gmail.com', 'priyankagandhi2504@gmail.com', 'priyankagandhi2504@gmail.com', 'shelkeva@gmail.com', 'shelkeva@gmail.com', 'shelkeva@gmail.com', 'shelkeva@gmail.com', 'shelkeva@gmail.com', 'shelkeva@gmail.com', 'shelkeva@gmail.com', 'shelkeva@gmail.com', 'shelkeva@gmail.com', 'shelkeva@gmail.com', 'shelkeva@gmail.com', 'shelkeva@gmail.com', 'shelkeva@gmail.com', 'shelkeva@gmail.com', 'shelkeva@gmail.com', 'shelkeva@gmail.com', 'shelkeva@gmail.com', 'shelkeva@gmail.com', 'shelkeva@gmail.com', 'shelkeva@gmail.com', 'shelkeva@gmail.com', 'shelkeva@gmail.com', 'shelkeva@gmail.com', 'shelkeva@gmail.com', 'shelkeva@gmail.com', 'shelkeva@gmail.com', 'shelkeva@gmail.com', 'shelkeva@gmail.com', 'shelkeva@gmail.com', 'shelkeva@gmail.com', 'shelkeva@gmail.com', 'shelkeva@gmail.com', 'shelkeva@gmail.com', 'shelkeva@gmail.com', 'shelkeva@gmail.com', 'shelkeva@gmail.com', 'shelkeva@gmail.com', 'shelkeva@gmail.com', 'shelkeva@gmail.com', 'shelkeva@gmail.com', 'shelkeva@gmail.com', 'shelkeva@gmail.com', 'shelkeva@gmail.com', 'shelkeva@gmail.com', 'shelkeva@gmail.com', 'shelkeva@gmail.com', 'shelkeva@gmail.com', 'shelkeva@gmail.com', 'shelkeva@gmail.com', 'shelkeva@gmail.com', 'shelkeva@gmail.com', 'shelkeva@gmail.com', 'shelkeva@gmail.com', 'shelkeva@gmail.com', 'shelkeva@gmail.com', 'shelkeva@gmail.com', 'shelkeva@gmail.com', 'shelkeva@gmail.com', 'shelkeva@gmail.com', 'shelkeva@gmail.com', 'shelkeva@gmail.com', 'shelkeva@gmail.com', 'shelkeva@gmail.com', 'shelkeva@gmail.com', 'shelkeva@gmail.com', 'shelkeva@gmail.com', 'shelkeva@gmail.com', 'shelkeva@gmail.com', 'shelkeva@gmail.com', 'shelkeva@gmail.com', 'shelkeva@gmail.com', 'shelkeva@gmail.com', 'shelkeva@gmail.com', 'shelkeva@gmail.com', 'shelkeva@gmail.com', 'shelkeva@gmail.com', 'shelkeva@gmail.com', 'shelkeva@gmail.com', 'shelkeva@gmail.com', 'shelkeva@gmail.com', 'tekina.makin@gmail.com', 'tekina.makin@gmail.com', 'tekina.makin@gmail.com', 'tekina.makin@gmail.com', 'tekina.makin@gmail.com', 'tekina.makin@gmail.com', 'tekina.makin@gmail.com', 'tekina.makin@gmail.com', 'tekina.makin@gmail.com', 'tekina.makin@gmail.com', 'tekina.makin@gmail.com', 'tekina.makin@gmail.com', 'tekina.makin@gmail.com', 'tekina.makin@gmail.com', 'tekina.makin@gmail.com', 'tekina.makin@gmail.com', 'tekina.makin@gmail.com', 'tekina.makin@gmail.com', 'tekina.makin@gmail.com', 'tekina.makin@gmail.com', 'tekina.makin@gmail.com', 'tekina.makin@gmail.com', 'tekina.makin@gmail.com', 'tekina.makin@gmail.com', 'tekina.makin@gmail.com', 'tekina.makin@gmail.com', 'tekina.makin@gmail.com', 'tekina.makin@gmail.com', 'tekina.makin@gmail.com', 'tekina.makin@gmail.com', 'tekina.makin@gmail.com', 'tekina.makin@gmail.com', 'tekina.makin@gmail.com', 'tekina.makin@gmail.com', 'tekina.makin@gmail.com', 'tekina.makin@gmail.com', 'tekina.makin@gmail.com', 'tekina.makin@gmail.com', 'tekina.makin@gmail.com', 'tekina.makin@gmail.com', 'tekina.makin@gmail.com', 'tekina.makin@gmail.com', 'tekina.makin@gmail.com', 'tekina.makin@gmail.com', 'tekina.makin@gmail.com', 'tekina.makin@gmail.com', 'tekina.makin@gmail.com', 'tekina.makin@gmail.com', 'tekina.makin@gmail.com', 'tekina.makin@gmail.com', 'tekina.makin@gmail.com', 'tekina.makin@gmail.com', 'tekina.makin@gmail.com', 'tekina.makin@gmail.com', 'tekina.makin@gmail.com', 'tekina.makin@gmail.com', 'vijaykumarbhavanur.com', 'vijaykumarbhavanur.com', 'vijaykumarbhavanur.com', 'vishnu23kumar@gmail.com', 'vishnu23kumar@gmail.com', 'vishnu23kumar@gmail.com', 'vishnu23kumar@gmail.com', 'vishnu23kumar@gmail.com', 'vishnu23kumar@gmail.com', 'vishnu23kumar@gmail.com', 'vishnu23kumar@gmail.com', 'vishnu23kumar@gmail.com', 'vishnu23kumar@gmail.com', 'vishnu23kumar@gmail.com', 'vishnu23kumar@gmail.com', 'vishnu23kumar@gmail.com', 'vishnu23kumar@gmail.com', 'vishnu23kumar@gmail.com', 'vishnu23kumar@gmail.com', 'vishnu23kumar@gmail.com', 'vishnu23kumar@gmail.com', 'vishnu23kumar@gmail.com', 'vishnu23kumar@gmail.com', 'vishnu23kumar@gmail.com', 'vishnu23kumar@gmail.com', 'vishnu23kumar@gmail.com', 'vishnu23kumar@gmail.com', 'vishnu23kumar@gmail.com', 'vishnu23kumar@gmail.com', 'vishnu23kumar@gmail.com', 'vishnu23kumar@gmail.com', 'vishnu23kumar@gmail.com', 'vishnu23kumar@gmail.com', 'vishnu23kumar@gmail.com', 'vishnu23kumar@gmail.com', 'vishnu23kumar@gmail.com', 'vishnu23kumar@gmail.com', 'vishnu23kumar@gmail.com', 'vishnu23kumar@gmail.com', 'vishnu23kumar@gmail.com', 'vishnu23kumar@gmail.com', 'vishnu23kumar@gmail.com', 'vishnu23kumar@gmail.com', 'vishnu23kumar@gmail.com', 'vishnu23kumar@gmail.com', 'vishnu23kumar@gmail.com', 'vishnu23kumar@gmail.com', 'vishnu23kumar@gmail.com', 'vishnu23kumar@gmail.com', 'vishnu23kumar@gmail.com', 'vishnu23kumar@gmail.com', 'vishnu23kumar@gmail.com', 'vishnu23kumar@gmail.com', 'vishnu23kumar@gmail.com', 'vishnu23kumar@gmail.com', 'vishnu23kumar@gmail.com', 'vishnu23kumar@gmail.com', 'vishnu23kumar@gmail.com', 'vishnu23kumar@gmail.com', 'vishnu23kumar@gmail.com', 'vishnu23kumar@gmail.com', 'vishnu23kumar@gmail.com', 'vishnu23kumar@gmail.com', 'vishnu23kumar@gmail.com', 'vishnu23kumar@gmail.com', 'vishnu23kumar@gmail.com', 'vishnu23kumar@gmail.com', 'vishnu23kumar@gmail.com', 'vishnu23kumar@gmail.com', 'vishnu23kumar@gmail.com', 'vishnu23kumar@gmail.com', 'vishnu23kumar@gmail.com', 'vishnu23kumar@gmail.com', 'you@example.com', 'you@example.com', 'you@example.com', 'you@example.com', 'you@example.com', 'you@example.com', 'you@example.com', 'you@example.com', 'you@example.com', 'you@example.com', 'you@example.com', 'you@example.com', 'you@example.com', 'you@example.com', 'you@example.com', 'you@example.com', 'you@example.com', 'you@example.com', 'you@example.com', 'you@example.com', 'you@example.com', 'you@example.com', 'you@example.com', 'you@example.com', 'you@example.com', 'you@example.com', 'you@example.com', 'you@example.com', 'you@example.com', 'you@example.com', 'you@example.com', 'you@example.com', 'you@example.com', 'you@example.com', 'you@example.com', 'you@example.com', 'you@example.com', 'you@example.com', 'you@example.com', 'you@example.com', 'you@example.com', 'you@example.com', 'you@example.com', 'you@example.com', 'you@example.com', 'you@example.com', 'you@example.com', 'you@example.com', 'you@example.com', 'you@example.com', 'you@example.com', 'you@example.com', 'you@example.com', 'you@example.com', 'you@example.com', 'you@example.com', 'you@example.com', 'you@example.com', 'you@example.com', 'you@example.com', 'you@example.com', 'you@example.com', 'you@example.com', 'you@example.com', 'you@example.com', 'you@example.com', 'you@example.com', 'you@example.com', 'you@example.com', 'you@example.com', 'you@example.com', 'you@example.com', 'you@example.com', 'you@example.com', 'you@example.com', 'you@example.com', 'you@example.com', 'you@example.com', 'you@example.com', 'you@example.com', 'you@example.com']\n"
          ],
          "name": "stdout"
        }
      ]
    },
    {
      "cell_type": "code",
      "metadata": {
        "id": "WWEpRERSbAL9",
        "colab_type": "code",
        "colab": {
          "base_uri": "https://localhost:8080/",
          "height": 34
        },
        "outputId": "8426501d-c2ad-40bb-f50a-6c2074aaf23b"
      },
      "source": [
        "sortedDF.drop_duplicates(['user']).count()"
      ],
      "execution_count": 13,
      "outputs": [
        {
          "output_type": "execute_result",
          "data": {
            "text/plain": [
              "13"
            ]
          },
          "metadata": {
            "tags": []
          },
          "execution_count": 13
        }
      ]
    },
    {
      "cell_type": "markdown",
      "metadata": {
        "id": "Lv6sxtlubwqa",
        "colab_type": "text"
      },
      "source": [
        "Calculating leaves\n"
      ]
    },
    {
      "cell_type": "code",
      "metadata": {
        "id": "CVcaHp0Nbu1G",
        "colab_type": "code",
        "colab": {}
      },
      "source": [
        "df1 = spark.read.format(\"csv\").option(\"header\",\"true\").load(\"day1.csv\")\n",
        "df2 = spark.read.format(\"csv\").option(\"header\",\"true\").load(\"day2.csv\")\n",
        "df3 = spark.read.format(\"csv\").option(\"header\",\"true\").load(\"day3.csv\")\n",
        "df4 = spark.read.format(\"csv\").option(\"header\",\"true\").load(\"day4.csv\")\n",
        "df5 = spark.read.format(\"csv\").option(\"header\",\"true\").load(\"day5.csv\")\n",
        "df6 = spark.read.format(\"csv\").option(\"header\",\"true\").load(\"day6.csv\")\n",
        "df7 = spark.read.format(\"csv\").option(\"header\",\"true\").load(\"day7.csv\")\n",
        "df8 = spark.read.format(\"csv\").option(\"header\",\"true\").load(\"day8.csv\")\n",
        "df9 = spark.read.format(\"csv\").option(\"header\",\"true\").load(\"day9.csv\")"
      ],
      "execution_count": 14,
      "outputs": []
    },
    {
      "cell_type": "code",
      "metadata": {
        "id": "v9ylCV0acXt1",
        "colab_type": "code",
        "colab": {
          "base_uri": "https://localhost:8080/",
          "height": 34
        },
        "outputId": "5c5435ed-c79c-48b1-ab74-bdb2de01154f"
      },
      "source": [
        "df1.drop_duplicates(['user_name']).count()"
      ],
      "execution_count": 15,
      "outputs": [
        {
          "output_type": "execute_result",
          "data": {
            "text/plain": [
              "13"
            ]
          },
          "metadata": {
            "tags": []
          },
          "execution_count": 15
        }
      ]
    },
    {
      "cell_type": "code",
      "metadata": {
        "id": "S4xv0Yl7cmM7",
        "colab_type": "code",
        "colab": {}
      },
      "source": [
        "day1 = df1.drop_duplicates(['user_name'])\n",
        "day2 = df2.drop_duplicates(['user_name'])\n",
        "day3 = df3.drop_duplicates(['user_name'])\n",
        "day4 = df4.drop_duplicates(['user_name'])\n",
        "day5 = df5.drop_duplicates(['user_name'])\n",
        "day6 = df6.drop_duplicates(['user_name'])\n",
        "day7 = df7.drop_duplicates(['user_name'])\n",
        "day8 = df8.drop_duplicates(['user_name'])\n",
        "day9 = df9.drop_duplicates(['user_name'])"
      ],
      "execution_count": 16,
      "outputs": []
    },
    {
      "cell_type": "code",
      "metadata": {
        "id": "E6TvN38WiWHR",
        "colab_type": "code",
        "colab": {}
      },
      "source": [
        "allDays = day1.union(day2).union(day3).union(day4).union(day5).union(day6).union(day7).union(day8).union(day9).select('user_name')"
      ],
      "execution_count": 17,
      "outputs": []
    },
    {
      "cell_type": "code",
      "metadata": {
        "id": "FwKElOnTjcOR",
        "colab_type": "code",
        "colab": {
          "base_uri": "https://localhost:8080/",
          "height": 459
        },
        "outputId": "1b90902e-64d0-42ef-c916-ad126a3fb7ad"
      },
      "source": [
        "allDays.groupby('user_name').count().show()"
      ],
      "execution_count": 18,
      "outputs": [
        {
          "output_type": "stream",
          "text": [
            "+--------------------+-----+\n",
            "|           user_name|count|\n",
            "+--------------------+-----+\n",
            "|ashutoshrit64@gma...|    8|\n",
            "|giridhardandikwar...|    6|\n",
            "|priyankagorte95@g...|    4|\n",
            "|       nikitapawar17|    6|\n",
            "|umangsontakke70@g...|    3|\n",
            "|salinabodale73@gm...|    1|\n",
            "|“shivnajalisangal...|    4|\n",
            "|indrajeetgajbhiye...|    6|\n",
            "|khairnarswapna99@...|    5|\n",
            "|Krushnanikam26@gm...|    4|\n",
            "|gaikwadr576@gmail...|    6|\n",
            "|adikumar2514@gmai...|    8|\n",
            "| dileep.bs@yahoo.com|    6|\n",
            "|puruissimple@gmai...|    7|\n",
            "|nehapalekar026@gm...|    3|\n",
            "|er.mukulvij96@gma...|    7|\n",
            "|surajwarbhuvan192...|    6|\n",
            "|samruddhichitnis0...|    5|\n",
            "|yadav.ujjwal770@g...|    5|\n",
            "|hakepratiksha55@g...|    7|\n",
            "+--------------------+-----+\n",
            "only showing top 20 rows\n",
            "\n"
          ],
          "name": "stdout"
        }
      ]
    },
    {
      "cell_type": "markdown",
      "metadata": {
        "id": "-sjlzlzEqGeQ",
        "colab_type": "text"
      },
      "source": [
        "Total Leaves"
      ]
    },
    {
      "cell_type": "code",
      "metadata": {
        "id": "6IUzXtfBkL4F",
        "colab_type": "code",
        "colab": {
          "base_uri": "https://localhost:8080/",
          "height": 459
        },
        "outputId": "1630ed4f-8719-4444-a915-5687cc85105a"
      },
      "source": [
        "leavesDF = allDays.groupby('user_name').count().withColumn('leaves',9 - column('count')).drop('count')\n",
        "leavesDF.show()"
      ],
      "execution_count": 19,
      "outputs": [
        {
          "output_type": "stream",
          "text": [
            "+--------------------+------+\n",
            "|           user_name|leaves|\n",
            "+--------------------+------+\n",
            "|ashutoshrit64@gma...|     1|\n",
            "|giridhardandikwar...|     3|\n",
            "|priyankagorte95@g...|     5|\n",
            "|       nikitapawar17|     3|\n",
            "|umangsontakke70@g...|     6|\n",
            "|salinabodale73@gm...|     8|\n",
            "|“shivnajalisangal...|     5|\n",
            "|indrajeetgajbhiye...|     3|\n",
            "|khairnarswapna99@...|     4|\n",
            "|Krushnanikam26@gm...|     5|\n",
            "|gaikwadr576@gmail...|     3|\n",
            "|adikumar2514@gmai...|     1|\n",
            "| dileep.bs@yahoo.com|     3|\n",
            "|puruissimple@gmai...|     2|\n",
            "|nehapalekar026@gm...|     6|\n",
            "|er.mukulvij96@gma...|     2|\n",
            "|surajwarbhuvan192...|     3|\n",
            "|samruddhichitnis0...|     4|\n",
            "|yadav.ujjwal770@g...|     4|\n",
            "|hakepratiksha55@g...|     2|\n",
            "+--------------------+------+\n",
            "only showing top 20 rows\n",
            "\n"
          ],
          "name": "stdout"
        }
      ]
    },
    {
      "cell_type": "markdown",
      "metadata": {
        "id": "tKQPwAmPqOgG",
        "colab_type": "text"
      },
      "source": [
        "Idle Time"
      ]
    },
    {
      "cell_type": "code",
      "metadata": {
        "id": "CJ7FDZO3qLxI",
        "colab_type": "code",
        "colab": {
          "base_uri": "https://localhost:8080/",
          "height": 459
        },
        "outputId": "0883f983-9729-45ff-c88d-c6d91724201d"
      },
      "source": [
        "df = df1.select('user_name','DateTime','keyboard','mouse')\\\n",
        ".withColumn(\"Date\",to_timestamp('DateTime','yyyy-MM-dd HH:mm:ss'))\\\n",
        ".withColumnRenamed('user_name',\"user\")\\\n",
        ".withColumnRenamed('Date','date')\\\n",
        ".withColumn('action',col('keyboard') + col('mouse'))\\\n",
        ".drop('DateTime','keyboard','mouse')\\\n",
        ".orderBy(col('user'),col('date'))\n",
        "df.show()"
      ],
      "execution_count": 20,
      "outputs": [
        {
          "output_type": "stream",
          "text": [
            "+--------------------+-------------------+------+\n",
            "|                user|               date|action|\n",
            "+--------------------+-------------------+------+\n",
            "|antonyalexcm@gmai...|2019-10-13 12:10:01| 269.0|\n",
            "|antonyalexcm@gmai...|2019-10-13 12:15:02|6283.0|\n",
            "|antonyalexcm@gmai...|2019-10-13 12:20:01|5758.0|\n",
            "|antonyalexcm@gmai...|2019-10-13 12:25:01|3980.0|\n",
            "|antonyalexcm@gmai...|2019-10-13 12:30:01|5603.0|\n",
            "|antonyalexcm@gmai...|2019-10-13 12:35:02|4545.0|\n",
            "|antonyalexcm@gmai...|2019-10-13 12:40:01|3544.0|\n",
            "|antonyalexcm@gmai...|2019-10-13 12:45:01|5599.5|\n",
            "|antonyalexcm@gmai...|2019-10-13 12:50:02| 318.0|\n",
            "|ashutoshrit64@gma...|2019-10-13 12:25:01| 403.0|\n",
            "|ashutoshrit64@gma...|2019-10-13 12:30:02| 535.0|\n",
            "|ashutoshrit64@gma...|2019-10-13 12:35:02| 537.0|\n",
            "|ashutoshrit64@gma...|2019-10-13 12:40:01| 472.0|\n",
            "|ashutoshrit64@gma...|2019-10-13 12:45:02| 555.0|\n",
            "|ashutoshrit64@gma...|2019-10-13 12:50:01| 635.0|\n",
            "|ashutoshrit64@gma...|2019-10-13 12:55:01| 645.0|\n",
            "|ashutoshrit64@gma...|2019-10-13 13:00:01|1341.0|\n",
            "|ashutoshrit64@gma...|2019-10-13 13:05:01| 373.0|\n",
            "|ashutoshrit64@gma...|2019-10-13 13:10:01| 959.0|\n",
            "|ashutoshrit64@gma...|2019-10-13 13:15:01|1163.5|\n",
            "+--------------------+-------------------+------+\n",
            "only showing top 20 rows\n",
            "\n"
          ],
          "name": "stdout"
        }
      ]
    },
    {
      "cell_type": "code",
      "metadata": {
        "id": "J5jxFpEUqWlw",
        "colab_type": "code",
        "colab": {}
      },
      "source": [
        "users = list(df.select('user').toPandas()['user'])   \n",
        "action = list(df.select('action').toPandas()['action'])    "
      ],
      "execution_count": 21,
      "outputs": []
    },
    {
      "cell_type": "code",
      "metadata": {
        "id": "iM9gtjv4rQMh",
        "colab_type": "code",
        "colab": {}
      },
      "source": [
        "name = ''\n",
        "counter = 0\n",
        "output = []\n",
        "for index in range(len(users)):\n",
        "  if index == 0 :\n",
        "    name = ''\n",
        "    if action[index] == 0:\n",
        "      counter = 1\n",
        "  elif index == len(users)-1:\n",
        "    if users[index] == name:\n",
        "       if action[index] == 0:\n",
        "         counter += 1\n",
        "    if counter > 5:\n",
        "        output.append([name,counter]) \n",
        "  else:\n",
        "    if users[index] == name:\n",
        "       if action[index] == 0:\n",
        "         counter += 1 \n",
        "       else:\n",
        "         if counter > 5:\n",
        "           output.append([name,counter])\n",
        "         counter = 0\n",
        "    else:\n",
        "      if counter > 5:\n",
        "        output.append([name,counter])\n",
        "      counter = 0\n",
        "      name = users[index]\n",
        "      if action[index] == 0:\n",
        "        counter += 1 \n"
      ],
      "execution_count": 22,
      "outputs": []
    },
    {
      "cell_type": "code",
      "metadata": {
        "id": "6G2X6l3Twot8",
        "colab_type": "code",
        "colab": {
          "base_uri": "https://localhost:8080/",
          "height": 102
        },
        "outputId": "2cba24c8-6204-4114-85cb-72536f33f26e"
      },
      "source": [
        "for user in output:\n",
        "  print(user)"
      ],
      "execution_count": 23,
      "outputs": [
        {
          "output_type": "stream",
          "text": [
            "['ashutoshrit64@gmail.com', 6]\n",
            "['iamnzm@outlook.com', 6]\n",
            "['kalyani24deobhankar@gmail.com', 61]\n",
            "['priyankagandhi2504@gmail.com', 48]\n",
            "['shelkeva@gmail.com', 13]\n"
          ],
          "name": "stdout"
        }
      ]
    },
    {
      "cell_type": "code",
      "metadata": {
        "id": "p9UsIa3XwsPY",
        "colab_type": "code",
        "colab": {
          "base_uri": "https://localhost:8080/",
          "height": 1000
        },
        "outputId": "bd7d1c1c-1906-40a0-da4c-e14d44838c58"
      },
      "source": [
        "df = df2.select('user_name','DateTime','keyboard','mouse')\\\n",
        ".withColumn(\"Date\",to_timestamp('DateTime','yyyy-MM-dd HH:mm:ss'))\\\n",
        ".withColumnRenamed('user_name',\"user\")\\\n",
        ".withColumnRenamed('Date','date')\\\n",
        ".withColumn('action',col('keyboard') + col('mouse'))\\\n",
        ".drop('DateTime','keyboard','mouse')\\\n",
        ".orderBy(col('user'),col('date'))\n",
        "df.show()\n",
        "users = list(df.select('user').toPandas()['user'])   \n",
        "action = list(df.select('action').toPandas()['action']) \n",
        "name = ''\n",
        "counter = 0\n",
        "output = []\n",
        "for index in range(len(users)):\n",
        "  if index == 0 :\n",
        "    name = ''\n",
        "    if action[index] == 0:\n",
        "      counter = 1\n",
        "  elif index == len(users)-1:\n",
        "    if users[index] == name:\n",
        "       if action[index] == 0:\n",
        "         counter += 1\n",
        "    if counter > 5:\n",
        "        output.append([name,counter]) \n",
        "  else:\n",
        "    if users[index] == name:\n",
        "       if action[index] == 0:\n",
        "         counter += 1 \n",
        "       else:\n",
        "         if counter > 5:\n",
        "           output.append([name,counter])\n",
        "         counter = 0\n",
        "    else:\n",
        "      if counter > 5:\n",
        "        output.append([name,counter])\n",
        "      counter = 0\n",
        "      name = users[index]\n",
        "      if action[index] == 0:\n",
        "        counter += 1 \n",
        "for user in output:\n",
        "  print(user)\n"
      ],
      "execution_count": 24,
      "outputs": [
        {
          "output_type": "stream",
          "text": [
            "+--------------------+-------------------+------+\n",
            "|                user|               date|action|\n",
            "+--------------------+-------------------+------+\n",
            "|Krushnanikam26@gm...|2019-10-14 10:20:01|   1.5|\n",
            "|Krushnanikam26@gm...|2019-10-14 10:25:01|   1.5|\n",
            "|Krushnanikam26@gm...|2019-10-14 10:30:01|   1.5|\n",
            "|Krushnanikam26@gm...|2019-10-14 10:35:12|   1.5|\n",
            "|Krushnanikam26@gm...|2019-10-14 10:40:20|   1.5|\n",
            "|Krushnanikam26@gm...|2019-10-14 10:45:02|   1.5|\n",
            "|Krushnanikam26@gm...|2019-10-14 10:50:05|   1.5|\n",
            "|Krushnanikam26@gm...|2019-10-14 10:55:01|   1.5|\n",
            "|Krushnanikam26@gm...|2019-10-14 11:00:14|   1.5|\n",
            "|Krushnanikam26@gm...|2019-10-14 11:05:07|   1.5|\n",
            "|Krushnanikam26@gm...|2019-10-14 11:10:01|   1.5|\n",
            "|Krushnanikam26@gm...|2019-10-14 11:15:07|   1.5|\n",
            "|Krushnanikam26@gm...|2019-10-14 11:20:02|   1.5|\n",
            "|Krushnanikam26@gm...|2019-10-14 11:25:26|   1.5|\n",
            "|Krushnanikam26@gm...|2019-10-14 11:30:01|   1.5|\n",
            "|Krushnanikam26@gm...|2019-10-14 11:35:03|   1.5|\n",
            "|Krushnanikam26@gm...|2019-10-14 11:40:08|   1.5|\n",
            "|Krushnanikam26@gm...|2019-10-14 11:45:03|   1.5|\n",
            "|Krushnanikam26@gm...|2019-10-14 11:50:05|   1.5|\n",
            "|Krushnanikam26@gm...|2019-10-14 11:55:02|   1.5|\n",
            "+--------------------+-------------------+------+\n",
            "only showing top 20 rows\n",
            "\n",
            "['Krushnanikam26@gmail.com', 65]\n",
            "['addyp1911@gmail.com', 15]\n",
            "['addyp1911@gmail.com', 7]\n",
            "['adikumar2514@gmail.com', 14]\n",
            "['adikumar2514@gmail.com', 24]\n",
            "['adikumar2514@gmail.com', 9]\n",
            "['aheteshams007@gmail.com', 6]\n",
            "['aheteshams007@gmail.com', 8]\n",
            "['akshay.skawde@gmail.com', 10]\n",
            "['er.mukulvij96@gmail.com', 8]\n",
            "['farooqbassam4@gmail.com', 110]\n",
            "['gaikwadr576@gmail.com', 20]\n",
            "['gaikwadr576@gmail.com', 6]\n",
            "['gaikwadr576@gmail.com', 9]\n",
            "['giridhardandikwar@gmail.com', 11]\n",
            "['giridhardandikwar@gmail.com', 9]\n",
            "['grmule018@gmail.com', 8]\n",
            "['grmule018@gmail.com', 10]\n",
            "['hakepratiksha55@gmail.com', 6]\n",
            "['hakepratiksha55@gmail.com', 13]\n",
            "['iamnzm@outlook.com', 16]\n",
            "['kaleshwetaanil@gmail.com', 24]\n",
            "['kalyani24deobhankar@gmail.com', 22]\n",
            "['kalyani24deobhankar@gmail.com', 8]\n",
            "['kalyani24deobhankar@gmail.com', 10]\n",
            "['mishrasushil889@gmail.com', 9]\n",
            "['mishrasushil889@gmail.com', 6]\n",
            "['mishrasushil889@gmail.com', 7]\n",
            "['naineshpatil11@gmail.com', 9]\n",
            "['naineshpatil11@gmail.com', 8]\n",
            "['nehapalekar026@gmail.com', 19]\n",
            "['nehapalekar026@gmail.com', 74]\n",
            "['polelaxman001@gmail.com', 7]\n",
            "['polelaxman001@gmail.com', 13]\n",
            "['pramodmane58@gmail.com', 114]\n",
            "['prathameshsalap@gmail.com', 18]\n",
            "['prathameshsalap@gmail.com', 7]\n",
            "['priyankagandhi2504@gmail.com', 7]\n",
            "['puruissimple@gmail.com', 9]\n",
            "['puruissimple@gmail.com', 6]\n",
            "['puruissimple@gmail.com', 6]\n",
            "['puruissimple@gmail.com', 10]\n",
            "['rahilstar11@gmail.com', 91]\n",
            "['rawatabhishek2012@gmail.com', 14]\n",
            "['rohitsarate1027@gmail.com', 12]\n",
            "['ruchikachile301996@gmail.com', 19]\n",
            "['samadhanmahajan73@gmail.com', 8]\n",
            "['sharlawar77@gmail.com', 51]\n",
            "['sharlawar77@gmail.com', 22]\n",
            "['shelkeva@gmail.com', 10]\n",
            "['singladivanshu007@gmail.com', 8]\n",
            "['singladivanshu007@gmail.com', 8]\n",
            "['sushantpatwari1234@gmail.com', 114]\n",
            "['tekina.makin@gmail.com', 10]\n",
            "['tekina.makin@gmail.com', 18]\n",
            "['tekina.makin@gmail.com', 7]\n",
            "['tekina.makin@gmail.com', 9]\n",
            "['umangsontakke70@gmail.com', 11]\n",
            "['vaishusawant143@gmail.com', 16]\n",
            "['venkatesh.er2@gmail.com', 17]\n",
            "['venkatesh.er2@gmail.com', 15]\n",
            "['vidyaramesh1428@gmail.com', 14]\n",
            "['vijaykumarbhavanur.com', 7]\n",
            "['vijaykumarbhavanur.com', 10]\n",
            "['you@example.com', 10]\n",
            "['you@example.com', 13]\n",
            "['you@example.com', 13]\n",
            "['youremail@email.com', 86]\n"
          ],
          "name": "stdout"
        }
      ]
    },
    {
      "cell_type": "code",
      "metadata": {
        "id": "lLLOqV8wxlOO",
        "colab_type": "code",
        "colab": {
          "base_uri": "https://localhost:8080/",
          "height": 71
        },
        "outputId": "9fb86f4b-30d2-4dcc-f246-d3d617531244"
      },
      "source": [
        "idleUser = []\n",
        "idleTime = []\n",
        "name = ''\n",
        "counter = 0\n",
        "for index in range(len(output)-1):\n",
        "  user = output[index]\n",
        "  if(index == 0):\n",
        "    name = user[0]\n",
        "    counter = user[1]\n",
        "  else:\n",
        "    if name == user[0]:\n",
        "      counter += user[1]\n",
        "    else:\n",
        "      idleUser.append(name)\n",
        "      idleTime.append(counter *5)\n",
        "      name = user[0]\n",
        "      counter = user[1]\n",
        "print(idleUser)\n",
        "print(idleTime) "
      ],
      "execution_count": 26,
      "outputs": [
        {
          "output_type": "stream",
          "text": [
            "['Krushnanikam26@gmail.com', 'addyp1911@gmail.com', 'adikumar2514@gmail.com', 'aheteshams007@gmail.com', 'akshay.skawde@gmail.com', 'er.mukulvij96@gmail.com', 'farooqbassam4@gmail.com', 'gaikwadr576@gmail.com', 'giridhardandikwar@gmail.com', 'grmule018@gmail.com', 'hakepratiksha55@gmail.com', 'iamnzm@outlook.com', 'kaleshwetaanil@gmail.com', 'kalyani24deobhankar@gmail.com', 'mishrasushil889@gmail.com', 'naineshpatil11@gmail.com', 'nehapalekar026@gmail.com', 'polelaxman001@gmail.com', 'pramodmane58@gmail.com', 'prathameshsalap@gmail.com', 'priyankagandhi2504@gmail.com', 'puruissimple@gmail.com', 'rahilstar11@gmail.com', 'rawatabhishek2012@gmail.com', 'rohitsarate1027@gmail.com', 'ruchikachile301996@gmail.com', 'samadhanmahajan73@gmail.com', 'sharlawar77@gmail.com', 'shelkeva@gmail.com', 'singladivanshu007@gmail.com', 'sushantpatwari1234@gmail.com', 'tekina.makin@gmail.com', 'umangsontakke70@gmail.com', 'vaishusawant143@gmail.com', 'venkatesh.er2@gmail.com', 'vidyaramesh1428@gmail.com', 'vijaykumarbhavanur.com']\n",
            "[325, 110, 235, 70, 50, 40, 550, 175, 100, 90, 95, 80, 120, 200, 110, 85, 465, 100, 570, 125, 35, 155, 455, 70, 60, 95, 40, 365, 50, 80, 570, 220, 55, 80, 160, 70, 85]\n"
          ],
          "name": "stdout"
        }
      ]
    },
    {
      "cell_type": "code",
      "metadata": {
        "id": "tVuyS2vpOBLA",
        "colab_type": "code",
        "colab": {
          "base_uri": "https://localhost:8080/",
          "height": 54
        },
        "outputId": "63ff0625-fa85-467f-ca7d-c0fb62787a73"
      },
      "source": [
        "lst = [idleUser,idleTime]\n",
        "print(lst)"
      ],
      "execution_count": 29,
      "outputs": [
        {
          "output_type": "stream",
          "text": [
            "[['Krushnanikam26@gmail.com', 'addyp1911@gmail.com', 'adikumar2514@gmail.com', 'aheteshams007@gmail.com', 'akshay.skawde@gmail.com', 'er.mukulvij96@gmail.com', 'farooqbassam4@gmail.com', 'gaikwadr576@gmail.com', 'giridhardandikwar@gmail.com', 'grmule018@gmail.com', 'hakepratiksha55@gmail.com', 'iamnzm@outlook.com', 'kaleshwetaanil@gmail.com', 'kalyani24deobhankar@gmail.com', 'mishrasushil889@gmail.com', 'naineshpatil11@gmail.com', 'nehapalekar026@gmail.com', 'polelaxman001@gmail.com', 'pramodmane58@gmail.com', 'prathameshsalap@gmail.com', 'priyankagandhi2504@gmail.com', 'puruissimple@gmail.com', 'rahilstar11@gmail.com', 'rawatabhishek2012@gmail.com', 'rohitsarate1027@gmail.com', 'ruchikachile301996@gmail.com', 'samadhanmahajan73@gmail.com', 'sharlawar77@gmail.com', 'shelkeva@gmail.com', 'singladivanshu007@gmail.com', 'sushantpatwari1234@gmail.com', 'tekina.makin@gmail.com', 'umangsontakke70@gmail.com', 'vaishusawant143@gmail.com', 'venkatesh.er2@gmail.com', 'vidyaramesh1428@gmail.com', 'vijaykumarbhavanur.com'], [325, 110, 235, 70, 50, 40, 550, 175, 100, 90, 95, 80, 120, 200, 110, 85, 465, 100, 570, 125, 35, 155, 455, 70, 60, 95, 40, 365, 50, 80, 570, 220, 55, 80, 160, 70, 85]]\n"
          ],
          "name": "stdout"
        }
      ]
    },
    {
      "cell_type": "code",
      "metadata": {
        "id": "qHCrCKRKOXZA",
        "colab_type": "code",
        "colab": {
          "base_uri": "https://localhost:8080/",
          "height": 459
        },
        "outputId": "ac08720a-f421-4759-8441-5b56c90529bb"
      },
      "source": [
        "from pyspark.sql import Row\n",
        "sc = spark.sparkContext\n",
        "row = Row(\"User\",\"IdleTime\")\n",
        "sc.parallelize([row(*r) for r in zip(*lst)]).toDF().show()"
      ],
      "execution_count": 31,
      "outputs": [
        {
          "output_type": "stream",
          "text": [
            "+--------------------+--------+\n",
            "|                User|IdleTime|\n",
            "+--------------------+--------+\n",
            "|Krushnanikam26@gm...|     325|\n",
            "| addyp1911@gmail.com|     110|\n",
            "|adikumar2514@gmai...|     235|\n",
            "|aheteshams007@gma...|      70|\n",
            "|akshay.skawde@gma...|      50|\n",
            "|er.mukulvij96@gma...|      40|\n",
            "|farooqbassam4@gma...|     550|\n",
            "|gaikwadr576@gmail...|     175|\n",
            "|giridhardandikwar...|     100|\n",
            "| grmule018@gmail.com|      90|\n",
            "|hakepratiksha55@g...|      95|\n",
            "|  iamnzm@outlook.com|      80|\n",
            "|kaleshwetaanil@gm...|     120|\n",
            "|kalyani24deobhank...|     200|\n",
            "|mishrasushil889@g...|     110|\n",
            "|naineshpatil11@gm...|      85|\n",
            "|nehapalekar026@gm...|     465|\n",
            "|polelaxman001@gma...|     100|\n",
            "|pramodmane58@gmai...|     570|\n",
            "|prathameshsalap@g...|     125|\n",
            "+--------------------+--------+\n",
            "only showing top 20 rows\n",
            "\n"
          ],
          "name": "stdout"
        }
      ]
    },
    {
      "cell_type": "code",
      "metadata": {
        "id": "hXdGdZgkNzrs",
        "colab_type": "code",
        "colab": {
          "base_uri": "https://localhost:8080/",
          "height": 153
        },
        "outputId": "c15a4bfa-3e78-4fc0-df92-7df8e1aed418"
      },
      "source": [
        "lst = [[1, 2, 3], ['A', 'B', 'C'], ['aa', 'bb', 'cc']]\n",
        "\n",
        "\n",
        "R = Row(\"A1\", \"A2\", \"A3\")\n",
        "sc.parallelize([R(*r) for r in zip(*lst)]).toDF().show()"
      ],
      "execution_count": 28,
      "outputs": [
        {
          "output_type": "stream",
          "text": [
            "+---+---+---+\n",
            "| A1| A2| A3|\n",
            "+---+---+---+\n",
            "|  1|  A| aa|\n",
            "|  2|  B| bb|\n",
            "|  3|  C| cc|\n",
            "+---+---+---+\n",
            "\n"
          ],
          "name": "stdout"
        }
      ]
    },
    {
      "cell_type": "code",
      "metadata": {
        "id": "raOMZn-gN2mB",
        "colab_type": "code",
        "colab": {}
      },
      "source": [
        "def getIdleTime(df):\n",
        "  df = df.select('user_name','DateTime','keyboard','mouse')\\\n",
        "  .withColumn(\"Date\",to_timestamp('DateTime','yyyy-MM-dd HH:mm:ss'))\\\n",
        "  .withColumnRenamed('user_name',\"user\")\\\n",
        "  .withColumnRenamed('Date','date')\\\n",
        "  .withColumn('action',col('keyboard') + col('mouse'))\\\n",
        "  .drop('DateTime','keyboard','mouse')\\\n",
        "  .orderBy(col('user'),col('date'))\n",
        "  \n",
        "  users = list(df.select('user').toPandas()['user'])   \n",
        "  action = list(df.select('action').toPandas()['action']) \n",
        "\n",
        "  name = ''\n",
        "  counter = 0\n",
        "  output = []\n",
        "  for index in range(len(users)):\n",
        "    if index == 0 :\n",
        "      name = ''\n",
        "      if action[index] == 0:\n",
        "        counter = 1\n",
        "    elif index == len(users)-1:\n",
        "      if users[index] == name:\n",
        "        if action[index] == 0:\n",
        "          counter += 1\n",
        "      if counter > 5:\n",
        "          output.append([name,counter]) \n",
        "    else:\n",
        "      if users[index] == name:\n",
        "        if action[index] == 0:\n",
        "          counter += 1 \n",
        "        else:\n",
        "          if counter > 5:\n",
        "            output.append([name,counter])\n",
        "          counter = 0\n",
        "      else:\n",
        "        if counter > 5:\n",
        "          output.append([name,counter])\n",
        "        counter = 0\n",
        "        name = users[index]\n",
        "        if action[index] == 0:\n",
        "          counter += 1 \n",
        "\n",
        "  idleUser = []\n",
        "  idleTime = []\n",
        "  name = ''\n",
        "  counter = 0\n",
        "  for index in range(len(output)-1):\n",
        "    user = output[index]\n",
        "    if(index == 0):\n",
        "      name = user[0]\n",
        "      counter = user[1]\n",
        "    else:\n",
        "      if name == user[0]:\n",
        "        counter += user[1]\n",
        "      else:\n",
        "        idleUser.append(name)\n",
        "        idleTime.append(counter *5)\n",
        "        name = user[0]\n",
        "        counter = user[1] \n",
        "  from pyspark.sql import Row\n",
        "  sc = spark.sparkContext\n",
        "  row = Row(\"User\",\"IdleTime\")\n",
        "  sc.parallelize([row(*r) for r in zip(*lst)]).toDF().show()"
      ],
      "execution_count": 32,
      "outputs": []
    },
    {
      "cell_type": "code",
      "metadata": {
        "id": "0AalMZYeQVFT",
        "colab_type": "code",
        "colab": {}
      },
      "source": [
        "df = spark.read.format(\"csv\").option(\"header\",\"true\").load(\"day2.csv\")"
      ],
      "execution_count": 33,
      "outputs": []
    },
    {
      "cell_type": "code",
      "metadata": {
        "id": "jJiY37ZdQfGW",
        "colab_type": "code",
        "colab": {
          "base_uri": "https://localhost:8080/",
          "height": 459
        },
        "outputId": "6aedfa07-d0ed-45dd-86b1-6c422cb6b2b8"
      },
      "source": [
        "getIdleTime(df)"
      ],
      "execution_count": 34,
      "outputs": [
        {
          "output_type": "stream",
          "text": [
            "+--------------------+--------+\n",
            "|                User|IdleTime|\n",
            "+--------------------+--------+\n",
            "|Krushnanikam26@gm...|     325|\n",
            "| addyp1911@gmail.com|     110|\n",
            "|adikumar2514@gmai...|     235|\n",
            "|aheteshams007@gma...|      70|\n",
            "|akshay.skawde@gma...|      50|\n",
            "|er.mukulvij96@gma...|      40|\n",
            "|farooqbassam4@gma...|     550|\n",
            "|gaikwadr576@gmail...|     175|\n",
            "|giridhardandikwar...|     100|\n",
            "| grmule018@gmail.com|      90|\n",
            "|hakepratiksha55@g...|      95|\n",
            "|  iamnzm@outlook.com|      80|\n",
            "|kaleshwetaanil@gm...|     120|\n",
            "|kalyani24deobhank...|     200|\n",
            "|mishrasushil889@g...|     110|\n",
            "|naineshpatil11@gm...|      85|\n",
            "|nehapalekar026@gm...|     465|\n",
            "|polelaxman001@gma...|     100|\n",
            "|pramodmane58@gmai...|     570|\n",
            "|prathameshsalap@g...|     125|\n",
            "+--------------------+--------+\n",
            "only showing top 20 rows\n",
            "\n"
          ],
          "name": "stdout"
        }
      ]
    }
  ]
}