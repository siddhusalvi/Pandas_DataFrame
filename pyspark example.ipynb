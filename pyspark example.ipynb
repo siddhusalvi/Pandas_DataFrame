{
 "cells": [
  {
   "cell_type": "code",
   "execution_count": 1,
   "metadata": {},
   "outputs": [],
   "source": [
    "from pyspark.sql import *"
   ]
  },
  {
   "cell_type": "code",
   "execution_count": 2,
   "metadata": {},
   "outputs": [],
   "source": [
    "Employee = Row(\"firstName\",\"LastName\",\"email\",\"salary\")"
   ]
  },
  {
   "cell_type": "code",
   "execution_count": 3,
   "metadata": {},
   "outputs": [],
   "source": [
    "data1 = Employee(\"tanmay\",\"salvi\",\"tanmay@salvi.com\",22000)"
   ]
  },
  {
   "cell_type": "code",
   "execution_count": 5,
   "metadata": {},
   "outputs": [],
   "source": [
    "data2 = Employee(\"sarvesh\",\"horambe\",\"sarvesh@horambe.com\",25000)\n",
    "data3 = Employee(\"shubham\",\"lakde\",\"shubhamlakde@gmail.com\",23000)\n",
    "data4 = Employee(\"guru\",\"murkar\",\"gurudev@gmail.com\",40000)\n",
    "data5 = Employee(\"jignesh\",\"sawant\",\"jignesh@gmail.com\",22000)"
   ]
  },
  {
   "cell_type": "code",
   "execution_count": 6,
   "metadata": {},
   "outputs": [],
   "source": [
    "department1 = Row(id=1,name='tcs')\n",
    "department2 = Row(id=2,name='pune')\n",
    "department3 = Row(id=3,name='mumbai')"
   ]
  },
  {
   "cell_type": "code",
   "execution_count": 7,
   "metadata": {},
   "outputs": [
    {
     "name": "stdout",
     "output_type": "stream",
     "text": [
      "Row(firstName='tanmay', LastName='salvi', email='tanmay@salvi.com', salary=22000)\n"
     ]
    }
   ],
   "source": [
    "print(data1)"
   ]
  },
  {
   "cell_type": "code",
   "execution_count": 8,
   "metadata": {},
   "outputs": [
    {
     "name": "stdout",
     "output_type": "stream",
     "text": [
      "tanmay\n"
     ]
    }
   ],
   "source": [
    "print(data1[0])"
   ]
  },
  {
   "cell_type": "code",
   "execution_count": 9,
   "metadata": {},
   "outputs": [],
   "source": [
    "company1 = Row(department=department1,teams=[data1,data5])\n",
    "company2 = Row(department=department2,teams=[data2,data3])\n",
    "company3 = Row(department=department3,teams=[data4])"
   ]
  },
  {
   "cell_type": "code",
   "execution_count": 11,
   "metadata": {},
   "outputs": [
    {
     "name": "stdout",
     "output_type": "stream",
     "text": [
      "Row(id=3, name='mumbai')\n"
     ]
    }
   ],
   "source": [
    "print(department3)"
   ]
  },
  {
   "cell_type": "code",
   "execution_count": 12,
   "metadata": {},
   "outputs": [],
   "source": [
    "companydata = [company1,company2,company3]"
   ]
  },
  {
   "cell_type": "code",
   "execution_count": 14,
   "metadata": {},
   "outputs": [],
   "source": [
    "from pyspark.context import SparkContext\n",
    "from pyspark.sql.session import SparkSession\n",
    "sc = SparkContext('local')\n",
    "spark = SparkSession(sc)"
   ]
  },
  {
   "cell_type": "code",
   "execution_count": 15,
   "metadata": {},
   "outputs": [],
   "source": [
    "df = spark.createDataFrame(companydata)"
   ]
  },
  {
   "cell_type": "code",
   "execution_count": 16,
   "metadata": {},
   "outputs": [
    {
     "data": {
      "text/plain": [
       "DataFrame[department: struct<id:bigint,name:string>, teams: array<struct<firstName:string,LastName:string,email:string,salary:bigint>>]"
      ]
     },
     "metadata": {},
     "output_type": "display_data"
    }
   ],
   "source": [
    "display(df)"
   ]
  },
  {
   "cell_type": "code",
   "execution_count": 17,
   "metadata": {},
   "outputs": [
    {
     "name": "stdout",
     "output_type": "stream",
     "text": [
      "+-----------+--------------------+\n",
      "| department|               teams|\n",
      "+-----------+--------------------+\n",
      "|   [1, tcs]|[[tanmay, salvi, ...|\n",
      "|  [2, pune]|[[sarvesh, horamb...|\n",
      "|[3, mumbai]|[[guru, murkar, g...|\n",
      "+-----------+--------------------+\n",
      "\n"
     ]
    }
   ],
   "source": [
    "df.show()"
   ]
  },
  {
   "cell_type": "markdown",
   "metadata": {},
   "source": [
    "# Superheros data"
   ]
  },
  {
   "cell_type": "code",
   "execution_count": 18,
   "metadata": {},
   "outputs": [
    {
     "data": {
      "text/plain": [
       "'C:\\\\Users\\\\Siddesh\\\\Desktop\\\\python dataframe'"
      ]
     },
     "execution_count": 18,
     "metadata": {},
     "output_type": "execute_result"
    }
   ],
   "source": [
    "pwd()"
   ]
  },
  {
   "cell_type": "code",
   "execution_count": 21,
   "metadata": {},
   "outputs": [],
   "source": [
    "df = spark.read.csv(\"C:\\\\Users\\\\Siddesh\\\\Desktop\\\\python dataframe\\\\superheros.csv\", inferSchema = True, header = True)"
   ]
  },
  {
   "cell_type": "code",
   "execution_count": 22,
   "metadata": {},
   "outputs": [
    {
     "name": "stdout",
     "output_type": "stream",
     "text": [
      "+---+-----------------+------+---------+-----------------+----------+------+-----------------+----------+---------+------+\n",
      "|_c0|             name|Gender|Eye color|             Race|Hair color|Height|        Publisher|Skin color|Alignment|Weight|\n",
      "+---+-----------------+------+---------+-----------------+----------+------+-----------------+----------+---------+------+\n",
      "|  0|           A-Bomb|  Male|   yellow|            Human|   No Hair| 203.0|    Marvel Comics|         -|     good| 441.0|\n",
      "|  1|       Abe Sapien|  Male|     blue|    Icthyo Sapien|   No Hair| 191.0|Dark Horse Comics|      blue|     good|  65.0|\n",
      "|  2|         Abin Sur|  Male|     blue|          Ungaran|   No Hair| 185.0|        DC Comics|       red|     good|  90.0|\n",
      "|  3|      Abomination|  Male|    green|Human / Radiation|   No Hair| 203.0|    Marvel Comics|         -|      bad| 441.0|\n",
      "|  4|          Abraxas|  Male|     blue|    Cosmic Entity|     Black| -99.0|    Marvel Comics|         -|      bad| -99.0|\n",
      "|  5|    Absorbing Man|  Male|     blue|            Human|   No Hair| 193.0|    Marvel Comics|         -|      bad| 122.0|\n",
      "|  6|      Adam Monroe|  Male|     blue|                -|     Blond| -99.0|     NBC - Heroes|         -|     good| -99.0|\n",
      "|  7|     Adam Strange|  Male|     blue|            Human|     Blond| 185.0|        DC Comics|         -|     good|  88.0|\n",
      "|  8|         Agent 13|Female|     blue|                -|     Blond| 173.0|    Marvel Comics|         -|     good|  61.0|\n",
      "|  9|        Agent Bob|  Male|    brown|            Human|     Brown| 178.0|    Marvel Comics|         -|     good|  81.0|\n",
      "| 10|       Agent Zero|  Male|        -|                -|         -| 191.0|    Marvel Comics|         -|     good| 104.0|\n",
      "| 11|       Air-Walker|  Male|     blue|                -|     White| 188.0|    Marvel Comics|         -|      bad| 108.0|\n",
      "| 12|             Ajax|  Male|    brown|           Cyborg|     Black| 193.0|    Marvel Comics|         -|      bad|  90.0|\n",
      "| 13|       Alan Scott|  Male|     blue|                -|     Blond| 180.0|        DC Comics|         -|     good|  90.0|\n",
      "| 14|      Alex Mercer|  Male|        -|            Human|         -| -99.0|        Wildstorm|         -|      bad| -99.0|\n",
      "| 15|     Alex Woolsly|  Male|        -|                -|         -| -99.0|     NBC - Heroes|         -|     good| -99.0|\n",
      "| 16|Alfred Pennyworth|  Male|     blue|            Human|     Black| 178.0|        DC Comics|         -|     good|  72.0|\n",
      "| 17|            Alien|  Male|        -|  Xenomorph XX121|   No Hair| 244.0|Dark Horse Comics|     black|      bad| 169.0|\n",
      "| 18| Allan Quatermain|  Male|        -|                -|         -| -99.0|        Wildstorm|         -|     good| -99.0|\n",
      "| 19|            Amazo|  Male|      red|          Android|         -| 257.0|        DC Comics|         -|      bad| 173.0|\n",
      "+---+-----------------+------+---------+-----------------+----------+------+-----------------+----------+---------+------+\n",
      "only showing top 20 rows\n",
      "\n"
     ]
    }
   ],
   "source": [
    "df.show()"
   ]
  },
  {
   "cell_type": "code",
   "execution_count": 23,
   "metadata": {},
   "outputs": [
    {
     "name": "stdout",
     "output_type": "stream",
     "text": [
      "root\n",
      " |-- _c0: integer (nullable = true)\n",
      " |-- name: string (nullable = true)\n",
      " |-- Gender: string (nullable = true)\n",
      " |-- Eye color: string (nullable = true)\n",
      " |-- Race: string (nullable = true)\n",
      " |-- Hair color: string (nullable = true)\n",
      " |-- Height: double (nullable = true)\n",
      " |-- Publisher: string (nullable = true)\n",
      " |-- Skin color: string (nullable = true)\n",
      " |-- Alignment: string (nullable = true)\n",
      " |-- Weight: double (nullable = true)\n",
      "\n"
     ]
    }
   ],
   "source": [
    "df.printSchema()"
   ]
  },
  {
   "cell_type": "code",
   "execution_count": 25,
   "metadata": {},
   "outputs": [
    {
     "data": {
      "text/plain": [
       "505"
      ]
     },
     "execution_count": 25,
     "metadata": {},
     "output_type": "execute_result"
    }
   ],
   "source": [
    "df.filter(df.Gender == 'Male').count()"
   ]
  },
  {
   "cell_type": "code",
   "execution_count": 27,
   "metadata": {},
   "outputs": [
    {
     "name": "stdout",
     "output_type": "stream",
     "text": [
      "+-----------------+-----+\n",
      "|             Race|count|\n",
      "+-----------------+-----+\n",
      "|            Human|  208|\n",
      "|    Icthyo Sapien|    1|\n",
      "|          Ungaran|    1|\n",
      "|Human / Radiation|   11|\n",
      "|    Cosmic Entity|    4|\n",
      "|                -|  304|\n",
      "|           Cyborg|   11|\n",
      "|  Xenomorph XX121|    1|\n",
      "|          Android|    9|\n",
      "|          Vampire|    2|\n",
      "|           Mutant|   63|\n",
      "|    God / Eternal|   14|\n",
      "|         Symbiote|    9|\n",
      "|        Atlantean|    5|\n",
      "|            Alien|    7|\n",
      "|         Neyaphem|    1|\n",
      "|          New God|    3|\n",
      "|            Alpha|    5|\n",
      "|          Bizarro|    1|\n",
      "|          Inhuman|    4|\n",
      "+-----------------+-----+\n",
      "only showing top 20 rows\n",
      "\n"
     ]
    }
   ],
   "source": [
    "df.groupby(\"Race\")\\\n",
    ".count()\\\n",
    ".show()"
   ]
  },
  {
   "cell_type": "code",
   "execution_count": 32,
   "metadata": {
    "scrolled": true
   },
   "outputs": [
    {
     "name": "stdout",
     "output_type": "stream",
     "text": [
      "+---+--------------+------+---------+-----------------+----------+------+-------------+----------+---------+------+\n",
      "|_c0|          name|Gender|Eye color|             Race|Hair color|Height|    Publisher|Skin color|Alignment|Weight|\n",
      "+---+--------------+------+---------+-----------------+----------+------+-------------+----------+---------+------+\n",
      "|575|     Sasquatch|  Male|      red|                -|    Orange| 305.0|Marvel Comics|         -|     good| 900.0|\n",
      "|373|    Juggernaut|  Male|     blue|            Human|       Red| 287.0|Marvel Comics|         -|  neutral| 855.0|\n",
      "|203|      Darkseid|  Male|      red|          New God|   No Hair| 267.0|    DC Comics|      grey|      bad| 817.0|\n",
      "|549|      Red Hulk|  Male|   yellow|Human / Radiation|     Black| 213.0|Marvel Comics|       red|  neutral| 630.0|\n",
      "|283|       Giganta|Female|    green|                -|       Red|  62.5|    DC Comics|         -|      bad| 630.0|\n",
      "|331|          Hulk|  Male|    green|Human / Radiation|     Green| 244.0|Marvel Comics|     green|     good| 630.0|\n",
      "|119|      Bloodaxe|Female|     blue|            Human|     Brown| 218.0|Marvel Comics|         -|      bad| 495.0|\n",
      "|718|     Wolfsbane|Female|    green|                -|    Auburn| 366.0|Marvel Comics|         -|     good| 473.0|\n",
      "|657|        Thanos|  Male|      red|          Eternal|   No Hair| 201.0|Marvel Comics|    purple|      bad| 443.0|\n",
      "|  0|        A-Bomb|  Male|   yellow|            Human|   No Hair| 203.0|Marvel Comics|         -|     good| 441.0|\n",
      "|  3|   Abomination|  Male|    green|Human / Radiation|   No Hair| 203.0|Marvel Comics|         -|      bad| 441.0|\n",
      "|611|Solomon Grundy|  Male|    black|           Zombie|     White| 279.0|    DC Comics|         -|      bad| 437.0|\n",
      "|229|      Doomsday|  Male|      red|            Alien|     White| 244.0|    DC Comics|         -|      bad| 412.0|\n",
      "|614|         Spawn|  Male|    brown|            Demon|     Black| 211.0| Image Comics|         -|     good| 405.0|\n",
      "|504|     Onslaught|  Male|      red|           Mutant|   No Hair| 305.0|Marvel Comics|         -|      bad| 405.0|\n",
      "|217|     Destroyer|  Male|        -|                -|         -| 188.0|Marvel Comics|         -|      bad| 383.0|\n",
      "|422|   Machine Man|     -|      red|                -|     Black| 183.0|Marvel Comics|         -|     good| 383.0|\n",
      "|409|  Living Brain|     -|   yellow|                -|         -| 198.0|Marvel Comics|         -|      bad| 360.0|\n",
      "| 33|    Anti-Venom|  Male|     blue|         Symbiote|     Blond| 229.0|Marvel Comics|         -|        -| 358.0|\n",
      "|386|   Killer Croc|  Male|      red|        Metahuman|   No Hair| 244.0|    DC Comics|     green|      bad| 356.0|\n",
      "+---+--------------+------+---------+-----------------+----------+------+-------------+----------+---------+------+\n",
      "only showing top 20 rows\n",
      "\n"
     ]
    }
   ],
   "source": [
    "df.sort((df.Weight).desc()).show()"
   ]
  },
  {
   "cell_type": "code",
   "execution_count": 33,
   "metadata": {
    "scrolled": true
   },
   "outputs": [
    {
     "name": "stdout",
     "output_type": "stream",
     "text": [
      "+---+---------------+------+---------+-----------------+----------+------+-------------+----------+---------+------+\n",
      "|_c0|           name|Gender|Eye color|             Race|Hair color|Height|    Publisher|Skin color|Alignment|Weight|\n",
      "+---+---------------+------+---------+-----------------+----------+------+-------------+----------+---------+------+\n",
      "|  0|         A-Bomb|  Male|   yellow|            Human|   No Hair| 203.0|Marvel Comics|         -|     good| 441.0|\n",
      "|  3|    Abomination|  Male|    green|Human / Radiation|   No Hair| 203.0|Marvel Comics|         -|      bad| 441.0|\n",
      "|  4|        Abraxas|  Male|     blue|    Cosmic Entity|     Black| -99.0|Marvel Comics|         -|      bad| -99.0|\n",
      "|  5|  Absorbing Man|  Male|     blue|            Human|   No Hair| 193.0|Marvel Comics|         -|      bad| 122.0|\n",
      "|  8|       Agent 13|Female|     blue|                -|     Blond| 173.0|Marvel Comics|         -|     good|  61.0|\n",
      "|  9|      Agent Bob|  Male|    brown|            Human|     Brown| 178.0|Marvel Comics|         -|     good|  81.0|\n",
      "| 10|     Agent Zero|  Male|        -|                -|         -| 191.0|Marvel Comics|         -|     good| 104.0|\n",
      "| 11|     Air-Walker|  Male|     blue|                -|     White| 188.0|Marvel Comics|         -|      bad| 108.0|\n",
      "| 12|           Ajax|  Male|    brown|           Cyborg|     Black| 193.0|Marvel Comics|         -|      bad|  90.0|\n",
      "| 20|           Ammo|  Male|    brown|            Human|     Black| 188.0|Marvel Comics|         -|      bad| 101.0|\n",
      "| 22|          Angel|  Male|     blue|                -|     Blond| 183.0|Marvel Comics|         -|     good|  68.0|\n",
      "| 24|     Angel Dust|Female|   yellow|           Mutant|     Black| 165.0|Marvel Comics|         -|     good|  57.0|\n",
      "| 25|Angel Salvadore|Female|    brown|                -|     Black| 163.0|Marvel Comics|         -|     good|  54.0|\n",
      "| 28|      Annihilus|  Male|    green|                -|   No Hair| 180.0|Marvel Comics|         -|      bad|  90.0|\n",
      "| 29|        Ant-Man|  Male|     blue|            Human|     Blond| 211.0|Marvel Comics|         -|     good| 122.0|\n",
      "| 30|     Ant-Man II|  Male|     blue|            Human|     Blond| 183.0|Marvel Comics|         -|     good|  86.0|\n",
      "| 33|     Anti-Venom|  Male|     blue|         Symbiote|     Blond| 229.0|Marvel Comics|         -|        -| 358.0|\n",
      "| 34|     Apocalypse|  Male|      red|           Mutant|     Black| 213.0|Marvel Comics|      grey|      bad| 135.0|\n",
      "| 38|        Arachne|Female|     blue|            Human|     Blond| 175.0|Marvel Comics|         -|     good|  63.0|\n",
      "| 39|      Archangel|  Male|     blue|           Mutant|     Blond| 183.0|Marvel Comics|      blue|     good|  68.0|\n",
      "+---+---------------+------+---------+-----------------+----------+------+-------------+----------+---------+------+\n",
      "only showing top 20 rows\n",
      "\n"
     ]
    }
   ],
   "source": [
    "df.filter(df.Publisher == 'Marvel Comics').show()"
   ]
  },
  {
   "cell_type": "code",
   "execution_count": 41,
   "metadata": {},
   "outputs": [
    {
     "data": {
      "text/plain": [
       "388"
      ]
     },
     "execution_count": 41,
     "metadata": {},
     "output_type": "execute_result"
    }
   ],
   "source": [
    "df.filter(df.Publisher == 'Marvel Comics').count()"
   ]
  },
  {
   "cell_type": "code",
   "execution_count": 42,
   "metadata": {},
   "outputs": [
    {
     "name": "stdout",
     "output_type": "stream",
     "text": [
      "+-----------------+-----+\n",
      "|        PUblisher|count|\n",
      "+-----------------+-----+\n",
      "|    Marvel Comics|  388|\n",
      "|Dark Horse Comics|   18|\n",
      "|        DC Comics|  215|\n",
      "|     NBC - Heroes|   19|\n",
      "|        Wildstorm|    3|\n",
      "|     Image Comics|   14|\n",
      "|      Icon Comics|    4|\n",
      "|             SyFy|    5|\n",
      "|    Hanna-Barbera|    1|\n",
      "|     George Lucas|   14|\n",
      "|     Team Epic TV|    5|\n",
      "|       South Park|    1|\n",
      "|    HarperCollins|    6|\n",
      "|      ABC Studios|    4|\n",
      "|Universal Studios|    1|\n",
      "|        Star Trek|    6|\n",
      "|   IDW Publishing|    4|\n",
      "|         Shueisha|    4|\n",
      "|    Sony Pictures|    2|\n",
      "|    J. K. Rowling|    1|\n",
      "+-----------------+-----+\n",
      "only showing top 20 rows\n",
      "\n"
     ]
    }
   ],
   "source": [
    "df.groupby(\"PUblisher\").count().show()"
   ]
  },
  {
   "cell_type": "code",
   "execution_count": 43,
   "metadata": {},
   "outputs": [],
   "source": [
    "df.registerTempTable(\"superheros\")"
   ]
  },
  {
   "cell_type": "code",
   "execution_count": 47,
   "metadata": {},
   "outputs": [
    {
     "name": "stdout",
     "output_type": "stream",
     "text": [
      "+---+-----------------+------+---------+-----------------+----------+------+-----------------+----------+---------+------+\n",
      "|_c0|             name|Gender|Eye color|             Race|Hair color|Height|        Publisher|Skin color|Alignment|Weight|\n",
      "+---+-----------------+------+---------+-----------------+----------+------+-----------------+----------+---------+------+\n",
      "|  0|           A-Bomb|  Male|   yellow|            Human|   No Hair| 203.0|    Marvel Comics|         -|     good| 441.0|\n",
      "|  1|       Abe Sapien|  Male|     blue|    Icthyo Sapien|   No Hair| 191.0|Dark Horse Comics|      blue|     good|  65.0|\n",
      "|  2|         Abin Sur|  Male|     blue|          Ungaran|   No Hair| 185.0|        DC Comics|       red|     good|  90.0|\n",
      "|  3|      Abomination|  Male|    green|Human / Radiation|   No Hair| 203.0|    Marvel Comics|         -|      bad| 441.0|\n",
      "|  4|          Abraxas|  Male|     blue|    Cosmic Entity|     Black| -99.0|    Marvel Comics|         -|      bad| -99.0|\n",
      "|  5|    Absorbing Man|  Male|     blue|            Human|   No Hair| 193.0|    Marvel Comics|         -|      bad| 122.0|\n",
      "|  6|      Adam Monroe|  Male|     blue|                -|     Blond| -99.0|     NBC - Heroes|         -|     good| -99.0|\n",
      "|  7|     Adam Strange|  Male|     blue|            Human|     Blond| 185.0|        DC Comics|         -|     good|  88.0|\n",
      "|  8|         Agent 13|Female|     blue|                -|     Blond| 173.0|    Marvel Comics|         -|     good|  61.0|\n",
      "|  9|        Agent Bob|  Male|    brown|            Human|     Brown| 178.0|    Marvel Comics|         -|     good|  81.0|\n",
      "| 10|       Agent Zero|  Male|        -|                -|         -| 191.0|    Marvel Comics|         -|     good| 104.0|\n",
      "| 11|       Air-Walker|  Male|     blue|                -|     White| 188.0|    Marvel Comics|         -|      bad| 108.0|\n",
      "| 12|             Ajax|  Male|    brown|           Cyborg|     Black| 193.0|    Marvel Comics|         -|      bad|  90.0|\n",
      "| 13|       Alan Scott|  Male|     blue|                -|     Blond| 180.0|        DC Comics|         -|     good|  90.0|\n",
      "| 14|      Alex Mercer|  Male|        -|            Human|         -| -99.0|        Wildstorm|         -|      bad| -99.0|\n",
      "| 15|     Alex Woolsly|  Male|        -|                -|         -| -99.0|     NBC - Heroes|         -|     good| -99.0|\n",
      "| 16|Alfred Pennyworth|  Male|     blue|            Human|     Black| 178.0|        DC Comics|         -|     good|  72.0|\n",
      "| 17|            Alien|  Male|        -|  Xenomorph XX121|   No Hair| 244.0|Dark Horse Comics|     black|      bad| 169.0|\n",
      "| 18| Allan Quatermain|  Male|        -|                -|         -| -99.0|        Wildstorm|         -|     good| -99.0|\n",
      "| 19|            Amazo|  Male|      red|          Android|         -| 257.0|        DC Comics|         -|      bad| 173.0|\n",
      "+---+-----------------+------+---------+-----------------+----------+------+-----------------+----------+---------+------+\n",
      "only showing top 20 rows\n",
      "\n"
     ]
    }
   ],
   "source": [
    "sqlContext = SQLContext(sc)\n",
    "sqlContext.sql(\"SELECT * FROM superheros\").show()"
   ]
  }
 ],
 "metadata": {
  "kernelspec": {
   "display_name": "Python 3",
   "language": "python",
   "name": "python3"
  },
  "language_info": {
   "codemirror_mode": {
    "name": "ipython",
    "version": 3
   },
   "file_extension": ".py",
   "mimetype": "text/x-python",
   "name": "python",
   "nbconvert_exporter": "python",
   "pygments_lexer": "ipython3",
   "version": "3.8.2"
  }
 },
 "nbformat": 4,
 "nbformat_minor": 4
}
