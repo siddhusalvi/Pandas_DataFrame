{
  "nbformat": 4,
  "nbformat_minor": 0,
  "metadata": {
    "colab": {
      "name": "Working_time.ipynb",
      "provenance": [],
      "authorship_tag": "ABX9TyOqQnTL58MqGjfIKs34tECR",
      "include_colab_link": true
    },
    "kernelspec": {
      "name": "python3",
      "display_name": "Python 3"
    }
  },
  "cells": [
    {
      "cell_type": "markdown",
      "metadata": {
        "id": "view-in-github",
        "colab_type": "text"
      },
      "source": [
        "<a href=\"https://colab.research.google.com/github/siddhusalvi/Pandas_DataFrame/blob/master/Working_time.ipynb\" target=\"_parent\"><img src=\"https://colab.research.google.com/assets/colab-badge.svg\" alt=\"Open In Colab\"/></a>"
      ]
    },
    {
      "cell_type": "code",
      "metadata": {
        "id": "qdknV7_2NtyR",
        "colab_type": "code",
        "colab": {
          "base_uri": "https://localhost:8080/",
          "height": 678
        },
        "outputId": "3eddcc36-ec93-4105-9acb-9946b6ac0b3a"
      },
      "source": [
        "!apt-get update\n",
        "!apt-get install openjdk-8-jdk-headless -qq > /dev/null\n",
        "!wget -q http://archive.apache.org/dist/spark/spark-2.3.1/spark-2.3.1-bin-hadoop2.7.tgz\n",
        "!tar xf spark-2.3.1-bin-hadoop2.7.tgz\n",
        "!pip install -q findspark\n",
        "import os\n",
        "os.environ[\"JAVA_HOME\"] = \"/usr/lib/jvm/java-8-openjdk-amd64\"\n",
        "os.environ[\"SPARK_HOME\"] = \"/content/spark-2.3.1-bin-hadoop2.7\"\n",
        "import findspark\n",
        "findspark.init()\n",
        "import pyspark\n",
        "from pyspark.sql import SparkSession\n",
        "spark = SparkSession.builder.getOrCreate() \n",
        "spark"
      ],
      "execution_count": null,
      "outputs": [
        {
          "output_type": "stream",
          "text": [
            "\r0% [Working]\r            \rGet:1 http://security.ubuntu.com/ubuntu bionic-security InRelease [88.7 kB]\n",
            "\r0% [Connecting to archive.ubuntu.com (91.189.88.142)] [1 InRelease 14.2 kB/88.7\r0% [Waiting for headers] [Waiting for headers] [Waiting for headers] [Waiting f\r0% [1 InRelease gpgv 88.7 kB] [Waiting for headers] [Waiting for headers] [Wait\r                                                                               \rIgn:2 https://developer.download.nvidia.com/compute/cuda/repos/ubuntu1804/x86_64  InRelease\n",
            "\r0% [1 InRelease gpgv 88.7 kB] [Waiting for headers] [Waiting for headers] [Wait\r                                                                               \rGet:3 https://cloud.r-project.org/bin/linux/ubuntu bionic-cran35/ InRelease [3,626 B]\n",
            "\r0% [1 InRelease gpgv 88.7 kB] [Waiting for headers] [3 InRelease 3,626 B/3,626 \r0% [1 InRelease gpgv 88.7 kB] [Waiting for headers] [Waiting for headers] [Wait\r                                                                               \rHit:4 http://ppa.launchpad.net/graphics-drivers/ppa/ubuntu bionic InRelease\n",
            "\r0% [1 InRelease gpgv 88.7 kB] [Waiting for headers] [Waiting for headers] [Conn\r                                                                               \rHit:5 http://archive.ubuntu.com/ubuntu bionic InRelease\n",
            "\r0% [1 InRelease gpgv 88.7 kB] [Waiting for headers] [Connecting to ppa.launchpa\r                                                                               \rIgn:6 https://developer.download.nvidia.com/compute/machine-learning/repos/ubuntu1804/x86_64  InRelease\n",
            "\r0% [1 InRelease gpgv 88.7 kB] [Waiting for headers] [Connecting to ppa.launchpa\r                                                                               \rGet:7 https://developer.download.nvidia.com/compute/cuda/repos/ubuntu1804/x86_64  Release [697 B]\n",
            "\r0% [1 InRelease gpgv 88.7 kB] [Waiting for headers] [7 Release 697 B/697 B 100%\r0% [1 InRelease gpgv 88.7 kB] [Waiting for headers] [Connecting to ppa.launchpa\r                                                                               \rHit:8 https://developer.download.nvidia.com/compute/machine-learning/repos/ubuntu1804/x86_64  Release\n",
            "\r0% [1 InRelease gpgv 88.7 kB] [Waiting for headers] [Connecting to ppa.launchpa\r                                                                               \rGet:9 https://developer.download.nvidia.com/compute/cuda/repos/ubuntu1804/x86_64  Release.gpg [836 B]\n",
            "\r0% [1 InRelease gpgv 88.7 kB] [Waiting for headers] [9 Release.gpg 836 B/836 B \r0% [1 InRelease gpgv 88.7 kB] [Waiting for headers] [Connecting to ppa.launchpa\r                                                                               \rGet:10 http://archive.ubuntu.com/ubuntu bionic-updates InRelease [88.7 kB]\n",
            "\r0% [1 InRelease gpgv 88.7 kB] [10 InRelease 2,604 B/88.7 kB 3%] [Waiting for he\r                                                                               \rGet:11 http://ppa.launchpad.net/marutter/c2d4u3.5/ubuntu bionic InRelease [15.4 kB]\n",
            "\r0% [1 InRelease gpgv 88.7 kB] [10 InRelease 15.6 kB/88.7 kB 18%] [11 InRelease \r                                                                               \r0% [10 InRelease 43.1 kB/88.7 kB 49%] [11 InRelease 15.4 kB/15.4 kB 100%]\r0% [3 InRelease gpgv 3,626 B] [10 InRelease 46.0 kB/88.7 kB 52%] [Waiting for h\r                                                                               \rGet:12 http://security.ubuntu.com/ubuntu bionic-security/universe amd64 Packages [890 kB]\n",
            "\r0% [3 InRelease gpgv 3,626 B] [10 InRelease 47.5 kB/88.7 kB 54%] [12 Packages 8\r                                                                               \r0% [3 InRelease gpgv 3,626 B] [10 InRelease 88.7 kB/88.7 kB 100%]\r                                                                 \r0% [3 InRelease gpgv 3,626 B] [Waiting for headers]\r0% [12 Packages store 0 B] [3 InRelease gpgv 3,626 B] [Waiting for headers] [Wa\r                                                                               \rGet:13 http://security.ubuntu.com/ubuntu bionic-security/multiverse amd64 Packages [9,834 B]\n",
            "\r                                                                               \rGet:14 http://security.ubuntu.com/ubuntu bionic-security/main amd64 Packages [1,042 kB]\n",
            "\r0% [12 Packages store 0 B] [3 InRelease gpgv 3,626 B] [Waiting for headers] [14\r                                                                               \r0% [12 Packages store 0 B] [3 InRelease gpgv 3,626 B] [Waiting for headers]\r                                                                           \rGet:15 http://security.ubuntu.com/ubuntu bionic-security/restricted amd64 Packages [101 kB]\n",
            "\r0% [12 Packages store 0 B] [3 InRelease gpgv 3,626 B] [Waiting for headers] [15\r                                                                               \r0% [12 Packages store 0 B] [3 InRelease gpgv 3,626 B] [Waiting for headers]\r                                                                           \rGet:16 http://archive.ubuntu.com/ubuntu bionic-backports InRelease [74.6 kB]\n",
            "\r0% [12 Packages store 0 B] [3 InRelease gpgv 3,626 B] [16 InRelease 2,604 B/74.\r                                                                               \r0% [12 Packages store 0 B] [16 InRelease 46.0 kB/74.6 kB 62%]\r0% [12 Packages store 0 B] [4 InRelease gpgv 21.3 kB] [16 InRelease 46.0 kB/74.\r                                                                               \r0% [12 Packages store 0 B] [4 InRelease gpgv 21.3 kB]\r                                                     \r0% [4 InRelease gpgv 21.3 kB]\r0% [13 Packages store 0 B] [4 InRelease gpgv 21.3 kB]\r                                                     \r0% [4 InRelease gpgv 21.3 kB]\r0% [14 Packages store 0 B] [4 InRelease gpgv 21.3 kB]\r                                                     \r0% [4 InRelease gpgv 21.3 kB]\r0% [15 Packages store 0 B] [4 InRelease gpgv 21.3 kB]\r                                                     \r0% [4 InRelease gpgv 21.3 kB]\r                             \r0% [Working]\r0% [5 InRelease gpgv 242 kB]\r                            \r0% [Working]\r0% [Release.gpg gpgv 564 B]\r                           \r0% [Working]\r0% [9 Release.gpg gpgv 697 B]\r                             \r0% [Working]\r0% [11 InRelease gpgv 15.4 kB] [Waiting for headers]\r                                                    \rIgn:18 https://developer.download.nvidia.com/compute/cuda/repos/ubuntu1804/x86_64  Packages\n",
            "\r                                                    \r0% [11 InRelease gpgv 15.4 kB]\r                              \rGet:18 https://developer.download.nvidia.com/compute/cuda/repos/ubuntu1804/x86_64  Packages [255 kB]\n",
            "\r0% [11 InRelease gpgv 15.4 kB] [18 Packages 16.4 kB/255 kB 6%]\r                                                              \r0% [11 InRelease gpgv 15.4 kB]\r0% [18 Packages store 0 B] [11 InRelease gpgv 15.4 kB]\r                                                      \r0% [11 InRelease gpgv 15.4 kB]\r                              \r0% [Working]\r0% [10 InRelease gpgv 88.7 kB] [Connecting to ppa.launchpad.net (91.189.95.83)]\r                                                                               \r0% [Waiting for headers]\r                        \rGet:19 http://ppa.launchpad.net/marutter/c2d4u3.5/ubuntu bionic/main Sources [1,857 kB]\n",
            "\r0% [19 Sources 8,474 B/1,857 kB 0%]\r0% [16 InRelease gpgv 74.6 kB] [Waiting for headers] [19 Sources 8,474 B/1,857 \r                                                                               \rGet:20 http://archive.ubuntu.com/ubuntu bionic-updates/restricted amd64 Packages [117 kB]\n",
            "\r0% [16 InRelease gpgv 74.6 kB] [20 Packages 2,687 B/117 kB 2%] [19 Sources 17.2\r                                                                               \r0% [16 InRelease gpgv 74.6 kB] [19 Sources 43.2 kB/1,857 kB 2%]\r44% [20 Packages store 0 B] [Waiting for headers] [19 Sources 46.1 kB/1,857 kB \r                                                                               \r45% [Waiting for headers] [19 Sources 51.9 kB/1,857 kB 3%]\r                                                          \rGet:21 http://archive.ubuntu.com/ubuntu bionic-updates/main amd64 Packages [1,341 kB]\n",
            "\r45% [21 Packages 2,685 B/1,341 kB 0%] [19 Sources 86.7 kB/1,857 kB 5%]\r                                                                      \r67% [19 Sources 964 kB/1,857 kB 52%]\r                                    \rGet:22 http://archive.ubuntu.com/ubuntu bionic-updates/universe amd64 Packages [1,418 kB]\n",
            "\r67% [22 Packages 0 B/1,418 kB 0%] [19 Sources 964 kB/1,857 kB 52%]\r67% [21 Packages store 0 B] [22 Packages 18.7 kB/1,418 kB 1%] [19 Sources 979 k\r                                                                               \r86% [21 Packages store 0 B] [22 Packages 1,130 kB/1,418 kB 80%]\r89% [21 Packages store 0 B] [Connecting to ppa.launchpad.net (91.189.95.83)]\r                                                                            \rGet:23 http://archive.ubuntu.com/ubuntu bionic-updates/multiverse amd64 Packages [27.4 kB]\n",
            "Get:24 http://ppa.launchpad.net/marutter/c2d4u3.5/ubuntu bionic/main amd64 Packages [896 kB]\n",
            "Fetched 8,225 kB in 3s (2,609 kB/s)\n",
            "Reading package lists... Done\n"
          ],
          "name": "stdout"
        },
        {
          "output_type": "execute_result",
          "data": {
            "text/html": [
              "\n",
              "            <div>\n",
              "                <p><b>SparkSession - in-memory</b></p>\n",
              "                \n",
              "        <div>\n",
              "            <p><b>SparkContext</b></p>\n",
              "\n",
              "            <p><a href=\"http://0a91ef5c5609:4040\">Spark UI</a></p>\n",
              "\n",
              "            <dl>\n",
              "              <dt>Version</dt>\n",
              "                <dd><code>v2.3.1</code></dd>\n",
              "              <dt>Master</dt>\n",
              "                <dd><code>local[*]</code></dd>\n",
              "              <dt>AppName</dt>\n",
              "                <dd><code>pyspark-shell</code></dd>\n",
              "            </dl>\n",
              "        </div>\n",
              "        \n",
              "            </div>\n",
              "        "
            ],
            "text/plain": [
              "<pyspark.sql.session.SparkSession at 0x7f4f2a012a90>"
            ]
          },
          "metadata": {
            "tags": []
          },
          "execution_count": 1
        }
      ]
    },
    {
      "cell_type": "code",
      "metadata": {
        "id": "IQreZrNOYxrn",
        "colab_type": "code",
        "colab": {}
      },
      "source": [
        "from pyspark.context import SparkContext\n",
        "from pyspark.sql.session import SparkSession\n",
        "from pyspark.sql.functions import *"
      ],
      "execution_count": null,
      "outputs": []
    },
    {
      "cell_type": "code",
      "metadata": {
        "id": "PkO8uDLyDmLk",
        "colab_type": "code",
        "colab": {}
      },
      "source": [
        "df3 = spark.read.format(\"csv\").option(\"header\",\"true\").load(\"day3.csv\")"
      ],
      "execution_count": null,
      "outputs": []
    },
    {
      "cell_type": "code",
      "metadata": {
        "id": "0BXer6tzEXfQ",
        "colab_type": "code",
        "colab": {
          "base_uri": "https://localhost:8080/",
          "height": 498
        },
        "outputId": "dee65e90-bbf2-4aec-bc26-b08c9912e9a2"
      },
      "source": [
        "df3.show()"
      ],
      "execution_count": null,
      "outputs": [
        {
          "output_type": "stream",
          "text": [
            "+-------------------+---------+----------------+-------------+-----------+----------------+----------------------------------------+---------------------------------+-------------------------------+-----------------------+-----------------------+------------------------+-------------------+------------------+------------------+--------------------+----------------------+---------------------+--------------------+--------------------+----------------------+-----------------+----------------+----------------+---------------+----------------+---------------+----------------+----------------------------+--------------------------+----------------------------+--------------------+------------------------+----------------------+-------------------------+--------------------------------------+------------------------------------+---------------------------------------------------+---------------------------------------------------+--------------+--------------------+--------+------+----------+-------------+\n",
            "|           DateTime|Cpu Count|Cpu Working Time|Cpu idle Time|cpu_percent|Usage Cpu Count |number of software interrupts since boot|number of system calls since boot|number of interrupts since boot|cpu avg load over 1 min|cpu avg load over 5 min|cpu avg load over 15 min|system_total_memory|system_used_memory|system_free_memory|system_active_memory|system_inactive_memory|system_buffers_memory|system_cached_memory|system_shared_memory|system_avalible_memory|disk_total_memory|disk_used_memory|disk_free_memory|disk_read_count|disk_write_count|disk_read_bytes|disk_write_bytes|time spent reading from disk|time spent writing to disk|time spent doing actual I/Os|number of bytes sent|number of bytes received|number of packets sent|number of packets recived|total number of errors while receiving|total number of errors while sending|total number of incoming packets which were dropped|total number of outgoing packets which were dropped|     boot_time|           user_name|keyboard| mouse|technology|files_changed|\n",
            "+-------------------+---------+----------------+-------------+-----------+----------------+----------------------------------------+---------------------------------+-------------------------------+-----------------------+-----------------------+------------------------+-------------------+------------------+------------------+--------------------+----------------------+---------------------+--------------------+--------------------+----------------------+-----------------+----------------+----------------+---------------+----------------+---------------+----------------+----------------------------+--------------------------+----------------------------+--------------------+------------------------+----------------------+-------------------------+--------------------------------------+------------------------------------+---------------------------------------------------+---------------------------------------------------+--------------+--------------------+--------+------+----------+-------------+\n",
            "|2019-10-15 09:00:01|        2|          241.47|       358.71|       94.7|               2|                                  482250|                                0|                         686103|                   1.28|                   1.44|                    0.77|         7896940544|        2163650560|        2560159744|          3192909824|            1585463296|            560345088|          2612785152|           336359424|            5080305664|      30149586944|     27911856128|       682590208|         247740|            9430|     1992462336|       645682176|                     1531812|                   1232228|                      114276|              666218|                11788436|                  6216|                    10148|                                     0|                                   0|                                                  0|                                                  0|0:06:17.332584|vishnu23kumar@gma...|   551.5|  14.0|    python|          212|\n",
            "|2019-10-15 08:55:01|        4|           128.5|      1948.55|       27.9|               4|                                  585384|                                0|                         588170|                   2.13|                   2.45|                    1.61|         8182312960|        1869975552|        3762008064|          2706944000|            1102712832|            493383680|          2056945664|           388988928|            5615308800|     313973989376|     26551525376|    271402110976|          99792|            7376|     1646653440|       530038784|                     5610444|                   2533640|                      529336|              884744|                13528890|                  7242|                    12236|                                     0|                                   0|                                                  0|                                                  0|0:12:09.532710|     you@example.com|    15.0| 813.0|    python|          162|\n",
            "|2019-10-15 09:00:01|        4|           156.4|      2570.65|       24.4|               4|                                  981277|                                0|                         864958|                   2.24|                   2.43|                    1.87|         8182312960|        1886007296|        2685075456|          3030888448|            1100423168|            794869760|          2816360448|           388993024|            5601665024|     313973989376|     26532401152|    271421235200|         166013|            8162|     1972667392|       558993408|                     6117504|                   2612048|                      824604|              922531|                13644528|                  7512|                    13274|                                     0|                                   0|                                                  0|                                                  0|0:17:09.538297|     you@example.com|    70.0| 813.0|    python|           27|\n",
            "|2019-10-15 08:50:01|        4|           66.31|      1207.64|       31.0|               4|                                  288340|                                0|                         242631|                    5.4|                   2.38|                    1.22|         8182312960|        1443618816|        4895428608|          1945042944|            1001709568|            217296896|          1625968640|           271523840|            6182400000|     313973989376|     26530455552|    271423180800|          51615|            5757|     1327800320|       478646272|                     4878608|                   2163616|                      229332|              497701|                12026859|                  5695|                     9349|                                     0|                                   0|                                                  0|                                                  0|0:07:09.533934|     you@example.com|     0.0| 800.0|    python|          207|\n",
            "|2019-10-15 09:00:01|        4|            75.3|      1521.31|       25.9|               4|                                  590034|                                0|                         563097|                   0.38|                    1.2|                    0.75|         8279973888|        2015731712|        3488247808|          2876375040|            1444241408|            435208192|          2340786176|           326066176|            5717409792|     313445539840|     16954355712|    280497676288|         156770|            7730|     1620151296|       623162368|                     3194796|                   5825488|                      286344|             4580962|               167618179|                 62035|                   114129|                                     0|                                   0|                                                  0|                                                  0|0:08:39.307365| ingle0608@gmail.com|    45.0|  68.0|   angular|          331|\n",
            "|2019-10-15 09:00:01|        4|          174.68|       1306.7|       32.4|               4|                                  652209|                                0|                         722737|                   5.37|                   3.28|                    1.73|         8285843456|        2964500480|        2392027136|          3546955776|            1385951232|            435556352|          2493759488|           503529472|            4611837952|     313973989376|     27019108352|    270934528000|         146628|            6308|     1406980096|       136253440|                     3522284|                   8680724|                      413588|             1162657|                10104681|                  7220|                    11516|                                     0|                                   0|                                                  0|                                                  0|0:09:29.725969|indrajeetgajbhiye...|   210.0|1018.0|   angular|          388|\n",
            "|2019-10-15 09:05:01|        4|          263.72|      2065.43|       26.7|               4|                                 1026698|                                0|                        1084750|                   0.92|                   2.27|                    1.78|         8285843456|        3209977856|        1712214016|          3934277632|            1424027648|            602238976|          2761412608|           518057984|            4394291200|     313973989376|     26985480192|    270968156160|         182897|            8081|     1605343232|       210391040|                     3792988|                  12515188|                      603976|             1237327|                10355036|                  7766|                    13312|                                     0|                                   0|                                                  0|                                                  0|0:14:29.958138|indrajeetgajbhiye...|    57.5|   0.0|   angular|           45|\n",
            "|2019-10-15 09:05:02|        4|          112.42|      2514.31|       22.2|               4|                                  847688|                                0|                         755657|                   0.65|                   0.91|                    0.76|         8279973888|        2588602368|        2069262336|          3647766528|            1464090624|            601780224|          3020328960|           322596864|            5149122560|     313445539840|     16954331136|    280497700864|         202902|           12469|     1843097600|       835560448|                     3381152|                   9029308|                      443636|             4625434|               167826047|                 62340|                   115690|                                     0|                                   0|                                                  0|                                                  0|0:13:40.059065| ingle0608@gmail.com|    11.0|   0.0|   angular|           26|\n",
            "|2019-10-15 09:05:01|        4|          185.76|      3667.56|       26.2|               4|                                 1113208|                                0|                         987011|                   0.18|                   1.09|                    1.45|         8182312960|        1850220544|        2599030784|          3031605248|            1097400320|            828514304|          2904547328|           388984832|            5637718016|     313973989376|     26540834816|    271412801536|         174146|            8787|     2006004736|       563294208|                     6144264|                   2624908|                      852616|              956049|                13768383|                  7766|                    14628|                                     0|                                   0|                                                  0|                                                  0|0:22:09.579247|     you@example.com|    60.0|   0.0|    python|           13|\n",
            "|2019-10-15 09:05:01|        2|          415.78|       718.82|      100.0|               2|                                  845235|                                0|                        1155467|                   0.97|                   1.21|                    0.87|         7896940544|        2289147904|        1854861312|          3519688704|            1600544768|            753184768|          2999746560|           331476992|            4961132544|      30149586944|     27912093696|       682352640|         287759|           11138|     2211107840|       772342784|                     1554352|                   1462212|                      147916|             1069018|                12231965|                  7581|                    12678|                                     0|                                   0|                                                  0|                                                  0|0:11:17.648609|vishnu23kumar@gma...|  3446.0| 262.0|    python|          107|\n",
            "|2019-10-15 09:05:02|        2|          499.32|       223.85|       74.3|               2|                                  762299|                                0|                         975108|                   2.11|                   3.47|                     2.1|         7893884928|        5623918592|         129892352|          6227730432|            1003200512|            465952768|          1674121216|           370987008|            1650536448|      30149586944|     26557825024|      2036621312|         272725|            9131|     2017405952|       277545984|                      708614|                    130318|                      112052|             1073147|                 8547167|                  6865|                    11169|                                     0|                                   0|                                                  0|                                                  0|0:07:32.193487|puruissimple@gmai...|   180.0| 273.0|      MERN|          160|\n",
            "|2019-10-15 09:05:02|        4|           90.39|      2734.81|       34.3|               4|                                  376541|                                0|                         348541|                   2.77|                   1.74|                    0.85|         8285835264|        1617272832|        4575776768|          2265497600|            1055256576|            278499328|          1814286336|           377761792|            5997531136|     313973989376|     17062486016|    280891150336|          57903|            4647|     1502628864|       415784960|                     2304032|                   1993368|                      222840|             1314281|                17405326|                  9736|                    16583|                                     0|                                   0|                                                  0|                                                  0|0:13:37.016951|singladivanshu007...|     0.5|   1.0|   angular|          385|\n",
            "|2019-10-15 09:10:01|        4|           167.1|      3612.78|       24.1|               4|                                  705366|                                0|                         670145|                   1.29|                    1.7|                    1.11|         8285835264|        2469945344|        2745192448|          3243573248|            1471152128|            405458944|          2665238528|           729149440|            4795219968|     313973989376|     17070608384|    280883027968|          93089|            6480|     1717791744|       461398016|                     2536560|                   4036396|                      416028|             2038664|                27728854|                 14732|                    27149|                                     0|                                   0|                                                  0|                                                  0|0:18:36.276460|singladivanshu007...|     0.0|   0.0|   angular|          300|\n",
            "|2019-10-15 09:10:01|        4|          150.17|      3662.38|       25.0|               4|                                  981079|                                0|                         873365|                   0.13|                   0.49|                    0.62|         8279973888|        2773274624|        1822654464|          3846004736|            1494306816|            602669056|          3081375744|           372432896|            4913516544|     313445539840|     16954224640|    280497807360|         203294|           13892|     1852620800|       855094272|                     3405072|                   9088800|                      453124|             4983698|               170136526|                 64342|                   119477|                                     0|                                   0|                                                  0|                                                  0|0:18:39.289202| ingle0608@gmail.com|    16.0|  47.0|   angular|          175|\n",
            "|2019-10-15 09:10:02|        4|          372.36|      3090.71|       30.3|               4|                                 1276557|                                0|                        1365959|                   0.79|                   1.45|                    1.56|         8285843456|        3840880640|         930336768|          4580798464|            1529933824|            604000256|          2910625792|           595664896|            3687342080|     313973989376|     26996391936|    270957244416|         186612|           11224|     1661933568|       270176256|                     3808860|                  13111692|                      633540|             1767534|                14978116|                 11043|                    19005|                                     0|                                   0|                                                  0|                                                  0|0:19:30.122586|indrajeetgajbhiye...|   174.5| 267.0|   angular|          820|\n",
            "|2019-10-15 09:10:01|        4|          212.25|       4831.6|       24.4|               4|                                 1195030|                                0|                        1077546|                   0.18|                   0.49|                    1.08|         8182312960|        1839943680|        2605674496|          3030437888|            1093545984|            828928000|          2907766784|           392183808|            5644800000|     313973989376|     26540875776|    271412760576|         174146|            9496|     2006004736|       568188928|                     6144264|                   2632724|                      854852|              983608|                13934578|                  7995|                    16072|                                     0|                                   0|                                                  0|                                                  0|0:27:09.464636|     you@example.com|    21.0|  22.0|    python|           16|\n",
            "|2019-10-15 09:10:02|        2|          757.04|       484.33|       54.3|               2|                                 1168103|                                0|                        1447773|                    1.5|                   2.39|                    2.01|         7893884928|        5586034688|         615673856|          5703835648|            1071910912|            367722496|          1324453888|           371613696|            1682616320|      30149586944|     26557997056|      2036449280|         285059|           10813|     2079294464|       317477888|                      762766|                    217463|                      120080|             1676586|                 9315870|                  9788|                    15291|                                     0|                                   0|                                                  0|                                                  0|0:12:32.222115|puruissimple@gmai...|   268.0|  28.0|      MERN|           38|\n",
            "|2019-10-15 09:10:01|        2|          557.48|      1101.66|      100.0|               2|                                 1163776|                                0|                        1544718|                   2.04|                   1.32|                    0.98|         7896940544|        2561257472|        1417134080|          3791290368|            1751711744|            754700288|          3163848704|           469024768|            4551499776|      30149586944|     27917271040|       677175296|         288072|           13693|     2230326272|       884347904|                     1564256|                   1726788|                      178440|             1918443|                15602864|                 10612|                    18151|                                     0|                                   0|                                                  0|                                                  0|0:16:17.989382|vishnu23kumar@gma...|  2210.0| 332.0|    python|          296|\n",
            "|2019-10-15 09:10:01|        4|          130.39|       970.29|       23.3|               4|                                  641695|                                0|                         993181|                   1.02|                   1.82|                    1.02|         8284807168|        1161854976|        5441363968|          1522458624|             979501056|            181301248|          1500286976|           176386048|            6646321152|     313445539840|     18743832576|    278708199424|          52906|            5374|     1238525952|       251425792|                      893712|                   4177252|                      268476|            35242391|                21436877|                 46428|                    39494|                                     0|                                   0|                                                  0|                                                  0|0:06:23.841039|sushantpatwari123...|     0.5|   0.0|Automation|          309|\n",
            "|2019-10-15 09:05:01|        4|          122.14|      4468.17|       43.8|               4|                                  840544|                                0|                         831665|                    0.3|                   0.33|                    0.59|         8284901376|        3164516352|        2185326592|          4277317632|            1218396160|            592199680|          2342858752|           214286336|            4602187776|     313445539840|     39130869760|    258321162240|         141402|           13862|     2128976896|       726115328|                     5194404|                   4903836|                      516136|             7672285|                19329478|                 27097|                    33183|                                     0|                                   0|                                                  0|                                                  0|0:22:14.384611|sharlawar77@gmail...|     0.5|   1.0|       php|           56|\n",
            "+-------------------+---------+----------------+-------------+-----------+----------------+----------------------------------------+---------------------------------+-------------------------------+-----------------------+-----------------------+------------------------+-------------------+------------------+------------------+--------------------+----------------------+---------------------+--------------------+--------------------+----------------------+-----------------+----------------+----------------+---------------+----------------+---------------+----------------+----------------------------+--------------------------+----------------------------+--------------------+------------------------+----------------------+-------------------------+--------------------------------------+------------------------------------+---------------------------------------------------+---------------------------------------------------+--------------+--------------------+--------+------+----------+-------------+\n",
            "only showing top 20 rows\n",
            "\n"
          ],
          "name": "stdout"
        }
      ]
    },
    {
      "cell_type": "code",
      "metadata": {
        "id": "_9VbdFhySl3g",
        "colab_type": "code",
        "colab": {}
      },
      "source": [
        "from pyspark.sql.functions import to_timestamp\n",
        "from pyspark.sql.functions import *\n",
        "from pyspark.sql.types import *\n",
        "from pyspark.sql.types import *\n",
        "from pyspark.sql import SQLContext\n",
        "sqlContext = SQLContext\n",
        "sc = spark.sparkContext\n",
        "def addToRecord(record, name, time):\n",
        "    if name in record.keys():\n",
        "        time = time + record.get(name)\n",
        "        record[name] = time\n",
        "    else:\n",
        "        record[name] = time\n",
        "    return record\n",
        "\n",
        "def getIdleTime(df):\n",
        "    df1 = df.select('user_name', 'DateTime', 'keyboard', 'mouse') \\\n",
        "        .withColumn(\"Date\", to_timestamp('DateTime', 'yyyy-MM-dd HH:mm:ss')) \\\n",
        "        .withColumnRenamed('user_name', \"user\") \\\n",
        "        .withColumnRenamed('Date', 'date') \\\n",
        "        .withColumn('action', col('keyboard').cast(IntegerType()) + col('mouse').cast(IntegerType())) \\\n",
        "        .drop('DateTime', 'keyboard', 'mouse') \\\n",
        "        .orderBy(col('user'), col('date'))\n",
        "    users = list(df1.select('user').toPandas()['user'])\n",
        "    action = list(df1.select('action').toPandas()['action'])\n",
        "\n",
        "    name = ''\n",
        "    counter = 0\n",
        "    output = []\n",
        "    record = {}\n",
        "\n",
        "    def addToRecord(record, name, time):\n",
        "        if name in record.keys():\n",
        "            time = time * 5 + record.get(name)\n",
        "            record[name] = time\n",
        "        else:\n",
        "            record[name] = time * 5\n",
        "        return record\n",
        "\n",
        "    for index in range(len(users)):\n",
        "        if index == 0:\n",
        "            if action[index] == 0:\n",
        "                counter = 1\n",
        "            name = users[index]\n",
        "        elif index == (len(users) - 1):\n",
        "            if ((users[index] != name) and counter > 5):\n",
        "                addToRecord(record, name, counter)\n",
        "            elif ((users[index] == name) and counter > 4 and action[index] == 0):\n",
        "                counter = counter + 1\n",
        "                addToRecord(record, name, counter)\n",
        "        else:\n",
        "            if (users[index] != name):\n",
        "                if counter < 6:\n",
        "                  counter = 0\n",
        "                record = addToRecord(record, name, counter)\n",
        "                if action[index] == 0:\n",
        "                    counter = 1\n",
        "                else:\n",
        "                    counter = 0\n",
        "                name = users[index]\n",
        "            elif action[index] == 0:\n",
        "                counter = counter + 1\n",
        "            else:\n",
        "                if counter > 5:\n",
        "                    # print(name,\" \",counter)\n",
        "                    record = addToRecord(record, name, counter)\n",
        "                counter = 0\n",
        "    lst = [(k, v) for k, v in record.items()]\n",
        "    schema = StructType([\n",
        "        StructField(\"user\", StringType(), True),\n",
        "        StructField(\"time\", IntegerType(), True) ])\n",
        "\n",
        "    newDF = spark.createDataFrame(lst, schema)\n",
        "    return newDF  "
      ],
      "execution_count": null,
      "outputs": []
    },
    {
      "cell_type": "code",
      "metadata": {
        "id": "cJZ7cV-k5Lqp",
        "colab_type": "code",
        "colab": {}
      },
      "source": [
        "def getInOfficeTime(df):\n",
        "  entryTimeDF =df.select('user_name','DateTime')\\\n",
        "  .withColumn(\"Date\",to_timestamp('DateTime','yyyy-MM-dd HH:mm:ss'))\\\n",
        "  .withColumnRenamed('user_name',\"user\")\\\n",
        "  .withColumn('entryTime',col('Date'))\\\n",
        "  .orderBy('entryTime')\\\n",
        "  .drop_duplicates(['user'])\\\n",
        "  .drop('DateTime','Date')\\\n",
        "  .orderBy('entryTime')\n",
        "\n",
        "  exitTimeDF = df.select('user_name','DateTime')\\\n",
        "  .withColumn(\"Date\",to_timestamp('DateTime','yyyy-MM-dd HH:mm:ss'))\\\n",
        "  .withColumnRenamed('user_name',\"user\")\\\n",
        "  .withColumn('exitTime',col('Date'))\\\n",
        "  .sort(col(\"exitTime\").desc())\\\n",
        "  .drop_duplicates(['user'])\\\n",
        "  .drop('DateTime','Date')\n",
        "\n",
        "  df = entryTimeDF.join(exitTimeDF, on=['user'], how='inner')\n",
        "\n",
        "  return df.withColumn(\"inOfficeTime\", hour(col('exitTime')).cast('Integer')*60+minute(col('exitTime')).cast('Integer') - hour(col('entryTime')).cast('Integer')*60+minute(col('entryTime')).cast('Integer') )"
      ],
      "execution_count": null,
      "outputs": []
    },
    {
      "cell_type": "code",
      "metadata": {
        "id": "3G639AOF5dJF",
        "colab_type": "code",
        "colab": {}
      },
      "source": [
        "officetime1 = getInOfficeTime(df3)\n",
        "officetime2 = getIdleTime(df3)"
      ],
      "execution_count": null,
      "outputs": []
    },
    {
      "cell_type": "code",
      "metadata": {
        "id": "uwpP-mrD5mC_",
        "colab_type": "code",
        "colab": {
          "base_uri": "https://localhost:8080/",
          "height": 478
        },
        "outputId": "00b1607d-32f8-420f-97ba-436bc0f80f20"
      },
      "source": [
        "df = officetime1.join(officetime2,on=['user'], how='outer')\\\n",
        ".withColumn('WorkingTime',col('inOfficeTime')-col('time'))\n",
        "df.show()"
      ],
      "execution_count": null,
      "outputs": [
        {
          "output_type": "stream",
          "text": [
            "+--------------------+-------------------+-------------------+------------+----+-----------+\n",
            "|                user|          entryTime|           exitTime|inOfficeTime|time|WorkingTime|\n",
            "+--------------------+-------------------+-------------------+------------+----+-----------+\n",
            "|ashutoshrit64@gma...|2019-10-15 09:55:01|2019-10-15 19:30:01|         685|   0|        685|\n",
            "|giridhardandikwar...|2019-10-15 09:20:01|2019-10-15 19:35:01|         655| 200|        455|\n",
            "|       nikitapawar17|2019-10-15 09:25:02|2019-10-15 19:30:02|         655|   0|        655|\n",
            "|umangsontakke70@g...|2019-10-15 09:25:01|2019-10-15 19:35:01|         660|  55|        605|\n",
            "|indrajeetgajbhiye...|2019-10-15 09:00:01|2019-10-15 19:15:01|         615| 125|        490|\n",
            "|khairnarswapna99@...|2019-10-15 14:10:01|2019-10-15 19:40:01|         350|   0|        350|\n",
            "|gaikwadr576@gmail...|2019-10-15 09:35:01|2019-10-15 11:25:02|         180|   0|        180|\n",
            "|adikumar2514@gmai...|2019-10-15 09:20:01|2019-10-15 19:20:02|         640| 385|        255|\n",
            "| dileep.bs@yahoo.com|2019-10-15 09:20:01|2019-10-15 19:30:01|         650|  70|        580|\n",
            "|puruissimple@gmai...|2019-10-15 09:05:02|2019-10-15 19:25:01|         630|  45|        585|\n",
            "|nehapalekar026@gm...|2019-10-15 12:10:01|2019-10-15 20:10:01|         500| 120|        380|\n",
            "|er.mukulvij96@gma...|2019-10-15 10:00:02|2019-10-15 19:20:01|         560| 135|        425|\n",
            "|surajwarbhuvan192...|2019-10-15 10:55:02|2019-10-15 19:25:02|         620|  30|        590|\n",
            "|hakepratiksha55@g...|2019-10-15 10:20:01|2019-10-15 19:30:01|         590| 545|         45|\n",
            "| grmule018@gmail.com|2019-10-15 10:55:01|2019-10-15 19:25:02|         620|  35|        585|\n",
            "|  shelkeva@gmail.com|2019-10-15 09:15:01|2019-10-15 19:30:02|         645|  45|        600|\n",
            "|tekina.makin@gmai...|2019-10-15 10:05:01|2019-10-15 19:30:02|         575|  65|        510|\n",
            "|sushantpatwari123...|2019-10-15 09:10:01|2019-10-15 19:15:02|         625| 330|        295|\n",
            "| addyp1911@gmail.com|2019-10-15 11:45:01|2019-10-15 19:40:02|         565|   0|        565|\n",
            "|rohitsarate1027@g...|2019-10-15 09:45:02|2019-10-15 19:25:02|         670|  35|        635|\n",
            "+--------------------+-------------------+-------------------+------------+----+-----------+\n",
            "only showing top 20 rows\n",
            "\n"
          ],
          "name": "stdout"
        }
      ]
    }
  ]
}